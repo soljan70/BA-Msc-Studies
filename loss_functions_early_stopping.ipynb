{
  "cells": [
    {
      "cell_type": "markdown",
      "metadata": {
        "id": "7W8u8FZFIL2m"
      },
      "source": [
        "# Data Science z Python 3.10. Optymalizator, funkcja straty i early stopping\n",
        "## 🇬🇧 Data Science with Python 3.10. Optimizer, loss function and early stopping\n",
        "#### 👨‍🏫 PhD Wojciech Oronowicz-Jaśkowiak\n",
        "#### 🤖 https://github.com/aipogodzinach"
      ]
    },
    {
      "cell_type": "markdown",
      "metadata": {
        "id": "Mn_XRemkR6fM"
      },
      "source": [
        "Poniżej przedstawiony jest kod znany z poprzednich zajęć. Tym razem wprowadzimy do niego \"ulepszenia\" i zastanowimy się nad właściwym optymalizatorem i funkcją straty. Wprowadzimy również do naszego modelu podstawowy Early Stopping, który będzie zapobiegać przeuczeniu się naszego modelu."
      ]
    },
    {
      "cell_type": "markdown",
      "metadata": {
        "id": "gchK-2kPR6fM"
      },
      "source": [
        "### 1. Import bibliotek\n",
        "#### 🇬🇧 Import libraries\n",
        "W tym miejscu importujemy biblioteki, które będą nam potrzebne do wytrenowania sieci neuronowej. Jeżeli w tym miejscu widoczny będzie błąd, to konieczne jest zainstalowanie biblioteki w danym środowisku. W takim wypadku wchodzimy w terminal, aktywujemy środowisko pracy, instalujemy biblioteki (pip install X)."
      ]
    },
    {
      "cell_type": "code",
      "execution_count": null,
      "metadata": {
        "id": "0hk22wZDYbVQ"
      },
      "outputs": [],
      "source": [
        "!pip install mnist\n",
        "\n",
        "import tensorflow as tf\n",
        "import numpy as np\n",
        "import mnist\n",
        "\n",
        "from keras.models import Sequential\n",
        "from keras.layers import Dense\n",
        "from keras.layers import Dropout\n",
        "from keras.callbacks import EarlyStopping\n",
        "from keras.callbacks import ModelCheckpoint\n",
        "from keras.models import load_model\n",
        "from matplotlib import pyplot\n",
        "from tensorflow.keras.utils import to_categorical\n",
        "\n",
        "from tensorflow import keras\n",
        "from tensorflow.keras import backend as K\n",
        "\n",
        "# Rozpoczynamy od importu potrzebnych nam bibliotek, nowością jest EarlyStopping"
      ]
    },
    {
      "cell_type": "markdown",
      "metadata": {
        "id": "APpHwz_fR6fN"
      },
      "source": [
        "### 2. Przygotowanie danych do analizy\n",
        "#### 🇬🇧 Data preparation"
      ]
    },
    {
      "cell_type": "code",
      "execution_count": null,
      "metadata": {
        "id": "2CPZuB2vsqBS"
      },
      "outputs": [],
      "source": [
        "train_images = mnist.train_images()\n",
        "train_labels = mnist.train_labels()\n",
        "test_images = mnist.test_images()\n",
        "test_labels = mnist.test_labels()\n",
        "\n",
        "train_images = (train_images / 255) - 0.5\n",
        "test_images = (test_images / 255) - 0.5\n",
        "\n",
        "train_images = train_images.reshape((-1, 784))\n",
        "test_images = test_images.reshape((-1, 784))\n",
        "\n",
        "model = Sequential([\n",
        "  Dense(64, activation='relu', input_shape=(784,)),\n",
        "  Dense(64, activation='relu'),\n",
        "  Dense(10, activation='softmax'),\n",
        "])"
      ]
    },
    {
      "cell_type": "markdown",
      "metadata": {
        "id": "iLsO0jydsqtG"
      },
      "source": [
        "Zatrzymajmy się na chwilę w tym miejscu. Na ostatnich zajęciach modyfikowaliśmy architekturę sieci neuronowej. Teraz przyszedł czas na wybór odpowiedniego optymalizatora, metryk oraz funkcji straty."
      ]
    },
    {
      "cell_type": "code",
      "execution_count": null,
      "metadata": {
        "id": "T-nhhMPgV6VD"
      },
      "outputs": [],
      "source": [
        "model.compile(\n",
        "  optimizer='adam',\n",
        "  loss='categorical_crossentropy',\n",
        "  metrics=['accuracy'],\n",
        ")"
      ]
    },
    {
      "cell_type": "markdown",
      "metadata": {
        "id": "2TyGYkqBR6fO"
      },
      "source": [
        "### 3. Trenowanie modelu\n",
        "#### 🇬🇧 Model training"
      ]
    },
    {
      "cell_type": "markdown",
      "metadata": {
        "id": "li4Y1654R6fP"
      },
      "source": [
        "### 📚 Zadanie 1.\n",
        "##### Przeprowadź proces uczenia się z wykorzystaniem early stopping, wykonaj poniższe kroki."
      ]
    },
    {
      "cell_type": "markdown",
      "metadata": {
        "id": "8InTZwPRCfJy"
      },
      "source": [
        "1. Stwórz nową zmienną, którą nazwiesz f1, odwołaj się do early stopping, wprowadź odpowiednie wartości (takie jakie chcesz, tylko dla zmiennej patience wprowadź \"10\"), do parametrów takich jak monitor, mode, verbose oraz patience.\n",
        "2. Stwórz nową zmienną, którą nazwiesz f2, odwołaj się do ModelCheckpoint, wprowadź nazwę dla swojego modelu oraz odpowiednie wartości dla parametru monitor, mode, verbose oraz save_best_only (znowu - takie jakie chcesz, poeksperymentuj z nimi 🔬).\n",
        "3. Stwórz nową zmienną, którą nazwiesz history. Zmienna ta powinna zawierać stworzone w poprzednim kroku dane treningowe (x), etykiety danych trningowych (y), dane testowe (a), etykiey danych testowych (b) oraz odpowiednie wartości parametrów epochs oraz verbose.\n",
        "4. Stwórz nową zmienną, którą nazwiesz trained_model, załaduj model używając nazwy modelu z punktu drugiego.\n",
        "5. Stwórz nową zmienną, którą nazwiesz train_accuracy, odwołaj się do trained_model.evaluate, użyj danych treningowych (x) oraz etykiet danych treningowych (y).\n",
        "6. Stwórz nową zmienną, którą nazwiesz test_accuracy, odwołaj się do trained_model.evaluate, użyj danych testowych (a) oraz etykiet danych testowych (b).\n",
        "7. Przeprowadź uczenie sieci dla liczby epok wynoszącej 100. Po której epoce proces trenowania sieci się zatrzyma?\n",
        "8. Wyświetl informacje dotyczące dokładności klasyfikacji na materiale treningowym oraz testowym."
      ]
    },
    {
      "cell_type": "code",
      "source": [
        "\n",
        "x = train_images\n",
        "y = train_labels\n",
        "a = test_images\n",
        "b = test_labels\n",
        "f1 = EarlyStopping( monitor='val_loss', mode='auto', verbose=0, patience=10)\n",
        "f2 = ModelCheckpoint('model', monitor='val_loss', mode='auto', verbose=0, save_best_only=False)\n",
        "history = model.fit(x, to_categorical(y), validation_data = (a, to_categorical(b)), epochs=100,callbacks = [f1,f2], verbose='auto')\n"
      ],
      "metadata": {
        "id": "upNFsQzL0YbB"
      },
      "execution_count": null,
      "outputs": []
    },
    {
      "cell_type": "code",
      "source": [
        "trained_model = load_model('model')\n",
        "train_accuracy = trained_model.evaluate(x,to_categorical(y))\n",
        "test_accuracy =  trained_model.evaluate(a,to_categorical(b))\n",
        "print(train_accuracy + test_accuracy)"
      ],
      "metadata": {
        "id": "KQVKc4yZ_Tcb"
      },
      "execution_count": null,
      "outputs": []
    },
    {
      "cell_type": "code",
      "source": [
        "# summarize history for loss \n",
        "import matplotlib.pyplot as plt\n",
        "plt.plot(history.history['loss'])\n",
        "plt.plot(history.history['val_loss'])\n",
        "plt.title('model loss')\n",
        "plt.ylabel('loss')\n",
        "plt.xlabel('epoch')\n",
        "plt.legend(['train', 'test'], loc='upper left')\n",
        "plt.show()"
      ],
      "metadata": {
        "id": "jQczANQLdj0x"
      },
      "execution_count": null,
      "outputs": []
    },
    {
      "cell_type": "code",
      "source": [
        "model.fit(\n",
        "  train_images,\n",
        "  to_categorical(train_labels),\n",
        "  epochs=100,\n",
        "  batch_size=30,\n",
        ")\n",
        "print(train_accuracy + test_accuracy)"
      ],
      "metadata": {
        "id": "kyhZ60nV_h-6"
      },
      "execution_count": null,
      "outputs": []
    },
    {
      "cell_type": "code",
      "source": [
        "trained_model.fit(\n",
        "  train_images,\n",
        "  to_categorical(train_labels),\n",
        "  epochs=100,\n",
        "  batch_size=30,\n",
        ")\n",
        "print(train_accuracy + test_accuracy)"
      ],
      "metadata": {
        "id": "pZI5JzcABneL"
      },
      "execution_count": null,
      "outputs": []
    },
    {
      "cell_type": "markdown",
      "source": [
        "# Nowa sekcja"
      ],
      "metadata": {
        "id": "yk_DxLun7VYQ"
      }
    },
    {
      "cell_type": "markdown",
      "metadata": {
        "id": "9-vMmyrGR6fP"
      },
      "source": [
        "### 📚 Zadanie 2.\n",
        "##### Uruchom ponownie proces treningu sieci, tym razem wprowadzając zmianę związaną z funkcją straty oraz optymalizatora."
      ]
    },
    {
      "cell_type": "markdown",
      "metadata": {
        "id": "hpxxzs6sR6fQ"
      },
      "source": [
        "1. Wypróbuj inną funkcję straty (rozkład Poisona). Czy w przypadku naszego zbioru danych taka funkcja ma sens?\n",
        "2. Wypróbuj inny optymalizator (z wykorzystaniem algorytmu Adadelta). Czy obserwujesz jakieś zmiany w procesie uczenia się w porównaniu do algorytmu wykorzystanego w tutorialu (adam)? Gdzie może leżeć przyczyna tych różnic? (zob. https://keras.io/api/optimizers/adadelta)."
      ]
    },
    {
      "cell_type": "markdown",
      "source": [
        "## Funkcja straty Poissona"
      ],
      "metadata": {
        "id": "Nusk2wdSYyaT"
      }
    },
    {
      "cell_type": "code",
      "source": [
        "model_poisson = Sequential([\n",
        "  Dense(64, activation='relu', input_shape=(784,)),\n",
        "  Dense(64, activation='relu'),\n",
        "  Dense(10, activation='softmax'),\n",
        "])\n",
        "\n",
        "model_poisson.compile(\n",
        "  optimizer='adam',\n",
        "  loss='Poisson',\n",
        "  metrics=['accuracy'],\n",
        ")"
      ],
      "metadata": {
        "id": "XCWwQX6AX5-4"
      },
      "execution_count": null,
      "outputs": []
    },
    {
      "cell_type": "code",
      "source": [
        "x = train_images\n",
        "y = train_labels\n",
        "a = test_images\n",
        "b = test_labels\n",
        "f1 = EarlyStopping( monitor='val_loss', mode='auto', verbose=0, patience=10)\n",
        "f2 = ModelCheckpoint('model_poisson', monitor='val_loss', mode='auto', verbose=0, save_best_only=False)\n",
        "history = model_poisson.fit(x, to_categorical(y), validation_data = (a, to_categorical(b)), epochs=100,callbacks = [f1,f2], verbose='auto')"
      ],
      "metadata": {
        "id": "7n8m7ZHVX54v"
      },
      "execution_count": null,
      "outputs": []
    },
    {
      "cell_type": "code",
      "source": [
        "trained_model = load_model('model_poisson')\n",
        "train_accuracy = trained_model.evaluate(x,to_categorical(y))\n",
        "test_accuracy =  trained_model.evaluate(a,to_categorical(b))\n",
        "print(train_accuracy + test_accuracy)"
      ],
      "metadata": {
        "id": "-mk9UgkDX5ir"
      },
      "execution_count": null,
      "outputs": []
    },
    {
      "cell_type": "code",
      "source": [
        "# summarize history for loss \n",
        "import matplotlib.pyplot as plt\n",
        "plt.plot(history.history['loss'])\n",
        "plt.plot(history.history['val_loss'])\n",
        "plt.title('model loss')\n",
        "plt.ylabel('loss')\n",
        "plt.xlabel('epoch')\n",
        "plt.legend(['train', 'test'], loc='upper left')\n",
        "plt.show()"
      ],
      "metadata": {
        "id": "CKIV_eo5e1kH"
      },
      "execution_count": null,
      "outputs": []
    },
    {
      "cell_type": "markdown",
      "source": [
        "Optymalizator Adadelta"
      ],
      "metadata": {
        "id": "sSxoS4XmY2QL"
      }
    },
    {
      "cell_type": "code",
      "source": [
        "model_adadelta = Sequential([\n",
        "  Dense(64, activation='relu', input_shape=(784,)),\n",
        "  Dense(64, activation='relu'),\n",
        "  Dense(10, activation='softmax'),\n",
        "])\n",
        "\n",
        "model_adadelta.compile(\n",
        "  optimizer='adadelta',\n",
        "  loss='categorical_crossentropy',\n",
        "  metrics=['accuracy'],\n",
        ")"
      ],
      "metadata": {
        "id": "it8W0tWRY8aB"
      },
      "execution_count": null,
      "outputs": []
    },
    {
      "cell_type": "code",
      "source": [
        "x = train_images\n",
        "y = train_labels\n",
        "a = test_images\n",
        "b = test_labels\n",
        "f1 = EarlyStopping( monitor='val_loss', mode='auto', verbose=0, patience=10)\n",
        "f2 = ModelCheckpoint('model_adadelta', monitor='val_loss', mode='auto', verbose=0, save_best_only=False)\n",
        "history = model_adadelta.fit(x, to_categorical(y), validation_data = (a, to_categorical(b)), epochs=100,callbacks = [f1,f2], verbose='auto')"
      ],
      "metadata": {
        "id": "exgv_vUDZL4p"
      },
      "execution_count": null,
      "outputs": []
    },
    {
      "cell_type": "code",
      "source": [
        "trained_model = load_model('model_adadelta')\n",
        "train_accuracy = trained_model.evaluate(x,to_categorical(y))\n",
        "test_accuracy =  trained_model.evaluate(a,to_categorical(b))\n",
        "print(train_accuracy + test_accuracy)"
      ],
      "metadata": {
        "id": "wO3nNr0mZLm5"
      },
      "execution_count": null,
      "outputs": []
    },
    {
      "cell_type": "code",
      "source": [
        "# summarize history for loss \n",
        "\n",
        "plt.plot(history.history['loss'])\n",
        "plt.plot(history.history['val_loss'])\n",
        "plt.title('model loss')\n",
        "plt.ylabel('loss')\n",
        "plt.xlabel('epoch')\n",
        "plt.legend(['train', 'test'], loc='upper left')\n",
        "plt.show()"
      ],
      "metadata": {
        "id": "6rTTEgzhfcDf"
      },
      "execution_count": null,
      "outputs": []
    },
    {
      "cell_type": "markdown",
      "source": [
        "\n",
        "\n",
        "*   Model \"model\" przy zadanych parametrach zatrzymuje proces uczenia przy epoce nr 23 osiagajac 0.033, 0.989, 0.122, 0.973 (odpowiednio learning loss, learning accuracy, test loss, test accuracy)\n",
        "\n",
        "*   \"Model poisson\": 0.103, 0.99, 0.112, 0.970, stop przy epoce nr 24\n",
        "\n",
        "*   \"Model Adadelta\": 0.360, 0.900, 0.344, 0.903, stop przy epoce nr 100.\n",
        "*   Widzimy podobne zachowanie sie modelu 'model' i 'poisson' na częsci testowej, stop przy podobnym nr epoki. \n",
        "\n",
        "*   \"Model Adadelta\" zachowuje sie podobnie w obu probach, uzyskuje znaczaco gorsze wyniki od pozotalych dwoch modeli. Krzywa straty jest wygladzona i niemal sie pokrywa.\n",
        "\n",
        "\n",
        "\n",
        "\n"
      ],
      "metadata": {
        "id": "Cl9dC-NMlCGF"
      }
    },
    {
      "cell_type": "markdown",
      "metadata": {
        "id": "x61bwRH5R6fR"
      },
      "source": [
        "### 📚 Zadanie 3.\n",
        "##### Niekiedy przydaje nam się możliwość wprowadzenia modyfikacji do funkcji straty lub zbudowania własnej funkcji straty od postaw. W Keras/Tensorflow jest to dosyć prosta rzecz, którą możemy zrealizować za pomocą podstawowych operacji."
      ]
    },
    {
      "cell_type": "markdown",
      "metadata": {
        "id": "Xjpqs_zRR6fR"
      },
      "source": [
        "Poniższy przykład ilustruje w jaki sposób możemy skorzystać z funkcji straty Root Mean Square Error (RMSE) dla dwóch zmiennych (y_true i y_pred)."
      ]
    },
    {
      "cell_type": "code",
      "execution_count": null,
      "metadata": {
        "id": "XSF0qsNyR6fR"
      },
      "outputs": [],
      "source": [
        "y_true = 43.2\n",
        "y_pred = 4.2"
      ]
    },
    {
      "cell_type": "code",
      "execution_count": null,
      "metadata": {
        "id": "i5kU6V0IR6fR"
      },
      "outputs": [],
      "source": [
        "x = tf.keras.metrics.RootMeanSquaredError()\n",
        "x(y_true, y_pred).numpy()"
      ]
    },
    {
      "cell_type": "markdown",
      "metadata": {
        "id": "Gc5btaV4R6fS"
      },
      "source": [
        "Czasami jednak możemy chcieć stworzyć naszą własną funkcję straty (podajemy przy tym dwa argumenty, tj. y_true oraz y_pred)."
      ]
    },
    {
      "cell_type": "code",
      "execution_count": null,
      "metadata": {
        "id": "dZa95_oER6fS"
      },
      "outputs": [],
      "source": [
        "def custom_loss_function(y_true, y_pred):\n",
        "  rmse = 0 \n",
        "  n = 1\n",
        "  rmse += ( (y_pred - y_true)**2 ) / n\n",
        "  return np.sqrt(rmse)\n",
        "    "
      ]
    },
    {
      "cell_type": "code",
      "source": [
        "custom_loss_function(y_true,y_pred)"
      ],
      "metadata": {
        "id": "OzbGPE72kCzG"
      },
      "execution_count": null,
      "outputs": []
    },
    {
      "cell_type": "markdown",
      "metadata": {
        "id": "6YSGpIQuR6fS"
      },
      "source": [
        "Odtwórz wskazaną wcześniej funkcję straty Root Mean Squared Error tworząc od podstaw nową funkcję."
      ]
    },
    {
      "cell_type": "markdown",
      "metadata": {
        "id": "cj4DgCl2UmaC"
      },
      "source": [
        "![2fae41d2-cda7-466c-b672-f909e745e126.png](data:image/png;base64,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)"
      ]
    }
  ],
  "metadata": {
    "accelerator": "GPU",
    "colab": {
      "collapsed_sections": [],
      "name": "WUM_Lista_3_Jan_Solarz.ipynb",
      "provenance": [],
      "private_outputs": true,
      "toc_visible": true
    },
    "kernelspec": {
      "display_name": "Python 3 (ipykernel)",
      "language": "python",
      "name": "python3"
    },
    "language_info": {
      "codemirror_mode": {
        "name": "ipython",
        "version": 3
      },
      "file_extension": ".py",
      "mimetype": "text/x-python",
      "name": "python",
      "nbconvert_exporter": "python",
      "pygments_lexer": "ipython3",
      "version": "3.8.12"
    }
  },
  "nbformat": 4,
  "nbformat_minor": 0
}