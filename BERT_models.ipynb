{
 "cells": [
  {
   "cell_type": "markdown",
   "id": "1660edd7",
   "metadata": {},
   "source": [
    "# BERT models (building and evaluation)¶"
   ]
  },
  {
   "cell_type": "code",
   "execution_count": null,
   "id": "4AgcKDj5fzHv",
   "metadata": {
    "colab": {
     "base_uri": "https://localhost:8080/"
    },
    "id": "4AgcKDj5fzHv",
    "outputId": "a662930f-9917-40fc-ce7a-861dea133f73"
   },
   "outputs": [
    {
     "name": "stdout",
     "output_type": "stream",
     "text": [
      "Looking in indexes: https://pypi.org/simple, https://us-python.pkg.dev/colab-wheels/public/simple/\n",
      "Requirement already satisfied: h5py in /usr/local/lib/python3.8/dist-packages (3.1.0)\n",
      "Requirement already satisfied: numpy>=1.17.5 in /usr/local/lib/python3.8/dist-packages (from h5py) (1.21.6)\n",
      "Looking in indexes: https://pypi.org/simple, https://us-python.pkg.dev/colab-wheels/public/simple/\n",
      "Requirement already satisfied: typing-extensions in /usr/local/lib/python3.8/dist-packages (4.4.0)\n",
      "Looking in indexes: https://pypi.org/simple, https://us-python.pkg.dev/colab-wheels/public/simple/\n",
      "Requirement already satisfied: wheel in /usr/local/lib/python3.8/dist-packages (0.38.4)\n"
     ]
    }
   ],
   "source": [
    "!pip install h5py\n",
    "!pip install typing-extensions\n",
    "!pip install wheel"
   ]
  },
  {
   "cell_type": "code",
   "execution_count": null,
   "id": "b4301b72",
   "metadata": {
    "colab": {
     "base_uri": "https://localhost:8080/"
    },
    "id": "b4301b72",
    "outputId": "11abdd15-7797-4595-f8ab-75560016a9b2"
   },
   "outputs": [
    {
     "name": "stdout",
     "output_type": "stream",
     "text": [
      "Looking in indexes: https://pypi.org/simple, https://us-python.pkg.dev/colab-wheels/public/simple/\n",
      "Requirement already satisfied: torchaudio==0.9 in /usr/local/lib/python3.8/dist-packages (0.9.0)\n",
      "Collecting torch==1.9\n",
      "  Using cached torch-1.9.0-cp38-cp38-manylinux1_x86_64.whl (831.4 MB)\n",
      "Requirement already satisfied: typing-extensions in /usr/local/lib/python3.8/dist-packages (from torch==1.9) (4.4.0)\n",
      "Installing collected packages: torch\n",
      "  Attempting uninstall: torch\n",
      "    Found existing installation: torch 1.13.1\n",
      "    Uninstalling torch-1.13.1:\n",
      "      Successfully uninstalled torch-1.13.1\n",
      "\u001b[31mERROR: pip's dependency resolver does not currently take into account all the packages that are installed. This behaviour is the source of the following dependency conflicts.\n",
      "torchtext 0.14.1 requires torch==1.13.1, but you have torch 1.9.0 which is incompatible.\u001b[0m\u001b[31m\n",
      "\u001b[0mSuccessfully installed torch-1.9.0\n"
     ]
    }
   ],
   "source": [
    "!pip3 install torchaudio==0.9 torch==1.9\n"
   ]
  },
  {
   "cell_type": "code",
   "execution_count": null,
   "id": "f212c026",
   "metadata": {
    "colab": {
     "base_uri": "https://localhost:8080/"
    },
    "id": "f212c026",
    "outputId": "ec4695e2-7d3e-4bda-817d-4cc3b335412b"
   },
   "outputs": [
    {
     "name": "stdout",
     "output_type": "stream",
     "text": [
      "Looking in indexes: https://pypi.org/simple, https://us-python.pkg.dev/colab-wheels/public/simple/\n",
      "Looking in links: https://download.pytorch.org/whl/torch_stable.html\n",
      "Collecting torch==1.9.0+cu111\n",
      "tcmalloc: large alloc 2041339904 bytes == 0x3bda000 @  0x7fe7a6620680 0x7fe7a6641824 0x5f97c1 0x649901 0x5c43c6 0x4f327e 0x64e618 0x505163 0x56bbe1 0x5f5ee6 0x56bbe1 0x5f5ee6 0x56bbe1 0x569d8a 0x5f60c3 0x50b849 0x5f52b2 0x56d2bc 0x569d8a 0x5f60c3 0x50b849 0x5f52b2 0x56d2bc 0x569d8a 0x5f60c3 0x50b849 0x5f52b2 0x56d2bc 0x569d8a 0x5f60c3 0x50b849\n",
      "tcmalloc: large alloc 2041339904 bytes == 0x7d6a0000 @  0x7fe7a6620680 0x7fe7a6641824 0x5f97c1 0x6b6e4b 0x504e8e 0x56bbe1 0x5f5ee6 0x56bbe1 0x5f5ee6 0x56bbe1 0x569d8a 0x5f60c3 0x50b849 0x5f52b2 0x56d2bc 0x569d8a 0x5f60c3 0x50b849 0x5f52b2 0x56d2bc 0x569d8a 0x5f60c3 0x50b849 0x5f52b2 0x56d2bc 0x569d8a 0x5f60c3 0x50b849 0x5f52b2 0x56d2bc 0x569d8a\n",
      "tcmalloc: large alloc 2041339904 bytes == 0xf71be000 @  0x7fe7a6620680 0x7fe7a6641824 0x5bbb74 0x50adde 0x616da9 0x6178ea 0x61794a 0x504866 0x56bbe1 0x5f5ee6 0x56bbe1 0x569d8a 0x5f60c3 0x56cc92 0x50b22e 0x56bab6 0x5f5ee6 0x56bbe1 0x5f5ee6 0x56bbe1 0x569d8a 0x5f60c3 0x50b849 0x5f52b2 0x56d2bc 0x569d8a 0x5f60c3 0x50b849 0x5f52b2 0x56d2bc 0x569d8a\n",
      "tcmalloc: large alloc 2041339904 bytes == 0x170c84000 @  0x7fe7a6620680 0x7fe7a6641824 0x50ccde 0x50e875 0x5130fc 0x56bf0f 0x569d8a 0x5f60c3 0x56bbe1 0x5f5ee6 0x56bbe1 0x569d8a 0x5f60c3 0x56bbe1 0x569d8a 0x5f60c3 0x56bbe1 0x569d8a 0x5f60c3 0x56bbe1 0x569d8a 0x5f60c3 0x56cc92 0x50b22e 0x56bab6 0x5f5ee6 0x56bbe1 0x5f5ee6 0x56bbe1 0x569d8a 0x5f60c3\n",
      "tcmalloc: large alloc 2041339904 bytes == 0x1eaf4a000 @  0x7fe7a6620680 0x7fe7a6641824 0x5f97c1 0x6b55a7 0x5f7de5 0x5f65f3 0x570d34 0x569d8a 0x5f60c3 0x56bbe1 0x569d8a 0x5f60c3 0x56bbe1 0x569d8a 0x5f60c3 0x56bbe1 0x569d8a 0x5f60c3 0x56cc92 0x50b22e 0x56bab6 0x5f5ee6 0x56bbe1 0x5f5ee6 0x56bbe1 0x569d8a 0x5f60c3 0x50b849 0x5f52b2 0x56d2bc 0x569d8a\n",
      "tcmalloc: large alloc 2041339904 bytes == 0x1eaf4a000 @  0x7fe7a6620680 0x7fe7a6641824 0x5f97c1 0x649901 0x5c43c6 0x4f327e 0x64e618 0x505163 0x56bbe1 0x5f5ee6 0x56bbe1 0x5f5ee6 0x56bbe1 0x569d8a 0x5f60c3 0x50b849 0x5f52b2 0x56d2bc 0x569d8a 0x5f60c3 0x50b849 0x5f52b2 0x56d2bc 0x569d8a 0x5f60c3 0x50b849 0x5f52b2 0x56d2bc 0x569d8a 0x5f60c3 0x50b849\n",
      "tcmalloc: large alloc 2551676928 bytes == 0x264a10000 @  0x7fe7a6620680 0x7fe7a6640da2 0x5f714c 0x64d800 0x527022 0x504866 0x56bbe1 0x569d8a 0x5f60c3 0x56bbe1 0x569d8a 0x5f60c3 0x56bbe1 0x569d8a 0x5f60c3 0x56bbe1 0x569d8a 0x5f60c3 0x56bbe1 0x569d8a 0x5f60c3 0x56bbe1 0x5f5ee6 0x56bbe1 0x569d8a 0x5f60c3 0x56cc92 0x569d8a 0x5f60c3 0x56bbe1 0x569d8a\n",
      "  Using cached https://download.pytorch.org/whl/cu111/torch-1.9.0%2Bcu111-cp38-cp38-linux_x86_64.whl (2041.3 MB)\n",
      "Requirement already satisfied: torchvision==0.10.0+cu111 in /usr/local/lib/python3.8/dist-packages (0.10.0+cu111)\n",
      "Requirement already satisfied: torchaudio==0.9.0 in /usr/local/lib/python3.8/dist-packages (0.9.0)\n",
      "Requirement already satisfied: typing-extensions in /usr/local/lib/python3.8/dist-packages (from torch==1.9.0+cu111) (4.4.0)\n",
      "Requirement already satisfied: numpy in /usr/local/lib/python3.8/dist-packages (from torchvision==0.10.0+cu111) (1.21.6)\n",
      "Requirement already satisfied: pillow>=5.3.0 in /usr/local/lib/python3.8/dist-packages (from torchvision==0.10.0+cu111) (7.1.2)\n",
      "Installing collected packages: torch\n",
      "\u001b[31mERROR: pip's dependency resolver does not currently take into account all the packages that are installed. This behaviour is the source of the following dependency conflicts.\n",
      "torchtext 0.14.1 requires torch==1.13.1, but you have torch 1.9.0+cu111 which is incompatible.\u001b[0m\u001b[31m\n",
      "\u001b[0mSuccessfully installed torch-1.9.0+cu111\n"
     ]
    }
   ],
   "source": [
    "!pip3 install torch==1.9.0+cu111 torchvision==0.10.0+cu111 torchaudio==0.9.0 -f https://download.pytorch.org/whl/torch_stable.html"
   ]
  },
  {
   "cell_type": "code",
   "execution_count": null,
   "id": "dI3a9kKD1vRC",
   "metadata": {
    "id": "dI3a9kKD1vRC"
   },
   "outputs": [],
   "source": [
    "#####start NN"
   ]
  },
  {
   "cell_type": "code",
   "execution_count": null,
   "id": "GaUT4UaychuX",
   "metadata": {
    "colab": {
     "base_uri": "https://localhost:8080/"
    },
    "id": "GaUT4UaychuX",
    "outputId": "5325fd4b-d9ad-4c72-80ca-46185b141b93"
   },
   "outputs": [
    {
     "name": "stdout",
     "output_type": "stream",
     "text": [
      "Looking in indexes: https://pypi.org/simple, https://us-python.pkg.dev/colab-wheels/public/simple/\n",
      "Collecting torch==1.13.1\n",
      "  Downloading torch-1.13.1-cp38-cp38-manylinux1_x86_64.whl (887.4 MB)\n",
      "\u001b[2K     \u001b[91m━━━━━━━━━━━━━━━━━━━━━━━━━━━━━━━━━━━━\u001b[0m\u001b[91m╸\u001b[0m \u001b[32m887.4/887.4 MB\u001b[0m \u001b[31m196.0 MB/s\u001b[0m eta \u001b[36m0:00:01\u001b[0mtcmalloc: large alloc 1109270528 bytes == 0x37b6a000 @  0x7f861dab9680 0x7f861dad9da2 0x5f714c 0x64d800 0x527022 0x504866 0x56bbe1 0x569d8a 0x5f60c3 0x56bbe1 0x569d8a 0x5f60c3 0x56bbe1 0x569d8a 0x5f60c3 0x56bbe1 0x569d8a 0x5f60c3 0x56bbe1 0x569d8a 0x5f60c3 0x56bbe1 0x5f5ee6 0x56bbe1 0x569d8a 0x5f60c3 0x56cc92 0x569d8a 0x5f60c3 0x56bbe1 0x569d8a\n",
      "\u001b[2K     \u001b[90m━━━━━━━━━━━━━━━━━━━━━━━━━━━━━━━━━━━━━━━\u001b[0m \u001b[32m887.4/887.4 MB\u001b[0m \u001b[31m2.0 MB/s\u001b[0m eta \u001b[36m0:00:00\u001b[0m\n",
      "\u001b[?25hCollecting nvidia-cublas-cu11==11.10.3.66\n",
      "  Downloading nvidia_cublas_cu11-11.10.3.66-py3-none-manylinux1_x86_64.whl (317.1 MB)\n",
      "\u001b[2K     \u001b[90m━━━━━━━━━━━━━━━━━━━━━━━━━━━━━━━━━━━━━━━\u001b[0m \u001b[32m317.1/317.1 MB\u001b[0m \u001b[31m4.4 MB/s\u001b[0m eta \u001b[36m0:00:00\u001b[0m\n",
      "\u001b[?25hRequirement already satisfied: typing-extensions in /usr/local/lib/python3.8/dist-packages (from torch==1.13.1) (4.4.0)\n",
      "Collecting nvidia-cuda-nvrtc-cu11==11.7.99\n",
      "  Downloading nvidia_cuda_nvrtc_cu11-11.7.99-2-py3-none-manylinux1_x86_64.whl (21.0 MB)\n",
      "\u001b[2K     \u001b[90m━━━━━━━━━━━━━━━━━━━━━━━━━━━━━━━━━━━━━━━━\u001b[0m \u001b[32m21.0/21.0 MB\u001b[0m \u001b[31m86.7 MB/s\u001b[0m eta \u001b[36m0:00:00\u001b[0m\n",
      "\u001b[?25hCollecting nvidia-cuda-runtime-cu11==11.7.99\n",
      "  Downloading nvidia_cuda_runtime_cu11-11.7.99-py3-none-manylinux1_x86_64.whl (849 kB)\n",
      "\u001b[2K     \u001b[90m━━━━━━━━━━━━━━━━━━━━━━━━━━━━━━━━━━━━━━\u001b[0m \u001b[32m849.3/849.3 KB\u001b[0m \u001b[31m65.6 MB/s\u001b[0m eta \u001b[36m0:00:00\u001b[0m\n",
      "\u001b[?25hCollecting nvidia-cudnn-cu11==8.5.0.96\n",
      "  Downloading nvidia_cudnn_cu11-8.5.0.96-2-py3-none-manylinux1_x86_64.whl (557.1 MB)\n",
      "\u001b[2K     \u001b[90m━━━━━━━━━━━━━━━━━━━━━━━━━━━━━━━━━━━━━━━\u001b[0m \u001b[32m557.1/557.1 MB\u001b[0m \u001b[31m2.7 MB/s\u001b[0m eta \u001b[36m0:00:00\u001b[0m\n",
      "\u001b[?25hRequirement already satisfied: setuptools in /usr/local/lib/python3.8/dist-packages (from nvidia-cublas-cu11==11.10.3.66->torch==1.13.1) (57.4.0)\n",
      "Requirement already satisfied: wheel in /usr/local/lib/python3.8/dist-packages (from nvidia-cublas-cu11==11.10.3.66->torch==1.13.1) (0.38.4)\n",
      "Installing collected packages: nvidia-cuda-runtime-cu11, nvidia-cuda-nvrtc-cu11, nvidia-cublas-cu11, nvidia-cudnn-cu11, torch\n",
      "  Attempting uninstall: torch\n",
      "    Found existing installation: torch 1.9.0+cu111\n",
      "    Uninstalling torch-1.9.0+cu111:\n",
      "      Successfully uninstalled torch-1.9.0+cu111\n",
      "\u001b[31mERROR: pip's dependency resolver does not currently take into account all the packages that are installed. This behaviour is the source of the following dependency conflicts.\n",
      "torchvision 0.10.0+cu111 requires torch==1.9.0, but you have torch 1.13.1 which is incompatible.\n",
      "torchaudio 0.9.0 requires torch==1.9.0, but you have torch 1.13.1 which is incompatible.\u001b[0m\u001b[31m\n",
      "\u001b[0mSuccessfully installed nvidia-cublas-cu11-11.10.3.66 nvidia-cuda-nvrtc-cu11-11.7.99 nvidia-cuda-runtime-cu11-11.7.99 nvidia-cudnn-cu11-8.5.0.96 torch-1.13.1\n"
     ]
    }
   ],
   "source": [
    "!pip install torch==1.13.1"
   ]
  },
  {
   "cell_type": "code",
   "execution_count": null,
   "id": "BVTeB12SgVLu",
   "metadata": {
    "colab": {
     "base_uri": "https://localhost:8080/"
    },
    "id": "BVTeB12SgVLu",
    "outputId": "507b2479-6557-4eef-827b-8182791b6e0b"
   },
   "outputs": [
    {
     "name": "stdout",
     "output_type": "stream",
     "text": [
      "Python 3.8.10\n"
     ]
    }
   ],
   "source": [
    "!python -V"
   ]
  },
  {
   "cell_type": "code",
   "execution_count": null,
   "id": "dxRvRJiIgYan",
   "metadata": {
    "colab": {
     "base_uri": "https://localhost:8080/"
    },
    "id": "dxRvRJiIgYan",
    "outputId": "63938b4c-6b40-4267-e615-3eeb71adfde2"
   },
   "outputs": [
    {
     "name": "stdout",
     "output_type": "stream",
     "text": [
      "nvcc: NVIDIA (R) Cuda compiler driver\n",
      "Copyright (c) 2005-2021 NVIDIA Corporation\n",
      "Built on Sun_Feb_14_21:12:58_PST_2021\n",
      "Cuda compilation tools, release 11.2, V11.2.152\n",
      "Build cuda_11.2.r11.2/compiler.29618528_0\n"
     ]
    }
   ],
   "source": [
    "!nvcc --version"
   ]
  },
  {
   "cell_type": "code",
   "execution_count": null,
   "id": "JuVky1M9rK2_",
   "metadata": {
    "colab": {
     "base_uri": "https://localhost:8080/"
    },
    "id": "JuVky1M9rK2_",
    "outputId": "d72425a5-f5fc-4633-d679-24bff03c2039"
   },
   "outputs": [
    {
     "name": "stdout",
     "output_type": "stream",
     "text": [
      "Looking in indexes: https://pypi.org/simple, https://us-python.pkg.dev/colab-wheels/public/simple/\n",
      "Collecting seqeval\n",
      "  Downloading seqeval-1.2.2.tar.gz (43 kB)\n",
      "\u001b[2K     \u001b[90m━━━━━━━━━━━━━━━━━━━━━━━━━━━━━━━━━━━━━━━━\u001b[0m \u001b[32m43.6/43.6 KB\u001b[0m \u001b[31m2.6 MB/s\u001b[0m eta \u001b[36m0:00:00\u001b[0m\n",
      "\u001b[?25h  Preparing metadata (setup.py) ... \u001b[?25l\u001b[?25hdone\n",
      "Requirement already satisfied: numpy>=1.14.0 in /usr/local/lib/python3.8/dist-packages (from seqeval) (1.21.6)\n",
      "Requirement already satisfied: scikit-learn>=0.21.3 in /usr/local/lib/python3.8/dist-packages (from seqeval) (1.0.2)\n",
      "Requirement already satisfied: joblib>=0.11 in /usr/local/lib/python3.8/dist-packages (from scikit-learn>=0.21.3->seqeval) (1.2.0)\n",
      "Requirement already satisfied: threadpoolctl>=2.0.0 in /usr/local/lib/python3.8/dist-packages (from scikit-learn>=0.21.3->seqeval) (3.1.0)\n",
      "Requirement already satisfied: scipy>=1.1.0 in /usr/local/lib/python3.8/dist-packages (from scikit-learn>=0.21.3->seqeval) (1.7.3)\n",
      "Building wheels for collected packages: seqeval\n",
      "  Building wheel for seqeval (setup.py) ... \u001b[?25l\u001b[?25hdone\n",
      "  Created wheel for seqeval: filename=seqeval-1.2.2-py3-none-any.whl size=16179 sha256=5abe53568c592aac25fd26997a66ac28dad1cc94ce04a19cab2450ada1e81d9d\n",
      "  Stored in directory: /root/.cache/pip/wheels/ad/5c/ba/05fa33fa5855777b7d686e843ec07452f22a66a138e290e732\n",
      "Successfully built seqeval\n",
      "Installing collected packages: seqeval\n",
      "Successfully installed seqeval-1.2.2\n",
      "Looking in indexes: https://pypi.org/simple, https://us-python.pkg.dev/colab-wheels/public/simple/\n",
      "Collecting transformers\n",
      "  Downloading transformers-4.26.0-py3-none-any.whl (6.3 MB)\n",
      "\u001b[2K     \u001b[90m━━━━━━━━━━━━━━━━━━━━━━━━━━━━━━━━━━━━━━━━\u001b[0m \u001b[32m6.3/6.3 MB\u001b[0m \u001b[31m54.7 MB/s\u001b[0m eta \u001b[36m0:00:00\u001b[0m\n",
      "\u001b[?25hRequirement already satisfied: numpy>=1.17 in /usr/local/lib/python3.8/dist-packages (from transformers) (1.21.6)\n",
      "Requirement already satisfied: packaging>=20.0 in /usr/local/lib/python3.8/dist-packages (from transformers) (21.3)\n",
      "Collecting tokenizers!=0.11.3,<0.14,>=0.11.1\n",
      "  Downloading tokenizers-0.13.2-cp38-cp38-manylinux_2_17_x86_64.manylinux2014_x86_64.whl (7.6 MB)\n",
      "\u001b[2K     \u001b[90m━━━━━━━━━━━━━━━━━━━━━━━━━━━━━━━━━━━━━━━━\u001b[0m \u001b[32m7.6/7.6 MB\u001b[0m \u001b[31m86.6 MB/s\u001b[0m eta \u001b[36m0:00:00\u001b[0m\n",
      "\u001b[?25hRequirement already satisfied: tqdm>=4.27 in /usr/local/lib/python3.8/dist-packages (from transformers) (4.64.1)\n",
      "Collecting huggingface-hub<1.0,>=0.11.0\n",
      "  Downloading huggingface_hub-0.12.0-py3-none-any.whl (190 kB)\n",
      "\u001b[2K     \u001b[90m━━━━━━━━━━━━━━━━━━━━━━━━━━━━━━━━━━━━━━\u001b[0m \u001b[32m190.3/190.3 KB\u001b[0m \u001b[31m24.7 MB/s\u001b[0m eta \u001b[36m0:00:00\u001b[0m\n",
      "\u001b[?25hRequirement already satisfied: regex!=2019.12.17 in /usr/local/lib/python3.8/dist-packages (from transformers) (2022.6.2)\n",
      "Requirement already satisfied: filelock in /usr/local/lib/python3.8/dist-packages (from transformers) (3.9.0)\n",
      "Requirement already satisfied: pyyaml>=5.1 in /usr/local/lib/python3.8/dist-packages (from transformers) (6.0)\n",
      "Requirement already satisfied: requests in /usr/local/lib/python3.8/dist-packages (from transformers) (2.25.1)\n",
      "Requirement already satisfied: typing-extensions>=3.7.4.3 in /usr/local/lib/python3.8/dist-packages (from huggingface-hub<1.0,>=0.11.0->transformers) (4.4.0)\n",
      "Requirement already satisfied: pyparsing!=3.0.5,>=2.0.2 in /usr/local/lib/python3.8/dist-packages (from packaging>=20.0->transformers) (3.0.9)\n",
      "Requirement already satisfied: idna<3,>=2.5 in /usr/local/lib/python3.8/dist-packages (from requests->transformers) (2.10)\n",
      "Requirement already satisfied: chardet<5,>=3.0.2 in /usr/local/lib/python3.8/dist-packages (from requests->transformers) (4.0.0)\n",
      "Requirement already satisfied: urllib3<1.27,>=1.21.1 in /usr/local/lib/python3.8/dist-packages (from requests->transformers) (1.24.3)\n",
      "Requirement already satisfied: certifi>=2017.4.17 in /usr/local/lib/python3.8/dist-packages (from requests->transformers) (2022.12.7)\n",
      "Installing collected packages: tokenizers, huggingface-hub, transformers\n",
      "Successfully installed huggingface-hub-0.12.0 tokenizers-0.13.2 transformers-4.26.0\n"
     ]
    }
   ],
   "source": [
    "!pip install seqeval\n",
    "!pip install transformers\n"
   ]
  },
  {
   "cell_type": "code",
   "execution_count": 4,
   "id": "_Vty1TFIc6j8",
   "metadata": {
    "colab": {
     "base_uri": "https://localhost:8080/",
     "height": 36
    },
    "id": "_Vty1TFIc6j8",
    "outputId": "a89991e7-c6ea-42b5-c7c5-1723bf2f2fca"
   },
   "outputs": [
    {
     "data": {
      "application/vnd.google.colaboratory.intrinsic+json": {
       "type": "string"
      },
      "text/plain": [
       "'1.13.1+cu116'"
      ]
     },
     "execution_count": 4,
     "metadata": {},
     "output_type": "execute_result"
    }
   ],
   "source": [
    "import torch\n",
    "torch.__version__"
   ]
  },
  {
   "cell_type": "code",
   "execution_count": 4,
   "id": "dopytPNF2J3T",
   "metadata": {
    "colab": {
     "base_uri": "https://localhost:8080/"
    },
    "id": "dopytPNF2J3T",
    "outputId": "a2d70238-ddc9-4e8a-dfbd-6cac9d6999a4"
   },
   "outputs": [
    {
     "name": "stdout",
     "output_type": "stream",
     "text": [
      "Looking in indexes: https://pypi.org/simple, https://us-python.pkg.dev/colab-wheels/public/simple/\n",
      "Collecting transformers\n",
      "  Downloading transformers-4.26.0-py3-none-any.whl (6.3 MB)\n",
      "\u001b[2K     \u001b[90m━━━━━━━━━━━━━━━━━━━━━━━━━━━━━━━━━━━━━━━━\u001b[0m \u001b[32m6.3/6.3 MB\u001b[0m \u001b[31m57.9 MB/s\u001b[0m eta \u001b[36m0:00:00\u001b[0m\n",
      "\u001b[?25hRequirement already satisfied: packaging>=20.0 in /usr/local/lib/python3.8/dist-packages (from transformers) (21.3)\n",
      "Collecting tokenizers!=0.11.3,<0.14,>=0.11.1\n",
      "  Downloading tokenizers-0.13.2-cp38-cp38-manylinux_2_17_x86_64.manylinux2014_x86_64.whl (7.6 MB)\n",
      "\u001b[2K     \u001b[90m━━━━━━━━━━━━━━━━━━━━━━━━━━━━━━━━━━━━━━━━\u001b[0m \u001b[32m7.6/7.6 MB\u001b[0m \u001b[31m122.4 MB/s\u001b[0m eta \u001b[36m0:00:00\u001b[0m\n",
      "\u001b[?25hRequirement already satisfied: numpy>=1.17 in /usr/local/lib/python3.8/dist-packages (from transformers) (1.21.6)\n",
      "Collecting huggingface-hub<1.0,>=0.11.0\n",
      "  Downloading huggingface_hub-0.12.0-py3-none-any.whl (190 kB)\n",
      "\u001b[2K     \u001b[90m━━━━━━━━━━━━━━━━━━━━━━━━━━━━━━━━━━━━━━\u001b[0m \u001b[32m190.3/190.3 KB\u001b[0m \u001b[31m23.1 MB/s\u001b[0m eta \u001b[36m0:00:00\u001b[0m\n",
      "\u001b[?25hRequirement already satisfied: pyyaml>=5.1 in /usr/local/lib/python3.8/dist-packages (from transformers) (6.0)\n",
      "Requirement already satisfied: requests in /usr/local/lib/python3.8/dist-packages (from transformers) (2.25.1)\n",
      "Requirement already satisfied: tqdm>=4.27 in /usr/local/lib/python3.8/dist-packages (from transformers) (4.64.1)\n",
      "Requirement already satisfied: filelock in /usr/local/lib/python3.8/dist-packages (from transformers) (3.9.0)\n",
      "Requirement already satisfied: regex!=2019.12.17 in /usr/local/lib/python3.8/dist-packages (from transformers) (2022.6.2)\n",
      "Requirement already satisfied: typing-extensions>=3.7.4.3 in /usr/local/lib/python3.8/dist-packages (from huggingface-hub<1.0,>=0.11.0->transformers) (4.4.0)\n",
      "Requirement already satisfied: pyparsing!=3.0.5,>=2.0.2 in /usr/local/lib/python3.8/dist-packages (from packaging>=20.0->transformers) (3.0.9)\n",
      "Requirement already satisfied: certifi>=2017.4.17 in /usr/local/lib/python3.8/dist-packages (from requests->transformers) (2022.12.7)\n",
      "Requirement already satisfied: idna<3,>=2.5 in /usr/local/lib/python3.8/dist-packages (from requests->transformers) (2.10)\n",
      "Requirement already satisfied: urllib3<1.27,>=1.21.1 in /usr/local/lib/python3.8/dist-packages (from requests->transformers) (1.24.3)\n",
      "Requirement already satisfied: chardet<5,>=3.0.2 in /usr/local/lib/python3.8/dist-packages (from requests->transformers) (4.0.0)\n",
      "Installing collected packages: tokenizers, huggingface-hub, transformers\n",
      "Successfully installed huggingface-hub-0.12.0 tokenizers-0.13.2 transformers-4.26.0\n",
      "Looking in indexes: https://pypi.org/simple, https://us-python.pkg.dev/colab-wheels/public/simple/\n",
      "Collecting seqeval\n",
      "  Downloading seqeval-1.2.2.tar.gz (43 kB)\n",
      "\u001b[2K     \u001b[90m━━━━━━━━━━━━━━━━━━━━━━━━━━━━━━━━━━━━━━━━\u001b[0m \u001b[32m43.6/43.6 KB\u001b[0m \u001b[31m2.0 MB/s\u001b[0m eta \u001b[36m0:00:00\u001b[0m\n",
      "\u001b[?25h  Preparing metadata (setup.py) ... \u001b[?25l\u001b[?25hdone\n",
      "Requirement already satisfied: numpy>=1.14.0 in /usr/local/lib/python3.8/dist-packages (from seqeval) (1.21.6)\n",
      "Requirement already satisfied: scikit-learn>=0.21.3 in /usr/local/lib/python3.8/dist-packages (from seqeval) (1.0.2)\n",
      "Requirement already satisfied: scipy>=1.1.0 in /usr/local/lib/python3.8/dist-packages (from scikit-learn>=0.21.3->seqeval) (1.7.3)\n",
      "Requirement already satisfied: joblib>=0.11 in /usr/local/lib/python3.8/dist-packages (from scikit-learn>=0.21.3->seqeval) (1.2.0)\n",
      "Requirement already satisfied: threadpoolctl>=2.0.0 in /usr/local/lib/python3.8/dist-packages (from scikit-learn>=0.21.3->seqeval) (3.1.0)\n",
      "Building wheels for collected packages: seqeval\n",
      "  Building wheel for seqeval (setup.py) ... \u001b[?25l\u001b[?25hdone\n",
      "  Created wheel for seqeval: filename=seqeval-1.2.2-py3-none-any.whl size=16179 sha256=09008e269f96a0eb953ce6cb13c89e493772d4ac86720d1cd9dedbfa74eea3c6\n",
      "  Stored in directory: /root/.cache/pip/wheels/ad/5c/ba/05fa33fa5855777b7d686e843ec07452f22a66a138e290e732\n",
      "Successfully built seqeval\n",
      "Installing collected packages: seqeval\n",
      "Successfully installed seqeval-1.2.2\n",
      "Looking in indexes: https://pypi.org/simple, https://us-python.pkg.dev/colab-wheels/public/simple/\n",
      "Collecting jedi\n",
      "  Downloading jedi-0.18.2-py2.py3-none-any.whl (1.6 MB)\n",
      "\u001b[2K     \u001b[90m━━━━━━━━━━━━━━━━━━━━━━━━━━━━━━━━━━━━━━━━\u001b[0m \u001b[32m1.6/1.6 MB\u001b[0m \u001b[31m5.0 MB/s\u001b[0m eta \u001b[36m0:00:00\u001b[0m\n",
      "\u001b[?25hRequirement already satisfied: parso<0.9.0,>=0.8.0 in /usr/local/lib/python3.8/dist-packages (from jedi) (0.8.3)\n",
      "Installing collected packages: jedi\n",
      "Successfully installed jedi-0.18.2\n"
     ]
    }
   ],
   "source": [
    "!pip install transformers\n",
    "#!pip3 install torch==1.7.0\n",
    "#!pip3 install transformers\n",
    "!pip install seqeval\n",
    "!pip install jedi"
   ]
  },
  {
   "cell_type": "code",
   "execution_count": null,
   "id": "S2WoFd4HsGGm",
   "metadata": {
    "colab": {
     "base_uri": "https://localhost:8080/"
    },
    "id": "S2WoFd4HsGGm",
    "outputId": "1f46297b-5ab3-4d04-875d-2331a0b46c80"
   },
   "outputs": [
    {
     "name": "stdout",
     "output_type": "stream",
     "text": [
      "Looking in indexes: https://pypi.org/simple, https://us-python.pkg.dev/colab-wheels/public/simple/\n",
      "Requirement already satisfied: torch in /usr/local/lib/python3.8/dist-packages (1.9.0)\n",
      "Collecting torch\n",
      "  Using cached torch-1.13.1-cp38-cp38-manylinux1_x86_64.whl (887.4 MB)\n",
      "Requirement already satisfied: nvidia-cublas-cu11==11.10.3.66 in /usr/local/lib/python3.8/dist-packages (from torch) (11.10.3.66)\n",
      "Requirement already satisfied: nvidia-cuda-nvrtc-cu11==11.7.99 in /usr/local/lib/python3.8/dist-packages (from torch) (11.7.99)\n",
      "Requirement already satisfied: typing-extensions in /usr/local/lib/python3.8/dist-packages (from torch) (4.4.0)\n",
      "Requirement already satisfied: nvidia-cuda-runtime-cu11==11.7.99 in /usr/local/lib/python3.8/dist-packages (from torch) (11.7.99)\n",
      "Requirement already satisfied: nvidia-cudnn-cu11==8.5.0.96 in /usr/local/lib/python3.8/dist-packages (from torch) (8.5.0.96)\n",
      "Requirement already satisfied: setuptools in /usr/local/lib/python3.8/dist-packages (from nvidia-cublas-cu11==11.10.3.66->torch) (57.4.0)\n",
      "Requirement already satisfied: wheel in /usr/local/lib/python3.8/dist-packages (from nvidia-cublas-cu11==11.10.3.66->torch) (0.38.4)\n",
      "Installing collected packages: torch\n",
      "  Attempting uninstall: torch\n",
      "    Found existing installation: torch 1.9.0\n",
      "    Uninstalling torch-1.9.0:\n",
      "      Successfully uninstalled torch-1.9.0\n",
      "\u001b[31mERROR: pip's dependency resolver does not currently take into account all the packages that are installed. This behaviour is the source of the following dependency conflicts.\n",
      "torchvision 0.10.0+cu111 requires torch==1.9.0, but you have torch 1.13.1 which is incompatible.\n",
      "torchaudio 0.9.0 requires torch==1.9.0, but you have torch 1.13.1 which is incompatible.\u001b[0m\u001b[31m\n",
      "\u001b[0mSuccessfully installed torch-1.13.1\n"
     ]
    }
   ],
   "source": [
    "! pip install --upgrade torch"
   ]
  },
  {
   "cell_type": "code",
   "execution_count": 5,
   "id": "zhWoEZJ_1vN4",
   "metadata": {
    "id": "zhWoEZJ_1vN4"
   },
   "outputs": [],
   "source": [
    "import pandas as pd\n",
    "import numpy as np\n",
    "from tqdm import tqdm, trange\n",
    "import tensorflow as tf\n",
    "import torch\n",
    "from torch.utils.data import TensorDataset, DataLoader, RandomSampler, SequentialSampler\n",
    "from keras_preprocessing.sequence import pad_sequences\n",
    "from sklearn.model_selection import train_test_split\n",
    "from transformers import BertForTokenClassification, AdamW,BertTokenizer, BertConfig\n",
    "from transformers import get_linear_schedule_with_warmup\n",
    "from seqeval.metrics import f1_score\n",
    "import transformers\n",
    "transformers.__version__\n",
    "torch.__version__\n",
    "tf.test.gpu_device_name()\n",
    "import warnings\n",
    "import matplotlib.pyplot as plt\n",
    "%matplotlib inline\n",
    "from sklearn.metrics import classification_report\n",
    "import seaborn as sns\n",
    "warnings.filterwarnings(\"ignore\")\n",
    "from collections import Counter"
   ]
  },
  {
   "cell_type": "code",
   "execution_count": 6,
   "id": "Stp_9uruC4SH",
   "metadata": {
    "colab": {
     "base_uri": "https://localhost:8080/",
     "height": 78
    },
    "id": "Stp_9uruC4SH",
    "outputId": "a9f4530d-0e11-4c2b-b8f3-4dcf5b164e7d"
   },
   "outputs": [
    {
     "data": {
      "text/html": [
       "\n",
       "     <input type=\"file\" id=\"files-e246a6a3-3b3c-421a-b2f0-20ed39b9a9fb\" name=\"files[]\" multiple disabled\n",
       "        style=\"border:none\" />\n",
       "     <output id=\"result-e246a6a3-3b3c-421a-b2f0-20ed39b9a9fb\">\n",
       "      Upload widget is only available when the cell has been executed in the\n",
       "      current browser session. Please rerun this cell to enable.\n",
       "      </output>\n",
       "      <script>// Copyright 2017 Google LLC\n",
       "//\n",
       "// Licensed under the Apache License, Version 2.0 (the \"License\");\n",
       "// you may not use this file except in compliance with the License.\n",
       "// You may obtain a copy of the License at\n",
       "//\n",
       "//      http://www.apache.org/licenses/LICENSE-2.0\n",
       "//\n",
       "// Unless required by applicable law or agreed to in writing, software\n",
       "// distributed under the License is distributed on an \"AS IS\" BASIS,\n",
       "// WITHOUT WARRANTIES OR CONDITIONS OF ANY KIND, either express or implied.\n",
       "// See the License for the specific language governing permissions and\n",
       "// limitations under the License.\n",
       "\n",
       "/**\n",
       " * @fileoverview Helpers for google.colab Python module.\n",
       " */\n",
       "(function(scope) {\n",
       "function span(text, styleAttributes = {}) {\n",
       "  const element = document.createElement('span');\n",
       "  element.textContent = text;\n",
       "  for (const key of Object.keys(styleAttributes)) {\n",
       "    element.style[key] = styleAttributes[key];\n",
       "  }\n",
       "  return element;\n",
       "}\n",
       "\n",
       "// Max number of bytes which will be uploaded at a time.\n",
       "const MAX_PAYLOAD_SIZE = 100 * 1024;\n",
       "\n",
       "function _uploadFiles(inputId, outputId) {\n",
       "  const steps = uploadFilesStep(inputId, outputId);\n",
       "  const outputElement = document.getElementById(outputId);\n",
       "  // Cache steps on the outputElement to make it available for the next call\n",
       "  // to uploadFilesContinue from Python.\n",
       "  outputElement.steps = steps;\n",
       "\n",
       "  return _uploadFilesContinue(outputId);\n",
       "}\n",
       "\n",
       "// This is roughly an async generator (not supported in the browser yet),\n",
       "// where there are multiple asynchronous steps and the Python side is going\n",
       "// to poll for completion of each step.\n",
       "// This uses a Promise to block the python side on completion of each step,\n",
       "// then passes the result of the previous step as the input to the next step.\n",
       "function _uploadFilesContinue(outputId) {\n",
       "  const outputElement = document.getElementById(outputId);\n",
       "  const steps = outputElement.steps;\n",
       "\n",
       "  const next = steps.next(outputElement.lastPromiseValue);\n",
       "  return Promise.resolve(next.value.promise).then((value) => {\n",
       "    // Cache the last promise value to make it available to the next\n",
       "    // step of the generator.\n",
       "    outputElement.lastPromiseValue = value;\n",
       "    return next.value.response;\n",
       "  });\n",
       "}\n",
       "\n",
       "/**\n",
       " * Generator function which is called between each async step of the upload\n",
       " * process.\n",
       " * @param {string} inputId Element ID of the input file picker element.\n",
       " * @param {string} outputId Element ID of the output display.\n",
       " * @return {!Iterable<!Object>} Iterable of next steps.\n",
       " */\n",
       "function* uploadFilesStep(inputId, outputId) {\n",
       "  const inputElement = document.getElementById(inputId);\n",
       "  inputElement.disabled = false;\n",
       "\n",
       "  const outputElement = document.getElementById(outputId);\n",
       "  outputElement.innerHTML = '';\n",
       "\n",
       "  const pickedPromise = new Promise((resolve) => {\n",
       "    inputElement.addEventListener('change', (e) => {\n",
       "      resolve(e.target.files);\n",
       "    });\n",
       "  });\n",
       "\n",
       "  const cancel = document.createElement('button');\n",
       "  inputElement.parentElement.appendChild(cancel);\n",
       "  cancel.textContent = 'Cancel upload';\n",
       "  const cancelPromise = new Promise((resolve) => {\n",
       "    cancel.onclick = () => {\n",
       "      resolve(null);\n",
       "    };\n",
       "  });\n",
       "\n",
       "  // Wait for the user to pick the files.\n",
       "  const files = yield {\n",
       "    promise: Promise.race([pickedPromise, cancelPromise]),\n",
       "    response: {\n",
       "      action: 'starting',\n",
       "    }\n",
       "  };\n",
       "\n",
       "  cancel.remove();\n",
       "\n",
       "  // Disable the input element since further picks are not allowed.\n",
       "  inputElement.disabled = true;\n",
       "\n",
       "  if (!files) {\n",
       "    return {\n",
       "      response: {\n",
       "        action: 'complete',\n",
       "      }\n",
       "    };\n",
       "  }\n",
       "\n",
       "  for (const file of files) {\n",
       "    const li = document.createElement('li');\n",
       "    li.append(span(file.name, {fontWeight: 'bold'}));\n",
       "    li.append(span(\n",
       "        `(${file.type || 'n/a'}) - ${file.size} bytes, ` +\n",
       "        `last modified: ${\n",
       "            file.lastModifiedDate ? file.lastModifiedDate.toLocaleDateString() :\n",
       "                                    'n/a'} - `));\n",
       "    const percent = span('0% done');\n",
       "    li.appendChild(percent);\n",
       "\n",
       "    outputElement.appendChild(li);\n",
       "\n",
       "    const fileDataPromise = new Promise((resolve) => {\n",
       "      const reader = new FileReader();\n",
       "      reader.onload = (e) => {\n",
       "        resolve(e.target.result);\n",
       "      };\n",
       "      reader.readAsArrayBuffer(file);\n",
       "    });\n",
       "    // Wait for the data to be ready.\n",
       "    let fileData = yield {\n",
       "      promise: fileDataPromise,\n",
       "      response: {\n",
       "        action: 'continue',\n",
       "      }\n",
       "    };\n",
       "\n",
       "    // Use a chunked sending to avoid message size limits. See b/62115660.\n",
       "    let position = 0;\n",
       "    do {\n",
       "      const length = Math.min(fileData.byteLength - position, MAX_PAYLOAD_SIZE);\n",
       "      const chunk = new Uint8Array(fileData, position, length);\n",
       "      position += length;\n",
       "\n",
       "      const base64 = btoa(String.fromCharCode.apply(null, chunk));\n",
       "      yield {\n",
       "        response: {\n",
       "          action: 'append',\n",
       "          file: file.name,\n",
       "          data: base64,\n",
       "        },\n",
       "      };\n",
       "\n",
       "      let percentDone = fileData.byteLength === 0 ?\n",
       "          100 :\n",
       "          Math.round((position / fileData.byteLength) * 100);\n",
       "      percent.textContent = `${percentDone}% done`;\n",
       "\n",
       "    } while (position < fileData.byteLength);\n",
       "  }\n",
       "\n",
       "  // All done.\n",
       "  yield {\n",
       "    response: {\n",
       "      action: 'complete',\n",
       "    }\n",
       "  };\n",
       "}\n",
       "\n",
       "scope.google = scope.google || {};\n",
       "scope.google.colab = scope.google.colab || {};\n",
       "scope.google.colab._files = {\n",
       "  _uploadFiles,\n",
       "  _uploadFilesContinue,\n",
       "};\n",
       "})(self);\n",
       "</script> "
      ],
      "text/plain": [
       "<IPython.core.display.HTML object>"
      ]
     },
     "metadata": {},
     "output_type": "display_data"
    },
    {
     "name": "stdout",
     "output_type": "stream",
     "text": [
      "Saving after_preprocess_NER_final.csv to after_preprocess_NER_final.csv\n"
     ]
    }
   ],
   "source": [
    "from google.colab import files\n",
    "uploaded = files.upload()"
   ]
  },
  {
   "cell_type": "code",
   "execution_count": 39,
   "id": "ZJr5u01e2B87",
   "metadata": {
    "id": "ZJr5u01e2B87"
   },
   "outputs": [],
   "source": [
    "data0 = pd.read_csv('./after_preprocess_NER_final.csv')"
   ]
  },
  {
   "cell_type": "code",
   "execution_count": 40,
   "id": "05f1f5b8",
   "metadata": {
    "colab": {
     "base_uri": "https://localhost:8080/"
    },
    "id": "05f1f5b8",
    "outputId": "50025a72-39af-4c93-b32d-b693013660c8"
   },
   "outputs": [
    {
     "data": {
      "text/plain": [
       "Sent_ID\n",
       "1        [(Zatrzasnął, O), (drzwi, O), (od, O), (mieszk...\n",
       "2        [(Bohaterem, O), (powieści, O), (Paźniewskiego...\n",
       "3        [(Jak, O), (za, O), (czasów, O), (Słowackiego,...\n",
       "4        [(Krzemieniec, settlement), (powieściowy, O), ...\n",
       "5        [(Swoją, O), (drogę, O), (do, O), (tego, O), (...\n",
       "                               ...                        \n",
       "69687             [(Jezioro, O), (osobliwości, O), (., O)]\n",
       "69688            [(Dziecko, O), (Noego, forename), (., O)]\n",
       "69689    [(Harry, forename), (Potter, surname), (i, O),...\n",
       "69690    [(Szalone, O), (życie, O), (Rudolfa, forename)...\n",
       "69691                                        [(mlaska, O)]\n",
       "Length: 69691, dtype: object"
      ]
     },
     "execution_count": 40,
     "metadata": {},
     "output_type": "execute_result"
    }
   ],
   "source": [
    "data0.groupby('Sent_ID').apply(lambda s: [(w, t) for w, t in zip(s[\"Word\"].values.tolist(),\n",
    "                                                           s[\"tag\"].values.tolist())])"
   ]
  },
  {
   "cell_type": "code",
   "execution_count": 41,
   "id": "5wjxQNKOmCf3",
   "metadata": {
    "id": "5wjxQNKOmCf3"
   },
   "outputs": [],
   "source": [
    "class SentenceGetter(object):\n",
    "\n",
    "    def __init__(self, data):\n",
    "        self.n_sent = 1\n",
    "        self.data = data\n",
    "        self.empty = False\n",
    "       # agg_func = lambda s: [(w, p, t) for w, p, t in zip(s[\"Word\"].values.tolist(),\n",
    "       #                                                    s[\"POS\"].values.tolist(),\n",
    "        #                                                   s[\"Tag\"].values.tolist())]\n",
    "        agg_func = lambda s: [(w, t) for w, t in zip(s[\"Word\"].values.tolist(),\n",
    "                                                           s[\"tag\"].values.tolist())]\n",
    "        self.grouped = self.data.groupby(\"Sent_ID\").apply(agg_func)\n",
    "        self.sentences = [s for s in self.grouped]\n",
    "\n",
    "    def get_next(self):\n",
    "        try:\n",
    "            s = self.grouped[\"{}\".format(self.n_sent)]\n",
    "            self.n_sent += 1\n",
    "            return s\n",
    "        except:\n",
    "            return None"
   ]
  },
  {
   "cell_type": "code",
   "execution_count": 42,
   "id": "87ee16a8",
   "metadata": {
    "id": "87ee16a8"
   },
   "outputs": [],
   "source": [
    "getter = SentenceGetter(data0)\n"
   ]
  },
  {
   "cell_type": "code",
   "execution_count": 43,
   "id": "f19da7c1",
   "metadata": {
    "colab": {
     "base_uri": "https://localhost:8080/"
    },
    "id": "f19da7c1",
    "outputId": "18970f43-8664-44dc-ad2c-0e263d0dba16"
   },
   "outputs": [
    {
     "data": {
      "text/plain": [
       "['Zatrzasnął',\n",
       " 'drzwi',\n",
       " 'od',\n",
       " 'mieszkania',\n",
       " 'dwa',\n",
       " 'razy',\n",
       " 'przekręcił',\n",
       " 'klucz',\n",
       " 'nacisnął',\n",
       " 'klamkę',\n",
       " 'by',\n",
       " 'sprawdzić',\n",
       " 'czy',\n",
       " 'dobrze',\n",
       " 'zamknięte',\n",
       " 'zbiegł',\n",
       " 'po',\n",
       " 'schodach',\n",
       " 'minął',\n",
       " 'furtkę',\n",
       " 'także',\n",
       " 'ją',\n",
       " 'zamknął',\n",
       " 'i',\n",
       " 'znalazł',\n",
       " 'się',\n",
       " 'na',\n",
       " 'wąskiej',\n",
       " 'uliczce',\n",
       " 'między',\n",
       " 'ogródkami',\n",
       " 'gdzie',\n",
       " 'drzemały',\n",
       " 'w',\n",
       " 'majowym',\n",
       " 'słońcu',\n",
       " 'trójkątne',\n",
       " 'ciemnozielone',\n",
       " 'świerki',\n",
       " 'jakich',\n",
       " 'nie',\n",
       " 'było',\n",
       " 'w',\n",
       " 'pobliżu',\n",
       " 'jego',\n",
       " 'domu',\n",
       " '.']"
      ]
     },
     "execution_count": 43,
     "metadata": {},
     "output_type": "execute_result"
    }
   ],
   "source": [
    "sentences = [[word[0] for word in sentence] for sentence in getter.sentences]\n",
    "sentences[0]"
   ]
  },
  {
   "cell_type": "code",
   "execution_count": 44,
   "id": "a3a632af",
   "metadata": {
    "colab": {
     "base_uri": "https://localhost:8080/"
    },
    "id": "a3a632af",
    "outputId": "e1dcff48-dccc-47cb-830a-8d3937e1a608"
   },
   "outputs": [
    {
     "name": "stdout",
     "output_type": "stream",
     "text": [
      "['O', 'O', 'O', 'O', 'O', 'O', 'O', 'O', 'O', 'O', 'O', 'O', 'O', 'O', 'O', 'O', 'O', 'O', 'O', 'O', 'O', 'O', 'O', 'O', 'O', 'O', 'O', 'O', 'O', 'O', 'O', 'O', 'O', 'O', 'O', 'O', 'O', 'O', 'O', 'O', 'O', 'O', 'O', 'O', 'O', 'O', 'O']\n"
     ]
    }
   ],
   "source": [
    "labels = [[s[1] for s in sentence] for sentence in getter.sentences]\n",
    "print(labels[0])"
   ]
  },
  {
   "cell_type": "code",
   "execution_count": 45,
   "id": "-7leveV_pcgG",
   "metadata": {
    "colab": {
     "base_uri": "https://localhost:8080/",
     "height": 1000
    },
    "id": "-7leveV_pcgG",
    "outputId": "1aeb2c83-63d3-4192-8994-2122e1a8eb04"
   },
   "outputs": [
    {
     "data": {
      "text/html": [
       "\n",
       "  <div id=\"df-9dcb6ac9-37b5-454a-b06d-24ed0d1232d7\">\n",
       "    <div class=\"colab-df-container\">\n",
       "      <div>\n",
       "<style scoped>\n",
       "    .dataframe tbody tr th:only-of-type {\n",
       "        vertical-align: middle;\n",
       "    }\n",
       "\n",
       "    .dataframe tbody tr th {\n",
       "        vertical-align: top;\n",
       "    }\n",
       "\n",
       "    .dataframe thead th {\n",
       "        text-align: right;\n",
       "    }\n",
       "</style>\n",
       "<table border=\"1\" class=\"dataframe\">\n",
       "  <thead>\n",
       "    <tr style=\"text-align: right;\">\n",
       "      <th></th>\n",
       "      <th>0</th>\n",
       "      <th>0</th>\n",
       "    </tr>\n",
       "  </thead>\n",
       "  <tbody>\n",
       "    <tr>\n",
       "      <th>0</th>\n",
       "      <td>Pół</td>\n",
       "      <td>O</td>\n",
       "    </tr>\n",
       "    <tr>\n",
       "      <th>1</th>\n",
       "      <td>roku</td>\n",
       "      <td>O</td>\n",
       "    </tr>\n",
       "    <tr>\n",
       "      <th>2</th>\n",
       "      <td>temu</td>\n",
       "      <td>O</td>\n",
       "    </tr>\n",
       "    <tr>\n",
       "      <th>3</th>\n",
       "      <td>MON</td>\n",
       "      <td>orgName</td>\n",
       "    </tr>\n",
       "    <tr>\n",
       "      <th>4</th>\n",
       "      <td>poinformowało</td>\n",
       "      <td>O</td>\n",
       "    </tr>\n",
       "    <tr>\n",
       "      <th>5</th>\n",
       "      <td>że</td>\n",
       "      <td>O</td>\n",
       "    </tr>\n",
       "    <tr>\n",
       "      <th>6</th>\n",
       "      <td>organizuje</td>\n",
       "      <td>O</td>\n",
       "    </tr>\n",
       "    <tr>\n",
       "      <th>7</th>\n",
       "      <td>casting</td>\n",
       "      <td>O</td>\n",
       "    </tr>\n",
       "    <tr>\n",
       "      <th>8</th>\n",
       "      <td>na</td>\n",
       "      <td>O</td>\n",
       "    </tr>\n",
       "    <tr>\n",
       "      <th>9</th>\n",
       "      <td>cywilnych</td>\n",
       "      <td>O</td>\n",
       "    </tr>\n",
       "    <tr>\n",
       "      <th>10</th>\n",
       "      <td>doradców</td>\n",
       "      <td>O</td>\n",
       "    </tr>\n",
       "    <tr>\n",
       "      <th>11</th>\n",
       "      <td>w</td>\n",
       "      <td>O</td>\n",
       "    </tr>\n",
       "    <tr>\n",
       "      <th>12</th>\n",
       "      <td>Iraku</td>\n",
       "      <td>country</td>\n",
       "    </tr>\n",
       "    <tr>\n",
       "      <th>13</th>\n",
       "      <td>bo</td>\n",
       "      <td>O</td>\n",
       "    </tr>\n",
       "    <tr>\n",
       "      <th>14</th>\n",
       "      <td>na</td>\n",
       "      <td>O</td>\n",
       "    </tr>\n",
       "    <tr>\n",
       "      <th>15</th>\n",
       "      <td>gwałt</td>\n",
       "      <td>O</td>\n",
       "    </tr>\n",
       "    <tr>\n",
       "      <th>16</th>\n",
       "      <td>potrzebujemy</td>\n",
       "      <td>O</td>\n",
       "    </tr>\n",
       "    <tr>\n",
       "      <th>17</th>\n",
       "      <td>tam</td>\n",
       "      <td>O</td>\n",
       "    </tr>\n",
       "    <tr>\n",
       "      <th>18</th>\n",
       "      <td>6</td>\n",
       "      <td>O</td>\n",
       "    </tr>\n",
       "    <tr>\n",
       "      <th>19</th>\n",
       "      <td>ekspertów</td>\n",
       "      <td>O</td>\n",
       "    </tr>\n",
       "    <tr>\n",
       "      <th>20</th>\n",
       "      <td>za</td>\n",
       "      <td>O</td>\n",
       "    </tr>\n",
       "    <tr>\n",
       "      <th>21</th>\n",
       "      <td>2100</td>\n",
       "      <td>O</td>\n",
       "    </tr>\n",
       "    <tr>\n",
       "      <th>22</th>\n",
       "      <td>dolarów</td>\n",
       "      <td>O</td>\n",
       "    </tr>\n",
       "    <tr>\n",
       "      <th>23</th>\n",
       "      <td>miesięcznie</td>\n",
       "      <td>O</td>\n",
       "    </tr>\n",
       "    <tr>\n",
       "      <th>24</th>\n",
       "      <td>plus</td>\n",
       "      <td>O</td>\n",
       "    </tr>\n",
       "    <tr>\n",
       "      <th>25</th>\n",
       "      <td>800</td>\n",
       "      <td>O</td>\n",
       "    </tr>\n",
       "    <tr>\n",
       "      <th>26</th>\n",
       "      <td>zł</td>\n",
       "      <td>O</td>\n",
       "    </tr>\n",
       "    <tr>\n",
       "      <th>27</th>\n",
       "      <td>wpłacanych</td>\n",
       "      <td>O</td>\n",
       "    </tr>\n",
       "    <tr>\n",
       "      <th>28</th>\n",
       "      <td>na</td>\n",
       "      <td>O</td>\n",
       "    </tr>\n",
       "    <tr>\n",
       "      <th>29</th>\n",
       "      <td>polskie</td>\n",
       "      <td>country</td>\n",
       "    </tr>\n",
       "    <tr>\n",
       "      <th>30</th>\n",
       "      <td>konta</td>\n",
       "      <td>O</td>\n",
       "    </tr>\n",
       "    <tr>\n",
       "      <th>31</th>\n",
       "      <td>.</td>\n",
       "      <td>O</td>\n",
       "    </tr>\n",
       "  </tbody>\n",
       "</table>\n",
       "</div>\n",
       "      <button class=\"colab-df-convert\" onclick=\"convertToInteractive('df-9dcb6ac9-37b5-454a-b06d-24ed0d1232d7')\"\n",
       "              title=\"Convert this dataframe to an interactive table.\"\n",
       "              style=\"display:none;\">\n",
       "        \n",
       "  <svg xmlns=\"http://www.w3.org/2000/svg\" height=\"24px\"viewBox=\"0 0 24 24\"\n",
       "       width=\"24px\">\n",
       "    <path d=\"M0 0h24v24H0V0z\" fill=\"none\"/>\n",
       "    <path d=\"M18.56 5.44l.94 2.06.94-2.06 2.06-.94-2.06-.94-.94-2.06-.94 2.06-2.06.94zm-11 1L8.5 8.5l.94-2.06 2.06-.94-2.06-.94L8.5 2.5l-.94 2.06-2.06.94zm10 10l.94 2.06.94-2.06 2.06-.94-2.06-.94-.94-2.06-.94 2.06-2.06.94z\"/><path d=\"M17.41 7.96l-1.37-1.37c-.4-.4-.92-.59-1.43-.59-.52 0-1.04.2-1.43.59L10.3 9.45l-7.72 7.72c-.78.78-.78 2.05 0 2.83L4 21.41c.39.39.9.59 1.41.59.51 0 1.02-.2 1.41-.59l7.78-7.78 2.81-2.81c.8-.78.8-2.07 0-2.86zM5.41 20L4 18.59l7.72-7.72 1.47 1.35L5.41 20z\"/>\n",
       "  </svg>\n",
       "      </button>\n",
       "      \n",
       "  <style>\n",
       "    .colab-df-container {\n",
       "      display:flex;\n",
       "      flex-wrap:wrap;\n",
       "      gap: 12px;\n",
       "    }\n",
       "\n",
       "    .colab-df-convert {\n",
       "      background-color: #E8F0FE;\n",
       "      border: none;\n",
       "      border-radius: 50%;\n",
       "      cursor: pointer;\n",
       "      display: none;\n",
       "      fill: #1967D2;\n",
       "      height: 32px;\n",
       "      padding: 0 0 0 0;\n",
       "      width: 32px;\n",
       "    }\n",
       "\n",
       "    .colab-df-convert:hover {\n",
       "      background-color: #E2EBFA;\n",
       "      box-shadow: 0px 1px 2px rgba(60, 64, 67, 0.3), 0px 1px 3px 1px rgba(60, 64, 67, 0.15);\n",
       "      fill: #174EA6;\n",
       "    }\n",
       "\n",
       "    [theme=dark] .colab-df-convert {\n",
       "      background-color: #3B4455;\n",
       "      fill: #D2E3FC;\n",
       "    }\n",
       "\n",
       "    [theme=dark] .colab-df-convert:hover {\n",
       "      background-color: #434B5C;\n",
       "      box-shadow: 0px 1px 3px 1px rgba(0, 0, 0, 0.15);\n",
       "      filter: drop-shadow(0px 1px 2px rgba(0, 0, 0, 0.3));\n",
       "      fill: #FFFFFF;\n",
       "    }\n",
       "  </style>\n",
       "\n",
       "      <script>\n",
       "        const buttonEl =\n",
       "          document.querySelector('#df-9dcb6ac9-37b5-454a-b06d-24ed0d1232d7 button.colab-df-convert');\n",
       "        buttonEl.style.display =\n",
       "          google.colab.kernel.accessAllowed ? 'block' : 'none';\n",
       "\n",
       "        async function convertToInteractive(key) {\n",
       "          const element = document.querySelector('#df-9dcb6ac9-37b5-454a-b06d-24ed0d1232d7');\n",
       "          const dataTable =\n",
       "            await google.colab.kernel.invokeFunction('convertToInteractive',\n",
       "                                                     [key], {});\n",
       "          if (!dataTable) return;\n",
       "\n",
       "          const docLinkHtml = 'Like what you see? Visit the ' +\n",
       "            '<a target=\"_blank\" href=https://colab.research.google.com/notebooks/data_table.ipynb>data table notebook</a>'\n",
       "            + ' to learn more about interactive tables.';\n",
       "          element.innerHTML = '';\n",
       "          dataTable['output_type'] = 'display_data';\n",
       "          await google.colab.output.renderOutput(dataTable, element);\n",
       "          const docLink = document.createElement('div');\n",
       "          docLink.innerHTML = docLinkHtml;\n",
       "          element.appendChild(docLink);\n",
       "        }\n",
       "      </script>\n",
       "    </div>\n",
       "  </div>\n",
       "  "
      ],
      "text/plain": [
       "                0        0\n",
       "0             Pół        O\n",
       "1            roku        O\n",
       "2            temu        O\n",
       "3             MON  orgName\n",
       "4   poinformowało        O\n",
       "5              że        O\n",
       "6      organizuje        O\n",
       "7         casting        O\n",
       "8              na        O\n",
       "9       cywilnych        O\n",
       "10       doradców        O\n",
       "11              w        O\n",
       "12          Iraku  country\n",
       "13             bo        O\n",
       "14             na        O\n",
       "15          gwałt        O\n",
       "16   potrzebujemy        O\n",
       "17            tam        O\n",
       "18              6        O\n",
       "19      ekspertów        O\n",
       "20             za        O\n",
       "21           2100        O\n",
       "22        dolarów        O\n",
       "23    miesięcznie        O\n",
       "24           plus        O\n",
       "25            800        O\n",
       "26             zł        O\n",
       "27     wpłacanych        O\n",
       "28             na        O\n",
       "29        polskie  country\n",
       "30          konta        O\n",
       "31              .        O"
      ]
     },
     "execution_count": 45,
     "metadata": {},
     "output_type": "execute_result"
    }
   ],
   "source": [
    "pd.concat([pd.DataFrame(sentences[60457]),pd.DataFrame(labels[60457])],axis=1)"
   ]
  },
  {
   "cell_type": "code",
   "execution_count": 46,
   "id": "a875aed0",
   "metadata": {
    "id": "a875aed0"
   },
   "outputs": [],
   "source": [
    "\n",
    "tag_values = list(set(data0[\"tag\"].values))\n",
    "tag_values.append(\"PAD\")\n",
    "tag2idx = {t: i for i, t in enumerate(tag_values)}"
   ]
  },
  {
   "cell_type": "code",
   "execution_count": 47,
   "id": "3YR9u39nD-gR",
   "metadata": {
    "colab": {
     "base_uri": "https://localhost:8080/"
    },
    "id": "3YR9u39nD-gR",
    "outputId": "08a0684f-fd19-4d74-c24f-bebe4d60ae62"
   },
   "outputs": [
    {
     "data": {
      "text/plain": [
       "44176    347\n",
       "55627    340\n",
       "54713    253\n",
       "44367    249\n",
       "44548    249\n",
       "        ... \n",
       "61801      1\n",
       "50917      1\n",
       "50915      1\n",
       "61804      1\n",
       "69691      1\n",
       "Name: Sent_ID, Length: 69691, dtype: int64"
      ]
     },
     "execution_count": 47,
     "metadata": {},
     "output_type": "execute_result"
    }
   ],
   "source": [
    "data0['Sent_ID'].value_counts()\n"
   ]
  },
  {
   "cell_type": "code",
   "execution_count": 48,
   "id": "52760e26",
   "metadata": {
    "id": "52760e26"
   },
   "outputs": [],
   "source": [
    "MAX_LEN = max(data0['Sent_ID'].value_counts())\n",
    "\n",
    "bs = 16"
   ]
  },
  {
   "cell_type": "code",
   "execution_count": 49,
   "id": "199ed1c5",
   "metadata": {
    "id": "199ed1c5"
   },
   "outputs": [],
   "source": [
    "device = torch.device(\"cuda\" if torch.cuda.is_available() else \"cpu\")\n",
    "n_gpu = torch.cuda.device_count()"
   ]
  },
  {
   "cell_type": "code",
   "execution_count": 50,
   "id": "e4a8202d",
   "metadata": {
    "colab": {
     "base_uri": "https://localhost:8080/",
     "height": 36
    },
    "id": "e4a8202d",
    "outputId": "29df3ace-a0bb-4964-dd5f-fdd061a92469"
   },
   "outputs": [
    {
     "data": {
      "application/vnd.google.colaboratory.intrinsic+json": {
       "type": "string"
      },
      "text/plain": [
       "'Tesla T4'"
      ]
     },
     "execution_count": 50,
     "metadata": {},
     "output_type": "execute_result"
    }
   ],
   "source": [
    "torch.cuda.get_device_name(0)\n"
   ]
  },
  {
   "cell_type": "code",
   "execution_count": 51,
   "id": "H6W0vp3cEV3m",
   "metadata": {
    "id": "H6W0vp3cEV3m"
   },
   "outputs": [],
   "source": [
    "def tokenize_and_preserve_labels(sentence, text_labels,tokenizer):\n",
    "    tokenized_sentence = []\n",
    "    labels = []\n",
    "    o = zip(sentence, text_labels)\n",
    "  \n",
    "    for word, label in o:\n",
    "\n",
    "        # Tokenize the word and count # of subwords the word is broken into\n",
    "        tokenized_word = tokenizer.tokenize(word)\n",
    "        n_subwords = len(tokenized_word)\n",
    "\n",
    "        # Add the tokenized word to the final tokenized word list\n",
    "        tokenized_sentence.extend(tokenized_word)\n",
    "\n",
    "        # Add the same label to the new list of labels `n_subwords` times\n",
    "        labels.extend([label] * n_subwords)\n",
    "\n",
    "    return tokenized_sentence, labels"
   ]
  },
  {
   "cell_type": "code",
   "execution_count": 52,
   "id": "DKBpbyZSXLeW",
   "metadata": {
    "id": "DKBpbyZSXLeW"
   },
   "outputs": [],
   "source": [
    "def prepare_data(tokenizer):\n",
    "  global input_ids, tags, labels\n",
    "  tokenized_texts_and_labels = [\n",
    "      tokenize_and_preserve_labels(sent, labs,tokenizer)\n",
    "      for sent, labs in zip(sentences, labels)\n",
    "  ]\n",
    "  tokenized_texts = [token_label_pair[0] for token_label_pair in tokenized_texts_and_labels]\n",
    "  labels = [token_label_pair[1] for token_label_pair in tokenized_texts_and_labels]\n",
    "  input_ids = pad_sequences([tokenizer.convert_tokens_to_ids(txt) for txt in tokenized_texts],\n",
    "                            maxlen=MAX_LEN, dtype=\"long\", value=0.0,\n",
    "                            truncating=\"post\", padding=\"post\")\n",
    "  tags = pad_sequences([[tag2idx.get(l) for l in lab] for lab in labels],\n",
    "                      maxlen=MAX_LEN, value=tag2idx[\"PAD\"], padding=\"post\",\n",
    "                      dtype=\"long\", truncating=\"post\")\n",
    "  "
   ]
  },
  {
   "cell_type": "code",
   "execution_count": 53,
   "id": "hn97flp7X_fB",
   "metadata": {
    "id": "hn97flp7X_fB"
   },
   "outputs": [],
   "source": [
    "def data_split(input_ids,tags):\n",
    "  global train_dataloader,valid_dataloader,test_dataloader,test_inputs,test_tags\n",
    "  attention_masks = [[float(i != 0.0) for i in ii] for ii in input_ids]\n",
    "  tr_inputs, test_inputs, tr_tags, test_tags = train_test_split(input_ids, tags,\n",
    "                                                              random_state=2018, test_size=0.2)\n",
    "  tr_masks, test_masks, _, _ = train_test_split(attention_masks, input_ids,\n",
    "                                              random_state=2018, test_size=0.2)\n",
    "\n",
    "  attention_masks = [[float(i != 0.0) for i in ii] for ii in tr_inputs]\n",
    "\n",
    "  tr_inputs_2, val_inputs, tr_tags, val_tags = train_test_split(tr_inputs, tr_tags,\n",
    "                                                              random_state=2018, test_size=0.375)\n",
    "  tr_masks, val_masks, _, _ = train_test_split(attention_masks, tr_inputs,\n",
    "                                              random_state=2018, test_size=0.375)\n",
    "\n",
    "  tr_inputs = tr_inputs_2\n",
    "\n",
    "  tr_inputs = torch.tensor(tr_inputs)\n",
    "  val_inputs = torch.tensor(val_inputs)\n",
    "  tr_tags = torch.tensor(tr_tags)\n",
    "  val_tags = torch.tensor(val_tags)\n",
    "  tr_masks = torch.tensor(tr_masks)\n",
    "  val_masks = torch.tensor(val_masks)\n",
    "\n",
    "  test_inputs = torch.tensor(test_inputs)\n",
    "  test_tags = torch.tensor(test_tags)\n",
    "  test_masks = torch.tensor(test_masks)\n",
    "  train_data = TensorDataset(tr_inputs, tr_masks, tr_tags)\n",
    "  train_sampler = RandomSampler(train_data)\n",
    "  train_dataloader = DataLoader(train_data, sampler=train_sampler, batch_size=bs)\n",
    "\n",
    "  valid_data = TensorDataset(val_inputs, val_masks, val_tags)\n",
    "  valid_sampler = SequentialSampler(valid_data)\n",
    "  valid_dataloader = DataLoader(valid_data, sampler=valid_sampler, batch_size=bs)\n",
    "\n",
    "  test_data = TensorDataset(test_inputs, test_masks, test_tags)\n",
    "  test_sampler = SequentialSampler(test_data)\n",
    "  test_dataloader = DataLoader(test_data, sampler=test_sampler, batch_size=bs)\n"
   ]
  },
  {
   "cell_type": "code",
   "execution_count": 54,
   "id": "TT3i8DtAanrk",
   "metadata": {
    "id": "TT3i8DtAanrk"
   },
   "outputs": [],
   "source": [
    "def fine_tunning(model,epochs,max_grad_norm):\n",
    "  global optimizer, total_steps, scheduler\n",
    "  FULL_FINETUNING = True\n",
    "  \n",
    "  if FULL_FINETUNING:\n",
    "      param_optimizer = list(model.named_parameters())\n",
    "      no_decay = ['bias', 'gamma', 'beta']\n",
    "      optimizer_grouped_parameters = [\n",
    "          {'params': [p for n, p in param_optimizer if not any(nd in n for nd in no_decay)],\n",
    "          'weight_decay_rate': 0.01},\n",
    "          {'params': [p for n, p in param_optimizer if any(nd in n for nd in no_decay)],\n",
    "          'weight_decay_rate': 0.0}\n",
    "      ]\n",
    "  else:\n",
    "      param_optimizer = list(model.classifier.named_parameters())\n",
    "      optimizer_grouped_parameters = [{\"params\": [p for n, p in param_optimizer]}]\n",
    "\n",
    "  optimizer = AdamW(\n",
    "      optimizer_grouped_parameters,\n",
    "      lr=3e-5,\n",
    "      eps=1e-8\n",
    "  )\n",
    "\n",
    "\n",
    "\n",
    "  # Total number of training steps is number of batches * number of epochs.\n",
    "  total_steps = len(train_dataloader) * epochs\n",
    "\n",
    "  # Create the learning rate scheduler.\n",
    "  scheduler = get_linear_schedule_with_warmup(\n",
    "      optimizer,\n",
    "      num_warmup_steps=0,\n",
    "      num_training_steps=total_steps\n",
    "  )"
   ]
  },
  {
   "cell_type": "code",
   "execution_count": 55,
   "id": "OEhGS5GGandu",
   "metadata": {
    "id": "OEhGS5GGandu"
   },
   "outputs": [],
   "source": [
    "\n",
    "\n",
    "def flat_accuracy(preds, labels):\n",
    "    pred_flat = np.argmax(preds, axis=2).flatten()\n",
    "    labels_flat = labels.flatten()\n",
    "    return np.sum(pred_flat == labels_flat) / len(labels_flat)"
   ]
  },
  {
   "cell_type": "code",
   "execution_count": 56,
   "id": "MVDg9DI8bJEM",
   "metadata": {
    "id": "MVDg9DI8bJEM"
   },
   "outputs": [],
   "source": [
    "## Store the average loss after each epoch so we can plot them.\n",
    "\n",
    "def model_training(epochs,model,max_grad_norm,optimizer,scheduler):\n",
    "  global pred_tags,valid_tags,validation_loss_values,loss_values\n",
    "\n",
    "  loss_values, validation_loss_values = [], []\n",
    "  for _ in trange(epochs, desc=\"Epoch\"):\n",
    "      # ========================================\n",
    "      #               Training\n",
    "      # ========================================\n",
    "      # Perform one full pass over the training set.\n",
    "\n",
    "      # Put the model into training mode.\n",
    "      model.train()\n",
    "      # Reset the total loss for this epoch.\n",
    "      total_loss = 0\n",
    "\n",
    "      # Training loop\n",
    "      #train_dataloader = train_dataloader.cuda()\n",
    "      for step, batch in enumerate(train_dataloader):\n",
    "          # add batch to gpu\n",
    "          batch = tuple(t.cuda() for t in batch)\n",
    "          #batch = batch.cuda()\n",
    "          b_input_ids, b_input_mask, b_labels = batch\n",
    "          # Always clear any previously calculated gradients before performing a backward pass.\n",
    "          model.zero_grad()\n",
    "          model = model.cuda()\n",
    "          # forward pass\n",
    "          # This will return the loss (rather than the model output)\n",
    "          # because we have provided the `labels`.\n",
    "          #b_input_ids = b_input_ids.cuda()\n",
    "          outputs = model(b_input_ids, token_type_ids=None,\n",
    "                          attention_mask=b_input_mask, labels=b_labels)\n",
    "          # get the loss\n",
    "          loss = outputs[0]\n",
    "          # Perform a backward pass to calculate the gradients.\n",
    "          loss.backward()\n",
    "          # track train loss\n",
    "          total_loss += loss.item()\n",
    "          # Clip the norm of the gradient\n",
    "          # This is to help prevent the \"exploding gradients\" problem.\n",
    "          torch.nn.utils.clip_grad_norm_(parameters=model.parameters(), max_norm=max_grad_norm)\n",
    "          # update parameters\n",
    "          optimizer.step()\n",
    "          # Update the learning rate.\n",
    "          scheduler.step()\n",
    "\n",
    "      # Calculate the average loss over the training data.\n",
    "      avg_train_loss = total_loss / len(train_dataloader)\n",
    "      print(\"Average train loss: {}\".format(avg_train_loss))\n",
    "\n",
    "      # Store the loss value for plotting the learning curve.\n",
    "      loss_values.append(avg_train_loss)\n",
    "\n",
    "\n",
    "      # ========================================\n",
    "      #               Validation\n",
    "      # ========================================\n",
    "      # After the completion of each training epoch, measure our performance on\n",
    "      # our validation set.\n",
    "\n",
    "      # Put the model into evaluation mode\n",
    "      model.half()\n",
    "      model.eval()\n",
    "      \n",
    "      #trained_model = model()\n",
    "      # Reset the validation loss for this epoch.\n",
    "      eval_loss, eval_accuracy = 0, 0\n",
    "      nb_eval_steps, nb_eval_examples = 0, 0\n",
    "      predictions , true_labels = [], []\n",
    "      #valid_dataloader = valid_dataloader.cuda()\n",
    "      for batch in valid_dataloader:\n",
    "          batch = tuple(t.cuda() for t in batch)\n",
    "          #batch = batch.cuda()\n",
    "          b_input_ids, b_input_mask, b_labels = batch\n",
    "\n",
    "          # Telling the model not to compute or store gradients,\n",
    "          # saving memory and speeding up validation\n",
    "          with torch.no_grad():\n",
    "              # Forward pass, calculate logit predictions.\n",
    "              # This will return the logits rather than the loss because we have not provided labels.\n",
    "              outputs = model(b_input_ids, token_type_ids=None,\n",
    "                              attention_mask=b_input_mask, labels=b_labels)\n",
    "          # Move logits and labels to CPU\n",
    "          logits = outputs[1].detach().cpu().numpy()\n",
    "          label_ids = b_labels.to('cpu').numpy()\n",
    "\n",
    "          # Calculate the accuracy for this batch of test sentences.\n",
    "          eval_loss += outputs[0].mean().item()\n",
    "          eval_accuracy += flat_accuracy(logits, label_ids)\n",
    "          predictions.extend([list(p) for p in np.argmax(logits, axis=2)])\n",
    "          #predictions = predictions.cuta()\n",
    "          true_labels.extend(label_ids)\n",
    "\n",
    "          nb_eval_examples += b_input_ids.size(0)\n",
    "          nb_eval_steps += 1\n",
    "\n",
    "      eval_loss = eval_loss / nb_eval_steps\n",
    "      validation_loss_values.append(eval_loss)\n",
    "      print(\"Validation loss: {}\".format(eval_loss))\n",
    "      print(\"Validation Accuracy: {}\".format(eval_accuracy/nb_eval_steps))\n",
    "      pred_tags = [[tag_values[p_i] for p, l in zip(predictions, true_labels)\n",
    "                                  for p_i, l_i in zip(p, l) if tag_values[l_i] != \"PAD\"]]\n",
    "      valid_tags = [[tag_values[l_i] for l in true_labels\n",
    "                                    for l_i in l if tag_values[l_i] != \"PAD\"]]\n",
    "\n",
    "\n",
    "\n",
    "\n",
    "\n",
    "\n",
    "\n",
    "\n",
    "      print(\"Validation F1-Score: {}\".format(f1_score(pred_tags, valid_tags)))\n",
    "      print()"
   ]
  },
  {
   "cell_type": "code",
   "execution_count": null,
   "id": "0RdmlEGiy666",
   "metadata": {
    "colab": {
     "base_uri": "https://localhost:8080/"
    },
    "id": "0RdmlEGiy666",
    "outputId": "3ccebae8-b830-41de-8c26-1fd90c5181b6"
   },
   "outputs": [
    {
     "name": "stdout",
     "output_type": "stream",
     "text": [
      "Package                       Version\n",
      "----------------------------- ----------------------\n",
      "absl-py                       1.3.0\n",
      "aeppl                         0.0.33\n",
      "aesara                        2.7.9\n",
      "aiohttp                       3.8.3\n",
      "aiosignal                     1.3.1\n",
      "alabaster                     0.7.12\n",
      "albumentations                1.2.1\n",
      "altair                        4.2.0\n",
      "appdirs                       1.4.4\n",
      "arviz                         0.12.1\n",
      "astor                         0.8.1\n",
      "astropy                       4.3.1\n",
      "astunparse                    1.6.3\n",
      "async-timeout                 4.0.2\n",
      "atari-py                      0.2.9\n",
      "atomicwrites                  1.4.1\n",
      "attrs                         22.2.0\n",
      "audioread                     3.0.0\n",
      "autograd                      1.5\n",
      "Babel                         2.11.0\n",
      "backcall                      0.2.0\n",
      "beautifulsoup4                4.6.3\n",
      "bleach                        5.0.1\n",
      "blis                          0.7.9\n",
      "bokeh                         2.3.3\n",
      "branca                        0.6.0\n",
      "bs4                           0.0.1\n",
      "CacheControl                  0.12.11\n",
      "cachetools                    5.2.1\n",
      "catalogue                     2.0.8\n",
      "certifi                       2022.12.7\n",
      "cffi                          1.15.1\n",
      "cftime                        1.6.2\n",
      "chardet                       4.0.0\n",
      "charset-normalizer            2.1.1\n",
      "click                         7.1.2\n",
      "clikit                        0.6.2\n",
      "cloudpickle                   2.2.0\n",
      "cmake                         3.22.6\n",
      "cmdstanpy                     1.0.8\n",
      "colorcet                      3.0.1\n",
      "colorlover                    0.3.0\n",
      "community                     1.0.0b1\n",
      "confection                    0.0.3\n",
      "cons                          0.4.5\n",
      "contextlib2                   0.5.5\n",
      "convertdate                   2.4.0\n",
      "crashtest                     0.3.1\n",
      "crcmod                        1.7\n",
      "cufflinks                     0.17.3\n",
      "cupy-cuda11x                  11.0.0\n",
      "cvxopt                        1.3.0\n",
      "cvxpy                         1.2.3\n",
      "cycler                        0.11.0\n",
      "cymem                         2.0.7\n",
      "Cython                        0.29.33\n",
      "daft                          0.0.4\n",
      "dask                          2022.2.1\n",
      "datascience                   0.17.5\n",
      "db-dtypes                     1.0.5\n",
      "dbus-python                   1.2.16\n",
      "debugpy                       1.0.0\n",
      "decorator                     4.4.2\n",
      "defusedxml                    0.7.1\n",
      "descartes                     1.1.0\n",
      "dill                          0.3.6\n",
      "distributed                   2022.2.1\n",
      "dlib                          19.24.0\n",
      "dm-tree                       0.1.8\n",
      "dnspython                     2.2.1\n",
      "docutils                      0.16\n",
      "dopamine-rl                   1.0.5\n",
      "earthengine-api               0.1.335\n",
      "easydict                      1.10\n",
      "ecos                          2.0.12\n",
      "editdistance                  0.5.3\n",
      "en-core-web-sm                3.4.1\n",
      "entrypoints                   0.4\n",
      "ephem                         4.1.4\n",
      "et-xmlfile                    1.1.0\n",
      "etils                         1.0.0\n",
      "etuples                       0.3.8\n",
      "fa2                           0.3.5\n",
      "fastai                        2.7.10\n",
      "fastcore                      1.5.27\n",
      "fastdownload                  0.0.7\n",
      "fastdtw                       0.3.4\n",
      "fastjsonschema                2.16.2\n",
      "fastprogress                  1.0.3\n",
      "fastrlock                     0.8.1\n",
      "feather-format                0.4.1\n",
      "filelock                      3.9.0\n",
      "firebase-admin                5.3.0\n",
      "fix-yahoo-finance             0.0.22\n",
      "Flask                         1.1.4\n",
      "flatbuffers                   1.12\n",
      "folium                        0.12.1.post1\n",
      "frozenlist                    1.3.3\n",
      "fsspec                        2022.11.0\n",
      "future                        0.16.0\n",
      "gast                          0.4.0\n",
      "GDAL                          3.0.4\n",
      "gdown                         4.4.0\n",
      "gensim                        3.6.0\n",
      "geographiclib                 1.52\n",
      "geopy                         1.17.0\n",
      "gin-config                    0.5.0\n",
      "glob2                         0.7\n",
      "google                        2.0.3\n",
      "google-api-core               2.11.0\n",
      "google-api-python-client      2.70.0\n",
      "google-auth                   2.16.0\n",
      "google-auth-httplib2          0.1.0\n",
      "google-auth-oauthlib          0.4.6\n",
      "google-cloud-bigquery         3.4.1\n",
      "google-cloud-bigquery-storage 2.17.0\n",
      "google-cloud-core             2.3.2\n",
      "google-cloud-datastore        2.11.1\n",
      "google-cloud-firestore        2.7.3\n",
      "google-cloud-language         2.6.1\n",
      "google-cloud-storage          2.7.0\n",
      "google-cloud-translate        3.8.4\n",
      "google-colab                  1.0.0\n",
      "google-crc32c                 1.5.0\n",
      "google-pasta                  0.2.0\n",
      "google-resumable-media        2.4.0\n",
      "googleapis-common-protos      1.58.0\n",
      "googledrivedownloader         0.4\n",
      "graphviz                      0.10.1\n",
      "greenlet                      2.0.1\n",
      "grpcio                        1.51.1\n",
      "grpcio-status                 1.48.2\n",
      "gspread                       3.4.2\n",
      "gspread-dataframe             3.0.8\n",
      "gym                           0.25.2\n",
      "gym-notices                   0.0.8\n",
      "h5py                          3.1.0\n",
      "HeapDict                      1.0.1\n",
      "hijri-converter               2.2.4\n",
      "holidays                      0.18\n",
      "holoviews                     1.14.9\n",
      "html5lib                      1.0.1\n",
      "httpimport                    0.5.18\n",
      "httplib2                      0.17.4\n",
      "httpstan                      4.6.1\n",
      "humanize                      0.5.1\n",
      "hyperopt                      0.1.2\n",
      "idna                          2.10\n",
      "imageio                       2.9.0\n",
      "imagesize                     1.4.1\n",
      "imbalanced-learn              0.8.1\n",
      "imblearn                      0.0\n",
      "imgaug                        0.4.0\n",
      "importlib-metadata            6.0.0\n",
      "importlib-resources           5.10.2\n",
      "imutils                       0.5.4\n",
      "inflect                       2.1.0\n",
      "intel-openmp                  2023.0.0\n",
      "intervaltree                  2.1.0\n",
      "ipykernel                     5.3.4\n",
      "ipython                       7.9.0\n",
      "ipython-genutils              0.2.0\n",
      "ipython-sql                   0.3.9\n",
      "ipywidgets                    7.7.1\n",
      "itsdangerous                  1.1.0\n",
      "jax                           0.3.25\n",
      "jaxlib                        0.3.25+cuda11.cudnn805\n",
      "jieba                         0.42.1\n",
      "Jinja2                        2.11.3\n",
      "joblib                        1.2.0\n",
      "jpeg4py                       0.1.4\n",
      "jsonschema                    4.3.3\n",
      "jupyter-client                6.1.12\n",
      "jupyter-console               6.1.0\n",
      "jupyter_core                  5.1.3\n",
      "jupyterlab-widgets            3.0.5\n",
      "kaggle                        1.5.12\n",
      "kapre                         0.3.7\n",
      "keras                         2.9.0\n",
      "Keras-Preprocessing           1.1.2\n",
      "keras-vis                     0.4.1\n",
      "kiwisolver                    1.4.4\n",
      "korean-lunar-calendar         0.3.1\n",
      "langcodes                     3.3.0\n",
      "libclang                      15.0.6.1\n",
      "librosa                       0.8.1\n",
      "lightgbm                      2.2.3\n",
      "llvmlite                      0.39.1\n",
      "lmdb                          0.99\n",
      "locket                        1.0.0\n",
      "logical-unification           0.4.5\n",
      "LunarCalendar                 0.0.9\n",
      "lxml                          4.9.2\n",
      "Markdown                      3.4.1\n",
      "MarkupSafe                    2.0.1\n",
      "marshmallow                   3.19.0\n",
      "matplotlib                    3.2.2\n",
      "matplotlib-venn               0.11.7\n",
      "miniKanren                    1.0.3\n",
      "missingno                     0.5.1\n",
      "mistune                       0.8.4\n",
      "mizani                        0.7.3\n",
      "mkl                           2019.0\n",
      "mlxtend                       0.14.0\n",
      "more-itertools                9.0.0\n",
      "moviepy                       0.2.3.5\n",
      "mpmath                        1.2.1\n",
      "msgpack                       1.0.4\n",
      "multidict                     6.0.4\n",
      "multipledispatch              0.6.0\n",
      "multitasking                  0.0.11\n",
      "murmurhash                    1.0.9\n",
      "music21                       5.5.0\n",
      "natsort                       5.5.0\n",
      "nbconvert                     5.6.1\n",
      "nbformat                      5.7.1\n",
      "netCDF4                       1.6.2\n",
      "networkx                      3.0\n",
      "nibabel                       3.0.2\n",
      "nltk                          3.7\n",
      "notebook                      5.7.16\n",
      "numba                         0.56.4\n",
      "numexpr                       2.8.4\n",
      "numpy                         1.21.6\n",
      "oauth2client                  4.1.3\n",
      "oauthlib                      3.2.2\n",
      "okgrade                       0.4.3\n",
      "opencv-contrib-python         4.6.0.66\n",
      "opencv-python                 4.6.0.66\n",
      "opencv-python-headless        4.7.0.68\n",
      "openpyxl                      3.0.10\n",
      "opt-einsum                    3.3.0\n",
      "osqp                          0.6.2.post0\n",
      "packaging                     21.3\n",
      "palettable                    3.3.0\n",
      "pandas                        1.3.5\n",
      "pandas-datareader             0.9.0\n",
      "pandas-gbq                    0.17.9\n",
      "pandas-profiling              1.4.1\n",
      "pandocfilters                 1.5.0\n",
      "panel                         0.12.1\n",
      "param                         1.12.3\n",
      "parso                         0.8.3\n",
      "partd                         1.3.0\n",
      "pastel                        0.2.1\n",
      "pathlib                       1.0.1\n",
      "pathy                         0.10.1\n",
      "patsy                         0.5.3\n",
      "pep517                        0.13.0\n",
      "pexpect                       4.8.0\n",
      "pickleshare                   0.7.5\n",
      "Pillow                        7.1.2\n",
      "pip                           22.0.4\n",
      "pip-tools                     6.6.2\n",
      "platformdirs                  2.6.2\n",
      "plotly                        5.5.0\n",
      "plotnine                      0.8.0\n",
      "pluggy                        0.7.1\n",
      "pooch                         1.6.0\n",
      "portpicker                    1.3.9\n",
      "prefetch-generator            1.0.3\n",
      "preshed                       3.0.8\n",
      "prettytable                   3.6.0\n",
      "progressbar2                  3.38.0\n",
      "prometheus-client             0.15.0\n",
      "promise                       2.3\n",
      "prompt-toolkit                2.0.10\n",
      "prophet                       1.1.1\n",
      "proto-plus                    1.22.2\n",
      "protobuf                      3.19.6\n",
      "psutil                        5.4.8\n",
      "psycopg2                      2.9.5\n",
      "ptyprocess                    0.7.0\n",
      "py                            1.11.0\n",
      "pyarrow                       9.0.0\n",
      "pyasn1                        0.4.8\n",
      "pyasn1-modules                0.2.8\n",
      "pycocotools                   2.0.6\n",
      "pycparser                     2.21\n",
      "pyct                          0.4.8\n",
      "pydantic                      1.10.4\n",
      "pydata-google-auth            1.5.0\n",
      "pydot                         1.3.0\n",
      "pydot-ng                      2.0.0\n",
      "pydotplus                     2.0.2\n",
      "PyDrive                       1.3.1\n",
      "pyemd                         0.5.1\n",
      "pyerfa                        2.0.0.1\n",
      "Pygments                      2.6.1\n",
      "PyGObject                     3.36.0\n",
      "pylev                         1.4.0\n",
      "pymc                          4.1.4\n",
      "PyMeeus                       0.5.12\n",
      "pymongo                       4.3.3\n",
      "pymystem3                     0.2.0\n",
      "PyOpenGL                      3.1.6\n",
      "pyparsing                     3.0.9\n",
      "pyrsistent                    0.19.3\n",
      "pysimdjson                    3.2.0\n",
      "PySocks                       1.7.1\n",
      "pystan                        3.3.0\n",
      "pytest                        3.6.4\n",
      "python-apt                    2.0.1\n",
      "python-dateutil               2.8.2\n",
      "python-louvain                0.16\n",
      "python-slugify                7.0.0\n",
      "python-utils                  3.4.5\n",
      "pytz                          2022.7\n",
      "pyviz-comms                   2.2.1\n",
      "PyWavelets                    1.4.1\n",
      "PyYAML                        6.0\n",
      "pyzmq                         23.2.1\n",
      "qdldl                         0.1.5.post2\n",
      "qudida                        0.0.4\n",
      "regex                         2022.6.2\n",
      "requests                      2.25.1\n",
      "requests-oauthlib             1.3.1\n",
      "requests-unixsocket           0.2.0\n",
      "resampy                       0.4.2\n",
      "rpy2                          3.5.5\n",
      "rsa                           4.9\n",
      "scikit-image                  0.18.3\n",
      "scikit-learn                  1.0.2\n",
      "scipy                         1.7.3\n",
      "screen-resolution-extra       0.0.0\n",
      "scs                           3.2.2\n",
      "seaborn                       0.11.2\n",
      "Send2Trash                    1.8.0\n",
      "setuptools                    57.4.0\n",
      "setuptools-git                1.2\n",
      "shapely                       2.0.0\n",
      "six                           1.15.0\n",
      "sklearn-pandas                1.8.0\n",
      "smart-open                    6.3.0\n",
      "snowballstemmer               2.2.0\n",
      "sortedcontainers              2.4.0\n",
      "soundfile                     0.11.0\n",
      "spacy                         3.4.4\n",
      "spacy-legacy                  3.0.11\n",
      "spacy-loggers                 1.0.4\n",
      "Sphinx                        3.5.4\n",
      "sphinxcontrib.applehelp       1.0.3\n",
      "sphinxcontrib-devhelp         1.0.2\n",
      "sphinxcontrib-htmlhelp        2.0.0\n",
      "sphinxcontrib-jsmath          1.0.1\n",
      "sphinxcontrib-qthelp          1.0.3\n",
      "sphinxcontrib-serializinghtml 1.1.5\n",
      "SQLAlchemy                    1.4.46\n",
      "sqlparse                      0.4.3\n",
      "srsly                         2.4.5\n",
      "statsmodels                   0.12.2\n",
      "sympy                         1.7.1\n",
      "tables                        3.7.0\n",
      "tabulate                      0.8.10\n",
      "tblib                         1.7.0\n",
      "tenacity                      8.1.0\n",
      "tensorboard                   2.9.1\n",
      "tensorboard-data-server       0.6.1\n",
      "tensorboard-plugin-wit        1.8.1\n",
      "tensorflow                    2.9.2\n",
      "tensorflow-datasets           4.8.1\n",
      "tensorflow-estimator          2.9.0\n",
      "tensorflow-gcs-config         2.9.1\n",
      "tensorflow-hub                0.12.0\n",
      "tensorflow-io-gcs-filesystem  0.29.0\n",
      "tensorflow-metadata           1.12.0\n",
      "tensorflow-probability        0.17.0\n",
      "termcolor                     2.2.0\n",
      "terminado                     0.13.3\n",
      "testpath                      0.6.0\n",
      "text-unidecode                1.3\n",
      "textblob                      0.15.3\n",
      "thinc                         8.1.6\n",
      "threadpoolctl                 3.1.0\n",
      "tifffile                      2022.10.10\n",
      "toml                          0.10.2\n",
      "tomli                         2.0.1\n",
      "toolz                         0.12.0\n",
      "torch                         1.13.1+cu116\n",
      "torchaudio                    0.13.1+cu116\n",
      "torchsummary                  1.5.1\n",
      "torchtext                     0.14.1\n",
      "torchvision                   0.14.1+cu116\n",
      "tornado                       6.0.4\n",
      "tqdm                          4.64.1\n",
      "traitlets                     5.7.1\n",
      "tweepy                        3.10.0\n",
      "typeguard                     2.7.1\n",
      "typer                         0.7.0\n",
      "typing_extensions             4.4.0\n",
      "tzlocal                       1.5.1\n",
      "uritemplate                   4.1.1\n",
      "urllib3                       1.24.3\n",
      "vega-datasets                 0.9.0\n",
      "wasabi                        0.10.1\n",
      "wcwidth                       0.2.5\n",
      "webargs                       8.2.0\n",
      "webencodings                  0.5.1\n",
      "Werkzeug                      1.0.1\n",
      "wheel                         0.38.4\n",
      "widgetsnbextension            3.6.1\n",
      "wordcloud                     1.8.2.2\n",
      "wrapt                         1.14.1\n",
      "xarray                        2022.12.0\n",
      "xarray-einstats               0.4.0\n",
      "xgboost                       0.90\n",
      "xkit                          0.0.0\n",
      "xlrd                          1.2.0\n",
      "xlwt                          1.3.0\n",
      "yarl                          1.8.2\n",
      "yellowbrick                   1.5\n",
      "zict                          2.2.0\n",
      "zipp                          3.11.0\n"
     ]
    }
   ],
   "source": [
    "!pip list"
   ]
  },
  {
   "cell_type": "markdown",
   "id": "dva4HM1rdMcM",
   "metadata": {
    "id": "dva4HM1rdMcM"
   },
   "source": [
    "\n",
    "# bert-base-cased"
   ]
  },
  {
   "cell_type": "code",
   "execution_count": null,
   "id": "b-vOcTO3UsB9",
   "metadata": {
    "id": "b-vOcTO3UsB9"
   },
   "outputs": [],
   "source": [
    "#########"
   ]
  },
  {
   "cell_type": "code",
   "execution_count": 25,
   "id": "YyuHe7GUzWkv",
   "metadata": {
    "colab": {
     "base_uri": "https://localhost:8080/",
     "height": 113,
     "referenced_widgets": [
      "436fd71b7388425daf9dda1765970bec",
      "59439ec2cc344479bc6da76238a6de48",
      "eaffab2258e541ab8955998999ecb6b1",
      "d515c53c91c2426c9cbe06b4fc1804ac",
      "e431aa6ed0134ab8b2214f57fc2ffd22",
      "b223cd71253641d08c9057a13c955101",
      "77a6af8f7aa548aab724edac29b8cbb6",
      "f492f08fbea240128dd7823d064be33e",
      "8dd532f451fb458a88790db7a3da63b4",
      "6b2268cfed614e51b11c2c46a8c5b300",
      "0c4f2fdb28034224b2c3f0a9b8bff173",
      "7f5f1a17f66645a2a233e0da917ad2ca",
      "ee838d29ab6f4f50b481e8a7f54a2476",
      "aedc7068269649aba6c637aa46930785",
      "dfb8f2a969c64582abe504c64e5c771e",
      "17b6a0ff624445b99fef62e68e597478",
      "9382ceda188f4e67a77150b0d37d0c8c",
      "6df6b800c34d4afa82d4824b4bee40b7",
      "24105f36e1c54c0a83db4336c2b1eb44",
      "6ba2736bf3534daab8f9f01d116b04a3",
      "fc7567816fee464c9580697e60043400",
      "65cf70e8c38e4bfb85d88dc78426082d",
      "74dfabcde4e949f99b0603310319be63",
      "9d485765e829486999f4374f4372f4e3",
      "63285f93f168467fa690c88fd9f443a4",
      "51b715b1c9724634a4813b9e9b4c1d49",
      "080156c914b74300a9db073d2f7f06b7",
      "3f22ea2ef80e4a528cffc6d4cd9a9641",
      "4e2338ef971041b99c17ad875fd7da86",
      "dd909aa2b7ce44628e424e1d46aa59fe",
      "efdbdaf6cf2c40d9a54f0d4f27817a2b",
      "d700f8eee97342378f5b20181d1d6f08",
      "5fc21a744cd34ef69f5bfe1e255ff7ee"
     ]
    },
    "id": "YyuHe7GUzWkv",
    "outputId": "caee0bf0-f27f-48fd-8aa6-3c99a87fa793"
   },
   "outputs": [
    {
     "data": {
      "application/vnd.jupyter.widget-view+json": {
       "model_id": "436fd71b7388425daf9dda1765970bec",
       "version_major": 2,
       "version_minor": 0
      },
      "text/plain": [
       "Downloading (…)solve/main/vocab.txt:   0%|          | 0.00/213k [00:00<?, ?B/s]"
      ]
     },
     "metadata": {},
     "output_type": "display_data"
    },
    {
     "data": {
      "application/vnd.jupyter.widget-view+json": {
       "model_id": "7f5f1a17f66645a2a233e0da917ad2ca",
       "version_major": 2,
       "version_minor": 0
      },
      "text/plain": [
       "Downloading (…)okenizer_config.json:   0%|          | 0.00/29.0 [00:00<?, ?B/s]"
      ]
     },
     "metadata": {},
     "output_type": "display_data"
    },
    {
     "data": {
      "application/vnd.jupyter.widget-view+json": {
       "model_id": "74dfabcde4e949f99b0603310319be63",
       "version_major": 2,
       "version_minor": 0
      },
      "text/plain": [
       "Downloading (…)lve/main/config.json:   0%|          | 0.00/570 [00:00<?, ?B/s]"
      ]
     },
     "metadata": {},
     "output_type": "display_data"
    }
   ],
   "source": [
    "tokenizer_base = BertTokenizer.from_pretrained('bert-base-cased', do_lower_case=False) \n"
   ]
  },
  {
   "cell_type": "code",
   "execution_count": 26,
   "id": "_uoOG0QFc10J",
   "metadata": {
    "colab": {
     "base_uri": "https://localhost:8080/",
     "height": 156,
     "referenced_widgets": [
      "902d1d087b1645a8be58015631cd5c62",
      "1fa5c55d4ec8405ebeff81373a9d761c",
      "41713398526d4381832a557d91f5bd08",
      "d72c836232134e0ea8f30d63d04269ef",
      "f65dbcae443d44908c44f7683eb8ebb3",
      "e7b85f3ac9314853b21aba37944b0098",
      "713a5bc194d84260a355e5e3a9a5297b",
      "bfc5d1d4936a49b1884784771b38010e",
      "cf25b46d2a044bdda52b84e6ee9ca892",
      "76692d4b675b4baf8a5baaf871b5c31f",
      "11574625831242b5b839c6e71261523a"
     ]
    },
    "id": "_uoOG0QFc10J",
    "outputId": "f8c7e274-3855-40e2-e474-c51e86f18d79"
   },
   "outputs": [
    {
     "data": {
      "application/vnd.jupyter.widget-view+json": {
       "model_id": "902d1d087b1645a8be58015631cd5c62",
       "version_major": 2,
       "version_minor": 0
      },
      "text/plain": [
       "Downloading (…)\"pytorch_model.bin\";:   0%|          | 0.00/436M [00:00<?, ?B/s]"
      ]
     },
     "metadata": {},
     "output_type": "display_data"
    },
    {
     "name": "stderr",
     "output_type": "stream",
     "text": [
      "Some weights of the model checkpoint at bert-base-cased were not used when initializing BertForTokenClassification: ['cls.predictions.decoder.weight', 'cls.seq_relationship.bias', 'cls.predictions.transform.dense.weight', 'cls.predictions.transform.LayerNorm.bias', 'cls.predictions.transform.dense.bias', 'cls.predictions.transform.LayerNorm.weight', 'cls.seq_relationship.weight', 'cls.predictions.bias']\n",
      "- This IS expected if you are initializing BertForTokenClassification from the checkpoint of a model trained on another task or with another architecture (e.g. initializing a BertForSequenceClassification model from a BertForPreTraining model).\n",
      "- This IS NOT expected if you are initializing BertForTokenClassification from the checkpoint of a model that you expect to be exactly identical (initializing a BertForSequenceClassification model from a BertForSequenceClassification model).\n",
      "Some weights of BertForTokenClassification were not initialized from the model checkpoint at bert-base-cased and are newly initialized: ['classifier.bias', 'classifier.weight']\n",
      "You should probably TRAIN this model on a down-stream task to be able to use it for predictions and inference.\n"
     ]
    }
   ],
   "source": [
    "model_base = BertForTokenClassification.from_pretrained(\n",
    "    \"bert-base-cased\",\n",
    "    num_labels=len(tag2idx),\n",
    "    output_attentions = False,\n",
    "    output_hidden_states = False\n",
    ")"
   ]
  },
  {
   "cell_type": "code",
   "execution_count": 27,
   "id": "wgRXmJmGdG7c",
   "metadata": {
    "id": "wgRXmJmGdG7c"
   },
   "outputs": [],
   "source": [
    "model_base.cuda();"
   ]
  },
  {
   "cell_type": "code",
   "execution_count": 28,
   "id": "-Gei0Tue5y6J",
   "metadata": {
    "id": "-Gei0Tue5y6J"
   },
   "outputs": [],
   "source": [
    "prepare_data(tokenizer_base)\n",
    "data_split(input_ids,tags)\n"
   ]
  },
  {
   "cell_type": "code",
   "execution_count": 29,
   "id": "YOxq4Si09-Rx",
   "metadata": {
    "id": "YOxq4Si09-Rx"
   },
   "outputs": [],
   "source": [
    "fine_tunning(model_base, 10,1.0)"
   ]
  },
  {
   "cell_type": "code",
   "execution_count": 30,
   "id": "yYxUTGKf3fng",
   "metadata": {
    "id": "yYxUTGKf3fng"
   },
   "outputs": [],
   "source": [
    "epochs = 10\n",
    "max_grad_norm = 1.0"
   ]
  },
  {
   "cell_type": "code",
   "execution_count": 31,
   "id": "V9wTf_jw0WDK",
   "metadata": {
    "colab": {
     "base_uri": "https://localhost:8080/",
     "height": 36
    },
    "id": "V9wTf_jw0WDK",
    "outputId": "66b04367-5bd7-43b4-f023-04393274b106"
   },
   "outputs": [
    {
     "data": {
      "application/vnd.google.colaboratory.intrinsic+json": {
       "type": "string"
      },
      "text/plain": [
       "'/device:GPU:0'"
      ]
     },
     "execution_count": 31,
     "metadata": {},
     "output_type": "execute_result"
    }
   ],
   "source": [
    "tf.test.gpu_device_name()"
   ]
  },
  {
   "cell_type": "code",
   "execution_count": 32,
   "id": "rMXK3lO9PA4c",
   "metadata": {
    "colab": {
     "base_uri": "https://localhost:8080/"
    },
    "id": "rMXK3lO9PA4c",
    "outputId": "e254e947-9019-4d4d-b5d0-cc6847a6ae33"
   },
   "outputs": [
    {
     "metadata": {
      "tags": null
     },
     "name": "stderr",
     "output_type": "stream",
     "text": [
      "Epoch:   0%|          | 0/10 [00:00<?, ?it/s]"
     ]
    },
    {
     "metadata": {
      "tags": null
     },
     "name": "stdout",
     "output_type": "stream",
     "text": [
      "Average train loss: 0.02066787733748836\n",
      "Validation loss: 0.009219439593361094\n",
      "Validation Accuracy: 0.9974657328718469\n"
     ]
    },
    {
     "metadata": {
      "tags": null
     },
     "name": "stderr",
     "output_type": "stream",
     "text": [
      "Epoch:  10%|█         | 1/10 [42:35<6:23:22, 2555.79s/it]"
     ]
    },
    {
     "metadata": {
      "tags": null
     },
     "name": "stdout",
     "output_type": "stream",
     "text": [
      "Validation F1-Score: 0.6143676727363432\n",
      "\n",
      "Average train loss: 0.007254409943292511\n",
      "Validation loss: 0.0076323051715316715\n",
      "Validation Accuracy: 0.998027576767166\n"
     ]
    },
    {
     "metadata": {
      "tags": null
     },
     "name": "stderr",
     "output_type": "stream",
     "text": [
      "Epoch:  20%|██        | 2/10 [1:01:15<3:48:09, 1711.24s/it]"
     ]
    },
    {
     "metadata": {
      "tags": null
     },
     "name": "stdout",
     "output_type": "stream",
     "text": [
      "Validation F1-Score: 0.6935746153525414\n",
      "\n",
      "Average train loss: 0.005735725191780139\n",
      "Validation loss: 0.007375959594831634\n",
      "Validation Accuracy: 0.9980489746170383\n"
     ]
    },
    {
     "metadata": {
      "tags": null
     },
     "name": "stderr",
     "output_type": "stream",
     "text": [
      "Epoch:  30%|███       | 3/10 [1:19:54<2:48:06, 1440.87s/it]"
     ]
    },
    {
     "metadata": {
      "tags": null
     },
     "name": "stdout",
     "output_type": "stream",
     "text": [
      "Validation F1-Score: 0.7117174959871589\n",
      "\n",
      "Average train loss: 0.004071142610001717\n",
      "Validation loss: 0.007011627184131625\n",
      "Validation Accuracy: 0.9982822462590828\n"
     ]
    },
    {
     "metadata": {
      "tags": null
     },
     "name": "stderr",
     "output_type": "stream",
     "text": [
      "Epoch:  40%|████      | 4/10 [1:38:32<2:11:20, 1313.40s/it]"
     ]
    },
    {
     "metadata": {
      "tags": null
     },
     "name": "stdout",
     "output_type": "stream",
     "text": [
      "Validation F1-Score: 0.7433320927924576\n",
      "\n",
      "Average train loss: 0.0029883514970021033\n",
      "Validation loss: 0.0074684630848564255\n",
      "Validation Accuracy: 0.99829467405011\n"
     ]
    },
    {
     "metadata": {
      "tags": null
     },
     "name": "stderr",
     "output_type": "stream",
     "text": [
      "Epoch:  50%|█████     | 5/10 [1:57:10<1:43:34, 1242.93s/it]"
     ]
    },
    {
     "metadata": {
      "tags": null
     },
     "name": "stdout",
     "output_type": "stream",
     "text": [
      "Validation F1-Score: 0.7480121321419788\n",
      "\n",
      "Average train loss: 0.002270706045835581\n",
      "Validation loss: 0.007641339812829646\n",
      "Validation Accuracy: 0.9983475923860928\n"
     ]
    },
    {
     "metadata": {
      "tags": null
     },
     "name": "stderr",
     "output_type": "stream",
     "text": [
      "Epoch:  60%|██████    | 6/10 [2:15:48<1:20:01, 1200.29s/it]"
     ]
    },
    {
     "metadata": {
      "tags": null
     },
     "name": "stdout",
     "output_type": "stream",
     "text": [
      "Validation F1-Score: 0.7561993616498895\n",
      "\n",
      "Average train loss: 0.001856523057098669\n",
      "Validation loss: 0.007766792859936271\n",
      "Validation Accuracy: 0.9983500729330917\n"
     ]
    },
    {
     "metadata": {
      "tags": null
     },
     "name": "stderr",
     "output_type": "stream",
     "text": [
      "Epoch:  70%|███████   | 7/10 [2:34:26<58:40, 1173.42s/it]  "
     ]
    },
    {
     "metadata": {
      "tags": null
     },
     "name": "stdout",
     "output_type": "stream",
     "text": [
      "Validation F1-Score: 0.7612258275975089\n",
      "\n",
      "Average train loss: 0.0015746343562754062\n",
      "Validation loss: 0.007818022299651983\n",
      "Validation Accuracy: 0.998366334296754\n"
     ]
    },
    {
     "metadata": {
      "tags": null
     },
     "name": "stderr",
     "output_type": "stream",
     "text": [
      "Epoch:  80%|████████  | 8/10 [2:53:04<38:31, 1155.79s/it]"
     ]
    },
    {
     "name": "stdout",
     "output_type": "stream",
     "text": [
      "Validation F1-Score: 0.7621038822613045\n",
      "\n",
      "Average train loss: 0.001411670003055541\n",
      "Validation loss: 0.007968281732776646\n",
      "Validation Accuracy: 0.9983638537497536\n"
     ]
    },
    {
     "name": "stderr",
     "output_type": "stream",
     "text": [
      "Epoch:  90%|█████████ | 9/10 [3:11:42<19:04, 1144.02s/it]"
     ]
    },
    {
     "name": "stdout",
     "output_type": "stream",
     "text": [
      "Validation F1-Score: 0.7633519003931849\n",
      "\n",
      "Average train loss: 0.00136932273651067\n",
      "Validation loss: 0.00795492883301365\n",
      "Validation Accuracy: 0.9983773589500827\n"
     ]
    },
    {
     "name": "stderr",
     "output_type": "stream",
     "text": [
      "Epoch: 100%|██████████| 10/10 [3:30:20<00:00, 1262.07s/it]"
     ]
    },
    {
     "name": "stdout",
     "output_type": "stream",
     "text": [
      "Validation F1-Score: 0.7655070561207745\n",
      "\n"
     ]
    },
    {
     "name": "stderr",
     "output_type": "stream",
     "text": [
      "\n"
     ]
    }
   ],
   "source": [
    "model_training(10,model_base,max_grad_norm,optimizer,scheduler)"
   ]
  },
  {
   "cell_type": "code",
   "execution_count": 33,
   "id": "5kLYdrXbPA2G",
   "metadata": {
    "colab": {
     "base_uri": "https://localhost:8080/"
    },
    "id": "5kLYdrXbPA2G",
    "outputId": "a4e5cd6e-6698-438e-cd44-536bdf0dc9b3"
   },
   "outputs": [
    {
     "data": {
      "text/plain": [
       "Counter({'O': 578534,\n",
       "         'orgName': 6468,\n",
       "         'country': 5357,\n",
       "         'region': 593,\n",
       "         'settlement': 5984,\n",
       "         'date': 1619,\n",
       "         'surname': 8822,\n",
       "         'forename': 6784,\n",
       "         'geogName': 2680,\n",
       "         'bloc': 82,\n",
       "         'persName': 728,\n",
       "         'time': 247,\n",
       "         'addName': 587,\n",
       "         'placeName': 223,\n",
       "         'district': 135})"
      ]
     },
     "execution_count": 33,
     "metadata": {},
     "output_type": "execute_result"
    }
   ],
   "source": [
    "Counter(pred_tags[0])"
   ]
  },
  {
   "cell_type": "code",
   "execution_count": 34,
   "id": "9s6YStgKPAz0",
   "metadata": {
    "colab": {
     "base_uri": "https://localhost:8080/"
    },
    "id": "9s6YStgKPAz0",
    "outputId": "6e30c1a9-2683-47da-c6d5-a1f6b04dba32"
   },
   "outputs": [
    {
     "data": {
      "text/plain": [
       "Counter({'O': 579236,\n",
       "         'country': 5169,\n",
       "         'region': 582,\n",
       "         'date': 1575,\n",
       "         'addName': 488,\n",
       "         'settlement': 5758,\n",
       "         'surname': 8728,\n",
       "         'forename': 6645,\n",
       "         'orgName': 6466,\n",
       "         'geogName': 2832,\n",
       "         'district': 204,\n",
       "         'time': 264,\n",
       "         'placeName': 244,\n",
       "         'bloc': 65,\n",
       "         'persName': 587})"
      ]
     },
     "execution_count": 34,
     "metadata": {},
     "output_type": "execute_result"
    }
   ],
   "source": [
    "Counter(valid_tags[0])"
   ]
  },
  {
   "cell_type": "code",
   "execution_count": 35,
   "id": "UJWvS4dePAxY",
   "metadata": {
    "colab": {
     "base_uri": "https://localhost:8080/"
    },
    "id": "UJWvS4dePAxY",
    "outputId": "33a67e61-a3a4-4d6b-cf0f-40947dfe5381"
   },
   "outputs": [
    {
     "name": "stdout",
     "output_type": "stream",
     "text": [
      "              precision    recall  f1-score   support\n",
      "\n",
      "           O       0.99      0.99      0.99    579236\n",
      "     addName       0.16      0.19      0.17       488\n",
      "        bloc       0.05      0.06      0.05        65\n",
      "     country       0.88      0.91      0.90      5169\n",
      "        date       0.83      0.85      0.84      1575\n",
      "    district       0.16      0.10      0.12       204\n",
      "    forename       0.87      0.89      0.88      6645\n",
      "    geogName       0.56      0.53      0.55      2832\n",
      "     orgName       0.75      0.75      0.75      6466\n",
      "    persName       0.57      0.71      0.63       587\n",
      "   placeName       0.70      0.64      0.66       244\n",
      "      region       0.66      0.68      0.67       582\n",
      "  settlement       0.79      0.82      0.81      5758\n",
      "     surname       0.85      0.86      0.85      8728\n",
      "        time       0.72      0.67      0.70       264\n",
      "\n",
      "    accuracy                           0.98    618843\n",
      "   macro avg       0.64      0.64      0.64    618843\n",
      "weighted avg       0.98      0.98      0.98    618843\n",
      "\n"
     ]
    }
   ],
   "source": [
    "print(classification_report(valid_tags[0], pred_tags[0]))"
   ]
  },
  {
   "cell_type": "code",
   "execution_count": 36,
   "id": "Kq5ixwxIPAvD",
   "metadata": {
    "colab": {
     "base_uri": "https://localhost:8080/",
     "height": 427
    },
    "id": "Kq5ixwxIPAvD",
    "outputId": "04db9575-2322-4037-e955-451a9121af4f"
   },
   "outputs": [
    {
     "data": {
      "image/png": "[encoded data removed]",
      "text/plain": [
       "<Figure size 864x432 with 1 Axes>"
      ]
     },
     "metadata": {},
     "output_type": "display_data"
    }
   ],
   "source": [
    "# Use plot styling from seaborn.\n",
    "sns.set(style='darkgrid')\n",
    "\n",
    "# Increase the plot size and font size.\n",
    "sns.set(font_scale=1.5)\n",
    "plt.rcParams[\"figure.figsize\"] = (12,6)\n",
    "\n",
    "# Plot the learning curve.\n",
    "plt.plot(loss_values, 'b-o', label=\"training loss\")\n",
    "plt.plot(validation_loss_values, 'r-o', label=\"validation loss\")\n",
    "\n",
    "# Label the plot.\n",
    "plt.title(\"Learning curve\")\n",
    "plt.xlabel(\"Epoch\")\n",
    "plt.ylabel(\"Loss\")\n",
    "plt.legend()\n",
    "\n",
    "plt.show()"
   ]
  },
  {
   "cell_type": "code",
   "execution_count": 37,
   "id": "qXuubIwPPAs2",
   "metadata": {
    "id": "qXuubIwPPAs2"
   },
   "outputs": [],
   "source": [
    "report_test_cff = classification_report(\n",
    "    valid_tags[0], pred_tags[0], output_dict=True)"
   ]
  },
  {
   "cell_type": "code",
   "execution_count": 38,
   "id": "juLrTDvSPAqn",
   "metadata": {
    "id": "juLrTDvSPAqn"
   },
   "outputs": [],
   "source": [
    "report_test_cff = pd.DataFrame(report_test_cff).transpose()\n",
    "report_test_cff.to_csv('./report_model_base_val.csv')"
   ]
  },
  {
   "cell_type": "code",
   "execution_count": null,
   "id": "zRufplGQPAnx",
   "metadata": {
    "id": "zRufplGQPAnx"
   },
   "outputs": [],
   "source": [
    "##############"
   ]
  },
  {
   "cell_type": "markdown",
   "id": "lVl6kzM5BaVT",
   "metadata": {
    "id": "lVl6kzM5BaVT"
   },
   "source": [
    "## dkleczek/bert-base-polish-cased-v1"
   ]
  },
  {
   "cell_type": "code",
   "execution_count": 57,
   "id": "1YD4Pd-xFKwk",
   "metadata": {
    "colab": {
     "base_uri": "https://localhost:8080/",
     "height": 145,
     "referenced_widgets": [
      "697ed1d4fe5a43b7957d46d716ce4b54",
      "4e4c23a79ab04734b4b8dee3e02aab2d",
      "fee74cc9e7984501803649af57be6f41",
      "a7de3803e73c4cbe8b3326258c3cac24",
      "2a2388ccc2f9471e8adb133cf44eda3a",
      "04648f57b389407984feb29635acf3e2",
      "08bc6f3146244362af231e2689da3a02",
      "3aef53e899d045f1a7d9bf4fd43ad74e",
      "7de2a71b9dc4407fac1dc974129f14bc",
      "49497f2e76504cbe8b417d8876693fe4",
      "0588c03d2fcd4321b25fcde1dc824d1e",
      "e9acb5d89f754bff99b02b4473d4b092",
      "e8e7751ebd854f9da28bff85077ff819",
      "4637470248ae494ea314e3600eae510f",
      "e8bd5c654d1a4fa8b0035c4ee033ae68",
      "c7c0bb9104bf49ebbc80b23e6ec8a0c0",
      "dc6a6a7127d04cb68a336102f4616330",
      "a0104c59f6f14a3ea95af7cb8704fd2a",
      "e6478f5769f347b6bebf35988f0547ac",
      "b5d8adc75dc14eea9c9ca8d38ef3e451",
      "b560cb057c3348809b5bdd47ea0c7600",
      "058dbf42a8ff4627a281957dc3245491",
      "2560c3117da043bab80033a3a2fcf64e",
      "df75d9636edf4bd49a0732a0104b8f39",
      "fb17087dec7d40c283788c87cabd2c21",
      "b60e1983faa044669c179f4d1565bb07",
      "022108f3c02542b6a758d386d9e1d603",
      "07f48770063a43e4a254e3e08c9e4d41",
      "437a20911144470fb6ac3d8b4d4f0914",
      "63af71b07c304ed58244eaa1181b877c",
      "3270131935ef4a14a99210489c5d2bac",
      "fa2b7fb178d64ca482a61c59b19a3ffd",
      "89032b95a7d44996968fcd9541a674ad",
      "79bce9752feb4c7fb7a6ec32d0e6c201",
      "8f75c857fd0e4ada8fc3c61cd90e5c24",
      "5a6343d50b9448e98c471da0cdb2753f",
      "9817830e6f824939a78d64895d8bfbe3",
      "7d96d455477a4762871391d0d6c87d8f",
      "269968292895474380731dc77e70618b",
      "99a30350740c4f4baef2e8584a4d59df",
      "250fda6d68b649a0acf158f742a36e6f",
      "ef100b0d99784b2e86a4d9f30a24ddce",
      "566b5d6647144811827854429b839e71",
      "e7887fcc6ec6471c9bfc0023dca533a2"
     ]
    },
    "id": "1YD4Pd-xFKwk",
    "outputId": "a7f3155b-aed6-4afb-d420-263809854319"
   },
   "outputs": [
    {
     "data": {
      "application/vnd.jupyter.widget-view+json": {
       "model_id": "697ed1d4fe5a43b7957d46d716ce4b54",
       "version_major": 2,
       "version_minor": 0
      },
      "text/plain": [
       "Downloading (…)solve/main/vocab.txt:   0%|          | 0.00/489k [00:00<?, ?B/s]"
      ]
     },
     "metadata": {},
     "output_type": "display_data"
    },
    {
     "data": {
      "application/vnd.jupyter.widget-view+json": {
       "model_id": "e9acb5d89f754bff99b02b4473d4b092",
       "version_major": 2,
       "version_minor": 0
      },
      "text/plain": [
       "Downloading (…)cial_tokens_map.json:   0%|          | 0.00/112 [00:00<?, ?B/s]"
      ]
     },
     "metadata": {},
     "output_type": "display_data"
    },
    {
     "data": {
      "application/vnd.jupyter.widget-view+json": {
       "model_id": "2560c3117da043bab80033a3a2fcf64e",
       "version_major": 2,
       "version_minor": 0
      },
      "text/plain": [
       "Downloading (…)okenizer_config.json:   0%|          | 0.00/30.0 [00:00<?, ?B/s]"
      ]
     },
     "metadata": {},
     "output_type": "display_data"
    },
    {
     "data": {
      "application/vnd.jupyter.widget-view+json": {
       "model_id": "79bce9752feb4c7fb7a6ec32d0e6c201",
       "version_major": 2,
       "version_minor": 0
      },
      "text/plain": [
       "Downloading (…)lve/main/config.json:   0%|          | 0.00/459 [00:00<?, ?B/s]"
      ]
     },
     "metadata": {},
     "output_type": "display_data"
    }
   ],
   "source": [
    "tokenizer_polish = BertTokenizer.from_pretrained('dkleczek/bert-base-polish-cased-v1', do_lower_case=False) \n"
   ]
  },
  {
   "cell_type": "code",
   "execution_count": 58,
   "id": "BxpC6yfwBaHy",
   "metadata": {
    "colab": {
     "base_uri": "https://localhost:8080/",
     "height": 156,
     "referenced_widgets": [
      "8486a3232471427fb462e7d1edb613a4",
      "7a21403aa3be43de99cb4fd9cc0afef5",
      "87c4c66d956c46cdac6283dd01576368",
      "4dc5fc5112db447892a60f003d5e2525",
      "e16dbb7bdcad4584b857e285768b0708",
      "ca7ba8760f414ddea113e593d1c8ab32",
      "120b6751cee64c25968e3c5a9dc7f798",
      "d34fd64c576a4842a08d0ec609a7f95a",
      "2329550d402e44bca161958f7bc01b89",
      "bad7040b3db74df9ae35acdcb860bfe5",
      "cbbb6edd7d6d4e15901a83151d087bf1"
     ]
    },
    "id": "BxpC6yfwBaHy",
    "outputId": "5cf6c0f4-32c5-4812-fcf8-373d7feac34c"
   },
   "outputs": [
    {
     "data": {
      "application/vnd.jupyter.widget-view+json": {
       "model_id": "8486a3232471427fb462e7d1edb613a4",
       "version_major": 2,
       "version_minor": 0
      },
      "text/plain": [
       "Downloading (…)\"pytorch_model.bin\";:   0%|          | 0.00/531M [00:00<?, ?B/s]"
      ]
     },
     "metadata": {},
     "output_type": "display_data"
    },
    {
     "name": "stderr",
     "output_type": "stream",
     "text": [
      "Some weights of the model checkpoint at dkleczek/bert-base-polish-cased-v1 were not used when initializing BertForTokenClassification: ['cls.predictions.decoder.weight', 'cls.seq_relationship.bias', 'cls.predictions.transform.dense.weight', 'cls.predictions.transform.LayerNorm.bias', 'cls.predictions.transform.dense.bias', 'cls.predictions.transform.LayerNorm.weight', 'cls.seq_relationship.weight', 'cls.predictions.bias', 'cls.predictions.decoder.bias']\n",
      "- This IS expected if you are initializing BertForTokenClassification from the checkpoint of a model trained on another task or with another architecture (e.g. initializing a BertForSequenceClassification model from a BertForPreTraining model).\n",
      "- This IS NOT expected if you are initializing BertForTokenClassification from the checkpoint of a model that you expect to be exactly identical (initializing a BertForSequenceClassification model from a BertForSequenceClassification model).\n",
      "Some weights of BertForTokenClassification were not initialized from the model checkpoint at dkleczek/bert-base-polish-cased-v1 and are newly initialized: ['classifier.bias', 'classifier.weight']\n",
      "You should probably TRAIN this model on a down-stream task to be able to use it for predictions and inference.\n"
     ]
    }
   ],
   "source": [
    "model_polish = BertForTokenClassification.from_pretrained(\n",
    "    \"dkleczek/bert-base-polish-cased-v1\",\n",
    "    num_labels=len(tag2idx),\n",
    "    output_attentions = False,\n",
    "    output_hidden_states = False\n",
    ")\n",
    "#model_polish.cpu()"
   ]
  },
  {
   "cell_type": "code",
   "execution_count": 59,
   "id": "F6k9cys7uSmJ",
   "metadata": {
    "id": "F6k9cys7uSmJ"
   },
   "outputs": [],
   "source": [
    "model_polish.cuda();"
   ]
  },
  {
   "cell_type": "code",
   "execution_count": 60,
   "id": "qFPOuuhreiW4",
   "metadata": {
    "id": "qFPOuuhreiW4"
   },
   "outputs": [],
   "source": [
    "prepare_data(tokenizer_polish)"
   ]
  },
  {
   "cell_type": "code",
   "execution_count": 61,
   "id": "QwXw1W__fAkc",
   "metadata": {
    "id": "QwXw1W__fAkc"
   },
   "outputs": [],
   "source": [
    "\n",
    "data_split(input_ids,tags)"
   ]
  },
  {
   "cell_type": "code",
   "execution_count": 62,
   "id": "TbqdqLxUeoPC",
   "metadata": {
    "id": "TbqdqLxUeoPC"
   },
   "outputs": [],
   "source": [
    "fine_tunning(model_polish, 10,1.0)"
   ]
  },
  {
   "cell_type": "code",
   "execution_count": 63,
   "id": "12sgkT3Tueyk",
   "metadata": {
    "colab": {
     "base_uri": "https://localhost:8080/"
    },
    "id": "12sgkT3Tueyk",
    "outputId": "e5cf69ce-b334-48e7-aff4-35be5d92eaba"
   },
   "outputs": [
    {
     "data": {
      "text/plain": [
       "True"
      ]
     },
     "execution_count": 63,
     "metadata": {},
     "output_type": "execute_result"
    }
   ],
   "source": [
    "torch.cuda.is_available()\n",
    "\n"
   ]
  },
  {
   "cell_type": "code",
   "execution_count": 64,
   "id": "1q-tc9xeLWLZ",
   "metadata": {
    "id": "1q-tc9xeLWLZ"
   },
   "outputs": [],
   "source": [
    "epochs = 10\n",
    "max_grad_norm = 1.0"
   ]
  },
  {
   "cell_type": "code",
   "execution_count": 65,
   "id": "vW9VRmCjU_Gk",
   "metadata": {
    "colab": {
     "base_uri": "https://localhost:8080/"
    },
    "id": "vW9VRmCjU_Gk",
    "outputId": "a479e37d-e71d-4a5f-c8b2-da996bf95bb4"
   },
   "outputs": [
    {
     "name": "stderr",
     "output_type": "stream",
     "text": [
      "Epoch:   0%|          | 0/10 [00:00<?, ?it/s]"
     ]
    },
    {
     "name": "stdout",
     "output_type": "stream",
     "text": [
      "Average train loss: 0.006351125403483097\n",
      "Validation loss: 0.002739710577955297\n",
      "Validation Accuracy: 0.999170470005023\n"
     ]
    },
    {
     "name": "stderr",
     "output_type": "stream",
     "text": [
      "Epoch:  10%|█         | 1/10 [42:48<6:25:18, 2568.76s/it]"
     ]
    },
    {
     "name": "stdout",
     "output_type": "stream",
     "text": [
      "Validation F1-Score: 0.7929965787884887\n",
      "\n",
      "Average train loss: 0.0016554693654658491\n",
      "Validation loss: 0.0025327472898370906\n",
      "Validation Accuracy: 0.9992951112277267\n"
     ]
    },
    {
     "name": "stderr",
     "output_type": "stream",
     "text": [
      "Epoch:  20%|██        | 2/10 [1:02:02<3:51:31, 1736.42s/it]"
     ]
    },
    {
     "name": "stdout",
     "output_type": "stream",
     "text": [
      "Validation F1-Score: 0.8214655136745417\n",
      "\n",
      "Average train loss: 0.00094285051794201\n",
      "Validation loss: 0.0026535744327758227\n",
      "Validation Accuracy: 0.9993257046407167\n"
     ]
    },
    {
     "name": "stderr",
     "output_type": "stream",
     "text": [
      "Epoch:  30%|███       | 3/10 [1:21:15<2:51:29, 1469.91s/it]"
     ]
    },
    {
     "name": "stdout",
     "output_type": "stream",
     "text": [
      "Validation F1-Score: 0.8278702163061563\n",
      "\n",
      "Average train loss: 0.0005743348948773821\n",
      "Validation loss: 0.0028702437923259195\n",
      "Validation Accuracy: 0.9993280473795494\n"
     ]
    },
    {
     "name": "stderr",
     "output_type": "stream",
     "text": [
      "Epoch:  40%|████      | 4/10 [1:40:27<2:14:26, 1344.48s/it]"
     ]
    },
    {
     "name": "stdout",
     "output_type": "stream",
     "text": [
      "Validation F1-Score: 0.829557221554902\n",
      "\n",
      "Average train loss: 0.0003679289907572793\n",
      "Validation loss: 0.003095808153218136\n",
      "Validation Accuracy: 0.9993166093017197\n"
     ]
    },
    {
     "name": "stderr",
     "output_type": "stream",
     "text": [
      "Epoch:  50%|█████     | 5/10 [1:59:37<1:46:11, 1274.37s/it]"
     ]
    },
    {
     "name": "stdout",
     "output_type": "stream",
     "text": [
      "Validation F1-Score: 0.829382331227955\n",
      "\n",
      "Average train loss: 0.0002544002044737284\n",
      "Validation loss: 0.003224713207659324\n",
      "Validation Accuracy: 0.9993190898487186\n"
     ]
    },
    {
     "name": "stderr",
     "output_type": "stream",
     "text": [
      "Epoch:  60%|██████    | 6/10 [2:18:46<1:22:06, 1231.74s/it]"
     ]
    },
    {
     "name": "stdout",
     "output_type": "stream",
     "text": [
      "Validation F1-Score: 0.830712379388216\n",
      "\n",
      "Average train loss: 0.00019338910354179894\n",
      "Validation loss: 0.003246508578626637\n",
      "Validation Accuracy: 0.9993466514820423\n"
     ]
    },
    {
     "name": "stderr",
     "output_type": "stream",
     "text": [
      "Epoch:  70%|███████   | 7/10 [2:37:56<1:00:14, 1204.95s/it]"
     ]
    },
    {
     "name": "stdout",
     "output_type": "stream",
     "text": [
      "Validation F1-Score: 0.8362826382873407\n",
      "\n",
      "Average train loss: 0.0001554531554107386\n",
      "Validation loss: 0.003281130531678787\n",
      "Validation Accuracy: 0.9993465136738748\n"
     ]
    },
    {
     "name": "stderr",
     "output_type": "stream",
     "text": [
      "Epoch:  80%|████████  | 8/10 [2:57:06<39:35, 1187.56s/it]  "
     ]
    },
    {
     "name": "stdout",
     "output_type": "stream",
     "text": [
      "Validation F1-Score: 0.8370069367483478\n",
      "\n",
      "Average train loss: 0.0001364107302726136\n",
      "Validation loss: 0.003279158151505462\n",
      "Validation Accuracy: 0.9993528528495398\n"
     ]
    },
    {
     "name": "stderr",
     "output_type": "stream",
     "text": [
      "Epoch:  90%|█████████ | 9/10 [3:16:16<19:35, 1175.76s/it]"
     ]
    },
    {
     "name": "stdout",
     "output_type": "stream",
     "text": [
      "Validation F1-Score: 0.8375638701170267\n",
      "\n",
      "Average train loss: 0.0001223645043876655\n",
      "Validation loss: 0.0032890162672263206\n",
      "Validation Accuracy: 0.9993531284658725\n"
     ]
    },
    {
     "name": "stderr",
     "output_type": "stream",
     "text": [
      "Epoch: 100%|██████████| 10/10 [3:35:26<00:00, 1292.62s/it]"
     ]
    },
    {
     "name": "stdout",
     "output_type": "stream",
     "text": [
      "Validation F1-Score: 0.8380067428665405\n",
      "\n"
     ]
    },
    {
     "name": "stderr",
     "output_type": "stream",
     "text": [
      "\n"
     ]
    }
   ],
   "source": [
    "model_training(epochs,model_polish,max_grad_norm,optimizer,scheduler)"
   ]
  },
  {
   "cell_type": "code",
   "execution_count": null,
   "id": "RzwA9_DvxOxu",
   "metadata": {
    "id": "RzwA9_DvxOxu"
   },
   "outputs": [],
   "source": [
    "#tylko model.cuda();"
   ]
  },
  {
   "cell_type": "code",
   "execution_count": 66,
   "id": "8DVdK7AjU-bb",
   "metadata": {
    "colab": {
     "base_uri": "https://localhost:8080/"
    },
    "id": "8DVdK7AjU-bb",
    "outputId": "47d22851-4c84-4c24-932a-e3539a005670"
   },
   "outputs": [
    {
     "data": {
      "text/plain": [
       "Counter({'O': 233296,\n",
       "         'orgName': 3097,\n",
       "         'country': 1741,\n",
       "         'region': 200,\n",
       "         'date': 898,\n",
       "         'settlement': 3057,\n",
       "         'forename': 3868,\n",
       "         'surname': 5840,\n",
       "         'geogName': 1233,\n",
       "         'bloc': 40,\n",
       "         'time': 132,\n",
       "         'placeName': 80,\n",
       "         'district': 66,\n",
       "         'addName': 317,\n",
       "         'persName': 278,\n",
       "         'PAD': 1})"
      ]
     },
     "execution_count": 66,
     "metadata": {},
     "output_type": "execute_result"
    }
   ],
   "source": [
    "Counter(pred_tags[0])"
   ]
  },
  {
   "cell_type": "code",
   "execution_count": 67,
   "id": "hqfTooZQVHU0",
   "metadata": {
    "colab": {
     "base_uri": "https://localhost:8080/"
    },
    "id": "hqfTooZQVHU0",
    "outputId": "71968bd9-88b9-4066-b160-9c41824ee782"
   },
   "outputs": [
    {
     "data": {
      "text/plain": [
       "Counter({'O': 233541,\n",
       "         'country': 1706,\n",
       "         'region': 211,\n",
       "         'date': 900,\n",
       "         'addName': 333,\n",
       "         'settlement': 2865,\n",
       "         'surname': 5784,\n",
       "         'forename': 3738,\n",
       "         'orgName': 3061,\n",
       "         'geogName': 1332,\n",
       "         'district': 121,\n",
       "         'time': 118,\n",
       "         'placeName': 120,\n",
       "         'bloc': 23,\n",
       "         'persName': 291})"
      ]
     },
     "execution_count": 67,
     "metadata": {},
     "output_type": "execute_result"
    }
   ],
   "source": [
    "Counter(valid_tags[0])"
   ]
  },
  {
   "cell_type": "code",
   "execution_count": 68,
   "id": "N-1936y-VHSS",
   "metadata": {
    "colab": {
     "base_uri": "https://localhost:8080/"
    },
    "id": "N-1936y-VHSS",
    "outputId": "cfd07d61-436c-4014-ef9e-eeb79de32d92"
   },
   "outputs": [
    {
     "name": "stdout",
     "output_type": "stream",
     "text": [
      "              precision    recall  f1-score   support\n",
      "\n",
      "           O       0.99      0.99      0.99    233541\n",
      "         PAD       0.00      0.00      0.00         0\n",
      "     addName       0.34      0.32      0.33       333\n",
      "        bloc       0.10      0.17      0.13        23\n",
      "     country       0.89      0.91      0.90      1706\n",
      "        date       0.91      0.90      0.91       900\n",
      "    district       0.39      0.21      0.28       121\n",
      "    forename       0.87      0.90      0.88      3738\n",
      "    geogName       0.68      0.63      0.66      1332\n",
      "     orgName       0.79      0.80      0.80      3061\n",
      "    persName       0.69      0.66      0.67       291\n",
      "   placeName       0.86      0.57      0.69       120\n",
      "      region       0.61      0.58      0.59       211\n",
      "  settlement       0.83      0.88      0.85      2865\n",
      "     surname       0.90      0.90      0.90      5784\n",
      "        time       0.79      0.88      0.83       118\n",
      "\n",
      "    accuracy                           0.98    254144\n",
      "   macro avg       0.66      0.65      0.65    254144\n",
      "weighted avg       0.98      0.98      0.98    254144\n",
      "\n"
     ]
    }
   ],
   "source": [
    "print(classification_report(valid_tags[0], pred_tags[0]))"
   ]
  },
  {
   "cell_type": "code",
   "execution_count": 69,
   "id": "civCOBjxVHP9",
   "metadata": {
    "colab": {
     "base_uri": "https://localhost:8080/",
     "height": 427
    },
    "id": "civCOBjxVHP9",
    "outputId": "20a7298e-1386-417e-c88d-3059591e71cf"
   },
   "outputs": [
    {
     "data": {
      "image/png": "[encoded data removed]",
      "text/plain": [
       "<Figure size 864x432 with 1 Axes>"
      ]
     },
     "metadata": {},
     "output_type": "display_data"
    }
   ],
   "source": [
    "# Use plot styling from seaborn.\n",
    "sns.set(style='darkgrid')\n",
    "\n",
    "# Increase the plot size and font size.\n",
    "sns.set(font_scale=1.5)\n",
    "plt.rcParams[\"figure.figsize\"] = (12,6)\n",
    "\n",
    "# Plot the learning curve.\n",
    "plt.plot(loss_values, 'b-o', label=\"training loss\")\n",
    "plt.plot(validation_loss_values, 'r-o', label=\"validation loss\")\n",
    "\n",
    "# Label the plot.\n",
    "plt.title(\"Learning curve\")\n",
    "plt.xlabel(\"Epoch\")\n",
    "plt.ylabel(\"Loss\")\n",
    "plt.legend()\n",
    "\n",
    "plt.show()"
   ]
  },
  {
   "cell_type": "code",
   "execution_count": 70,
   "id": "LTV9tMGiVHNp",
   "metadata": {
    "id": "LTV9tMGiVHNp"
   },
   "outputs": [],
   "source": [
    "report_test_ = classification_report(\n",
    "    valid_tags[0], pred_tags[0], output_dict=True)"
   ]
  },
  {
   "cell_type": "code",
   "execution_count": 71,
   "id": "qKxoefp5VhO-",
   "metadata": {
    "id": "qKxoefp5VhO-"
   },
   "outputs": [],
   "source": [
    "report_test_ = pd.DataFrame(report_test_).transpose()\n",
    "report_test_.to_csv('./report_model_polish_val.csv')"
   ]
  },
  {
   "cell_type": "code",
   "execution_count": null,
   "id": "n-uN6ZbwVhDj",
   "metadata": {
    "id": "n-uN6ZbwVhDj"
   },
   "outputs": [],
   "source": [
    "##########"
   ]
  },
  {
   "cell_type": "markdown",
   "id": "3a_199iNdouE",
   "metadata": {
    "id": "3a_199iNdouE"
   },
   "source": [
    "# Testing both models"
   ]
  },
  {
   "cell_type": "code",
   "execution_count": null,
   "id": "nDgjnUq2dm5-",
   "metadata": {
    "id": "nDgjnUq2dm5-"
   },
   "outputs": [],
   "source": []
  },
  {
   "cell_type": "code",
   "execution_count": 74,
   "id": "aznvRSjp0_Uo",
   "metadata": {
    "id": "aznvRSjp0_Uo"
   },
   "outputs": [],
   "source": [
    "input_ids = torch.tensor([test_inputs[256].tolist()]).cuda()"
   ]
  },
  {
   "cell_type": "code",
   "execution_count": 75,
   "id": "73yoMBBQLnVu",
   "metadata": {
    "id": "73yoMBBQLnVu"
   },
   "outputs": [],
   "source": [
    "with torch.no_grad():\n",
    "    output = model_polish(input_ids)\n",
    "label_indices = np.argmax(output[0].to('cpu').numpy(), axis=2)\n",
    "tokens = tokenizer_polish.convert_ids_to_tokens(input_ids.to('cpu').numpy()[0])"
   ]
  },
  {
   "cell_type": "code",
   "execution_count": 77,
   "id": "RXG8zwXhNdMq",
   "metadata": {
    "id": "RXG8zwXhNdMq"
   },
   "outputs": [],
   "source": [
    "new_tokens, new_labels = [], []\n",
    "for token, label_idx in zip(tokens, label_indices[0]):\n",
    "    if token.startswith(\"##\"):\n",
    "        new_tokens[-1] = new_tokens[-1] + token[2:]\n",
    "    else:\n",
    "        new_labels.append(tag_values[label_idx])\n",
    "        new_tokens.append(token)"
   ]
  },
  {
   "cell_type": "code",
   "execution_count": 78,
   "id": "XcNDS8iANgA_",
   "metadata": {
    "id": "XcNDS8iANgA_"
   },
   "outputs": [],
   "source": [
    "old_labels = []\n",
    "for label_idx in test_tags[256].tolist():\n",
    "        old_labels.append(tag_values[label_idx])"
   ]
  },
  {
   "cell_type": "code",
   "execution_count": 79,
   "id": "YkgahtLhNicD",
   "metadata": {
    "colab": {
     "base_uri": "https://localhost:8080/"
    },
    "id": "YkgahtLhNicD",
    "outputId": "423ac3d1-954b-4c7b-f69c-d1321955731d"
   },
   "outputs": [
    {
     "name": "stdout",
     "output_type": "stream",
     "text": [
      "O\tkobiety\n",
      "O\todetchnęły\n",
      "O\tz\n",
      "O\tulgą\n",
      "O\t.\n",
      "O\t[PAD]\n",
      "O\t[PAD]\n",
      "O\t[PAD]\n",
      "O\t[PAD]\n",
      "O\t[PAD]\n",
      "O\t[PAD]\n",
      "O\t[PAD]\n",
      "O\t[PAD]\n",
      "O\t[PAD]\n",
      "O\t[PAD]\n",
      "O\t[PAD]\n",
      "O\t[PAD]\n",
      "O\t[PAD]\n",
      "O\t[PAD]\n",
      "O\t[PAD]\n",
      "O\t[PAD]\n",
      "O\t[PAD]\n",
      "O\t[PAD]\n",
      "O\t[PAD]\n",
      "O\t[PAD]\n",
      "O\t[PAD]\n",
      "O\t[PAD]\n",
      "O\t[PAD]\n",
      "O\t[PAD]\n",
      "O\t[PAD]\n",
      "O\t[PAD]\n",
      "O\t[PAD]\n",
      "O\t[PAD]\n",
      "O\t[PAD]\n",
      "O\t[PAD]\n",
      "O\t[PAD]\n",
      "O\t[PAD]\n",
      "O\t[PAD]\n",
      "O\t[PAD]\n",
      "O\t[PAD]\n",
      "O\t[PAD]\n",
      "O\t[PAD]\n",
      "O\t[PAD]\n",
      "O\t[PAD]\n",
      "O\t[PAD]\n",
      "O\t[PAD]\n",
      "O\t[PAD]\n",
      "O\t[PAD]\n",
      "O\t[PAD]\n",
      "O\t[PAD]\n",
      "O\t[PAD]\n",
      "O\t[PAD]\n",
      "O\t[PAD]\n",
      "O\t[PAD]\n",
      "O\t[PAD]\n",
      "O\t[PAD]\n",
      "O\t[PAD]\n",
      "O\t[PAD]\n",
      "O\t[PAD]\n",
      "O\t[PAD]\n",
      "O\t[PAD]\n",
      "O\t[PAD]\n",
      "O\t[PAD]\n",
      "O\t[PAD]\n",
      "O\t[PAD]\n",
      "O\t[PAD]\n",
      "O\t[PAD]\n",
      "O\t[PAD]\n",
      "O\t[PAD]\n",
      "O\t[PAD]\n",
      "O\t[PAD]\n",
      "O\t[PAD]\n",
      "O\t[PAD]\n",
      "O\t[PAD]\n",
      "O\t[PAD]\n",
      "O\t[PAD]\n",
      "O\t[PAD]\n",
      "O\t[PAD]\n",
      "O\t[PAD]\n",
      "O\t[PAD]\n",
      "O\t[PAD]\n",
      "O\t[PAD]\n",
      "O\t[PAD]\n",
      "O\t[PAD]\n",
      "O\t[PAD]\n",
      "O\t[PAD]\n",
      "O\t[PAD]\n",
      "O\t[PAD]\n",
      "O\t[PAD]\n",
      "O\t[PAD]\n",
      "O\t[PAD]\n",
      "O\t[PAD]\n",
      "O\t[PAD]\n",
      "O\t[PAD]\n",
      "O\t[PAD]\n",
      "O\t[PAD]\n",
      "O\t[PAD]\n",
      "O\t[PAD]\n",
      "O\t[PAD]\n",
      "O\t[PAD]\n",
      "O\t[PAD]\n",
      "O\t[PAD]\n",
      "O\t[PAD]\n",
      "O\t[PAD]\n",
      "O\t[PAD]\n",
      "O\t[PAD]\n",
      "O\t[PAD]\n",
      "O\t[PAD]\n",
      "O\t[PAD]\n",
      "O\t[PAD]\n",
      "O\t[PAD]\n",
      "O\t[PAD]\n",
      "O\t[PAD]\n",
      "O\t[PAD]\n",
      "O\t[PAD]\n",
      "O\t[PAD]\n",
      "O\t[PAD]\n",
      "O\t[PAD]\n",
      "O\t[PAD]\n",
      "O\t[PAD]\n",
      "O\t[PAD]\n",
      "O\t[PAD]\n",
      "O\t[PAD]\n",
      "O\t[PAD]\n",
      "O\t[PAD]\n",
      "O\t[PAD]\n",
      "O\t[PAD]\n",
      "O\t[PAD]\n",
      "O\t[PAD]\n",
      "O\t[PAD]\n",
      "O\t[PAD]\n",
      "O\t[PAD]\n",
      "O\t[PAD]\n",
      "O\t[PAD]\n",
      "O\t[PAD]\n",
      "O\t[PAD]\n",
      "O\t[PAD]\n",
      "O\t[PAD]\n",
      "O\t[PAD]\n",
      "O\t[PAD]\n",
      "O\t[PAD]\n",
      "O\t[PAD]\n",
      "O\t[PAD]\n",
      "O\t[PAD]\n",
      "O\t[PAD]\n",
      "O\t[PAD]\n",
      "O\t[PAD]\n",
      "O\t[PAD]\n",
      "O\t[PAD]\n",
      "O\t[PAD]\n",
      "O\t[PAD]\n",
      "O\t[PAD]\n",
      "O\t[PAD]\n",
      "O\t[PAD]\n",
      "O\t[PAD]\n",
      "O\t[PAD]\n",
      "O\t[PAD]\n",
      "O\t[PAD]\n",
      "O\t[PAD]\n",
      "O\t[PAD]\n",
      "O\t[PAD]\n",
      "O\t[PAD]\n",
      "O\t[PAD]\n",
      "O\t[PAD]\n",
      "O\t[PAD]\n",
      "O\t[PAD]\n",
      "O\t[PAD]\n",
      "O\t[PAD]\n",
      "O\t[PAD]\n",
      "O\t[PAD]\n",
      "O\t[PAD]\n",
      "O\t[PAD]\n",
      "O\t[PAD]\n",
      "O\t[PAD]\n",
      "O\t[PAD]\n",
      "O\t[PAD]\n",
      "O\t[PAD]\n",
      "O\t[PAD]\n",
      "O\t[PAD]\n",
      "O\t[PAD]\n",
      "O\t[PAD]\n",
      "O\t[PAD]\n",
      "O\t[PAD]\n",
      "O\t[PAD]\n",
      "O\t[PAD]\n",
      "O\t[PAD]\n",
      "O\t[PAD]\n",
      "O\t[PAD]\n",
      "O\t[PAD]\n",
      "O\t[PAD]\n",
      "O\t[PAD]\n",
      "O\t[PAD]\n",
      "O\t[PAD]\n",
      "O\t[PAD]\n",
      "O\t[PAD]\n",
      "O\t[PAD]\n",
      "O\t[PAD]\n",
      "O\t[PAD]\n",
      "O\t[PAD]\n",
      "O\t[PAD]\n",
      "O\t[PAD]\n",
      "O\t[PAD]\n",
      "O\t[PAD]\n",
      "O\t[PAD]\n",
      "O\t[PAD]\n",
      "O\t[PAD]\n",
      "O\t[PAD]\n",
      "O\t[PAD]\n",
      "O\t[PAD]\n",
      "O\t[PAD]\n",
      "O\t[PAD]\n",
      "O\t[PAD]\n",
      "O\t[PAD]\n",
      "O\t[PAD]\n",
      "O\t[PAD]\n",
      "O\t[PAD]\n",
      "O\t[PAD]\n",
      "O\t[PAD]\n",
      "O\t[PAD]\n",
      "O\t[PAD]\n",
      "O\t[PAD]\n",
      "O\t[PAD]\n",
      "O\t[PAD]\n",
      "O\t[PAD]\n",
      "O\t[PAD]\n",
      "O\t[PAD]\n",
      "O\t[PAD]\n",
      "O\t[PAD]\n",
      "O\t[PAD]\n",
      "O\t[PAD]\n",
      "O\t[PAD]\n",
      "O\t[PAD]\n",
      "O\t[PAD]\n",
      "O\t[PAD]\n",
      "O\t[PAD]\n",
      "O\t[PAD]\n",
      "O\t[PAD]\n",
      "O\t[PAD]\n",
      "O\t[PAD]\n",
      "O\t[PAD]\n",
      "O\t[PAD]\n",
      "O\t[PAD]\n",
      "O\t[PAD]\n",
      "O\t[PAD]\n",
      "O\t[PAD]\n",
      "O\t[PAD]\n",
      "O\t[PAD]\n",
      "O\t[PAD]\n",
      "O\t[PAD]\n",
      "O\t[PAD]\n",
      "O\t[PAD]\n",
      "O\t[PAD]\n",
      "O\t[PAD]\n",
      "O\t[PAD]\n",
      "O\t[PAD]\n",
      "O\t[PAD]\n",
      "O\t[PAD]\n",
      "O\t[PAD]\n",
      "O\t[PAD]\n",
      "O\t[PAD]\n",
      "O\t[PAD]\n",
      "O\t[PAD]\n",
      "O\t[PAD]\n",
      "O\t[PAD]\n",
      "O\t[PAD]\n",
      "O\t[PAD]\n",
      "O\t[PAD]\n",
      "O\t[PAD]\n",
      "O\t[PAD]\n",
      "O\t[PAD]\n",
      "O\t[PAD]\n",
      "O\t[PAD]\n",
      "O\t[PAD]\n",
      "O\t[PAD]\n",
      "O\t[PAD]\n",
      "O\t[PAD]\n",
      "O\t[PAD]\n",
      "O\t[PAD]\n",
      "O\t[PAD]\n",
      "O\t[PAD]\n",
      "O\t[PAD]\n",
      "O\t[PAD]\n",
      "O\t[PAD]\n",
      "O\t[PAD]\n",
      "O\t[PAD]\n",
      "O\t[PAD]\n",
      "O\t[PAD]\n",
      "O\t[PAD]\n",
      "O\t[PAD]\n",
      "O\t[PAD]\n",
      "O\t[PAD]\n",
      "O\t[PAD]\n",
      "O\t[PAD]\n",
      "O\t[PAD]\n",
      "O\t[PAD]\n",
      "O\t[PAD]\n",
      "O\t[PAD]\n",
      "O\t[PAD]\n",
      "O\t[PAD]\n",
      "O\t[PAD]\n",
      "O\t[PAD]\n",
      "O\t[PAD]\n",
      "O\t[PAD]\n",
      "O\t[PAD]\n",
      "O\t[PAD]\n",
      "O\t[PAD]\n",
      "O\t[PAD]\n",
      "O\t[PAD]\n",
      "O\t[PAD]\n",
      "O\t[PAD]\n",
      "O\t[PAD]\n",
      "O\t[PAD]\n",
      "O\t[PAD]\n",
      "O\t[PAD]\n",
      "O\t[PAD]\n",
      "O\t[PAD]\n",
      "O\t[PAD]\n",
      "O\t[PAD]\n",
      "O\t[PAD]\n",
      "O\t[PAD]\n",
      "O\t[PAD]\n",
      "O\t[PAD]\n",
      "O\t[PAD]\n",
      "O\t[PAD]\n",
      "O\t[PAD]\n",
      "O\t[PAD]\n",
      "O\t[PAD]\n",
      "O\t[PAD]\n",
      "O\t[PAD]\n",
      "O\t[PAD]\n",
      "O\t[PAD]\n",
      "O\t[PAD]\n",
      "O\t[PAD]\n",
      "O\t[PAD]\n",
      "O\t[PAD]\n",
      "O\t[PAD]\n",
      "O\t[PAD]\n",
      "O\t[PAD]\n",
      "O\t[PAD]\n",
      "O\t[PAD]\n",
      "O\t[PAD]\n",
      "O\t[PAD]\n",
      "O\t[PAD]\n"
     ]
    }
   ],
   "source": [
    "for token, label in zip(new_tokens, new_labels):\n",
    "    print(\"{}\\t{}\".format(label, token))"
   ]
  },
  {
   "cell_type": "code",
   "execution_count": 81,
   "id": "-FnOTbn1ONFI",
   "metadata": {
    "id": "-FnOTbn1ONFI"
   },
   "outputs": [],
   "source": [
    "test_sentence = \"\"\"\n",
    "Zatrzasnął drzwi od mieszkania adama Padarewskiego w 1854 roku w dzień 5 czerwca.\n",
    "\"\"\""
   ]
  },
  {
   "cell_type": "code",
   "execution_count": 83,
   "id": "4pjCNhAWOM0r",
   "metadata": {
    "id": "4pjCNhAWOM0r"
   },
   "outputs": [],
   "source": [
    "tokenized_sentence = tokenizer_polish.encode(test_sentence)\n",
    "input_ids = torch.tensor([tokenized_sentence]).cuda()"
   ]
  },
  {
   "cell_type": "code",
   "execution_count": 85,
   "id": "DXkNo7k8OUha",
   "metadata": {
    "id": "DXkNo7k8OUha"
   },
   "outputs": [],
   "source": [
    "with torch.no_grad():\n",
    "    output = model_polish(input_ids)\n",
    "label_indices = np.argmax(output[0].to('cpu').numpy(), axis=2)"
   ]
  },
  {
   "cell_type": "code",
   "execution_count": 87,
   "id": "4lKjGyWxOfKK",
   "metadata": {
    "id": "4lKjGyWxOfKK"
   },
   "outputs": [],
   "source": [
    "tokens = tokenizer_polish.convert_ids_to_tokens(input_ids.to('cpu').numpy()[0])\n",
    "new_tokens, new_labels = [], []\n",
    "for token, label_idx in zip(tokens, label_indices[0]):\n",
    "    if token.startswith(\"##\"):\n",
    "        new_tokens[-1] = new_tokens[-1] + token[2:]\n",
    "    else:\n",
    "        new_labels.append(tag_values[label_idx])\n",
    "        new_tokens.append(token)"
   ]
  },
  {
   "cell_type": "code",
   "execution_count": 88,
   "id": "IyGObZ5jOmsA",
   "metadata": {
    "colab": {
     "base_uri": "https://localhost:8080/"
    },
    "id": "IyGObZ5jOmsA",
    "outputId": "73b03a05-58f0-470e-89a8-1bf8225431c2"
   },
   "outputs": [
    {
     "name": "stdout",
     "output_type": "stream",
     "text": [
      "O\t[CLS]\n",
      "O\tZatrzasnął\n",
      "O\tdrzwi\n",
      "O\tod\n",
      "O\tmieszkania\n",
      "forename\tadama\n",
      "surname\tPadarewskiego\n",
      "O\tw\n",
      "date\t1854\n",
      "O\troku\n",
      "O\tw\n",
      "date\tdzień\n",
      "date\t5\n",
      "O\tczerwca\n",
      "O\t.\n",
      "O\t[SEP]\n"
     ]
    }
   ],
   "source": [
    "for token, label in zip(new_tokens, new_labels):\n",
    "    print(\"{}\\t{}\".format(label, token))\n"
   ]
  },
  {
   "cell_type": "code",
   "execution_count": 89,
   "id": "l698GIpcOqD6",
   "metadata": {
    "colab": {
     "base_uri": "https://localhost:8080/"
    },
    "id": "l698GIpcOqD6",
    "outputId": "7b0927b4-6dfa-4346-c5a2-2549d3efd04c"
   },
   "outputs": [
    {
     "data": {
      "text/plain": [
       "tensor([[    2,  4038,  2175, 42213,   424,  4161,   819,  8545, 54713,   886,\n",
       "         11943,  4613,  5350,    91, 43697,   982,    91,  2522,    25,  2869,\n",
       "            18,     4]], device='cuda:0')"
      ]
     },
     "execution_count": 89,
     "metadata": {},
     "output_type": "execute_result"
    }
   ],
   "source": [
    "input_ids"
   ]
  },
  {
   "cell_type": "markdown",
   "id": "t9DdIk8aP-6w",
   "metadata": {
    "id": "t9DdIk8aP-6w"
   },
   "source": [
    "We can see that the polish_model works properly on some independent polish sentences"
   ]
  },
  {
   "cell_type": "code",
   "execution_count": null,
   "id": "0nzzfml-Ozco",
   "metadata": {
    "id": "0nzzfml-Ozco"
   },
   "outputs": [],
   "source": []
  }
 ],
 "metadata": {
  "accelerator": "GPU",
  "colab": {
   "machine_shape": "hm",
   "provenance": []
  },
  "gpuClass": "standard",
  "kernelspec": {
   "display_name": "Python 3 (ipykernel)",
   "language": "python",
   "name": "python3"
  },
  "language_info": {
   "codemirror_mode": {
    "name": "ipython",
    "version": 3
   },
   "file_extension": ".py",
   "mimetype": "text/x-python",
   "name": "python",
   "nbconvert_exporter": "python",
   "pygments_lexer": "ipython3",
   "version": "3.9.5"
  },
  "widgets": {
   "application/vnd.jupyter.widget-state+json": {
    "022108f3c02542b6a758d386d9e1d603": {
     "model_module": "@jupyter-widgets/base",
     "model_module_version": "1.2.0",
     "model_name": "LayoutModel",
     "state": {
      "_model_module": "@jupyter-widgets/base",
      "_model_module_version": "1.2.0",
      "_model_name": "LayoutModel",
      "_view_count": null,
      "_view_module": "@jupyter-widgets/base",
      "_view_module_version": "1.2.0",
      "_view_name": "LayoutView",
      "align_content": null,
      "align_items": null,
      "align_self": null,
      "border": null,
      "bottom": null,
      "display": null,
      "flex": null,
      "flex_flow": null,
      "grid_area": null,
      "grid_auto_columns": null,
      "grid_auto_flow": null,
      "grid_auto_rows": null,
      "grid_column": null,
      "grid_gap": null,
      "grid_row": null,
      "grid_template_areas": null,
      "grid_template_columns": null,
      "grid_template_rows": null,
      "height": null,
      "justify_content": null,
      "justify_items": null,
      "left": null,
      "margin": null,
      "max_height": null,
      "max_width": null,
      "min_height": null,
      "min_width": null,
      "object_fit": null,
      "object_position": null,
      "order": null,
      "overflow": null,
      "overflow_x": null,
      "overflow_y": null,
      "padding": null,
      "right": null,
      "top": null,
      "visibility": null,
      "width": null
     }
    },
    "04648f57b389407984feb29635acf3e2": {
     "model_module": "@jupyter-widgets/base",
     "model_module_version": "1.2.0",
     "model_name": "LayoutModel",
     "state": {
      "_model_module": "@jupyter-widgets/base",
      "_model_module_version": "1.2.0",
      "_model_name": "LayoutModel",
      "_view_count": null,
      "_view_module": "@jupyter-widgets/base",
      "_view_module_version": "1.2.0",
      "_view_name": "LayoutView",
      "align_content": null,
      "align_items": null,
      "align_self": null,
      "border": null,
      "bottom": null,
      "display": null,
      "flex": null,
      "flex_flow": null,
      "grid_area": null,
      "grid_auto_columns": null,
      "grid_auto_flow": null,
      "grid_auto_rows": null,
      "grid_column": null,
      "grid_gap": null,
      "grid_row": null,
      "grid_template_areas": null,
      "grid_template_columns": null,
      "grid_template_rows": null,
      "height": null,
      "justify_content": null,
      "justify_items": null,
      "left": null,
      "margin": null,
      "max_height": null,
      "max_width": null,
      "min_height": null,
      "min_width": null,
      "object_fit": null,
      "object_position": null,
      "order": null,
      "overflow": null,
      "overflow_x": null,
      "overflow_y": null,
      "padding": null,
      "right": null,
      "top": null,
      "visibility": null,
      "width": null
     }
    },
    "0588c03d2fcd4321b25fcde1dc824d1e": {
     "model_module": "@jupyter-widgets/controls",
     "model_module_version": "1.5.0",
     "model_name": "DescriptionStyleModel",
     "state": {
      "_model_module": "@jupyter-widgets/controls",
      "_model_module_version": "1.5.0",
      "_model_name": "DescriptionStyleModel",
      "_view_count": null,
      "_view_module": "@jupyter-widgets/base",
      "_view_module_version": "1.2.0",
      "_view_name": "StyleView",
      "description_width": ""
     }
    },
    "058dbf42a8ff4627a281957dc3245491": {
     "model_module": "@jupyter-widgets/controls",
     "model_module_version": "1.5.0",
     "model_name": "DescriptionStyleModel",
     "state": {
      "_model_module": "@jupyter-widgets/controls",
      "_model_module_version": "1.5.0",
      "_model_name": "DescriptionStyleModel",
      "_view_count": null,
      "_view_module": "@jupyter-widgets/base",
      "_view_module_version": "1.2.0",
      "_view_name": "StyleView",
      "description_width": ""
     }
    },
    "07f48770063a43e4a254e3e08c9e4d41": {
     "model_module": "@jupyter-widgets/base",
     "model_module_version": "1.2.0",
     "model_name": "LayoutModel",
     "state": {
      "_model_module": "@jupyter-widgets/base",
      "_model_module_version": "1.2.0",
      "_model_name": "LayoutModel",
      "_view_count": null,
      "_view_module": "@jupyter-widgets/base",
      "_view_module_version": "1.2.0",
      "_view_name": "LayoutView",
      "align_content": null,
      "align_items": null,
      "align_self": null,
      "border": null,
      "bottom": null,
      "display": null,
      "flex": null,
      "flex_flow": null,
      "grid_area": null,
      "grid_auto_columns": null,
      "grid_auto_flow": null,
      "grid_auto_rows": null,
      "grid_column": null,
      "grid_gap": null,
      "grid_row": null,
      "grid_template_areas": null,
      "grid_template_columns": null,
      "grid_template_rows": null,
      "height": null,
      "justify_content": null,
      "justify_items": null,
      "left": null,
      "margin": null,
      "max_height": null,
      "max_width": null,
      "min_height": null,
      "min_width": null,
      "object_fit": null,
      "object_position": null,
      "order": null,
      "overflow": null,
      "overflow_x": null,
      "overflow_y": null,
      "padding": null,
      "right": null,
      "top": null,
      "visibility": null,
      "width": null
     }
    },
    "080156c914b74300a9db073d2f7f06b7": {
     "model_module": "@jupyter-widgets/base",
     "model_module_version": "1.2.0",
     "model_name": "LayoutModel",
     "state": {
      "_model_module": "@jupyter-widgets/base",
      "_model_module_version": "1.2.0",
      "_model_name": "LayoutModel",
      "_view_count": null,
      "_view_module": "@jupyter-widgets/base",
      "_view_module_version": "1.2.0",
      "_view_name": "LayoutView",
      "align_content": null,
      "align_items": null,
      "align_self": null,
      "border": null,
      "bottom": null,
      "display": null,
      "flex": null,
      "flex_flow": null,
      "grid_area": null,
      "grid_auto_columns": null,
      "grid_auto_flow": null,
      "grid_auto_rows": null,
      "grid_column": null,
      "grid_gap": null,
      "grid_row": null,
      "grid_template_areas": null,
      "grid_template_columns": null,
      "grid_template_rows": null,
      "height": null,
      "justify_content": null,
      "justify_items": null,
      "left": null,
      "margin": null,
      "max_height": null,
      "max_width": null,
      "min_height": null,
      "min_width": null,
      "object_fit": null,
      "object_position": null,
      "order": null,
      "overflow": null,
      "overflow_x": null,
      "overflow_y": null,
      "padding": null,
      "right": null,
      "top": null,
      "visibility": null,
      "width": null
     }
    },
    "08bc6f3146244362af231e2689da3a02": {
     "model_module": "@jupyter-widgets/controls",
     "model_module_version": "1.5.0",
     "model_name": "DescriptionStyleModel",
     "state": {
      "_model_module": "@jupyter-widgets/controls",
      "_model_module_version": "1.5.0",
      "_model_name": "DescriptionStyleModel",
      "_view_count": null,
      "_view_module": "@jupyter-widgets/base",
      "_view_module_version": "1.2.0",
      "_view_name": "StyleView",
      "description_width": ""
     }
    },
    "0c4f2fdb28034224b2c3f0a9b8bff173": {
     "model_module": "@jupyter-widgets/controls",
     "model_module_version": "1.5.0",
     "model_name": "DescriptionStyleModel",
     "state": {
      "_model_module": "@jupyter-widgets/controls",
      "_model_module_version": "1.5.0",
      "_model_name": "DescriptionStyleModel",
      "_view_count": null,
      "_view_module": "@jupyter-widgets/base",
      "_view_module_version": "1.2.0",
      "_view_name": "StyleView",
      "description_width": ""
     }
    },
    "11574625831242b5b839c6e71261523a": {
     "model_module": "@jupyter-widgets/controls",
     "model_module_version": "1.5.0",
     "model_name": "DescriptionStyleModel",
     "state": {
      "_model_module": "@jupyter-widgets/controls",
      "_model_module_version": "1.5.0",
      "_model_name": "DescriptionStyleModel",
      "_view_count": null,
      "_view_module": "@jupyter-widgets/base",
      "_view_module_version": "1.2.0",
      "_view_name": "StyleView",
      "description_width": ""
     }
    },
    "120b6751cee64c25968e3c5a9dc7f798": {
     "model_module": "@jupyter-widgets/controls",
     "model_module_version": "1.5.0",
     "model_name": "DescriptionStyleModel",
     "state": {
      "_model_module": "@jupyter-widgets/controls",
      "_model_module_version": "1.5.0",
      "_model_name": "DescriptionStyleModel",
      "_view_count": null,
      "_view_module": "@jupyter-widgets/base",
      "_view_module_version": "1.2.0",
      "_view_name": "StyleView",
      "description_width": ""
     }
    },
    "17b6a0ff624445b99fef62e68e597478": {
     "model_module": "@jupyter-widgets/base",
     "model_module_version": "1.2.0",
     "model_name": "LayoutModel",
     "state": {
      "_model_module": "@jupyter-widgets/base",
      "_model_module_version": "1.2.0",
      "_model_name": "LayoutModel",
      "_view_count": null,
      "_view_module": "@jupyter-widgets/base",
      "_view_module_version": "1.2.0",
      "_view_name": "LayoutView",
      "align_content": null,
      "align_items": null,
      "align_self": null,
      "border": null,
      "bottom": null,
      "display": null,
      "flex": null,
      "flex_flow": null,
      "grid_area": null,
      "grid_auto_columns": null,
      "grid_auto_flow": null,
      "grid_auto_rows": null,
      "grid_column": null,
      "grid_gap": null,
      "grid_row": null,
      "grid_template_areas": null,
      "grid_template_columns": null,
      "grid_template_rows": null,
      "height": null,
      "justify_content": null,
      "justify_items": null,
      "left": null,
      "margin": null,
      "max_height": null,
      "max_width": null,
      "min_height": null,
      "min_width": null,
      "object_fit": null,
      "object_position": null,
      "order": null,
      "overflow": null,
      "overflow_x": null,
      "overflow_y": null,
      "padding": null,
      "right": null,
      "top": null,
      "visibility": null,
      "width": null
     }
    },
    "1fa5c55d4ec8405ebeff81373a9d761c": {
     "model_module": "@jupyter-widgets/controls",
     "model_module_version": "1.5.0",
     "model_name": "HTMLModel",
     "state": {
      "_dom_classes": [],
      "_model_module": "@jupyter-widgets/controls",
      "_model_module_version": "1.5.0",
      "_model_name": "HTMLModel",
      "_view_count": null,
      "_view_module": "@jupyter-widgets/controls",
      "_view_module_version": "1.5.0",
      "_view_name": "HTMLView",
      "description": "",
      "description_tooltip": null,
      "layout": "IPY_MODEL_e7b85f3ac9314853b21aba37944b0098",
      "placeholder": "​",
      "style": "IPY_MODEL_713a5bc194d84260a355e5e3a9a5297b",
      "value": "Downloading (…)&quot;pytorch_model.bin&quot;;: 100%"
     }
    },
    "2329550d402e44bca161958f7bc01b89": {
     "model_module": "@jupyter-widgets/controls",
     "model_module_version": "1.5.0",
     "model_name": "ProgressStyleModel",
     "state": {
      "_model_module": "@jupyter-widgets/controls",
      "_model_module_version": "1.5.0",
      "_model_name": "ProgressStyleModel",
      "_view_count": null,
      "_view_module": "@jupyter-widgets/base",
      "_view_module_version": "1.2.0",
      "_view_name": "StyleView",
      "bar_color": null,
      "description_width": ""
     }
    },
    "24105f36e1c54c0a83db4336c2b1eb44": {
     "model_module": "@jupyter-widgets/base",
     "model_module_version": "1.2.0",
     "model_name": "LayoutModel",
     "state": {
      "_model_module": "@jupyter-widgets/base",
      "_model_module_version": "1.2.0",
      "_model_name": "LayoutModel",
      "_view_count": null,
      "_view_module": "@jupyter-widgets/base",
      "_view_module_version": "1.2.0",
      "_view_name": "LayoutView",
      "align_content": null,
      "align_items": null,
      "align_self": null,
      "border": null,
      "bottom": null,
      "display": null,
      "flex": null,
      "flex_flow": null,
      "grid_area": null,
      "grid_auto_columns": null,
      "grid_auto_flow": null,
      "grid_auto_rows": null,
      "grid_column": null,
      "grid_gap": null,
      "grid_row": null,
      "grid_template_areas": null,
      "grid_template_columns": null,
      "grid_template_rows": null,
      "height": null,
      "justify_content": null,
      "justify_items": null,
      "left": null,
      "margin": null,
      "max_height": null,
      "max_width": null,
      "min_height": null,
      "min_width": null,
      "object_fit": null,
      "object_position": null,
      "order": null,
      "overflow": null,
      "overflow_x": null,
      "overflow_y": null,
      "padding": null,
      "right": null,
      "top": null,
      "visibility": null,
      "width": null
     }
    },
    "250fda6d68b649a0acf158f742a36e6f": {
     "model_module": "@jupyter-widgets/base",
     "model_module_version": "1.2.0",
     "model_name": "LayoutModel",
     "state": {
      "_model_module": "@jupyter-widgets/base",
      "_model_module_version": "1.2.0",
      "_model_name": "LayoutModel",
      "_view_count": null,
      "_view_module": "@jupyter-widgets/base",
      "_view_module_version": "1.2.0",
      "_view_name": "LayoutView",
      "align_content": null,
      "align_items": null,
      "align_self": null,
      "border": null,
      "bottom": null,
      "display": null,
      "flex": null,
      "flex_flow": null,
      "grid_area": null,
      "grid_auto_columns": null,
      "grid_auto_flow": null,
      "grid_auto_rows": null,
      "grid_column": null,
      "grid_gap": null,
      "grid_row": null,
      "grid_template_areas": null,
      "grid_template_columns": null,
      "grid_template_rows": null,
      "height": null,
      "justify_content": null,
      "justify_items": null,
      "left": null,
      "margin": null,
      "max_height": null,
      "max_width": null,
      "min_height": null,
      "min_width": null,
      "object_fit": null,
      "object_position": null,
      "order": null,
      "overflow": null,
      "overflow_x": null,
      "overflow_y": null,
      "padding": null,
      "right": null,
      "top": null,
      "visibility": null,
      "width": null
     }
    },
    "2560c3117da043bab80033a3a2fcf64e": {
     "model_module": "@jupyter-widgets/controls",
     "model_module_version": "1.5.0",
     "model_name": "HBoxModel",
     "state": {
      "_dom_classes": [],
      "_model_module": "@jupyter-widgets/controls",
      "_model_module_version": "1.5.0",
      "_model_name": "HBoxModel",
      "_view_count": null,
      "_view_module": "@jupyter-widgets/controls",
      "_view_module_version": "1.5.0",
      "_view_name": "HBoxView",
      "box_style": "",
      "children": [
       "IPY_MODEL_df75d9636edf4bd49a0732a0104b8f39",
       "IPY_MODEL_fb17087dec7d40c283788c87cabd2c21",
       "IPY_MODEL_b60e1983faa044669c179f4d1565bb07"
      ],
      "layout": "IPY_MODEL_022108f3c02542b6a758d386d9e1d603"
     }
    },
    "269968292895474380731dc77e70618b": {
     "model_module": "@jupyter-widgets/base",
     "model_module_version": "1.2.0",
     "model_name": "LayoutModel",
     "state": {
      "_model_module": "@jupyter-widgets/base",
      "_model_module_version": "1.2.0",
      "_model_name": "LayoutModel",
      "_view_count": null,
      "_view_module": "@jupyter-widgets/base",
      "_view_module_version": "1.2.0",
      "_view_name": "LayoutView",
      "align_content": null,
      "align_items": null,
      "align_self": null,
      "border": null,
      "bottom": null,
      "display": null,
      "flex": null,
      "flex_flow": null,
      "grid_area": null,
      "grid_auto_columns": null,
      "grid_auto_flow": null,
      "grid_auto_rows": null,
      "grid_column": null,
      "grid_gap": null,
      "grid_row": null,
      "grid_template_areas": null,
      "grid_template_columns": null,
      "grid_template_rows": null,
      "height": null,
      "justify_content": null,
      "justify_items": null,
      "left": null,
      "margin": null,
      "max_height": null,
      "max_width": null,
      "min_height": null,
      "min_width": null,
      "object_fit": null,
      "object_position": null,
      "order": null,
      "overflow": null,
      "overflow_x": null,
      "overflow_y": null,
      "padding": null,
      "right": null,
      "top": null,
      "visibility": null,
      "width": null
     }
    },
    "2a2388ccc2f9471e8adb133cf44eda3a": {
     "model_module": "@jupyter-widgets/base",
     "model_module_version": "1.2.0",
     "model_name": "LayoutModel",
     "state": {
      "_model_module": "@jupyter-widgets/base",
      "_model_module_version": "1.2.0",
      "_model_name": "LayoutModel",
      "_view_count": null,
      "_view_module": "@jupyter-widgets/base",
      "_view_module_version": "1.2.0",
      "_view_name": "LayoutView",
      "align_content": null,
      "align_items": null,
      "align_self": null,
      "border": null,
      "bottom": null,
      "display": null,
      "flex": null,
      "flex_flow": null,
      "grid_area": null,
      "grid_auto_columns": null,
      "grid_auto_flow": null,
      "grid_auto_rows": null,
      "grid_column": null,
      "grid_gap": null,
      "grid_row": null,
      "grid_template_areas": null,
      "grid_template_columns": null,
      "grid_template_rows": null,
      "height": null,
      "justify_content": null,
      "justify_items": null,
      "left": null,
      "margin": null,
      "max_height": null,
      "max_width": null,
      "min_height": null,
      "min_width": null,
      "object_fit": null,
      "object_position": null,
      "order": null,
      "overflow": null,
      "overflow_x": null,
      "overflow_y": null,
      "padding": null,
      "right": null,
      "top": null,
      "visibility": null,
      "width": null
     }
    },
    "3270131935ef4a14a99210489c5d2bac": {
     "model_module": "@jupyter-widgets/controls",
     "model_module_version": "1.5.0",
     "model_name": "ProgressStyleModel",
     "state": {
      "_model_module": "@jupyter-widgets/controls",
      "_model_module_version": "1.5.0",
      "_model_name": "ProgressStyleModel",
      "_view_count": null,
      "_view_module": "@jupyter-widgets/base",
      "_view_module_version": "1.2.0",
      "_view_name": "StyleView",
      "bar_color": null,
      "description_width": ""
     }
    },
    "3aef53e899d045f1a7d9bf4fd43ad74e": {
     "model_module": "@jupyter-widgets/base",
     "model_module_version": "1.2.0",
     "model_name": "LayoutModel",
     "state": {
      "_model_module": "@jupyter-widgets/base",
      "_model_module_version": "1.2.0",
      "_model_name": "LayoutModel",
      "_view_count": null,
      "_view_module": "@jupyter-widgets/base",
      "_view_module_version": "1.2.0",
      "_view_name": "LayoutView",
      "align_content": null,
      "align_items": null,
      "align_self": null,
      "border": null,
      "bottom": null,
      "display": null,
      "flex": null,
      "flex_flow": null,
      "grid_area": null,
      "grid_auto_columns": null,
      "grid_auto_flow": null,
      "grid_auto_rows": null,
      "grid_column": null,
      "grid_gap": null,
      "grid_row": null,
      "grid_template_areas": null,
      "grid_template_columns": null,
      "grid_template_rows": null,
      "height": null,
      "justify_content": null,
      "justify_items": null,
      "left": null,
      "margin": null,
      "max_height": null,
      "max_width": null,
      "min_height": null,
      "min_width": null,
      "object_fit": null,
      "object_position": null,
      "order": null,
      "overflow": null,
      "overflow_x": null,
      "overflow_y": null,
      "padding": null,
      "right": null,
      "top": null,
      "visibility": null,
      "width": null
     }
    },
    "3f22ea2ef80e4a528cffc6d4cd9a9641": {
     "model_module": "@jupyter-widgets/base",
     "model_module_version": "1.2.0",
     "model_name": "LayoutModel",
     "state": {
      "_model_module": "@jupyter-widgets/base",
      "_model_module_version": "1.2.0",
      "_model_name": "LayoutModel",
      "_view_count": null,
      "_view_module": "@jupyter-widgets/base",
      "_view_module_version": "1.2.0",
      "_view_name": "LayoutView",
      "align_content": null,
      "align_items": null,
      "align_self": null,
      "border": null,
      "bottom": null,
      "display": null,
      "flex": null,
      "flex_flow": null,
      "grid_area": null,
      "grid_auto_columns": null,
      "grid_auto_flow": null,
      "grid_auto_rows": null,
      "grid_column": null,
      "grid_gap": null,
      "grid_row": null,
      "grid_template_areas": null,
      "grid_template_columns": null,
      "grid_template_rows": null,
      "height": null,
      "justify_content": null,
      "justify_items": null,
      "left": null,
      "margin": null,
      "max_height": null,
      "max_width": null,
      "min_height": null,
      "min_width": null,
      "object_fit": null,
      "object_position": null,
      "order": null,
      "overflow": null,
      "overflow_x": null,
      "overflow_y": null,
      "padding": null,
      "right": null,
      "top": null,
      "visibility": null,
      "width": null
     }
    },
    "41713398526d4381832a557d91f5bd08": {
     "model_module": "@jupyter-widgets/controls",
     "model_module_version": "1.5.0",
     "model_name": "FloatProgressModel",
     "state": {
      "_dom_classes": [],
      "_model_module": "@jupyter-widgets/controls",
      "_model_module_version": "1.5.0",
      "_model_name": "FloatProgressModel",
      "_view_count": null,
      "_view_module": "@jupyter-widgets/controls",
      "_view_module_version": "1.5.0",
      "_view_name": "ProgressView",
      "bar_style": "success",
      "description": "",
      "description_tooltip": null,
      "layout": "IPY_MODEL_bfc5d1d4936a49b1884784771b38010e",
      "max": 435779157,
      "min": 0,
      "orientation": "horizontal",
      "style": "IPY_MODEL_cf25b46d2a044bdda52b84e6ee9ca892",
      "value": 435779157
     }
    },
    "436fd71b7388425daf9dda1765970bec": {
     "model_module": "@jupyter-widgets/controls",
     "model_module_version": "1.5.0",
     "model_name": "HBoxModel",
     "state": {
      "_dom_classes": [],
      "_model_module": "@jupyter-widgets/controls",
      "_model_module_version": "1.5.0",
      "_model_name": "HBoxModel",
      "_view_count": null,
      "_view_module": "@jupyter-widgets/controls",
      "_view_module_version": "1.5.0",
      "_view_name": "HBoxView",
      "box_style": "",
      "children": [
       "IPY_MODEL_59439ec2cc344479bc6da76238a6de48",
       "IPY_MODEL_eaffab2258e541ab8955998999ecb6b1",
       "IPY_MODEL_d515c53c91c2426c9cbe06b4fc1804ac"
      ],
      "layout": "IPY_MODEL_e431aa6ed0134ab8b2214f57fc2ffd22"
     }
    },
    "437a20911144470fb6ac3d8b4d4f0914": {
     "model_module": "@jupyter-widgets/controls",
     "model_module_version": "1.5.0",
     "model_name": "DescriptionStyleModel",
     "state": {
      "_model_module": "@jupyter-widgets/controls",
      "_model_module_version": "1.5.0",
      "_model_name": "DescriptionStyleModel",
      "_view_count": null,
      "_view_module": "@jupyter-widgets/base",
      "_view_module_version": "1.2.0",
      "_view_name": "StyleView",
      "description_width": ""
     }
    },
    "4637470248ae494ea314e3600eae510f": {
     "model_module": "@jupyter-widgets/controls",
     "model_module_version": "1.5.0",
     "model_name": "FloatProgressModel",
     "state": {
      "_dom_classes": [],
      "_model_module": "@jupyter-widgets/controls",
      "_model_module_version": "1.5.0",
      "_model_name": "FloatProgressModel",
      "_view_count": null,
      "_view_module": "@jupyter-widgets/controls",
      "_view_module_version": "1.5.0",
      "_view_name": "ProgressView",
      "bar_style": "success",
      "description": "",
      "description_tooltip": null,
      "layout": "IPY_MODEL_e6478f5769f347b6bebf35988f0547ac",
      "max": 112,
      "min": 0,
      "orientation": "horizontal",
      "style": "IPY_MODEL_b5d8adc75dc14eea9c9ca8d38ef3e451",
      "value": 112
     }
    },
    "49497f2e76504cbe8b417d8876693fe4": {
     "model_module": "@jupyter-widgets/base",
     "model_module_version": "1.2.0",
     "model_name": "LayoutModel",
     "state": {
      "_model_module": "@jupyter-widgets/base",
      "_model_module_version": "1.2.0",
      "_model_name": "LayoutModel",
      "_view_count": null,
      "_view_module": "@jupyter-widgets/base",
      "_view_module_version": "1.2.0",
      "_view_name": "LayoutView",
      "align_content": null,
      "align_items": null,
      "align_self": null,
      "border": null,
      "bottom": null,
      "display": null,
      "flex": null,
      "flex_flow": null,
      "grid_area": null,
      "grid_auto_columns": null,
      "grid_auto_flow": null,
      "grid_auto_rows": null,
      "grid_column": null,
      "grid_gap": null,
      "grid_row": null,
      "grid_template_areas": null,
      "grid_template_columns": null,
      "grid_template_rows": null,
      "height": null,
      "justify_content": null,
      "justify_items": null,
      "left": null,
      "margin": null,
      "max_height": null,
      "max_width": null,
      "min_height": null,
      "min_width": null,
      "object_fit": null,
      "object_position": null,
      "order": null,
      "overflow": null,
      "overflow_x": null,
      "overflow_y": null,
      "padding": null,
      "right": null,
      "top": null,
      "visibility": null,
      "width": null
     }
    },
    "4dc5fc5112db447892a60f003d5e2525": {
     "model_module": "@jupyter-widgets/controls",
     "model_module_version": "1.5.0",
     "model_name": "HTMLModel",
     "state": {
      "_dom_classes": [],
      "_model_module": "@jupyter-widgets/controls",
      "_model_module_version": "1.5.0",
      "_model_name": "HTMLModel",
      "_view_count": null,
      "_view_module": "@jupyter-widgets/controls",
      "_view_module_version": "1.5.0",
      "_view_name": "HTMLView",
      "description": "",
      "description_tooltip": null,
      "layout": "IPY_MODEL_bad7040b3db74df9ae35acdcb860bfe5",
      "placeholder": "​",
      "style": "IPY_MODEL_cbbb6edd7d6d4e15901a83151d087bf1",
      "value": " 531M/531M [00:03&lt;00:00, 138MB/s]"
     }
    },
    "4e2338ef971041b99c17ad875fd7da86": {
     "model_module": "@jupyter-widgets/controls",
     "model_module_version": "1.5.0",
     "model_name": "DescriptionStyleModel",
     "state": {
      "_model_module": "@jupyter-widgets/controls",
      "_model_module_version": "1.5.0",
      "_model_name": "DescriptionStyleModel",
      "_view_count": null,
      "_view_module": "@jupyter-widgets/base",
      "_view_module_version": "1.2.0",
      "_view_name": "StyleView",
      "description_width": ""
     }
    },
    "4e4c23a79ab04734b4b8dee3e02aab2d": {
     "model_module": "@jupyter-widgets/controls",
     "model_module_version": "1.5.0",
     "model_name": "HTMLModel",
     "state": {
      "_dom_classes": [],
      "_model_module": "@jupyter-widgets/controls",
      "_model_module_version": "1.5.0",
      "_model_name": "HTMLModel",
      "_view_count": null,
      "_view_module": "@jupyter-widgets/controls",
      "_view_module_version": "1.5.0",
      "_view_name": "HTMLView",
      "description": "",
      "description_tooltip": null,
      "layout": "IPY_MODEL_04648f57b389407984feb29635acf3e2",
      "placeholder": "​",
      "style": "IPY_MODEL_08bc6f3146244362af231e2689da3a02",
      "value": "Downloading (…)solve/main/vocab.txt: 100%"
     }
    },
    "51b715b1c9724634a4813b9e9b4c1d49": {
     "model_module": "@jupyter-widgets/controls",
     "model_module_version": "1.5.0",
     "model_name": "HTMLModel",
     "state": {
      "_dom_classes": [],
      "_model_module": "@jupyter-widgets/controls",
      "_model_module_version": "1.5.0",
      "_model_name": "HTMLModel",
      "_view_count": null,
      "_view_module": "@jupyter-widgets/controls",
      "_view_module_version": "1.5.0",
      "_view_name": "HTMLView",
      "description": "",
      "description_tooltip": null,
      "layout": "IPY_MODEL_d700f8eee97342378f5b20181d1d6f08",
      "placeholder": "​",
      "style": "IPY_MODEL_5fc21a744cd34ef69f5bfe1e255ff7ee",
      "value": " 570/570 [00:00&lt;00:00, 36.2kB/s]"
     }
    },
    "566b5d6647144811827854429b839e71": {
     "model_module": "@jupyter-widgets/base",
     "model_module_version": "1.2.0",
     "model_name": "LayoutModel",
     "state": {
      "_model_module": "@jupyter-widgets/base",
      "_model_module_version": "1.2.0",
      "_model_name": "LayoutModel",
      "_view_count": null,
      "_view_module": "@jupyter-widgets/base",
      "_view_module_version": "1.2.0",
      "_view_name": "LayoutView",
      "align_content": null,
      "align_items": null,
      "align_self": null,
      "border": null,
      "bottom": null,
      "display": null,
      "flex": null,
      "flex_flow": null,
      "grid_area": null,
      "grid_auto_columns": null,
      "grid_auto_flow": null,
      "grid_auto_rows": null,
      "grid_column": null,
      "grid_gap": null,
      "grid_row": null,
      "grid_template_areas": null,
      "grid_template_columns": null,
      "grid_template_rows": null,
      "height": null,
      "justify_content": null,
      "justify_items": null,
      "left": null,
      "margin": null,
      "max_height": null,
      "max_width": null,
      "min_height": null,
      "min_width": null,
      "object_fit": null,
      "object_position": null,
      "order": null,
      "overflow": null,
      "overflow_x": null,
      "overflow_y": null,
      "padding": null,
      "right": null,
      "top": null,
      "visibility": null,
      "width": null
     }
    },
    "59439ec2cc344479bc6da76238a6de48": {
     "model_module": "@jupyter-widgets/controls",
     "model_module_version": "1.5.0",
     "model_name": "HTMLModel",
     "state": {
      "_dom_classes": [],
      "_model_module": "@jupyter-widgets/controls",
      "_model_module_version": "1.5.0",
      "_model_name": "HTMLModel",
      "_view_count": null,
      "_view_module": "@jupyter-widgets/controls",
      "_view_module_version": "1.5.0",
      "_view_name": "HTMLView",
      "description": "",
      "description_tooltip": null,
      "layout": "IPY_MODEL_b223cd71253641d08c9057a13c955101",
      "placeholder": "​",
      "style": "IPY_MODEL_77a6af8f7aa548aab724edac29b8cbb6",
      "value": "Downloading (…)solve/main/vocab.txt: 100%"
     }
    },
    "5a6343d50b9448e98c471da0cdb2753f": {
     "model_module": "@jupyter-widgets/controls",
     "model_module_version": "1.5.0",
     "model_name": "FloatProgressModel",
     "state": {
      "_dom_classes": [],
      "_model_module": "@jupyter-widgets/controls",
      "_model_module_version": "1.5.0",
      "_model_name": "FloatProgressModel",
      "_view_count": null,
      "_view_module": "@jupyter-widgets/controls",
      "_view_module_version": "1.5.0",
      "_view_name": "ProgressView",
      "bar_style": "success",
      "description": "",
      "description_tooltip": null,
      "layout": "IPY_MODEL_250fda6d68b649a0acf158f742a36e6f",
      "max": 459,
      "min": 0,
      "orientation": "horizontal",
      "style": "IPY_MODEL_ef100b0d99784b2e86a4d9f30a24ddce",
      "value": 459
     }
    },
    "5fc21a744cd34ef69f5bfe1e255ff7ee": {
     "model_module": "@jupyter-widgets/controls",
     "model_module_version": "1.5.0",
     "model_name": "DescriptionStyleModel",
     "state": {
      "_model_module": "@jupyter-widgets/controls",
      "_model_module_version": "1.5.0",
      "_model_name": "DescriptionStyleModel",
      "_view_count": null,
      "_view_module": "@jupyter-widgets/base",
      "_view_module_version": "1.2.0",
      "_view_name": "StyleView",
      "description_width": ""
     }
    },
    "63285f93f168467fa690c88fd9f443a4": {
     "model_module": "@jupyter-widgets/controls",
     "model_module_version": "1.5.0",
     "model_name": "FloatProgressModel",
     "state": {
      "_dom_classes": [],
      "_model_module": "@jupyter-widgets/controls",
      "_model_module_version": "1.5.0",
      "_model_name": "FloatProgressModel",
      "_view_count": null,
      "_view_module": "@jupyter-widgets/controls",
      "_view_module_version": "1.5.0",
      "_view_name": "ProgressView",
      "bar_style": "success",
      "description": "",
      "description_tooltip": null,
      "layout": "IPY_MODEL_dd909aa2b7ce44628e424e1d46aa59fe",
      "max": 570,
      "min": 0,
      "orientation": "horizontal",
      "style": "IPY_MODEL_efdbdaf6cf2c40d9a54f0d4f27817a2b",
      "value": 570
     }
    },
    "63af71b07c304ed58244eaa1181b877c": {
     "model_module": "@jupyter-widgets/base",
     "model_module_version": "1.2.0",
     "model_name": "LayoutModel",
     "state": {
      "_model_module": "@jupyter-widgets/base",
      "_model_module_version": "1.2.0",
      "_model_name": "LayoutModel",
      "_view_count": null,
      "_view_module": "@jupyter-widgets/base",
      "_view_module_version": "1.2.0",
      "_view_name": "LayoutView",
      "align_content": null,
      "align_items": null,
      "align_self": null,
      "border": null,
      "bottom": null,
      "display": null,
      "flex": null,
      "flex_flow": null,
      "grid_area": null,
      "grid_auto_columns": null,
      "grid_auto_flow": null,
      "grid_auto_rows": null,
      "grid_column": null,
      "grid_gap": null,
      "grid_row": null,
      "grid_template_areas": null,
      "grid_template_columns": null,
      "grid_template_rows": null,
      "height": null,
      "justify_content": null,
      "justify_items": null,
      "left": null,
      "margin": null,
      "max_height": null,
      "max_width": null,
      "min_height": null,
      "min_width": null,
      "object_fit": null,
      "object_position": null,
      "order": null,
      "overflow": null,
      "overflow_x": null,
      "overflow_y": null,
      "padding": null,
      "right": null,
      "top": null,
      "visibility": null,
      "width": null
     }
    },
    "65cf70e8c38e4bfb85d88dc78426082d": {
     "model_module": "@jupyter-widgets/controls",
     "model_module_version": "1.5.0",
     "model_name": "DescriptionStyleModel",
     "state": {
      "_model_module": "@jupyter-widgets/controls",
      "_model_module_version": "1.5.0",
      "_model_name": "DescriptionStyleModel",
      "_view_count": null,
      "_view_module": "@jupyter-widgets/base",
      "_view_module_version": "1.2.0",
      "_view_name": "StyleView",
      "description_width": ""
     }
    },
    "697ed1d4fe5a43b7957d46d716ce4b54": {
     "model_module": "@jupyter-widgets/controls",
     "model_module_version": "1.5.0",
     "model_name": "HBoxModel",
     "state": {
      "_dom_classes": [],
      "_model_module": "@jupyter-widgets/controls",
      "_model_module_version": "1.5.0",
      "_model_name": "HBoxModel",
      "_view_count": null,
      "_view_module": "@jupyter-widgets/controls",
      "_view_module_version": "1.5.0",
      "_view_name": "HBoxView",
      "box_style": "",
      "children": [
       "IPY_MODEL_4e4c23a79ab04734b4b8dee3e02aab2d",
       "IPY_MODEL_fee74cc9e7984501803649af57be6f41",
       "IPY_MODEL_a7de3803e73c4cbe8b3326258c3cac24"
      ],
      "layout": "IPY_MODEL_2a2388ccc2f9471e8adb133cf44eda3a"
     }
    },
    "6b2268cfed614e51b11c2c46a8c5b300": {
     "model_module": "@jupyter-widgets/base",
     "model_module_version": "1.2.0",
     "model_name": "LayoutModel",
     "state": {
      "_model_module": "@jupyter-widgets/base",
      "_model_module_version": "1.2.0",
      "_model_name": "LayoutModel",
      "_view_count": null,
      "_view_module": "@jupyter-widgets/base",
      "_view_module_version": "1.2.0",
      "_view_name": "LayoutView",
      "align_content": null,
      "align_items": null,
      "align_self": null,
      "border": null,
      "bottom": null,
      "display": null,
      "flex": null,
      "flex_flow": null,
      "grid_area": null,
      "grid_auto_columns": null,
      "grid_auto_flow": null,
      "grid_auto_rows": null,
      "grid_column": null,
      "grid_gap": null,
      "grid_row": null,
      "grid_template_areas": null,
      "grid_template_columns": null,
      "grid_template_rows": null,
      "height": null,
      "justify_content": null,
      "justify_items": null,
      "left": null,
      "margin": null,
      "max_height": null,
      "max_width": null,
      "min_height": null,
      "min_width": null,
      "object_fit": null,
      "object_position": null,
      "order": null,
      "overflow": null,
      "overflow_x": null,
      "overflow_y": null,
      "padding": null,
      "right": null,
      "top": null,
      "visibility": null,
      "width": null
     }
    },
    "6ba2736bf3534daab8f9f01d116b04a3": {
     "model_module": "@jupyter-widgets/controls",
     "model_module_version": "1.5.0",
     "model_name": "ProgressStyleModel",
     "state": {
      "_model_module": "@jupyter-widgets/controls",
      "_model_module_version": "1.5.0",
      "_model_name": "ProgressStyleModel",
      "_view_count": null,
      "_view_module": "@jupyter-widgets/base",
      "_view_module_version": "1.2.0",
      "_view_name": "StyleView",
      "bar_color": null,
      "description_width": ""
     }
    },
    "6df6b800c34d4afa82d4824b4bee40b7": {
     "model_module": "@jupyter-widgets/controls",
     "model_module_version": "1.5.0",
     "model_name": "DescriptionStyleModel",
     "state": {
      "_model_module": "@jupyter-widgets/controls",
      "_model_module_version": "1.5.0",
      "_model_name": "DescriptionStyleModel",
      "_view_count": null,
      "_view_module": "@jupyter-widgets/base",
      "_view_module_version": "1.2.0",
      "_view_name": "StyleView",
      "description_width": ""
     }
    },
    "713a5bc194d84260a355e5e3a9a5297b": {
     "model_module": "@jupyter-widgets/controls",
     "model_module_version": "1.5.0",
     "model_name": "DescriptionStyleModel",
     "state": {
      "_model_module": "@jupyter-widgets/controls",
      "_model_module_version": "1.5.0",
      "_model_name": "DescriptionStyleModel",
      "_view_count": null,
      "_view_module": "@jupyter-widgets/base",
      "_view_module_version": "1.2.0",
      "_view_name": "StyleView",
      "description_width": ""
     }
    },
    "74dfabcde4e949f99b0603310319be63": {
     "model_module": "@jupyter-widgets/controls",
     "model_module_version": "1.5.0",
     "model_name": "HBoxModel",
     "state": {
      "_dom_classes": [],
      "_model_module": "@jupyter-widgets/controls",
      "_model_module_version": "1.5.0",
      "_model_name": "HBoxModel",
      "_view_count": null,
      "_view_module": "@jupyter-widgets/controls",
      "_view_module_version": "1.5.0",
      "_view_name": "HBoxView",
      "box_style": "",
      "children": [
       "IPY_MODEL_9d485765e829486999f4374f4372f4e3",
       "IPY_MODEL_63285f93f168467fa690c88fd9f443a4",
       "IPY_MODEL_51b715b1c9724634a4813b9e9b4c1d49"
      ],
      "layout": "IPY_MODEL_080156c914b74300a9db073d2f7f06b7"
     }
    },
    "76692d4b675b4baf8a5baaf871b5c31f": {
     "model_module": "@jupyter-widgets/base",
     "model_module_version": "1.2.0",
     "model_name": "LayoutModel",
     "state": {
      "_model_module": "@jupyter-widgets/base",
      "_model_module_version": "1.2.0",
      "_model_name": "LayoutModel",
      "_view_count": null,
      "_view_module": "@jupyter-widgets/base",
      "_view_module_version": "1.2.0",
      "_view_name": "LayoutView",
      "align_content": null,
      "align_items": null,
      "align_self": null,
      "border": null,
      "bottom": null,
      "display": null,
      "flex": null,
      "flex_flow": null,
      "grid_area": null,
      "grid_auto_columns": null,
      "grid_auto_flow": null,
      "grid_auto_rows": null,
      "grid_column": null,
      "grid_gap": null,
      "grid_row": null,
      "grid_template_areas": null,
      "grid_template_columns": null,
      "grid_template_rows": null,
      "height": null,
      "justify_content": null,
      "justify_items": null,
      "left": null,
      "margin": null,
      "max_height": null,
      "max_width": null,
      "min_height": null,
      "min_width": null,
      "object_fit": null,
      "object_position": null,
      "order": null,
      "overflow": null,
      "overflow_x": null,
      "overflow_y": null,
      "padding": null,
      "right": null,
      "top": null,
      "visibility": null,
      "width": null
     }
    },
    "77a6af8f7aa548aab724edac29b8cbb6": {
     "model_module": "@jupyter-widgets/controls",
     "model_module_version": "1.5.0",
     "model_name": "DescriptionStyleModel",
     "state": {
      "_model_module": "@jupyter-widgets/controls",
      "_model_module_version": "1.5.0",
      "_model_name": "DescriptionStyleModel",
      "_view_count": null,
      "_view_module": "@jupyter-widgets/base",
      "_view_module_version": "1.2.0",
      "_view_name": "StyleView",
      "description_width": ""
     }
    },
    "79bce9752feb4c7fb7a6ec32d0e6c201": {
     "model_module": "@jupyter-widgets/controls",
     "model_module_version": "1.5.0",
     "model_name": "HBoxModel",
     "state": {
      "_dom_classes": [],
      "_model_module": "@jupyter-widgets/controls",
      "_model_module_version": "1.5.0",
      "_model_name": "HBoxModel",
      "_view_count": null,
      "_view_module": "@jupyter-widgets/controls",
      "_view_module_version": "1.5.0",
      "_view_name": "HBoxView",
      "box_style": "",
      "children": [
       "IPY_MODEL_8f75c857fd0e4ada8fc3c61cd90e5c24",
       "IPY_MODEL_5a6343d50b9448e98c471da0cdb2753f",
       "IPY_MODEL_9817830e6f824939a78d64895d8bfbe3"
      ],
      "layout": "IPY_MODEL_7d96d455477a4762871391d0d6c87d8f"
     }
    },
    "7a21403aa3be43de99cb4fd9cc0afef5": {
     "model_module": "@jupyter-widgets/controls",
     "model_module_version": "1.5.0",
     "model_name": "HTMLModel",
     "state": {
      "_dom_classes": [],
      "_model_module": "@jupyter-widgets/controls",
      "_model_module_version": "1.5.0",
      "_model_name": "HTMLModel",
      "_view_count": null,
      "_view_module": "@jupyter-widgets/controls",
      "_view_module_version": "1.5.0",
      "_view_name": "HTMLView",
      "description": "",
      "description_tooltip": null,
      "layout": "IPY_MODEL_ca7ba8760f414ddea113e593d1c8ab32",
      "placeholder": "​",
      "style": "IPY_MODEL_120b6751cee64c25968e3c5a9dc7f798",
      "value": "Downloading (…)&quot;pytorch_model.bin&quot;;: 100%"
     }
    },
    "7d96d455477a4762871391d0d6c87d8f": {
     "model_module": "@jupyter-widgets/base",
     "model_module_version": "1.2.0",
     "model_name": "LayoutModel",
     "state": {
      "_model_module": "@jupyter-widgets/base",
      "_model_module_version": "1.2.0",
      "_model_name": "LayoutModel",
      "_view_count": null,
      "_view_module": "@jupyter-widgets/base",
      "_view_module_version": "1.2.0",
      "_view_name": "LayoutView",
      "align_content": null,
      "align_items": null,
      "align_self": null,
      "border": null,
      "bottom": null,
      "display": null,
      "flex": null,
      "flex_flow": null,
      "grid_area": null,
      "grid_auto_columns": null,
      "grid_auto_flow": null,
      "grid_auto_rows": null,
      "grid_column": null,
      "grid_gap": null,
      "grid_row": null,
      "grid_template_areas": null,
      "grid_template_columns": null,
      "grid_template_rows": null,
      "height": null,
      "justify_content": null,
      "justify_items": null,
      "left": null,
      "margin": null,
      "max_height": null,
      "max_width": null,
      "min_height": null,
      "min_width": null,
      "object_fit": null,
      "object_position": null,
      "order": null,
      "overflow": null,
      "overflow_x": null,
      "overflow_y": null,
      "padding": null,
      "right": null,
      "top": null,
      "visibility": null,
      "width": null
     }
    },
    "7de2a71b9dc4407fac1dc974129f14bc": {
     "model_module": "@jupyter-widgets/controls",
     "model_module_version": "1.5.0",
     "model_name": "ProgressStyleModel",
     "state": {
      "_model_module": "@jupyter-widgets/controls",
      "_model_module_version": "1.5.0",
      "_model_name": "ProgressStyleModel",
      "_view_count": null,
      "_view_module": "@jupyter-widgets/base",
      "_view_module_version": "1.2.0",
      "_view_name": "StyleView",
      "bar_color": null,
      "description_width": ""
     }
    },
    "7f5f1a17f66645a2a233e0da917ad2ca": {
     "model_module": "@jupyter-widgets/controls",
     "model_module_version": "1.5.0",
     "model_name": "HBoxModel",
     "state": {
      "_dom_classes": [],
      "_model_module": "@jupyter-widgets/controls",
      "_model_module_version": "1.5.0",
      "_model_name": "HBoxModel",
      "_view_count": null,
      "_view_module": "@jupyter-widgets/controls",
      "_view_module_version": "1.5.0",
      "_view_name": "HBoxView",
      "box_style": "",
      "children": [
       "IPY_MODEL_ee838d29ab6f4f50b481e8a7f54a2476",
       "IPY_MODEL_aedc7068269649aba6c637aa46930785",
       "IPY_MODEL_dfb8f2a969c64582abe504c64e5c771e"
      ],
      "layout": "IPY_MODEL_17b6a0ff624445b99fef62e68e597478"
     }
    },
    "8486a3232471427fb462e7d1edb613a4": {
     "model_module": "@jupyter-widgets/controls",
     "model_module_version": "1.5.0",
     "model_name": "HBoxModel",
     "state": {
      "_dom_classes": [],
      "_model_module": "@jupyter-widgets/controls",
      "_model_module_version": "1.5.0",
      "_model_name": "HBoxModel",
      "_view_count": null,
      "_view_module": "@jupyter-widgets/controls",
      "_view_module_version": "1.5.0",
      "_view_name": "HBoxView",
      "box_style": "",
      "children": [
       "IPY_MODEL_7a21403aa3be43de99cb4fd9cc0afef5",
       "IPY_MODEL_87c4c66d956c46cdac6283dd01576368",
       "IPY_MODEL_4dc5fc5112db447892a60f003d5e2525"
      ],
      "layout": "IPY_MODEL_e16dbb7bdcad4584b857e285768b0708"
     }
    },
    "87c4c66d956c46cdac6283dd01576368": {
     "model_module": "@jupyter-widgets/controls",
     "model_module_version": "1.5.0",
     "model_name": "FloatProgressModel",
     "state": {
      "_dom_classes": [],
      "_model_module": "@jupyter-widgets/controls",
      "_model_module_version": "1.5.0",
      "_model_name": "FloatProgressModel",
      "_view_count": null,
      "_view_module": "@jupyter-widgets/controls",
      "_view_module_version": "1.5.0",
      "_view_name": "ProgressView",
      "bar_style": "success",
      "description": "",
      "description_tooltip": null,
      "layout": "IPY_MODEL_d34fd64c576a4842a08d0ec609a7f95a",
      "max": 531146786,
      "min": 0,
      "orientation": "horizontal",
      "style": "IPY_MODEL_2329550d402e44bca161958f7bc01b89",
      "value": 531146786
     }
    },
    "89032b95a7d44996968fcd9541a674ad": {
     "model_module": "@jupyter-widgets/controls",
     "model_module_version": "1.5.0",
     "model_name": "DescriptionStyleModel",
     "state": {
      "_model_module": "@jupyter-widgets/controls",
      "_model_module_version": "1.5.0",
      "_model_name": "DescriptionStyleModel",
      "_view_count": null,
      "_view_module": "@jupyter-widgets/base",
      "_view_module_version": "1.2.0",
      "_view_name": "StyleView",
      "description_width": ""
     }
    },
    "8dd532f451fb458a88790db7a3da63b4": {
     "model_module": "@jupyter-widgets/controls",
     "model_module_version": "1.5.0",
     "model_name": "ProgressStyleModel",
     "state": {
      "_model_module": "@jupyter-widgets/controls",
      "_model_module_version": "1.5.0",
      "_model_name": "ProgressStyleModel",
      "_view_count": null,
      "_view_module": "@jupyter-widgets/base",
      "_view_module_version": "1.2.0",
      "_view_name": "StyleView",
      "bar_color": null,
      "description_width": ""
     }
    },
    "8f75c857fd0e4ada8fc3c61cd90e5c24": {
     "model_module": "@jupyter-widgets/controls",
     "model_module_version": "1.5.0",
     "model_name": "HTMLModel",
     "state": {
      "_dom_classes": [],
      "_model_module": "@jupyter-widgets/controls",
      "_model_module_version": "1.5.0",
      "_model_name": "HTMLModel",
      "_view_count": null,
      "_view_module": "@jupyter-widgets/controls",
      "_view_module_version": "1.5.0",
      "_view_name": "HTMLView",
      "description": "",
      "description_tooltip": null,
      "layout": "IPY_MODEL_269968292895474380731dc77e70618b",
      "placeholder": "​",
      "style": "IPY_MODEL_99a30350740c4f4baef2e8584a4d59df",
      "value": "Downloading (…)lve/main/config.json: 100%"
     }
    },
    "902d1d087b1645a8be58015631cd5c62": {
     "model_module": "@jupyter-widgets/controls",
     "model_module_version": "1.5.0",
     "model_name": "HBoxModel",
     "state": {
      "_dom_classes": [],
      "_model_module": "@jupyter-widgets/controls",
      "_model_module_version": "1.5.0",
      "_model_name": "HBoxModel",
      "_view_count": null,
      "_view_module": "@jupyter-widgets/controls",
      "_view_module_version": "1.5.0",
      "_view_name": "HBoxView",
      "box_style": "",
      "children": [
       "IPY_MODEL_1fa5c55d4ec8405ebeff81373a9d761c",
       "IPY_MODEL_41713398526d4381832a557d91f5bd08",
       "IPY_MODEL_d72c836232134e0ea8f30d63d04269ef"
      ],
      "layout": "IPY_MODEL_f65dbcae443d44908c44f7683eb8ebb3"
     }
    },
    "9382ceda188f4e67a77150b0d37d0c8c": {
     "model_module": "@jupyter-widgets/base",
     "model_module_version": "1.2.0",
     "model_name": "LayoutModel",
     "state": {
      "_model_module": "@jupyter-widgets/base",
      "_model_module_version": "1.2.0",
      "_model_name": "LayoutModel",
      "_view_count": null,
      "_view_module": "@jupyter-widgets/base",
      "_view_module_version": "1.2.0",
      "_view_name": "LayoutView",
      "align_content": null,
      "align_items": null,
      "align_self": null,
      "border": null,
      "bottom": null,
      "display": null,
      "flex": null,
      "flex_flow": null,
      "grid_area": null,
      "grid_auto_columns": null,
      "grid_auto_flow": null,
      "grid_auto_rows": null,
      "grid_column": null,
      "grid_gap": null,
      "grid_row": null,
      "grid_template_areas": null,
      "grid_template_columns": null,
      "grid_template_rows": null,
      "height": null,
      "justify_content": null,
      "justify_items": null,
      "left": null,
      "margin": null,
      "max_height": null,
      "max_width": null,
      "min_height": null,
      "min_width": null,
      "object_fit": null,
      "object_position": null,
      "order": null,
      "overflow": null,
      "overflow_x": null,
      "overflow_y": null,
      "padding": null,
      "right": null,
      "top": null,
      "visibility": null,
      "width": null
     }
    },
    "9817830e6f824939a78d64895d8bfbe3": {
     "model_module": "@jupyter-widgets/controls",
     "model_module_version": "1.5.0",
     "model_name": "HTMLModel",
     "state": {
      "_dom_classes": [],
      "_model_module": "@jupyter-widgets/controls",
      "_model_module_version": "1.5.0",
      "_model_name": "HTMLModel",
      "_view_count": null,
      "_view_module": "@jupyter-widgets/controls",
      "_view_module_version": "1.5.0",
      "_view_name": "HTMLView",
      "description": "",
      "description_tooltip": null,
      "layout": "IPY_MODEL_566b5d6647144811827854429b839e71",
      "placeholder": "​",
      "style": "IPY_MODEL_e7887fcc6ec6471c9bfc0023dca533a2",
      "value": " 459/459 [00:00&lt;00:00, 29.8kB/s]"
     }
    },
    "99a30350740c4f4baef2e8584a4d59df": {
     "model_module": "@jupyter-widgets/controls",
     "model_module_version": "1.5.0",
     "model_name": "DescriptionStyleModel",
     "state": {
      "_model_module": "@jupyter-widgets/controls",
      "_model_module_version": "1.5.0",
      "_model_name": "DescriptionStyleModel",
      "_view_count": null,
      "_view_module": "@jupyter-widgets/base",
      "_view_module_version": "1.2.0",
      "_view_name": "StyleView",
      "description_width": ""
     }
    },
    "9d485765e829486999f4374f4372f4e3": {
     "model_module": "@jupyter-widgets/controls",
     "model_module_version": "1.5.0",
     "model_name": "HTMLModel",
     "state": {
      "_dom_classes": [],
      "_model_module": "@jupyter-widgets/controls",
      "_model_module_version": "1.5.0",
      "_model_name": "HTMLModel",
      "_view_count": null,
      "_view_module": "@jupyter-widgets/controls",
      "_view_module_version": "1.5.0",
      "_view_name": "HTMLView",
      "description": "",
      "description_tooltip": null,
      "layout": "IPY_MODEL_3f22ea2ef80e4a528cffc6d4cd9a9641",
      "placeholder": "​",
      "style": "IPY_MODEL_4e2338ef971041b99c17ad875fd7da86",
      "value": "Downloading (…)lve/main/config.json: 100%"
     }
    },
    "a0104c59f6f14a3ea95af7cb8704fd2a": {
     "model_module": "@jupyter-widgets/controls",
     "model_module_version": "1.5.0",
     "model_name": "DescriptionStyleModel",
     "state": {
      "_model_module": "@jupyter-widgets/controls",
      "_model_module_version": "1.5.0",
      "_model_name": "DescriptionStyleModel",
      "_view_count": null,
      "_view_module": "@jupyter-widgets/base",
      "_view_module_version": "1.2.0",
      "_view_name": "StyleView",
      "description_width": ""
     }
    },
    "a7de3803e73c4cbe8b3326258c3cac24": {
     "model_module": "@jupyter-widgets/controls",
     "model_module_version": "1.5.0",
     "model_name": "HTMLModel",
     "state": {
      "_dom_classes": [],
      "_model_module": "@jupyter-widgets/controls",
      "_model_module_version": "1.5.0",
      "_model_name": "HTMLModel",
      "_view_count": null,
      "_view_module": "@jupyter-widgets/controls",
      "_view_module_version": "1.5.0",
      "_view_name": "HTMLView",
      "description": "",
      "description_tooltip": null,
      "layout": "IPY_MODEL_49497f2e76504cbe8b417d8876693fe4",
      "placeholder": "​",
      "style": "IPY_MODEL_0588c03d2fcd4321b25fcde1dc824d1e",
      "value": " 489k/489k [00:00&lt;00:00, 5.06MB/s]"
     }
    },
    "aedc7068269649aba6c637aa46930785": {
     "model_module": "@jupyter-widgets/controls",
     "model_module_version": "1.5.0",
     "model_name": "FloatProgressModel",
     "state": {
      "_dom_classes": [],
      "_model_module": "@jupyter-widgets/controls",
      "_model_module_version": "1.5.0",
      "_model_name": "FloatProgressModel",
      "_view_count": null,
      "_view_module": "@jupyter-widgets/controls",
      "_view_module_version": "1.5.0",
      "_view_name": "ProgressView",
      "bar_style": "success",
      "description": "",
      "description_tooltip": null,
      "layout": "IPY_MODEL_24105f36e1c54c0a83db4336c2b1eb44",
      "max": 29,
      "min": 0,
      "orientation": "horizontal",
      "style": "IPY_MODEL_6ba2736bf3534daab8f9f01d116b04a3",
      "value": 29
     }
    },
    "b223cd71253641d08c9057a13c955101": {
     "model_module": "@jupyter-widgets/base",
     "model_module_version": "1.2.0",
     "model_name": "LayoutModel",
     "state": {
      "_model_module": "@jupyter-widgets/base",
      "_model_module_version": "1.2.0",
      "_model_name": "LayoutModel",
      "_view_count": null,
      "_view_module": "@jupyter-widgets/base",
      "_view_module_version": "1.2.0",
      "_view_name": "LayoutView",
      "align_content": null,
      "align_items": null,
      "align_self": null,
      "border": null,
      "bottom": null,
      "display": null,
      "flex": null,
      "flex_flow": null,
      "grid_area": null,
      "grid_auto_columns": null,
      "grid_auto_flow": null,
      "grid_auto_rows": null,
      "grid_column": null,
      "grid_gap": null,
      "grid_row": null,
      "grid_template_areas": null,
      "grid_template_columns": null,
      "grid_template_rows": null,
      "height": null,
      "justify_content": null,
      "justify_items": null,
      "left": null,
      "margin": null,
      "max_height": null,
      "max_width": null,
      "min_height": null,
      "min_width": null,
      "object_fit": null,
      "object_position": null,
      "order": null,
      "overflow": null,
      "overflow_x": null,
      "overflow_y": null,
      "padding": null,
      "right": null,
      "top": null,
      "visibility": null,
      "width": null
     }
    },
    "b560cb057c3348809b5bdd47ea0c7600": {
     "model_module": "@jupyter-widgets/base",
     "model_module_version": "1.2.0",
     "model_name": "LayoutModel",
     "state": {
      "_model_module": "@jupyter-widgets/base",
      "_model_module_version": "1.2.0",
      "_model_name": "LayoutModel",
      "_view_count": null,
      "_view_module": "@jupyter-widgets/base",
      "_view_module_version": "1.2.0",
      "_view_name": "LayoutView",
      "align_content": null,
      "align_items": null,
      "align_self": null,
      "border": null,
      "bottom": null,
      "display": null,
      "flex": null,
      "flex_flow": null,
      "grid_area": null,
      "grid_auto_columns": null,
      "grid_auto_flow": null,
      "grid_auto_rows": null,
      "grid_column": null,
      "grid_gap": null,
      "grid_row": null,
      "grid_template_areas": null,
      "grid_template_columns": null,
      "grid_template_rows": null,
      "height": null,
      "justify_content": null,
      "justify_items": null,
      "left": null,
      "margin": null,
      "max_height": null,
      "max_width": null,
      "min_height": null,
      "min_width": null,
      "object_fit": null,
      "object_position": null,
      "order": null,
      "overflow": null,
      "overflow_x": null,
      "overflow_y": null,
      "padding": null,
      "right": null,
      "top": null,
      "visibility": null,
      "width": null
     }
    },
    "b5d8adc75dc14eea9c9ca8d38ef3e451": {
     "model_module": "@jupyter-widgets/controls",
     "model_module_version": "1.5.0",
     "model_name": "ProgressStyleModel",
     "state": {
      "_model_module": "@jupyter-widgets/controls",
      "_model_module_version": "1.5.0",
      "_model_name": "ProgressStyleModel",
      "_view_count": null,
      "_view_module": "@jupyter-widgets/base",
      "_view_module_version": "1.2.0",
      "_view_name": "StyleView",
      "bar_color": null,
      "description_width": ""
     }
    },
    "b60e1983faa044669c179f4d1565bb07": {
     "model_module": "@jupyter-widgets/controls",
     "model_module_version": "1.5.0",
     "model_name": "HTMLModel",
     "state": {
      "_dom_classes": [],
      "_model_module": "@jupyter-widgets/controls",
      "_model_module_version": "1.5.0",
      "_model_name": "HTMLModel",
      "_view_count": null,
      "_view_module": "@jupyter-widgets/controls",
      "_view_module_version": "1.5.0",
      "_view_name": "HTMLView",
      "description": "",
      "description_tooltip": null,
      "layout": "IPY_MODEL_fa2b7fb178d64ca482a61c59b19a3ffd",
      "placeholder": "​",
      "style": "IPY_MODEL_89032b95a7d44996968fcd9541a674ad",
      "value": " 30.0/30.0 [00:00&lt;00:00, 1.82kB/s]"
     }
    },
    "bad7040b3db74df9ae35acdcb860bfe5": {
     "model_module": "@jupyter-widgets/base",
     "model_module_version": "1.2.0",
     "model_name": "LayoutModel",
     "state": {
      "_model_module": "@jupyter-widgets/base",
      "_model_module_version": "1.2.0",
      "_model_name": "LayoutModel",
      "_view_count": null,
      "_view_module": "@jupyter-widgets/base",
      "_view_module_version": "1.2.0",
      "_view_name": "LayoutView",
      "align_content": null,
      "align_items": null,
      "align_self": null,
      "border": null,
      "bottom": null,
      "display": null,
      "flex": null,
      "flex_flow": null,
      "grid_area": null,
      "grid_auto_columns": null,
      "grid_auto_flow": null,
      "grid_auto_rows": null,
      "grid_column": null,
      "grid_gap": null,
      "grid_row": null,
      "grid_template_areas": null,
      "grid_template_columns": null,
      "grid_template_rows": null,
      "height": null,
      "justify_content": null,
      "justify_items": null,
      "left": null,
      "margin": null,
      "max_height": null,
      "max_width": null,
      "min_height": null,
      "min_width": null,
      "object_fit": null,
      "object_position": null,
      "order": null,
      "overflow": null,
      "overflow_x": null,
      "overflow_y": null,
      "padding": null,
      "right": null,
      "top": null,
      "visibility": null,
      "width": null
     }
    },
    "bfc5d1d4936a49b1884784771b38010e": {
     "model_module": "@jupyter-widgets/base",
     "model_module_version": "1.2.0",
     "model_name": "LayoutModel",
     "state": {
      "_model_module": "@jupyter-widgets/base",
      "_model_module_version": "1.2.0",
      "_model_name": "LayoutModel",
      "_view_count": null,
      "_view_module": "@jupyter-widgets/base",
      "_view_module_version": "1.2.0",
      "_view_name": "LayoutView",
      "align_content": null,
      "align_items": null,
      "align_self": null,
      "border": null,
      "bottom": null,
      "display": null,
      "flex": null,
      "flex_flow": null,
      "grid_area": null,
      "grid_auto_columns": null,
      "grid_auto_flow": null,
      "grid_auto_rows": null,
      "grid_column": null,
      "grid_gap": null,
      "grid_row": null,
      "grid_template_areas": null,
      "grid_template_columns": null,
      "grid_template_rows": null,
      "height": null,
      "justify_content": null,
      "justify_items": null,
      "left": null,
      "margin": null,
      "max_height": null,
      "max_width": null,
      "min_height": null,
      "min_width": null,
      "object_fit": null,
      "object_position": null,
      "order": null,
      "overflow": null,
      "overflow_x": null,
      "overflow_y": null,
      "padding": null,
      "right": null,
      "top": null,
      "visibility": null,
      "width": null
     }
    },
    "c7c0bb9104bf49ebbc80b23e6ec8a0c0": {
     "model_module": "@jupyter-widgets/base",
     "model_module_version": "1.2.0",
     "model_name": "LayoutModel",
     "state": {
      "_model_module": "@jupyter-widgets/base",
      "_model_module_version": "1.2.0",
      "_model_name": "LayoutModel",
      "_view_count": null,
      "_view_module": "@jupyter-widgets/base",
      "_view_module_version": "1.2.0",
      "_view_name": "LayoutView",
      "align_content": null,
      "align_items": null,
      "align_self": null,
      "border": null,
      "bottom": null,
      "display": null,
      "flex": null,
      "flex_flow": null,
      "grid_area": null,
      "grid_auto_columns": null,
      "grid_auto_flow": null,
      "grid_auto_rows": null,
      "grid_column": null,
      "grid_gap": null,
      "grid_row": null,
      "grid_template_areas": null,
      "grid_template_columns": null,
      "grid_template_rows": null,
      "height": null,
      "justify_content": null,
      "justify_items": null,
      "left": null,
      "margin": null,
      "max_height": null,
      "max_width": null,
      "min_height": null,
      "min_width": null,
      "object_fit": null,
      "object_position": null,
      "order": null,
      "overflow": null,
      "overflow_x": null,
      "overflow_y": null,
      "padding": null,
      "right": null,
      "top": null,
      "visibility": null,
      "width": null
     }
    },
    "ca7ba8760f414ddea113e593d1c8ab32": {
     "model_module": "@jupyter-widgets/base",
     "model_module_version": "1.2.0",
     "model_name": "LayoutModel",
     "state": {
      "_model_module": "@jupyter-widgets/base",
      "_model_module_version": "1.2.0",
      "_model_name": "LayoutModel",
      "_view_count": null,
      "_view_module": "@jupyter-widgets/base",
      "_view_module_version": "1.2.0",
      "_view_name": "LayoutView",
      "align_content": null,
      "align_items": null,
      "align_self": null,
      "border": null,
      "bottom": null,
      "display": null,
      "flex": null,
      "flex_flow": null,
      "grid_area": null,
      "grid_auto_columns": null,
      "grid_auto_flow": null,
      "grid_auto_rows": null,
      "grid_column": null,
      "grid_gap": null,
      "grid_row": null,
      "grid_template_areas": null,
      "grid_template_columns": null,
      "grid_template_rows": null,
      "height": null,
      "justify_content": null,
      "justify_items": null,
      "left": null,
      "margin": null,
      "max_height": null,
      "max_width": null,
      "min_height": null,
      "min_width": null,
      "object_fit": null,
      "object_position": null,
      "order": null,
      "overflow": null,
      "overflow_x": null,
      "overflow_y": null,
      "padding": null,
      "right": null,
      "top": null,
      "visibility": null,
      "width": null
     }
    },
    "cbbb6edd7d6d4e15901a83151d087bf1": {
     "model_module": "@jupyter-widgets/controls",
     "model_module_version": "1.5.0",
     "model_name": "DescriptionStyleModel",
     "state": {
      "_model_module": "@jupyter-widgets/controls",
      "_model_module_version": "1.5.0",
      "_model_name": "DescriptionStyleModel",
      "_view_count": null,
      "_view_module": "@jupyter-widgets/base",
      "_view_module_version": "1.2.0",
      "_view_name": "StyleView",
      "description_width": ""
     }
    },
    "cf25b46d2a044bdda52b84e6ee9ca892": {
     "model_module": "@jupyter-widgets/controls",
     "model_module_version": "1.5.0",
     "model_name": "ProgressStyleModel",
     "state": {
      "_model_module": "@jupyter-widgets/controls",
      "_model_module_version": "1.5.0",
      "_model_name": "ProgressStyleModel",
      "_view_count": null,
      "_view_module": "@jupyter-widgets/base",
      "_view_module_version": "1.2.0",
      "_view_name": "StyleView",
      "bar_color": null,
      "description_width": ""
     }
    },
    "d34fd64c576a4842a08d0ec609a7f95a": {
     "model_module": "@jupyter-widgets/base",
     "model_module_version": "1.2.0",
     "model_name": "LayoutModel",
     "state": {
      "_model_module": "@jupyter-widgets/base",
      "_model_module_version": "1.2.0",
      "_model_name": "LayoutModel",
      "_view_count": null,
      "_view_module": "@jupyter-widgets/base",
      "_view_module_version": "1.2.0",
      "_view_name": "LayoutView",
      "align_content": null,
      "align_items": null,
      "align_self": null,
      "border": null,
      "bottom": null,
      "display": null,
      "flex": null,
      "flex_flow": null,
      "grid_area": null,
      "grid_auto_columns": null,
      "grid_auto_flow": null,
      "grid_auto_rows": null,
      "grid_column": null,
      "grid_gap": null,
      "grid_row": null,
      "grid_template_areas": null,
      "grid_template_columns": null,
      "grid_template_rows": null,
      "height": null,
      "justify_content": null,
      "justify_items": null,
      "left": null,
      "margin": null,
      "max_height": null,
      "max_width": null,
      "min_height": null,
      "min_width": null,
      "object_fit": null,
      "object_position": null,
      "order": null,
      "overflow": null,
      "overflow_x": null,
      "overflow_y": null,
      "padding": null,
      "right": null,
      "top": null,
      "visibility": null,
      "width": null
     }
    },
    "d515c53c91c2426c9cbe06b4fc1804ac": {
     "model_module": "@jupyter-widgets/controls",
     "model_module_version": "1.5.0",
     "model_name": "HTMLModel",
     "state": {
      "_dom_classes": [],
      "_model_module": "@jupyter-widgets/controls",
      "_model_module_version": "1.5.0",
      "_model_name": "HTMLModel",
      "_view_count": null,
      "_view_module": "@jupyter-widgets/controls",
      "_view_module_version": "1.5.0",
      "_view_name": "HTMLView",
      "description": "",
      "description_tooltip": null,
      "layout": "IPY_MODEL_6b2268cfed614e51b11c2c46a8c5b300",
      "placeholder": "​",
      "style": "IPY_MODEL_0c4f2fdb28034224b2c3f0a9b8bff173",
      "value": " 213k/213k [00:00&lt;00:00, 2.70MB/s]"
     }
    },
    "d700f8eee97342378f5b20181d1d6f08": {
     "model_module": "@jupyter-widgets/base",
     "model_module_version": "1.2.0",
     "model_name": "LayoutModel",
     "state": {
      "_model_module": "@jupyter-widgets/base",
      "_model_module_version": "1.2.0",
      "_model_name": "LayoutModel",
      "_view_count": null,
      "_view_module": "@jupyter-widgets/base",
      "_view_module_version": "1.2.0",
      "_view_name": "LayoutView",
      "align_content": null,
      "align_items": null,
      "align_self": null,
      "border": null,
      "bottom": null,
      "display": null,
      "flex": null,
      "flex_flow": null,
      "grid_area": null,
      "grid_auto_columns": null,
      "grid_auto_flow": null,
      "grid_auto_rows": null,
      "grid_column": null,
      "grid_gap": null,
      "grid_row": null,
      "grid_template_areas": null,
      "grid_template_columns": null,
      "grid_template_rows": null,
      "height": null,
      "justify_content": null,
      "justify_items": null,
      "left": null,
      "margin": null,
      "max_height": null,
      "max_width": null,
      "min_height": null,
      "min_width": null,
      "object_fit": null,
      "object_position": null,
      "order": null,
      "overflow": null,
      "overflow_x": null,
      "overflow_y": null,
      "padding": null,
      "right": null,
      "top": null,
      "visibility": null,
      "width": null
     }
    },
    "d72c836232134e0ea8f30d63d04269ef": {
     "model_module": "@jupyter-widgets/controls",
     "model_module_version": "1.5.0",
     "model_name": "HTMLModel",
     "state": {
      "_dom_classes": [],
      "_model_module": "@jupyter-widgets/controls",
      "_model_module_version": "1.5.0",
      "_model_name": "HTMLModel",
      "_view_count": null,
      "_view_module": "@jupyter-widgets/controls",
      "_view_module_version": "1.5.0",
      "_view_name": "HTMLView",
      "description": "",
      "description_tooltip": null,
      "layout": "IPY_MODEL_76692d4b675b4baf8a5baaf871b5c31f",
      "placeholder": "​",
      "style": "IPY_MODEL_11574625831242b5b839c6e71261523a",
      "value": " 436M/436M [00:03&lt;00:00, 138MB/s]"
     }
    },
    "dc6a6a7127d04cb68a336102f4616330": {
     "model_module": "@jupyter-widgets/base",
     "model_module_version": "1.2.0",
     "model_name": "LayoutModel",
     "state": {
      "_model_module": "@jupyter-widgets/base",
      "_model_module_version": "1.2.0",
      "_model_name": "LayoutModel",
      "_view_count": null,
      "_view_module": "@jupyter-widgets/base",
      "_view_module_version": "1.2.0",
      "_view_name": "LayoutView",
      "align_content": null,
      "align_items": null,
      "align_self": null,
      "border": null,
      "bottom": null,
      "display": null,
      "flex": null,
      "flex_flow": null,
      "grid_area": null,
      "grid_auto_columns": null,
      "grid_auto_flow": null,
      "grid_auto_rows": null,
      "grid_column": null,
      "grid_gap": null,
      "grid_row": null,
      "grid_template_areas": null,
      "grid_template_columns": null,
      "grid_template_rows": null,
      "height": null,
      "justify_content": null,
      "justify_items": null,
      "left": null,
      "margin": null,
      "max_height": null,
      "max_width": null,
      "min_height": null,
      "min_width": null,
      "object_fit": null,
      "object_position": null,
      "order": null,
      "overflow": null,
      "overflow_x": null,
      "overflow_y": null,
      "padding": null,
      "right": null,
      "top": null,
      "visibility": null,
      "width": null
     }
    },
    "dd909aa2b7ce44628e424e1d46aa59fe": {
     "model_module": "@jupyter-widgets/base",
     "model_module_version": "1.2.0",
     "model_name": "LayoutModel",
     "state": {
      "_model_module": "@jupyter-widgets/base",
      "_model_module_version": "1.2.0",
      "_model_name": "LayoutModel",
      "_view_count": null,
      "_view_module": "@jupyter-widgets/base",
      "_view_module_version": "1.2.0",
      "_view_name": "LayoutView",
      "align_content": null,
      "align_items": null,
      "align_self": null,
      "border": null,
      "bottom": null,
      "display": null,
      "flex": null,
      "flex_flow": null,
      "grid_area": null,
      "grid_auto_columns": null,
      "grid_auto_flow": null,
      "grid_auto_rows": null,
      "grid_column": null,
      "grid_gap": null,
      "grid_row": null,
      "grid_template_areas": null,
      "grid_template_columns": null,
      "grid_template_rows": null,
      "height": null,
      "justify_content": null,
      "justify_items": null,
      "left": null,
      "margin": null,
      "max_height": null,
      "max_width": null,
      "min_height": null,
      "min_width": null,
      "object_fit": null,
      "object_position": null,
      "order": null,
      "overflow": null,
      "overflow_x": null,
      "overflow_y": null,
      "padding": null,
      "right": null,
      "top": null,
      "visibility": null,
      "width": null
     }
    },
    "df75d9636edf4bd49a0732a0104b8f39": {
     "model_module": "@jupyter-widgets/controls",
     "model_module_version": "1.5.0",
     "model_name": "HTMLModel",
     "state": {
      "_dom_classes": [],
      "_model_module": "@jupyter-widgets/controls",
      "_model_module_version": "1.5.0",
      "_model_name": "HTMLModel",
      "_view_count": null,
      "_view_module": "@jupyter-widgets/controls",
      "_view_module_version": "1.5.0",
      "_view_name": "HTMLView",
      "description": "",
      "description_tooltip": null,
      "layout": "IPY_MODEL_07f48770063a43e4a254e3e08c9e4d41",
      "placeholder": "​",
      "style": "IPY_MODEL_437a20911144470fb6ac3d8b4d4f0914",
      "value": "Downloading (…)okenizer_config.json: 100%"
     }
    },
    "dfb8f2a969c64582abe504c64e5c771e": {
     "model_module": "@jupyter-widgets/controls",
     "model_module_version": "1.5.0",
     "model_name": "HTMLModel",
     "state": {
      "_dom_classes": [],
      "_model_module": "@jupyter-widgets/controls",
      "_model_module_version": "1.5.0",
      "_model_name": "HTMLModel",
      "_view_count": null,
      "_view_module": "@jupyter-widgets/controls",
      "_view_module_version": "1.5.0",
      "_view_name": "HTMLView",
      "description": "",
      "description_tooltip": null,
      "layout": "IPY_MODEL_fc7567816fee464c9580697e60043400",
      "placeholder": "​",
      "style": "IPY_MODEL_65cf70e8c38e4bfb85d88dc78426082d",
      "value": " 29.0/29.0 [00:00&lt;00:00, 1.68kB/s]"
     }
    },
    "e16dbb7bdcad4584b857e285768b0708": {
     "model_module": "@jupyter-widgets/base",
     "model_module_version": "1.2.0",
     "model_name": "LayoutModel",
     "state": {
      "_model_module": "@jupyter-widgets/base",
      "_model_module_version": "1.2.0",
      "_model_name": "LayoutModel",
      "_view_count": null,
      "_view_module": "@jupyter-widgets/base",
      "_view_module_version": "1.2.0",
      "_view_name": "LayoutView",
      "align_content": null,
      "align_items": null,
      "align_self": null,
      "border": null,
      "bottom": null,
      "display": null,
      "flex": null,
      "flex_flow": null,
      "grid_area": null,
      "grid_auto_columns": null,
      "grid_auto_flow": null,
      "grid_auto_rows": null,
      "grid_column": null,
      "grid_gap": null,
      "grid_row": null,
      "grid_template_areas": null,
      "grid_template_columns": null,
      "grid_template_rows": null,
      "height": null,
      "justify_content": null,
      "justify_items": null,
      "left": null,
      "margin": null,
      "max_height": null,
      "max_width": null,
      "min_height": null,
      "min_width": null,
      "object_fit": null,
      "object_position": null,
      "order": null,
      "overflow": null,
      "overflow_x": null,
      "overflow_y": null,
      "padding": null,
      "right": null,
      "top": null,
      "visibility": null,
      "width": null
     }
    },
    "e431aa6ed0134ab8b2214f57fc2ffd22": {
     "model_module": "@jupyter-widgets/base",
     "model_module_version": "1.2.0",
     "model_name": "LayoutModel",
     "state": {
      "_model_module": "@jupyter-widgets/base",
      "_model_module_version": "1.2.0",
      "_model_name": "LayoutModel",
      "_view_count": null,
      "_view_module": "@jupyter-widgets/base",
      "_view_module_version": "1.2.0",
      "_view_name": "LayoutView",
      "align_content": null,
      "align_items": null,
      "align_self": null,
      "border": null,
      "bottom": null,
      "display": null,
      "flex": null,
      "flex_flow": null,
      "grid_area": null,
      "grid_auto_columns": null,
      "grid_auto_flow": null,
      "grid_auto_rows": null,
      "grid_column": null,
      "grid_gap": null,
      "grid_row": null,
      "grid_template_areas": null,
      "grid_template_columns": null,
      "grid_template_rows": null,
      "height": null,
      "justify_content": null,
      "justify_items": null,
      "left": null,
      "margin": null,
      "max_height": null,
      "max_width": null,
      "min_height": null,
      "min_width": null,
      "object_fit": null,
      "object_position": null,
      "order": null,
      "overflow": null,
      "overflow_x": null,
      "overflow_y": null,
      "padding": null,
      "right": null,
      "top": null,
      "visibility": null,
      "width": null
     }
    },
    "e6478f5769f347b6bebf35988f0547ac": {
     "model_module": "@jupyter-widgets/base",
     "model_module_version": "1.2.0",
     "model_name": "LayoutModel",
     "state": {
      "_model_module": "@jupyter-widgets/base",
      "_model_module_version": "1.2.0",
      "_model_name": "LayoutModel",
      "_view_count": null,
      "_view_module": "@jupyter-widgets/base",
      "_view_module_version": "1.2.0",
      "_view_name": "LayoutView",
      "align_content": null,
      "align_items": null,
      "align_self": null,
      "border": null,
      "bottom": null,
      "display": null,
      "flex": null,
      "flex_flow": null,
      "grid_area": null,
      "grid_auto_columns": null,
      "grid_auto_flow": null,
      "grid_auto_rows": null,
      "grid_column": null,
      "grid_gap": null,
      "grid_row": null,
      "grid_template_areas": null,
      "grid_template_columns": null,
      "grid_template_rows": null,
      "height": null,
      "justify_content": null,
      "justify_items": null,
      "left": null,
      "margin": null,
      "max_height": null,
      "max_width": null,
      "min_height": null,
      "min_width": null,
      "object_fit": null,
      "object_position": null,
      "order": null,
      "overflow": null,
      "overflow_x": null,
      "overflow_y": null,
      "padding": null,
      "right": null,
      "top": null,
      "visibility": null,
      "width": null
     }
    },
    "e7887fcc6ec6471c9bfc0023dca533a2": {
     "model_module": "@jupyter-widgets/controls",
     "model_module_version": "1.5.0",
     "model_name": "DescriptionStyleModel",
     "state": {
      "_model_module": "@jupyter-widgets/controls",
      "_model_module_version": "1.5.0",
      "_model_name": "DescriptionStyleModel",
      "_view_count": null,
      "_view_module": "@jupyter-widgets/base",
      "_view_module_version": "1.2.0",
      "_view_name": "StyleView",
      "description_width": ""
     }
    },
    "e7b85f3ac9314853b21aba37944b0098": {
     "model_module": "@jupyter-widgets/base",
     "model_module_version": "1.2.0",
     "model_name": "LayoutModel",
     "state": {
      "_model_module": "@jupyter-widgets/base",
      "_model_module_version": "1.2.0",
      "_model_name": "LayoutModel",
      "_view_count": null,
      "_view_module": "@jupyter-widgets/base",
      "_view_module_version": "1.2.0",
      "_view_name": "LayoutView",
      "align_content": null,
      "align_items": null,
      "align_self": null,
      "border": null,
      "bottom": null,
      "display": null,
      "flex": null,
      "flex_flow": null,
      "grid_area": null,
      "grid_auto_columns": null,
      "grid_auto_flow": null,
      "grid_auto_rows": null,
      "grid_column": null,
      "grid_gap": null,
      "grid_row": null,
      "grid_template_areas": null,
      "grid_template_columns": null,
      "grid_template_rows": null,
      "height": null,
      "justify_content": null,
      "justify_items": null,
      "left": null,
      "margin": null,
      "max_height": null,
      "max_width": null,
      "min_height": null,
      "min_width": null,
      "object_fit": null,
      "object_position": null,
      "order": null,
      "overflow": null,
      "overflow_x": null,
      "overflow_y": null,
      "padding": null,
      "right": null,
      "top": null,
      "visibility": null,
      "width": null
     }
    },
    "e8bd5c654d1a4fa8b0035c4ee033ae68": {
     "model_module": "@jupyter-widgets/controls",
     "model_module_version": "1.5.0",
     "model_name": "HTMLModel",
     "state": {
      "_dom_classes": [],
      "_model_module": "@jupyter-widgets/controls",
      "_model_module_version": "1.5.0",
      "_model_name": "HTMLModel",
      "_view_count": null,
      "_view_module": "@jupyter-widgets/controls",
      "_view_module_version": "1.5.0",
      "_view_name": "HTMLView",
      "description": "",
      "description_tooltip": null,
      "layout": "IPY_MODEL_b560cb057c3348809b5bdd47ea0c7600",
      "placeholder": "​",
      "style": "IPY_MODEL_058dbf42a8ff4627a281957dc3245491",
      "value": " 112/112 [00:00&lt;00:00, 6.11kB/s]"
     }
    },
    "e8e7751ebd854f9da28bff85077ff819": {
     "model_module": "@jupyter-widgets/controls",
     "model_module_version": "1.5.0",
     "model_name": "HTMLModel",
     "state": {
      "_dom_classes": [],
      "_model_module": "@jupyter-widgets/controls",
      "_model_module_version": "1.5.0",
      "_model_name": "HTMLModel",
      "_view_count": null,
      "_view_module": "@jupyter-widgets/controls",
      "_view_module_version": "1.5.0",
      "_view_name": "HTMLView",
      "description": "",
      "description_tooltip": null,
      "layout": "IPY_MODEL_dc6a6a7127d04cb68a336102f4616330",
      "placeholder": "​",
      "style": "IPY_MODEL_a0104c59f6f14a3ea95af7cb8704fd2a",
      "value": "Downloading (…)cial_tokens_map.json: 100%"
     }
    },
    "e9acb5d89f754bff99b02b4473d4b092": {
     "model_module": "@jupyter-widgets/controls",
     "model_module_version": "1.5.0",
     "model_name": "HBoxModel",
     "state": {
      "_dom_classes": [],
      "_model_module": "@jupyter-widgets/controls",
      "_model_module_version": "1.5.0",
      "_model_name": "HBoxModel",
      "_view_count": null,
      "_view_module": "@jupyter-widgets/controls",
      "_view_module_version": "1.5.0",
      "_view_name": "HBoxView",
      "box_style": "",
      "children": [
       "IPY_MODEL_e8e7751ebd854f9da28bff85077ff819",
       "IPY_MODEL_4637470248ae494ea314e3600eae510f",
       "IPY_MODEL_e8bd5c654d1a4fa8b0035c4ee033ae68"
      ],
      "layout": "IPY_MODEL_c7c0bb9104bf49ebbc80b23e6ec8a0c0"
     }
    },
    "eaffab2258e541ab8955998999ecb6b1": {
     "model_module": "@jupyter-widgets/controls",
     "model_module_version": "1.5.0",
     "model_name": "FloatProgressModel",
     "state": {
      "_dom_classes": [],
      "_model_module": "@jupyter-widgets/controls",
      "_model_module_version": "1.5.0",
      "_model_name": "FloatProgressModel",
      "_view_count": null,
      "_view_module": "@jupyter-widgets/controls",
      "_view_module_version": "1.5.0",
      "_view_name": "ProgressView",
      "bar_style": "success",
      "description": "",
      "description_tooltip": null,
      "layout": "IPY_MODEL_f492f08fbea240128dd7823d064be33e",
      "max": 213450,
      "min": 0,
      "orientation": "horizontal",
      "style": "IPY_MODEL_8dd532f451fb458a88790db7a3da63b4",
      "value": 213450
     }
    },
    "ee838d29ab6f4f50b481e8a7f54a2476": {
     "model_module": "@jupyter-widgets/controls",
     "model_module_version": "1.5.0",
     "model_name": "HTMLModel",
     "state": {
      "_dom_classes": [],
      "_model_module": "@jupyter-widgets/controls",
      "_model_module_version": "1.5.0",
      "_model_name": "HTMLModel",
      "_view_count": null,
      "_view_module": "@jupyter-widgets/controls",
      "_view_module_version": "1.5.0",
      "_view_name": "HTMLView",
      "description": "",
      "description_tooltip": null,
      "layout": "IPY_MODEL_9382ceda188f4e67a77150b0d37d0c8c",
      "placeholder": "​",
      "style": "IPY_MODEL_6df6b800c34d4afa82d4824b4bee40b7",
      "value": "Downloading (…)okenizer_config.json: 100%"
     }
    },
    "ef100b0d99784b2e86a4d9f30a24ddce": {
     "model_module": "@jupyter-widgets/controls",
     "model_module_version": "1.5.0",
     "model_name": "ProgressStyleModel",
     "state": {
      "_model_module": "@jupyter-widgets/controls",
      "_model_module_version": "1.5.0",
      "_model_name": "ProgressStyleModel",
      "_view_count": null,
      "_view_module": "@jupyter-widgets/base",
      "_view_module_version": "1.2.0",
      "_view_name": "StyleView",
      "bar_color": null,
      "description_width": ""
     }
    },
    "efdbdaf6cf2c40d9a54f0d4f27817a2b": {
     "model_module": "@jupyter-widgets/controls",
     "model_module_version": "1.5.0",
     "model_name": "ProgressStyleModel",
     "state": {
      "_model_module": "@jupyter-widgets/controls",
      "_model_module_version": "1.5.0",
      "_model_name": "ProgressStyleModel",
      "_view_count": null,
      "_view_module": "@jupyter-widgets/base",
      "_view_module_version": "1.2.0",
      "_view_name": "StyleView",
      "bar_color": null,
      "description_width": ""
     }
    },
    "f492f08fbea240128dd7823d064be33e": {
     "model_module": "@jupyter-widgets/base",
     "model_module_version": "1.2.0",
     "model_name": "LayoutModel",
     "state": {
      "_model_module": "@jupyter-widgets/base",
      "_model_module_version": "1.2.0",
      "_model_name": "LayoutModel",
      "_view_count": null,
      "_view_module": "@jupyter-widgets/base",
      "_view_module_version": "1.2.0",
      "_view_name": "LayoutView",
      "align_content": null,
      "align_items": null,
      "align_self": null,
      "border": null,
      "bottom": null,
      "display": null,
      "flex": null,
      "flex_flow": null,
      "grid_area": null,
      "grid_auto_columns": null,
      "grid_auto_flow": null,
      "grid_auto_rows": null,
      "grid_column": null,
      "grid_gap": null,
      "grid_row": null,
      "grid_template_areas": null,
      "grid_template_columns": null,
      "grid_template_rows": null,
      "height": null,
      "justify_content": null,
      "justify_items": null,
      "left": null,
      "margin": null,
      "max_height": null,
      "max_width": null,
      "min_height": null,
      "min_width": null,
      "object_fit": null,
      "object_position": null,
      "order": null,
      "overflow": null,
      "overflow_x": null,
      "overflow_y": null,
      "padding": null,
      "right": null,
      "top": null,
      "visibility": null,
      "width": null
     }
    },
    "f65dbcae443d44908c44f7683eb8ebb3": {
     "model_module": "@jupyter-widgets/base",
     "model_module_version": "1.2.0",
     "model_name": "LayoutModel",
     "state": {
      "_model_module": "@jupyter-widgets/base",
      "_model_module_version": "1.2.0",
      "_model_name": "LayoutModel",
      "_view_count": null,
      "_view_module": "@jupyter-widgets/base",
      "_view_module_version": "1.2.0",
      "_view_name": "LayoutView",
      "align_content": null,
      "align_items": null,
      "align_self": null,
      "border": null,
      "bottom": null,
      "display": null,
      "flex": null,
      "flex_flow": null,
      "grid_area": null,
      "grid_auto_columns": null,
      "grid_auto_flow": null,
      "grid_auto_rows": null,
      "grid_column": null,
      "grid_gap": null,
      "grid_row": null,
      "grid_template_areas": null,
      "grid_template_columns": null,
      "grid_template_rows": null,
      "height": null,
      "justify_content": null,
      "justify_items": null,
      "left": null,
      "margin": null,
      "max_height": null,
      "max_width": null,
      "min_height": null,
      "min_width": null,
      "object_fit": null,
      "object_position": null,
      "order": null,
      "overflow": null,
      "overflow_x": null,
      "overflow_y": null,
      "padding": null,
      "right": null,
      "top": null,
      "visibility": null,
      "width": null
     }
    },
    "fa2b7fb178d64ca482a61c59b19a3ffd": {
     "model_module": "@jupyter-widgets/base",
     "model_module_version": "1.2.0",
     "model_name": "LayoutModel",
     "state": {
      "_model_module": "@jupyter-widgets/base",
      "_model_module_version": "1.2.0",
      "_model_name": "LayoutModel",
      "_view_count": null,
      "_view_module": "@jupyter-widgets/base",
      "_view_module_version": "1.2.0",
      "_view_name": "LayoutView",
      "align_content": null,
      "align_items": null,
      "align_self": null,
      "border": null,
      "bottom": null,
      "display": null,
      "flex": null,
      "flex_flow": null,
      "grid_area": null,
      "grid_auto_columns": null,
      "grid_auto_flow": null,
      "grid_auto_rows": null,
      "grid_column": null,
      "grid_gap": null,
      "grid_row": null,
      "grid_template_areas": null,
      "grid_template_columns": null,
      "grid_template_rows": null,
      "height": null,
      "justify_content": null,
      "justify_items": null,
      "left": null,
      "margin": null,
      "max_height": null,
      "max_width": null,
      "min_height": null,
      "min_width": null,
      "object_fit": null,
      "object_position": null,
      "order": null,
      "overflow": null,
      "overflow_x": null,
      "overflow_y": null,
      "padding": null,
      "right": null,
      "top": null,
      "visibility": null,
      "width": null
     }
    },
    "fb17087dec7d40c283788c87cabd2c21": {
     "model_module": "@jupyter-widgets/controls",
     "model_module_version": "1.5.0",
     "model_name": "FloatProgressModel",
     "state": {
      "_dom_classes": [],
      "_model_module": "@jupyter-widgets/controls",
      "_model_module_version": "1.5.0",
      "_model_name": "FloatProgressModel",
      "_view_count": null,
      "_view_module": "@jupyter-widgets/controls",
      "_view_module_version": "1.5.0",
      "_view_name": "ProgressView",
      "bar_style": "success",
      "description": "",
      "description_tooltip": null,
      "layout": "IPY_MODEL_63af71b07c304ed58244eaa1181b877c",
      "max": 30,
      "min": 0,
      "orientation": "horizontal",
      "style": "IPY_MODEL_3270131935ef4a14a99210489c5d2bac",
      "value": 30
     }
    },
    "fc7567816fee464c9580697e60043400": {
     "model_module": "@jupyter-widgets/base",
     "model_module_version": "1.2.0",
     "model_name": "LayoutModel",
     "state": {
      "_model_module": "@jupyter-widgets/base",
      "_model_module_version": "1.2.0",
      "_model_name": "LayoutModel",
      "_view_count": null,
      "_view_module": "@jupyter-widgets/base",
      "_view_module_version": "1.2.0",
      "_view_name": "LayoutView",
      "align_content": null,
      "align_items": null,
      "align_self": null,
      "border": null,
      "bottom": null,
      "display": null,
      "flex": null,
      "flex_flow": null,
      "grid_area": null,
      "grid_auto_columns": null,
      "grid_auto_flow": null,
      "grid_auto_rows": null,
      "grid_column": null,
      "grid_gap": null,
      "grid_row": null,
      "grid_template_areas": null,
      "grid_template_columns": null,
      "grid_template_rows": null,
      "height": null,
      "justify_content": null,
      "justify_items": null,
      "left": null,
      "margin": null,
      "max_height": null,
      "max_width": null,
      "min_height": null,
      "min_width": null,
      "object_fit": null,
      "object_position": null,
      "order": null,
      "overflow": null,
      "overflow_x": null,
      "overflow_y": null,
      "padding": null,
      "right": null,
      "top": null,
      "visibility": null,
      "width": null
     }
    },
    "fee74cc9e7984501803649af57be6f41": {
     "model_module": "@jupyter-widgets/controls",
     "model_module_version": "1.5.0",
     "model_name": "FloatProgressModel",
     "state": {
      "_dom_classes": [],
      "_model_module": "@jupyter-widgets/controls",
      "_model_module_version": "1.5.0",
      "_model_name": "FloatProgressModel",
      "_view_count": null,
      "_view_module": "@jupyter-widgets/controls",
      "_view_module_version": "1.5.0",
      "_view_name": "ProgressView",
      "bar_style": "success",
      "description": "",
      "description_tooltip": null,
      "layout": "IPY_MODEL_3aef53e899d045f1a7d9bf4fd43ad74e",
      "max": 489360,
      "min": 0,
      "orientation": "horizontal",
      "style": "IPY_MODEL_7de2a71b9dc4407fac1dc974129f14bc",
      "value": 489360
     }
    }
   }
  }
 },
 "nbformat": 4,
 "nbformat_minor": 5
}
