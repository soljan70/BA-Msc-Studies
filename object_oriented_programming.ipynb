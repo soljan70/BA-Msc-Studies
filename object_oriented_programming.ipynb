{
 "cells": [
  {
   "cell_type": "markdown",
   "id": "8221aa83",
   "metadata": {},
   "source": [
    "# PAD - Praca domowa 1\n",
    "## Jan Solarz s26342"
   ]
  },
  {
   "cell_type": "markdown",
   "id": "3e47731b",
   "metadata": {},
   "source": [
    "### Zadanie 1\n",
    "#### a)"
   ]
  },
  {
   "cell_type": "markdown",
   "id": "d0463b27",
   "metadata": {},
   "source": [
    "Tworzymy klasę Animal z odpowiednimi atrybutami i metodą breed"
   ]
  },
  {
   "cell_type": "code",
   "execution_count": 197,
   "id": "989fd6fc",
   "metadata": {},
   "outputs": [],
   "source": [
    "class Animal():\n",
    "    def __init__(self, gender= \"Female\"):\n",
    "        self.isAlive = \"TRUE\"\n",
    "        if gender != \"Male\":\n",
    "            gender = \"Female\"\n",
    "        self.gender = gender\n",
    "    def breed(self, partner):  \n",
    "        \n",
    "        if self.gender == \"Female\" and partner.gender == \"Male\" and self.genus == partner.genus:\n",
    "            if self.genus == 'Canis':\n",
    "                return Dog() \n",
    "            else:\n",
    "                return Cat()       \n",
    "        else:\n",
    "            print(\"attribute not found\")\n",
    "        "
   ]
  },
  {
   "cell_type": "markdown",
   "id": "bb9716e6",
   "metadata": {},
   "source": [
    "Definiowanie klas Dog i Cat, które dziedziczą po Animal."
   ]
  },
  {
   "cell_type": "code",
   "execution_count": 198,
   "id": "24069a32",
   "metadata": {},
   "outputs": [],
   "source": [
    "class Dog(Animal):\n",
    "    genus = \"Canis\"\n",
    "    def woof(self):\n",
    "         print(\"woof woof!\")\n",
    "class Cat(Animal):\n",
    "    genus = \"Cat\"\n",
    "    def puur(self):\n",
    "         print(\"puur!\")\n",
    "            \n",
    "Duffy = Cat()\n",
    "Fluffy = Dog(\"Male\")\n",
    "Didi=Dog(\"khjb\")"
   ]
  },
  {
   "cell_type": "code",
   "execution_count": 199,
   "id": "ad671bcb",
   "metadata": {},
   "outputs": [
    {
     "name": "stdout",
     "output_type": "stream",
     "text": [
      "Duffy's gender: Female\n",
      "Fluffy's genus: Canis\n",
      "Didi is a Female and makes:\n",
      "woof woof!\n"
     ]
    }
   ],
   "source": [
    "print(\"Duffy's gender:\",Duffy.gender)\n",
    "print(\"Fluffy's genus:\",Fluffy.genus)\n",
    "print(\"Didi is a\",Didi.gender, \"and makes:\")\n",
    "Didi.woof()"
   ]
  },
  {
   "cell_type": "markdown",
   "id": "217d9838",
   "metadata": {},
   "source": [
    "#### b)"
   ]
  },
  {
   "cell_type": "markdown",
   "id": "3f490b5a",
   "metadata": {},
   "source": [
    "Tworzenie instancje klas cat i dog za pomocą metody breed. "
   ]
  },
  {
   "cell_type": "code",
   "execution_count": 200,
   "id": "b6f2a7a8",
   "metadata": {},
   "outputs": [],
   "source": [
    "dog1 = Dog(\"Male\")\n",
    "dog2 = Dog(\"Female\")\n",
    "cat1 = Cat()\n",
    "cat2 = Cat(\"Male\")"
   ]
  },
  {
   "cell_type": "code",
   "execution_count": 201,
   "id": "6be9ca52",
   "metadata": {},
   "outputs": [
    {
     "name": "stdout",
     "output_type": "stream",
     "text": [
      "puur!\n",
      "TRUE None\n"
     ]
    }
   ],
   "source": [
    "print(cat1.breed(cat2).isAlive,cat1.breed(cat2).puur())"
   ]
  },
  {
   "cell_type": "code",
   "execution_count": 202,
   "id": "ae5b796b",
   "metadata": {},
   "outputs": [
    {
     "name": "stdout",
     "output_type": "stream",
     "text": [
      "TRUE Female\n"
     ]
    }
   ],
   "source": [
    "print(dog2.breed(dog1).isAlive,dog2.breed(dog1).gender)"
   ]
  },
  {
   "cell_type": "markdown",
   "id": "6c073800",
   "metadata": {},
   "source": [
    "Przechwytywanie wyjątku"
   ]
  },
  {
   "cell_type": "code",
   "execution_count": 203,
   "id": "8f813088",
   "metadata": {},
   "outputs": [
    {
     "name": "stdout",
     "output_type": "stream",
     "text": [
      "attribute not found\n",
      "None\n",
      "attribute not found\n",
      "None\n"
     ]
    }
   ],
   "source": [
    "print(cat1.breed(dog1))\n",
    "print(cat2.breed(cat1))"
   ]
  },
  {
   "cell_type": "markdown",
   "id": "5c7ca827",
   "metadata": {},
   "source": [
    "### Zadanie 2"
   ]
  },
  {
   "cell_type": "code",
   "execution_count": 204,
   "id": "77565815",
   "metadata": {},
   "outputs": [],
   "source": [
    "import statistics as st"
   ]
  },
  {
   "cell_type": "markdown",
   "id": "acea236e",
   "metadata": {},
   "source": [
    "Tworzymy klasę worker z odpowiednimi atrybutami"
   ]
  },
  {
   "cell_type": "code",
   "execution_count": 205,
   "id": "bce3d415",
   "metadata": {},
   "outputs": [],
   "source": [
    "class worker:\n",
    "    Number = 1\n",
    "    def __init__(self, Name, Age, Salary):\n",
    "        self.Name = Name\n",
    "        self.Age = Age\n",
    "        self.Salary = Salary\n",
    "        self.Number = worker.Number\n",
    "        worker.Number += 1"
   ]
  },
  {
   "cell_type": "markdown",
   "id": "c9c23e3f",
   "metadata": {},
   "source": [
    "Definiowanie listy odpowiednich instancji klasy worker"
   ]
  },
  {
   "cell_type": "code",
   "execution_count": 206,
   "id": "e7103110",
   "metadata": {},
   "outputs": [],
   "source": [
    "s1 = worker(\"Adam\", \"1983\", \"1500\")\n",
    "s2 = worker(\"Anna\", \"1981\", \"1700\")\n",
    "s3 = worker(\"Błażej\", \"1990\", \"1800\")\n",
    "s4 = worker(\"Beata\", \"1992\", \"1600\")\n",
    "s5 = worker(\"Czesław\", \"1980\", \"2000\")\n",
    "s6 = worker(\"Cecylia\", \"1983\", \"2100\")\n",
    "s7 =  worker(\"Daniel\", \"1976\", \"1900\")\n",
    "\n",
    "sss = [s1,s2,s3,s4,s5,s6,s7]"
   ]
  },
  {
   "cell_type": "markdown",
   "id": "cdda4451",
   "metadata": {},
   "source": [
    "Liczenie odpowiednich zarobków"
   ]
  },
  {
   "cell_type": "code",
   "execution_count": 208,
   "id": "3c959749",
   "metadata": {},
   "outputs": [
    {
     "name": "stdout",
     "output_type": "stream",
     "text": [
      "Średnie zarobki w firmie wynoszą: 1800\n"
     ]
    }
   ],
   "source": [
    "mean = st.mean([int(s1.Salary),int(s2.Salary),int(s3.Salary),int(s4.Salary),int(s5.Salary),int(s6.Salary),int(s7.Salary)])\n",
    "print(\"Średnie zarobki w firmie wynoszą:\", mean)"
   ]
  },
  {
   "cell_type": "code",
   "execution_count": 209,
   "id": "7d8aad9e",
   "metadata": {},
   "outputs": [
    {
     "name": "stdout",
     "output_type": "stream",
     "text": [
      "Grupy posiadają średnie zarobki odpowiednio: 1833.33 i 1600\n"
     ]
    }
   ],
   "source": [
    "import datetime\n",
    "now = datetime.datetime.now()\n",
    "g=[]\n",
    "h=[]\n",
    "for i in range(0,7):\n",
    "    if now.year - int(sss[i].Age) > 30:\n",
    "        a = int(sss[i].Salary)\n",
    "        g.append(a)\n",
    "    else:\n",
    "        b = int(sss[i].Salary)\n",
    "        h.append(b)\n",
    "a1=st.mean(g)\n",
    "b1=st.mean(h)\n",
    "print(\"Grupy posiadają średnie zarobki odpowiednio:\",round(a1,2),\"i\",b1)\n",
    "\n"
   ]
  },
  {
   "cell_type": "code",
   "execution_count": null,
   "id": "5601cede",
   "metadata": {},
   "outputs": [],
   "source": []
  }
 ],
 "metadata": {
  "kernelspec": {
   "display_name": "Python 3",
   "language": "python",
   "name": "python3"
  },
  "language_info": {
   "codemirror_mode": {
    "name": "ipython",
    "version": 3
   },
   "file_extension": ".py",
   "mimetype": "text/x-python",
   "name": "python",
   "nbconvert_exporter": "python",
   "pygments_lexer": "ipython3",
   "version": "3.8.8"
  }
 },
 "nbformat": 4,
 "nbformat_minor": 5
}
