{
  "cells": [
    {
      "cell_type": "markdown",
      "metadata": {
        "id": "yIIrmjGE-Fee"
      },
      "source": [
        "# Podział zbioru treningowego i miary jakości\n",
        "\n",
        "#### Danijel Koržinek <danijel@pja.edu.pl>\n",
        "\n",
        "Uruchom poniższy blok:"
      ]
    },
    {
      "cell_type": "code",
      "execution_count": 162,
      "metadata": {
        "colab": {
          "base_uri": "https://localhost:8080/"
        },
        "id": "6I9j1MNC60uY",
        "outputId": "b0eda888-930c-434d-d315-cd9727168f93"
      },
      "outputs": [
        {
          "output_type": "stream",
          "name": "stdout",
          "text": [
            "Populating the interactive namespace from numpy and matplotlib\n"
          ]
        },
        {
          "output_type": "stream",
          "name": "stderr",
          "text": [
            "/usr/local/lib/python3.7/dist-packages/IPython/core/magics/pylab.py:161: UserWarning: pylab import has clobbered these variables: ['clf']\n",
            "`%matplotlib` prevents importing * from pylab and numpy\n",
            "  \"\\n`%matplotlib` prevents importing * from pylab and numpy\"\n"
          ]
        }
      ],
      "source": [
        "import warnings\n",
        "warnings.filterwarnings(\"ignore\", category=FutureWarning) \n",
        "warnings.filterwarnings(\"ignore\", category=RuntimeWarning)  \n",
        "%pylab inline"
      ]
    },
    {
      "cell_type": "markdown",
      "metadata": {
        "id": "HmARYkEC-Cj_"
      },
      "source": [
        "Zacznijmy od wczytania zbioru danych z biblioteki `sklearn.datasets`. Zapisz wynik funkcji `load_breast_cancer` do zmiennej:"
      ]
    },
    {
      "cell_type": "code",
      "execution_count": 163,
      "metadata": {
        "id": "Ntz-Nng9Oi0p"
      },
      "outputs": [],
      "source": [
        "import sklearn.datasets\n",
        "data = sklearn.datasets.load_breast_cancer() "
      ]
    },
    {
      "cell_type": "markdown",
      "metadata": {
        "id": "2ehB8jor-kf2"
      },
      "source": [
        "Wypisz wszystkie składowe `keys()` otrzymanego zbioru:"
      ]
    },
    {
      "cell_type": "code",
      "execution_count": 164,
      "metadata": {
        "colab": {
          "base_uri": "https://localhost:8080/"
        },
        "id": "Nt6oOEYRPGkQ",
        "outputId": "1de8491c-9d1a-427f-9a98-8f44ee22f7e5"
      },
      "outputs": [
        {
          "output_type": "execute_result",
          "data": {
            "text/plain": [
              "dict_keys(['data', 'target', 'frame', 'target_names', 'DESCR', 'feature_names', 'filename', 'data_module'])"
            ]
          },
          "metadata": {},
          "execution_count": 164
        }
      ],
      "source": [
        "data.keys()\n"
      ]
    },
    {
      "cell_type": "markdown",
      "metadata": {
        "id": "VNrE4rE_-r5l"
      },
      "source": [
        "Zobaczmy składową `DESCR`:"
      ]
    },
    {
      "cell_type": "code",
      "execution_count": 165,
      "metadata": {
        "colab": {
          "base_uri": "https://localhost:8080/",
          "height": 110
        },
        "id": "u9LwcsQ_PHPi",
        "outputId": "291aebef-7883-49b1-8e79-8fac34cc2d3e"
      },
      "outputs": [
        {
          "output_type": "execute_result",
          "data": {
            "text/plain": [
              "'.. _breast_cancer_dataset:\\n\\nBreast cancer wisconsin (diagnostic) dataset\\n--------------------------------------------\\n\\n**Data Set Characteristics:**\\n\\n    :Number of Instances: 569\\n\\n    :Number of Attributes: 30 numeric, predictive attributes and the class\\n\\n    :Attribute Information:\\n        - radius (mean of distances from center to points on the perimeter)\\n        - texture (standard deviation of gray-scale values)\\n        - perimeter\\n        - area\\n        - smoothness (local variation in radius lengths)\\n        - compactness (perimeter^2 / area - 1.0)\\n        - concavity (severity of concave portions of the contour)\\n        - concave points (number of concave portions of the contour)\\n        - symmetry\\n        - fractal dimension (\"coastline approximation\" - 1)\\n\\n        The mean, standard error, and \"worst\" or largest (mean of the three\\n        worst/largest values) of these features were computed for each image,\\n        resulting in 30 features.  For instance, field 0 is Mean Radius, field\\n        10 is Radius SE, field 20 is Worst Radius.\\n\\n        - class:\\n                - WDBC-Malignant\\n                - WDBC-Benign\\n\\n    :Summary Statistics:\\n\\n    ===================================== ====== ======\\n                                           Min    Max\\n    ===================================== ====== ======\\n    radius (mean):                        6.981  28.11\\n    texture (mean):                       9.71   39.28\\n    perimeter (mean):                     43.79  188.5\\n    area (mean):                          143.5  2501.0\\n    smoothness (mean):                    0.053  0.163\\n    compactness (mean):                   0.019  0.345\\n    concavity (mean):                     0.0    0.427\\n    concave points (mean):                0.0    0.201\\n    symmetry (mean):                      0.106  0.304\\n    fractal dimension (mean):             0.05   0.097\\n    radius (standard error):              0.112  2.873\\n    texture (standard error):             0.36   4.885\\n    perimeter (standard error):           0.757  21.98\\n    area (standard error):                6.802  542.2\\n    smoothness (standard error):          0.002  0.031\\n    compactness (standard error):         0.002  0.135\\n    concavity (standard error):           0.0    0.396\\n    concave points (standard error):      0.0    0.053\\n    symmetry (standard error):            0.008  0.079\\n    fractal dimension (standard error):   0.001  0.03\\n    radius (worst):                       7.93   36.04\\n    texture (worst):                      12.02  49.54\\n    perimeter (worst):                    50.41  251.2\\n    area (worst):                         185.2  4254.0\\n    smoothness (worst):                   0.071  0.223\\n    compactness (worst):                  0.027  1.058\\n    concavity (worst):                    0.0    1.252\\n    concave points (worst):               0.0    0.291\\n    symmetry (worst):                     0.156  0.664\\n    fractal dimension (worst):            0.055  0.208\\n    ===================================== ====== ======\\n\\n    :Missing Attribute Values: None\\n\\n    :Class Distribution: 212 - Malignant, 357 - Benign\\n\\n    :Creator:  Dr. William H. Wolberg, W. Nick Street, Olvi L. Mangasarian\\n\\n    :Donor: Nick Street\\n\\n    :Date: November, 1995\\n\\nThis is a copy of UCI ML Breast Cancer Wisconsin (Diagnostic) datasets.\\nhttps://goo.gl/U2Uwz2\\n\\nFeatures are computed from a digitized image of a fine needle\\naspirate (FNA) of a breast mass.  They describe\\ncharacteristics of the cell nuclei present in the image.\\n\\nSeparating plane described above was obtained using\\nMultisurface Method-Tree (MSM-T) [K. P. Bennett, \"Decision Tree\\nConstruction Via Linear Programming.\" Proceedings of the 4th\\nMidwest Artificial Intelligence and Cognitive Science Society,\\npp. 97-101, 1992], a classification method which uses linear\\nprogramming to construct a decision tree.  Relevant features\\nwere selected using an exhaustive search in the space of 1-4\\nfeatures and 1-3 separating planes.\\n\\nThe actual linear program used to obtain the separating plane\\nin the 3-dimensional space is that described in:\\n[K. P. Bennett and O. L. Mangasarian: \"Robust Linear\\nProgramming Discrimination of Two Linearly Inseparable Sets\",\\nOptimization Methods and Software 1, 1992, 23-34].\\n\\nThis database is also available through the UW CS ftp server:\\n\\nftp ftp.cs.wisc.edu\\ncd math-prog/cpo-dataset/machine-learn/WDBC/\\n\\n.. topic:: References\\n\\n   - W.N. Street, W.H. Wolberg and O.L. Mangasarian. Nuclear feature extraction \\n     for breast tumor diagnosis. IS&T/SPIE 1993 International Symposium on \\n     Electronic Imaging: Science and Technology, volume 1905, pages 861-870,\\n     San Jose, CA, 1993.\\n   - O.L. Mangasarian, W.N. Street and W.H. Wolberg. Breast cancer diagnosis and \\n     prognosis via linear programming. Operations Research, 43(4), pages 570-577, \\n     July-August 1995.\\n   - W.H. Wolberg, W.N. Street, and O.L. Mangasarian. Machine learning techniques\\n     to diagnose breast cancer from fine-needle aspirates. Cancer Letters 77 (1994) \\n     163-171.'"
            ],
            "application/vnd.google.colaboratory.intrinsic+json": {
              "type": "string"
            }
          },
          "metadata": {},
          "execution_count": 165
        }
      ],
      "source": [
        "data['DESCR']"
      ]
    },
    {
      "cell_type": "markdown",
      "metadata": {
        "id": "x20SpfQW-yC6"
      },
      "source": [
        "Jest to zbiór przeznaczony do binarnej klasyfikacji rzeczywistych danych liczbowych. Wypisz nazwy cech (`feature_names`) i klas (`target_names`):"
      ]
    },
    {
      "cell_type": "code",
      "execution_count": 166,
      "metadata": {
        "colab": {
          "base_uri": "https://localhost:8080/"
        },
        "id": "eQ1t7h-__6kh",
        "outputId": "1158077c-0d17-4b16-c655-790588583532"
      },
      "outputs": [
        {
          "output_type": "stream",
          "name": "stdout",
          "text": [
            "['mean radius' 'mean texture' 'mean perimeter' 'mean area'\n",
            " 'mean smoothness' 'mean compactness' 'mean concavity'\n",
            " 'mean concave points' 'mean symmetry' 'mean fractal dimension'\n",
            " 'radius error' 'texture error' 'perimeter error' 'area error'\n",
            " 'smoothness error' 'compactness error' 'concavity error'\n",
            " 'concave points error' 'symmetry error' 'fractal dimension error'\n",
            " 'worst radius' 'worst texture' 'worst perimeter' 'worst area'\n",
            " 'worst smoothness' 'worst compactness' 'worst concavity'\n",
            " 'worst concave points' 'worst symmetry' 'worst fractal dimension']\n",
            "['malignant' 'benign']\n"
          ]
        }
      ],
      "source": [
        "print(data.feature_names)\n",
        "print(data.target_names)"
      ]
    },
    {
      "cell_type": "markdown",
      "metadata": {
        "id": "5RT6lDh5-_qA"
      },
      "source": [
        "Wypisz rozmiary tablic danych (`data`) i klas (`target`):"
      ]
    },
    {
      "cell_type": "code",
      "execution_count": 167,
      "metadata": {
        "colab": {
          "base_uri": "https://localhost:8080/"
        },
        "id": "WEf9j0pg2y_n",
        "outputId": "7dff383a-b220-4845-9813-65496d96f5e1"
      },
      "outputs": [
        {
          "output_type": "stream",
          "name": "stdout",
          "text": [
            "(569,)\n",
            "(569, 30)\n"
          ]
        }
      ],
      "source": [
        "import pandas as pd\n",
        "#data = pd.DataFrame(data= data.data, columns=data.feature_names)\n",
        "#print(data.shape)\n",
        "print(data['target'].shape)\n",
        "print(data['data'].shape)\n"
      ]
    },
    {
      "cell_type": "markdown",
      "metadata": {
        "id": "5ykrQRQD_mT8"
      },
      "source": [
        "## Podział danych\n",
        "\n",
        "Użyj metody `train_test_split` z modułu `sklearn.model_selection` żeby podzielić zbiór na część treningową (90%) i testową (10%). Użyj straktyfikacji w podziale danych:"
      ]
    },
    {
      "cell_type": "code",
      "execution_count": 168,
      "metadata": {
        "id": "uo9XsNShP2pG"
      },
      "outputs": [],
      "source": [
        "from sklearn.model_selection import train_test_split\n"
      ]
    },
    {
      "cell_type": "code",
      "execution_count": 169,
      "metadata": {
        "id": "7A2C9tlVFvm3"
      },
      "outputs": [],
      "source": [
        "X_train, X_test, y_train, y_test = train_test_split(data['data'], data['target'], test_size=0.1, stratify = data['target'])"
      ]
    },
    {
      "cell_type": "markdown",
      "metadata": {
        "id": "ZRJ8VIfhAAiI"
      },
      "source": [
        "Wczytaj następujące klasyfikatory:\n",
        "\n",
        "```\n",
        "from sklearn.linear_model import LinearRegression\n",
        "from sklearn.gaussian_process import GaussianProcessClassifier\n",
        "from sklearn.naive_bayes import GaussianNB\n",
        "from sklearn.neural_network import MLPClassifier\n",
        "from sklearn.svm import SVC\n",
        "from sklearn.neighbors import KNeighborsClassifier\n",
        "from sklearn.linear_model import SGDClassifier\n",
        "```"
      ]
    },
    {
      "cell_type": "code",
      "execution_count": 170,
      "metadata": {
        "id": "_KAwHzPCRqv_"
      },
      "outputs": [],
      "source": [
        "from sklearn.linear_model import LogisticRegression\n",
        "from sklearn.gaussian_process import GaussianProcessClassifier\n",
        "from sklearn.naive_bayes import GaussianNB\n",
        "from sklearn.neural_network import MLPClassifier\n",
        "from sklearn.svm import SVC\n",
        "from sklearn.neighbors import KNeighborsClassifier\n",
        "from sklearn.linear_model import SGDClassifier"
      ]
    },
    {
      "cell_type": "markdown",
      "metadata": {
        "id": "3IZAQAAgALnD"
      },
      "source": [
        "Dla każdego klasyfikatora (skonstruowanego domyślnymi parametrami) zastosuj odpowiednio metody `fit` na danych treningowych i `score` na danych testowych żeby otrzymać jego dokładność. Zaleca się zrobić słownik poszczególnych modeli i uruchomić wszystko w pętli `for`. Co się stanie jak zmienimy podział danych (użyjemy metody split ponownie)?"
      ]
    },
    {
      "cell_type": "code",
      "execution_count": 170,
      "metadata": {
        "id": "zAPjk4Bt13IE"
      },
      "outputs": [],
      "source": [
        ""
      ]
    },
    {
      "cell_type": "code",
      "execution_count": 171,
      "metadata": {
        "colab": {
          "base_uri": "https://localhost:8080/"
        },
        "id": "Uxd-NgYZCiin",
        "outputId": "581fec70-5311-4e0e-abe8-31dfbe7b2530"
      },
      "outputs": [
        {
          "output_type": "stream",
          "name": "stderr",
          "text": [
            "/usr/local/lib/python3.7/dist-packages/sklearn/linear_model/_logistic.py:818: ConvergenceWarning: lbfgs failed to converge (status=1):\n",
            "STOP: TOTAL NO. of ITERATIONS REACHED LIMIT.\n",
            "\n",
            "Increase the number of iterations (max_iter) or scale the data as shown in:\n",
            "    https://scikit-learn.org/stable/modules/preprocessing.html\n",
            "Please also refer to the documentation for alternative solver options:\n",
            "    https://scikit-learn.org/stable/modules/linear_model.html#logistic-regression\n",
            "  extra_warning_msg=_LOGISTIC_SOLVER_CONVERGENCE_MSG,\n"
          ]
        },
        {
          "output_type": "stream",
          "name": "stdout",
          "text": [
            "Score of model LR :  0.9122807017543859\n",
            "Score of model Gauss :  0.9473684210526315\n",
            "Score of model GNB :  0.9649122807017544\n",
            "Score of model KNN :  0.9122807017543859\n",
            "Score of model SVC :  0.9122807017543859\n",
            "Score of model SGD :  0.8596491228070176\n",
            "Score of model MLP :  0.8947368421052632\n"
          ]
        }
      ],
      "source": [
        "models = [\n",
        "\n",
        "          ('LR', LogisticRegression()), \n",
        "\n",
        "          ('Gauss', GaussianProcessClassifier()),\n",
        "\n",
        "          ('GNB', GaussianNB()),\n",
        "\n",
        "          ('KNN', KNeighborsClassifier()),\n",
        "\n",
        "          ('SVC', SVC()), \n",
        "\n",
        "          ('SGD', SGDClassifier()),\n",
        "\n",
        "          ('MLP', MLPClassifier())\n",
        "\n",
        "        ]\n",
        "\n",
        "for name, model in models:\n",
        "\n",
        "  clf = model.fit(X_train, y_train)\n",
        "\n",
        "  y_pred = clf.predict(X_test)\n",
        "\n",
        "  print(\"Score of model\",name,\": \", clf.score(X_test, y_test))\n"
      ]
    },
    {
      "cell_type": "code",
      "execution_count": 172,
      "metadata": {
        "colab": {
          "base_uri": "https://localhost:8080/"
        },
        "id": "UvQeFlmMUiuu",
        "outputId": "8c0ddb1a-b1b1-423f-e64f-20245793ceb8"
      },
      "outputs": [
        {
          "output_type": "execute_result",
          "data": {
            "text/plain": [
              "('Gauss', GaussianProcessClassifier())"
            ]
          },
          "metadata": {},
          "execution_count": 172
        }
      ],
      "source": [
        "models[1]\n"
      ]
    },
    {
      "cell_type": "code",
      "execution_count": 173,
      "metadata": {
        "colab": {
          "base_uri": "https://localhost:8080/"
        },
        "id": "hIXGylCQIa1W",
        "outputId": "f83c9525-f559-4efb-e30b-2d5784585607"
      },
      "outputs": [
        {
          "output_type": "stream",
          "name": "stderr",
          "text": [
            "/usr/local/lib/python3.7/dist-packages/sklearn/linear_model/_logistic.py:818: ConvergenceWarning: lbfgs failed to converge (status=1):\n",
            "STOP: TOTAL NO. of ITERATIONS REACHED LIMIT.\n",
            "\n",
            "Increase the number of iterations (max_iter) or scale the data as shown in:\n",
            "    https://scikit-learn.org/stable/modules/preprocessing.html\n",
            "Please also refer to the documentation for alternative solver options:\n",
            "    https://scikit-learn.org/stable/modules/linear_model.html#logistic-regression\n",
            "  extra_warning_msg=_LOGISTIC_SOLVER_CONVERGENCE_MSG,\n"
          ]
        },
        {
          "output_type": "stream",
          "name": "stdout",
          "text": [
            "Score of model LR :  0.9298245614035088\n",
            "Score of model Gauss :  0.8771929824561403\n",
            "Score of model GNB :  0.9122807017543859\n",
            "Score of model KNN :  0.8596491228070176\n",
            "Score of model SVC :  0.8245614035087719\n",
            "Score of model SGD :  0.8421052631578947\n",
            "Score of model MLP :  0.8771929824561403\n"
          ]
        }
      ],
      "source": [
        "X_train, X_test, y_train, y_test = train_test_split(data['data'], data['target'], test_size=0.1, stratify = data['target'])\n",
        "\n",
        "models = [\n",
        "\n",
        "          ('LR', LogisticRegression()), \n",
        "\n",
        "          ('Gauss', GaussianProcessClassifier()),\n",
        "\n",
        "          ('GNB', GaussianNB()),\n",
        "\n",
        "          ('KNN', KNeighborsClassifier()),\n",
        "\n",
        "          ('SVC', SVC()), \n",
        "\n",
        "          ('SGD', SGDClassifier()),\n",
        "\n",
        "          ('MLP', MLPClassifier())\n",
        "\n",
        "        ]\n",
        "\n",
        "for name, model in models:\n",
        "\n",
        "  clf = model.fit(X_train, y_train)\n",
        "\n",
        "  y_pred = clf.predict(X_test)\n",
        "\n",
        "  print(\"Score of model\",name,\": \", clf.score(X_test, y_test))"
      ]
    },
    {
      "cell_type": "markdown",
      "metadata": {
        "id": "FXRprSJFIij2"
      },
      "source": [
        "Po zastosowaniu ponownego podziału danych zauważalne są inne rezultaty wynków poszczególnych modeli."
      ]
    },
    {
      "cell_type": "markdown",
      "metadata": {
        "id": "oTu04IqeAdde"
      },
      "source": [
        "## Walidacja krzyżowa\n",
        "\n",
        "Przy niewielkim zbiorze danych, ciężko jest wydzielić reprezentatywny zbiór testowy. Jeden ze sposobów jest uruchomić cały proces kilka razy i raportować średnie i odchylenia uzyskanych wyników.\n",
        "\n",
        "Lepszym sposobem jest podzielić cały zbiór danych na `K` paczek i iteracyjnie użyć każdej paczki jako dane testowe, a wszystkie inne (w każdej iteracji) jako dane treningowe.\n",
        "\n",
        "Użyj klasy `StratifiedKFold` z modułu `sklearn.model_selection` żeby podzielić zbiór na 5 części i powtórz poprzedni eksperyment do liczenia dokładności modeli. Jako wynik podaj wartość średnią i odchylenie standardowe dla wsyzstkich podziałów danego modelu."
      ]
    },
    {
      "cell_type": "code",
      "execution_count": 174,
      "metadata": {
        "colab": {
          "base_uri": "https://localhost:8080/"
        },
        "id": "DAvA_pX23NU8",
        "outputId": "ad991ee7-b7f3-47ae-ca11-69fc05810147"
      },
      "outputs": [
        {
          "output_type": "stream",
          "name": "stdout",
          "text": [
            "KFold(n_splits=5, random_state=None, shuffle=False)\n"
          ]
        },
        {
          "output_type": "stream",
          "name": "stderr",
          "text": [
            "/usr/local/lib/python3.7/dist-packages/sklearn/linear_model/_logistic.py:818: ConvergenceWarning: lbfgs failed to converge (status=1):\n",
            "STOP: TOTAL NO. of ITERATIONS REACHED LIMIT.\n",
            "\n",
            "Increase the number of iterations (max_iter) or scale the data as shown in:\n",
            "    https://scikit-learn.org/stable/modules/preprocessing.html\n",
            "Please also refer to the documentation for alternative solver options:\n",
            "    https://scikit-learn.org/stable/modules/linear_model.html#logistic-regression\n",
            "  extra_warning_msg=_LOGISTIC_SOLVER_CONVERGENCE_MSG,\n",
            "/usr/local/lib/python3.7/dist-packages/sklearn/linear_model/_logistic.py:818: ConvergenceWarning: lbfgs failed to converge (status=1):\n",
            "STOP: TOTAL NO. of ITERATIONS REACHED LIMIT.\n",
            "\n",
            "Increase the number of iterations (max_iter) or scale the data as shown in:\n",
            "    https://scikit-learn.org/stable/modules/preprocessing.html\n",
            "Please also refer to the documentation for alternative solver options:\n",
            "    https://scikit-learn.org/stable/modules/linear_model.html#logistic-regression\n",
            "  extra_warning_msg=_LOGISTIC_SOLVER_CONVERGENCE_MSG,\n",
            "/usr/local/lib/python3.7/dist-packages/sklearn/linear_model/_logistic.py:818: ConvergenceWarning: lbfgs failed to converge (status=1):\n",
            "STOP: TOTAL NO. of ITERATIONS REACHED LIMIT.\n",
            "\n",
            "Increase the number of iterations (max_iter) or scale the data as shown in:\n",
            "    https://scikit-learn.org/stable/modules/preprocessing.html\n",
            "Please also refer to the documentation for alternative solver options:\n",
            "    https://scikit-learn.org/stable/modules/linear_model.html#logistic-regression\n",
            "  extra_warning_msg=_LOGISTIC_SOLVER_CONVERGENCE_MSG,\n",
            "/usr/local/lib/python3.7/dist-packages/sklearn/linear_model/_logistic.py:818: ConvergenceWarning: lbfgs failed to converge (status=1):\n",
            "STOP: TOTAL NO. of ITERATIONS REACHED LIMIT.\n",
            "\n",
            "Increase the number of iterations (max_iter) or scale the data as shown in:\n",
            "    https://scikit-learn.org/stable/modules/preprocessing.html\n",
            "Please also refer to the documentation for alternative solver options:\n",
            "    https://scikit-learn.org/stable/modules/linear_model.html#logistic-regression\n",
            "  extra_warning_msg=_LOGISTIC_SOLVER_CONVERGENCE_MSG,\n",
            "/usr/local/lib/python3.7/dist-packages/sklearn/linear_model/_logistic.py:818: ConvergenceWarning: lbfgs failed to converge (status=1):\n",
            "STOP: TOTAL NO. of ITERATIONS REACHED LIMIT.\n",
            "\n",
            "Increase the number of iterations (max_iter) or scale the data as shown in:\n",
            "    https://scikit-learn.org/stable/modules/preprocessing.html\n",
            "Please also refer to the documentation for alternative solver options:\n",
            "    https://scikit-learn.org/stable/modules/linear_model.html#logistic-regression\n",
            "  extra_warning_msg=_LOGISTIC_SOLVER_CONVERGENCE_MSG,\n"
          ]
        },
        {
          "output_type": "stream",
          "name": "stdout",
          "text": [
            "            LR     Gauss       GNB       KNN       SVC       SGD       MLP\n",
            "mean  0.945536  0.926199  0.929721  0.928843  0.924459  0.916548  0.915674\n",
            "SD    0.023495  0.034397  0.034760  0.035172  0.045971  0.046501  0.044510\n"
          ]
        }
      ],
      "source": [
        "import numpy as np\n",
        "from sklearn.model_selection import KFold\n",
        "import statistics\n",
        "import pandas as pd\n",
        "\n",
        "X = data['data']\n",
        "y = data['target']\n",
        "kf = KFold(n_splits=5)\n",
        "kf.get_n_splits(X)\n",
        "print(kf)\n",
        "KFold(n_splits=5, random_state=None, shuffle=False)\n",
        "model = LogisticRegression()\n",
        "namex = []\n",
        "op = []\n",
        "op2=[]\n",
        "op3 = []\n",
        "names = []\n",
        "for name, model in models: \n",
        "  for train_index, test_index in kf.split(X):\n",
        "    \n",
        "    #print(\"TRAIN:\", train_index, \"TEST:\", test_index)\n",
        "    X_train, X_test = X[train_index], X[test_index]\n",
        "    y_train, y_test = y[train_index], y[test_index]\n",
        "    clf = model.fit(X_train, y_train)\n",
        "    y_pred = clf.score(X_test,y_test)\n",
        "    op.append(y_pred)\n",
        "  op2.append(mean(op))\n",
        "  op3.append(statistics.stdev(op))\n",
        "  namex.append(name)\n",
        "#print(\"mean of model:\",mean(op),\"st of model:\"statistics.stdev(op))\n",
        "#print(op2)\n",
        "#print(op3)\n",
        "# Create DataFrame\n",
        "\n",
        "df = pd.DataFrame([op2,op3], index =['mean','SD'])\n",
        " \n",
        "\n",
        "df.columns =[namex]\n",
        "\n",
        "print(df)"
      ]
    },
    {
      "cell_type": "markdown",
      "metadata": {
        "id": "zjTTc3y9XD94"
      },
      "source": [
        "- Każdy z klasyfikatorów uzyskał średnią wyników powyżej 0.9\n",
        "- Najlepsze dopasowanie wydaje się mieć regresja logistyczna, najgorszy SGD.\n",
        "- LR z odchyleniem standardowym na poziomie 0.02, natomiast SGD i MLP powyżej 0.08 (prawie 4-ktornie wyższe)"
      ]
    },
    {
      "cell_type": "markdown",
      "metadata": {
        "id": "Nkd_xpDxBBXV"
      },
      "source": [
        "Naturalnym pytaniem jest jaką wartość wybrać dla parametru `K`. Im więcej paczek użyjemy, tym większa wariancja w wynikach. Dużo paczek oznacza mniejsze ryzyko biasu w eksperymentach, ale testy są robione na mniejszej ilości danych i przez to są bardziej chaotyczne. Mniej paczek oznacza bardziej dokładne wyniki testów, ale jest ryzyko że dane w ustalonych podziałach będa mniej reprezentatywne dla ogółu problemu. W skrajnym przypadku możemy użyć tyle paczek ile jest próbek - ta metoda nazywa się Leave-One-Out.\n",
        "\n",
        "Powtórz te same eksperymenty co poprzednio używając klasy `LeaveOneOut`, ale dla osczędności czasu użyj tylko jednego klasyfikatora (np SVC):"
      ]
    },
    {
      "cell_type": "code",
      "execution_count": 175,
      "metadata": {
        "colab": {
          "base_uri": "https://localhost:8080/"
        },
        "id": "2zLUjI_ubI9E",
        "outputId": "7d1e2b55-838d-42e5-ad11-f37f2c3ac5f5"
      },
      "outputs": [
        {
          "output_type": "stream",
          "name": "stdout",
          "text": [
            "Mean for SVC in LOO: 0.9121265377855887 SD for SVC in LOO: 0.2833598931225475\n"
          ]
        }
      ],
      "source": [
        "from sklearn.model_selection import LeaveOneOut\n",
        "loo = LeaveOneOut()\n",
        "loo.get_n_splits(X)\n",
        "model = SVC()\n",
        "op = []\n",
        "LeaveOneOut()\n",
        "for train_index, test_index in loo.split(X):\n",
        "    #print(\"TRAIN:\", train_index, \"TEST:\", test_index)\n",
        "     X_train, X_test = X[train_index], X[test_index]\n",
        "     y_train, y_test = y[train_index], y[test_index]\n",
        "     clf = model.fit(X_train, y_train)\n",
        "     y_pred = clf.score(X_test,y_test)\n",
        "     op.append(y_pred)\n",
        "#print(len(op))\n",
        "print(\"Mean for SVC in LOO:\",mean(op),\"SD for SVC in LOO:\", statistics.stdev(op))\n"
      ]
    },
    {
      "cell_type": "markdown",
      "metadata": {
        "id": "orsFGHywYBEb"
      },
      "source": [
        "- Uzyskaliśmy średnią dla algorytmu SVC nieco niższą niż przy Kfold dla 5 paczek.\n",
        "- Wzrosło nam diametralnie odchylenie standardowe z poziomu 0.045 do 0.28. Powodem jest ilość paczek/próbek"
      ]
    },
    {
      "cell_type": "markdown",
      "metadata": {
        "id": "GG36TOpFBVRl"
      },
      "source": [
        "## Miary jakości modelu\n",
        "\n",
        "Wczytaj następujące metody:\n",
        "```\n",
        "from sklearn.metrics import precision_recall_fscore_support, accuracy_score, confusion_matrix, roc_curve, roc_auc_score, classification_report\n",
        "```\n",
        "\n",
        "Zrób zwykły podział train/test 90/10. Dla wszystkich modeli oprócz regresji liniowej, zastosuj odpowiednio metody `fit` na danych treningowych i `predict` na danych testowych. Potem policz odpowiednio dokładność (`accuracy_score`), precyzję (`precision`), czułóść (`recall`), f-score i macierz konfuzji dla poszczególnych klasyfikatorów. Użyj też metody `classification_report` żeby zobaczyć ogólny raport:"
      ]
    },
    {
      "cell_type": "code",
      "execution_count": 176,
      "metadata": {
        "colab": {
          "base_uri": "https://localhost:8080/"
        },
        "id": "12-EfRooc8VY",
        "outputId": "cf445962-2381-4eb4-f090-44598aad6afc"
      },
      "outputs": [
        {
          "output_type": "stream",
          "name": "stdout",
          "text": [
            "GSP\n",
            "              precision    recall  f1-score   support\n",
            "\n",
            "           0       0.89      0.81      0.85        21\n",
            "           1       0.89      0.94      0.92        36\n",
            "\n",
            "    accuracy                           0.89        57\n",
            "   macro avg       0.89      0.88      0.88        57\n",
            "weighted avg       0.89      0.89      0.89        57\n",
            "\n",
            "[[17  4]\n",
            " [ 2 34]]\n",
            "KNN\n",
            "              precision    recall  f1-score   support\n",
            "\n",
            "           0       0.89      0.76      0.82        21\n",
            "           1       0.87      0.94      0.91        36\n",
            "\n",
            "    accuracy                           0.88        57\n",
            "   macro avg       0.88      0.85      0.86        57\n",
            "weighted avg       0.88      0.88      0.87        57\n",
            "\n",
            "[[16  5]\n",
            " [ 2 34]]\n",
            "SVC\n",
            "              precision    recall  f1-score   support\n",
            "\n",
            "           0       0.93      0.67      0.78        21\n",
            "           1       0.83      0.97      0.90        36\n",
            "\n",
            "    accuracy                           0.86        57\n",
            "   macro avg       0.88      0.82      0.84        57\n",
            "weighted avg       0.87      0.86      0.85        57\n",
            "\n",
            "[[14  7]\n",
            " [ 1 35]]\n",
            "GNB\n",
            "              precision    recall  f1-score   support\n",
            "\n",
            "           0       0.86      0.90      0.88        21\n",
            "           1       0.94      0.92      0.93        36\n",
            "\n",
            "    accuracy                           0.91        57\n",
            "   macro avg       0.90      0.91      0.91        57\n",
            "weighted avg       0.91      0.91      0.91        57\n",
            "\n",
            "[[19  2]\n",
            " [ 3 33]]\n",
            "MLP\n",
            "              precision    recall  f1-score   support\n",
            "\n",
            "           0       0.94      0.71      0.81        21\n",
            "           1       0.85      0.97      0.91        36\n",
            "\n",
            "    accuracy                           0.88        57\n",
            "   macro avg       0.90      0.84      0.86        57\n",
            "weighted avg       0.88      0.88      0.87        57\n",
            "\n",
            "[[15  6]\n",
            " [ 1 35]]\n",
            "SGD\n",
            "              precision    recall  f1-score   support\n",
            "\n",
            "           0       0.92      0.57      0.71        21\n",
            "           1       0.80      0.97      0.88        36\n",
            "\n",
            "    accuracy                           0.82        57\n",
            "   macro avg       0.86      0.77      0.79        57\n",
            "weighted avg       0.84      0.82      0.81        57\n",
            "\n",
            "[[12  9]\n",
            " [ 1 35]]\n"
          ]
        }
      ],
      "source": [
        "from sklearn.metrics import precision_recall_fscore_support, accuracy_score, confusion_matrix, roc_curve, roc_auc_score, classification_report\n",
        "models = [\n",
        "          ('GSP', GaussianProcessClassifier()),\n",
        "          ('KNN', KNeighborsClassifier()),\n",
        "          ('SVC', SVC()), \n",
        "          ('GNB', GaussianNB()),\n",
        "          ('MLP', MLPClassifier()),\n",
        "           ('SGD',SGDClassifier())]\n",
        "X_train, X_test, y_train, y_test = train_test_split(data['data'], data['target'], test_size=0.1, stratify = data['target'])\n",
        "for name, model in models:\n",
        "\n",
        "  clf = model.fit(X_train, y_train)\n",
        "\n",
        "  y_pred = clf.predict(X_test)\n",
        "  print(name)\n",
        "  print(classification_report(y_test, y_pred))\n",
        "  print(confusion_matrix(y_test, y_pred))\n",
        "  #print(accuracy_score(y_test, y_pred))\n",
        "  #print(\"Score of model\",name,\": \", clf.score(X_test, y_test))\n",
        "\n"
      ]
    },
    {
      "cell_type": "markdown",
      "metadata": {
        "id": "k33XKMilcO04"
      },
      "source": [
        "GNB uzyskało najlepsze statystyki miar"
      ]
    },
    {
      "cell_type": "markdown",
      "metadata": {
        "id": "6KJRuISZCUpf"
      },
      "source": [
        "## ROC i AUC\n",
        "\n",
        "Użyj wszystkich modeli oprócz regresji liniowej i GPC, a dla SVC dodaj parametr `probability=True`. Użyj walidacji krzyżowej żeby wytrenować każdy z modeli i policzyć `predict_proba` dla całego zbioru. Potem policz `roc_curve` i `auc_score` dla wszystkich modeli i narysuj na wykresie. \n",
        "\n",
        "Najpierw użyj tych poleceń żeby otrzymać pusty wykres ROC:\n",
        "\n",
        "```\n",
        "figure(figsize=(5,5))\n",
        "plot([0,1],[0,1],color='black',lw=2,linestyle='--')\n",
        "xlabel('1 - specificity')\n",
        "ylabel('sensitivity')\n",
        "title('ROC')\n",
        "```\n",
        "\n",
        "Dla każdego klasyfikatora użyj metody `plot` żeby narysować wartości `x=fpr` i `y=tpr` z metody `roc_curve`, a jako `label` ustaw nazwę modelu i jego `AUC`. Na końcu uruchom metodę `legend(loc='lower right')` żeby narysować legendę w dolnym prawym rogu wykresu."
      ]
    },
    {
      "cell_type": "code",
      "execution_count": 177,
      "metadata": {
        "id": "q4tc6lh_dUmH"
      },
      "outputs": [],
      "source": [
        "models = [\n",
        "          ('KNN', KNeighborsClassifier()),\n",
        "          ('SVC', SVC(probability=True)), \n",
        "          ('GNB', GaussianNB()),\n",
        "          ('MLP', MLPClassifier()),\n",
        "           ('SGD',SGDClassifier(loss='modified_huber',class_weight='balanced'))]\n",
        "kf = KFold(n_splits=5)\n",
        "kf.get_n_splits(X)\n",
        "KFold(n_splits=5, random_state=None, shuffle=False)\n",
        "namex = []\n",
        "op = []\n",
        "op2=[]\n",
        "op3 = []\n",
        "names = []\n",
        "for name, model in models: \n",
        "  for train_index, test_index in kf.split(X):\n",
        "    \n",
        "    #print(\"TRAIN:\", train_index, \"TEST:\", test_index)\n",
        "    X_train, X_test = X[train_index], X[test_index]\n",
        "    y_train, y_test = y[train_index], y[test_index]\n",
        "    clf = model.fit(X_train, y_train)\n",
        "    \n",
        "  op.append(clf.predict_proba(X_test))\n",
        "    #op.append(y_pred)\n",
        "  #op2.append(mean(op))\n",
        "  #op3.append(statistics.stdev(op))\n",
        "  namex.append(name)\n",
        "  \n",
        "#print(\"mean of model:\",mean(op),\"st of model:\"statistics.stdev(op))\n",
        "\n",
        "# Create DataFrame\n",
        "\n",
        "#df = pd.DataFrame([op2,op3], index =['mean','SD'])\n",
        " \n",
        "\n",
        "#df.columns =[namex]\n",
        "#op\n",
        "#print(df)"
      ]
    },
    {
      "cell_type": "code",
      "execution_count": 178,
      "metadata": {
        "colab": {
          "base_uri": "https://localhost:8080/",
          "height": 621
        },
        "id": "O6xftz40pHjE",
        "outputId": "73de4e25-60af-4ac0-9844-0e0b238532e2"
      },
      "outputs": [
        {
          "output_type": "display_data",
          "data": {
            "text/plain": [
              "<Figure size 720x720 with 1 Axes>"
            ],
            "image/png": "[encoded data removed]"
          },
          "metadata": {
            "needs_background": "light"
          }
        }
      ],
      "source": [
        "figure(figsize=(10,10))\n",
        "plot([0,1],[0,1],color='black',lw=2,linestyle='--')\n",
        "xlabel('1 - specificity')\n",
        "ylabel('sensitivity')\n",
        "title('ROC')\n",
        "for i in range(0,5):\n",
        "  k=op[i]\n",
        "  lr_probs = k[:, 1]\n",
        "  lr_probs \n",
        "  lr_auc = round(roc_auc_score(y_test, lr_probs),4)\n",
        "  #print(lr_auc)\n",
        "  lr_fpr, lr_tpr, _ = roc_curve(y_test, lr_probs)\n",
        "\n",
        "  # plot the roc curve for the model\n",
        "\n",
        "\n",
        "\n",
        "  \n",
        "  #pyplot.plot(lr_fpr, lr_tpr, marker='.', label=namex[i])\n",
        "  plt.plot(lr_fpr, lr_tpr,label=namex[i]+\", AUC=\"+str(lr_auc))\n",
        "  \n",
        "  plt.legend()\n",
        "pyplot.show()"
      ]
    },
    {
      "cell_type": "markdown",
      "metadata": {
        "id": "BHb_J7C8ioza"
      },
      "source": [
        "- Wszystkie klasyfikatory oprócz SGD radzą sobie bardzo dobrze\n",
        "- Po wykresie ROC i wartości AUC widzimy że najlepiej radzi sobie GNB. Wskazywał również na to classification_report"
      ]
    },
    {
      "cell_type": "markdown",
      "metadata": {
        "id": "k23B89bxYaLp"
      },
      "source": [
        "# Zadanie 1. -- Klasyfikacja wieloetykietowa\n",
        "\n",
        "Powtórz powyższe zadania na zbiorze danych win uzyskanego metodą `load_wine` z modułu `sklearn.datasets`. Warto zwrócić uwagę, że ten zbiór definiuje 3 różne klasy.\n",
        "\n",
        "Użyj `sklearn.multiclass.OneVsRestClassifier` żeby zastosować poprzednie klasyfikatory na nowych danych.\n",
        "\n",
        "Przy liczeniu krzywy ROC i wartości AUC użyj `sklearn.preprocessing.label_binarize` na referncji i metody `ravel()` na macierzach wyjściowych przed narysowaniem."
      ]
    },
    {
      "cell_type": "code",
      "execution_count": 187,
      "metadata": {
        "colab": {
          "base_uri": "https://localhost:8080/"
        },
        "id": "1nSoMv9QZy2q",
        "outputId": "f02fc509-f18e-43a6-db6e-f409e48b35be"
      },
      "outputs": [
        {
          "output_type": "execute_result",
          "data": {
            "text/plain": [
              "array([0, 0, 0, 0, 0, 0, 0, 0, 0, 0, 0, 0, 0, 0, 0, 0, 0, 0, 0, 0, 0, 0,\n",
              "       0, 0, 0, 0, 0, 0, 0, 0, 0, 0, 0, 0, 0, 0, 0, 0, 0, 0, 0, 0, 0, 0,\n",
              "       0, 0, 0, 0, 0, 0, 0, 0, 0, 0, 0, 0, 0, 0, 0, 1, 1, 1, 1, 1, 1, 1,\n",
              "       1, 1, 1, 1, 1, 1, 1, 1, 1, 1, 1, 1, 1, 1, 1, 1, 1, 1, 1, 1, 1, 1,\n",
              "       1, 1, 1, 1, 1, 1, 1, 1, 1, 1, 1, 1, 1, 1, 1, 1, 1, 1, 1, 1, 1, 1,\n",
              "       1, 1, 1, 1, 1, 1, 1, 1, 1, 1, 1, 1, 1, 1, 1, 1, 1, 1, 1, 1, 2, 2,\n",
              "       2, 2, 2, 2, 2, 2, 2, 2, 2, 2, 2, 2, 2, 2, 2, 2, 2, 2, 2, 2, 2, 2,\n",
              "       2, 2, 2, 2, 2, 2, 2, 2, 2, 2, 2, 2, 2, 2, 2, 2, 2, 2, 2, 2, 2, 2,\n",
              "       2, 2])"
            ]
          },
          "metadata": {},
          "execution_count": 187
        }
      ],
      "source": [
        "from sklearn.datasets import load_wine\n",
        "from sklearn.preprocessing import label_binarize\n",
        "data = load_wine()\n",
        "data['target']"
      ]
    },
    {
      "cell_type": "code",
      "execution_count": 188,
      "metadata": {
        "id": "0ZuLumKMjRzT"
      },
      "outputs": [],
      "source": [
        "from sklearn.multiclass import OneVsRestClassifier\n",
        "models = [\n",
        "\n",
        "          ('LR', LogisticRegression()), \n",
        "\n",
        "          ('Gauss', GaussianProcessClassifier()),\n",
        "\n",
        "          ('GNB', GaussianNB()),\n",
        "\n",
        "          ('KNN', KNeighborsClassifier()),\n",
        "\n",
        "          ('SVC', SVC()), \n",
        "\n",
        "          ('SGD', SGDClassifier()),\n",
        "\n",
        "          ('MLP', MLPClassifier())\n",
        "\n",
        "        ]\n"
      ]
    },
    {
      "cell_type": "code",
      "execution_count": 189,
      "metadata": {
        "colab": {
          "base_uri": "https://localhost:8080/"
        },
        "id": "rPLRKAnXjSW5",
        "outputId": "733a3622-bd1f-4e39-f2bf-13879cb41c67"
      },
      "outputs": [
        {
          "output_type": "stream",
          "name": "stdout",
          "text": [
            "KFold(n_splits=5, random_state=None, shuffle=False)\n"
          ]
        },
        {
          "output_type": "stream",
          "name": "stderr",
          "text": [
            "/usr/local/lib/python3.7/dist-packages/sklearn/linear_model/_logistic.py:818: ConvergenceWarning: lbfgs failed to converge (status=1):\n",
            "STOP: TOTAL NO. of ITERATIONS REACHED LIMIT.\n",
            "\n",
            "Increase the number of iterations (max_iter) or scale the data as shown in:\n",
            "    https://scikit-learn.org/stable/modules/preprocessing.html\n",
            "Please also refer to the documentation for alternative solver options:\n",
            "    https://scikit-learn.org/stable/modules/linear_model.html#logistic-regression\n",
            "  extra_warning_msg=_LOGISTIC_SOLVER_CONVERGENCE_MSG,\n",
            "/usr/local/lib/python3.7/dist-packages/sklearn/linear_model/_logistic.py:818: ConvergenceWarning: lbfgs failed to converge (status=1):\n",
            "STOP: TOTAL NO. of ITERATIONS REACHED LIMIT.\n",
            "\n",
            "Increase the number of iterations (max_iter) or scale the data as shown in:\n",
            "    https://scikit-learn.org/stable/modules/preprocessing.html\n",
            "Please also refer to the documentation for alternative solver options:\n",
            "    https://scikit-learn.org/stable/modules/linear_model.html#logistic-regression\n",
            "  extra_warning_msg=_LOGISTIC_SOLVER_CONVERGENCE_MSG,\n",
            "/usr/local/lib/python3.7/dist-packages/sklearn/linear_model/_logistic.py:818: ConvergenceWarning: lbfgs failed to converge (status=1):\n",
            "STOP: TOTAL NO. of ITERATIONS REACHED LIMIT.\n",
            "\n",
            "Increase the number of iterations (max_iter) or scale the data as shown in:\n",
            "    https://scikit-learn.org/stable/modules/preprocessing.html\n",
            "Please also refer to the documentation for alternative solver options:\n",
            "    https://scikit-learn.org/stable/modules/linear_model.html#logistic-regression\n",
            "  extra_warning_msg=_LOGISTIC_SOLVER_CONVERGENCE_MSG,\n",
            "/usr/local/lib/python3.7/dist-packages/sklearn/linear_model/_logistic.py:818: ConvergenceWarning: lbfgs failed to converge (status=1):\n",
            "STOP: TOTAL NO. of ITERATIONS REACHED LIMIT.\n",
            "\n",
            "Increase the number of iterations (max_iter) or scale the data as shown in:\n",
            "    https://scikit-learn.org/stable/modules/preprocessing.html\n",
            "Please also refer to the documentation for alternative solver options:\n",
            "    https://scikit-learn.org/stable/modules/linear_model.html#logistic-regression\n",
            "  extra_warning_msg=_LOGISTIC_SOLVER_CONVERGENCE_MSG,\n",
            "/usr/local/lib/python3.7/dist-packages/sklearn/linear_model/_logistic.py:818: ConvergenceWarning: lbfgs failed to converge (status=1):\n",
            "STOP: TOTAL NO. of ITERATIONS REACHED LIMIT.\n",
            "\n",
            "Increase the number of iterations (max_iter) or scale the data as shown in:\n",
            "    https://scikit-learn.org/stable/modules/preprocessing.html\n",
            "Please also refer to the documentation for alternative solver options:\n",
            "    https://scikit-learn.org/stable/modules/linear_model.html#logistic-regression\n",
            "  extra_warning_msg=_LOGISTIC_SOLVER_CONVERGENCE_MSG,\n",
            "/usr/local/lib/python3.7/dist-packages/sklearn/linear_model/_logistic.py:818: ConvergenceWarning: lbfgs failed to converge (status=1):\n",
            "STOP: TOTAL NO. of ITERATIONS REACHED LIMIT.\n",
            "\n",
            "Increase the number of iterations (max_iter) or scale the data as shown in:\n",
            "    https://scikit-learn.org/stable/modules/preprocessing.html\n",
            "Please also refer to the documentation for alternative solver options:\n",
            "    https://scikit-learn.org/stable/modules/linear_model.html#logistic-regression\n",
            "  extra_warning_msg=_LOGISTIC_SOLVER_CONVERGENCE_MSG,\n",
            "/usr/local/lib/python3.7/dist-packages/sklearn/linear_model/_logistic.py:818: ConvergenceWarning: lbfgs failed to converge (status=1):\n",
            "STOP: TOTAL NO. of ITERATIONS REACHED LIMIT.\n",
            "\n",
            "Increase the number of iterations (max_iter) or scale the data as shown in:\n",
            "    https://scikit-learn.org/stable/modules/preprocessing.html\n",
            "Please also refer to the documentation for alternative solver options:\n",
            "    https://scikit-learn.org/stable/modules/linear_model.html#logistic-regression\n",
            "  extra_warning_msg=_LOGISTIC_SOLVER_CONVERGENCE_MSG,\n",
            "/usr/local/lib/python3.7/dist-packages/sklearn/linear_model/_logistic.py:818: ConvergenceWarning: lbfgs failed to converge (status=1):\n",
            "STOP: TOTAL NO. of ITERATIONS REACHED LIMIT.\n",
            "\n",
            "Increase the number of iterations (max_iter) or scale the data as shown in:\n",
            "    https://scikit-learn.org/stable/modules/preprocessing.html\n",
            "Please also refer to the documentation for alternative solver options:\n",
            "    https://scikit-learn.org/stable/modules/linear_model.html#logistic-regression\n",
            "  extra_warning_msg=_LOGISTIC_SOLVER_CONVERGENCE_MSG,\n",
            "/usr/local/lib/python3.7/dist-packages/sklearn/linear_model/_logistic.py:818: ConvergenceWarning: lbfgs failed to converge (status=1):\n",
            "STOP: TOTAL NO. of ITERATIONS REACHED LIMIT.\n",
            "\n",
            "Increase the number of iterations (max_iter) or scale the data as shown in:\n",
            "    https://scikit-learn.org/stable/modules/preprocessing.html\n",
            "Please also refer to the documentation for alternative solver options:\n",
            "    https://scikit-learn.org/stable/modules/linear_model.html#logistic-regression\n",
            "  extra_warning_msg=_LOGISTIC_SOLVER_CONVERGENCE_MSG,\n",
            "/usr/local/lib/python3.7/dist-packages/sklearn/linear_model/_logistic.py:818: ConvergenceWarning: lbfgs failed to converge (status=1):\n",
            "STOP: TOTAL NO. of ITERATIONS REACHED LIMIT.\n",
            "\n",
            "Increase the number of iterations (max_iter) or scale the data as shown in:\n",
            "    https://scikit-learn.org/stable/modules/preprocessing.html\n",
            "Please also refer to the documentation for alternative solver options:\n",
            "    https://scikit-learn.org/stable/modules/linear_model.html#logistic-regression\n",
            "  extra_warning_msg=_LOGISTIC_SOLVER_CONVERGENCE_MSG,\n",
            "/usr/local/lib/python3.7/dist-packages/sklearn/linear_model/_logistic.py:818: ConvergenceWarning: lbfgs failed to converge (status=1):\n",
            "STOP: TOTAL NO. of ITERATIONS REACHED LIMIT.\n",
            "\n",
            "Increase the number of iterations (max_iter) or scale the data as shown in:\n",
            "    https://scikit-learn.org/stable/modules/preprocessing.html\n",
            "Please also refer to the documentation for alternative solver options:\n",
            "    https://scikit-learn.org/stable/modules/linear_model.html#logistic-regression\n",
            "  extra_warning_msg=_LOGISTIC_SOLVER_CONVERGENCE_MSG,\n",
            "/usr/local/lib/python3.7/dist-packages/sklearn/linear_model/_logistic.py:818: ConvergenceWarning: lbfgs failed to converge (status=1):\n",
            "STOP: TOTAL NO. of ITERATIONS REACHED LIMIT.\n",
            "\n",
            "Increase the number of iterations (max_iter) or scale the data as shown in:\n",
            "    https://scikit-learn.org/stable/modules/preprocessing.html\n",
            "Please also refer to the documentation for alternative solver options:\n",
            "    https://scikit-learn.org/stable/modules/linear_model.html#logistic-regression\n",
            "  extra_warning_msg=_LOGISTIC_SOLVER_CONVERGENCE_MSG,\n",
            "/usr/local/lib/python3.7/dist-packages/sklearn/linear_model/_logistic.py:818: ConvergenceWarning: lbfgs failed to converge (status=1):\n",
            "STOP: TOTAL NO. of ITERATIONS REACHED LIMIT.\n",
            "\n",
            "Increase the number of iterations (max_iter) or scale the data as shown in:\n",
            "    https://scikit-learn.org/stable/modules/preprocessing.html\n",
            "Please also refer to the documentation for alternative solver options:\n",
            "    https://scikit-learn.org/stable/modules/linear_model.html#logistic-regression\n",
            "  extra_warning_msg=_LOGISTIC_SOLVER_CONVERGENCE_MSG,\n",
            "/usr/local/lib/python3.7/dist-packages/sklearn/linear_model/_logistic.py:818: ConvergenceWarning: lbfgs failed to converge (status=1):\n",
            "STOP: TOTAL NO. of ITERATIONS REACHED LIMIT.\n",
            "\n",
            "Increase the number of iterations (max_iter) or scale the data as shown in:\n",
            "    https://scikit-learn.org/stable/modules/preprocessing.html\n",
            "Please also refer to the documentation for alternative solver options:\n",
            "    https://scikit-learn.org/stable/modules/linear_model.html#logistic-regression\n",
            "  extra_warning_msg=_LOGISTIC_SOLVER_CONVERGENCE_MSG,\n",
            "/usr/local/lib/python3.7/dist-packages/sklearn/linear_model/_logistic.py:818: ConvergenceWarning: lbfgs failed to converge (status=1):\n",
            "STOP: TOTAL NO. of ITERATIONS REACHED LIMIT.\n",
            "\n",
            "Increase the number of iterations (max_iter) or scale the data as shown in:\n",
            "    https://scikit-learn.org/stable/modules/preprocessing.html\n",
            "Please also refer to the documentation for alternative solver options:\n",
            "    https://scikit-learn.org/stable/modules/linear_model.html#logistic-regression\n",
            "  extra_warning_msg=_LOGISTIC_SOLVER_CONVERGENCE_MSG,\n",
            "/usr/local/lib/python3.7/dist-packages/sklearn/neural_network/_multilayer_perceptron.py:696: ConvergenceWarning: Stochastic Optimizer: Maximum iterations (200) reached and the optimization hasn't converged yet.\n",
            "  ConvergenceWarning,\n",
            "/usr/local/lib/python3.7/dist-packages/sklearn/neural_network/_multilayer_perceptron.py:696: ConvergenceWarning: Stochastic Optimizer: Maximum iterations (200) reached and the optimization hasn't converged yet.\n",
            "  ConvergenceWarning,\n",
            "/usr/local/lib/python3.7/dist-packages/sklearn/neural_network/_multilayer_perceptron.py:696: ConvergenceWarning: Stochastic Optimizer: Maximum iterations (200) reached and the optimization hasn't converged yet.\n",
            "  ConvergenceWarning,\n"
          ]
        },
        {
          "output_type": "stream",
          "name": "stdout",
          "text": [
            "            LR     Gauss       GNB       KNN       SVC       SGD       MLP\n",
            "mean  0.933016  0.661746  0.755873  0.715357  0.690762  0.610450  0.559161\n",
            "SD    0.042028  0.334471  0.302231  0.306090  0.312504  0.354803  0.377315\n"
          ]
        },
        {
          "output_type": "stream",
          "name": "stderr",
          "text": [
            "/usr/local/lib/python3.7/dist-packages/sklearn/neural_network/_multilayer_perceptron.py:696: ConvergenceWarning: Stochastic Optimizer: Maximum iterations (200) reached and the optimization hasn't converged yet.\n",
            "  ConvergenceWarning,\n"
          ]
        }
      ],
      "source": [
        "import numpy as np\n",
        "from sklearn.model_selection import KFold\n",
        "import statistics\n",
        "import pandas as pd\n",
        "\n",
        "X = data['data']\n",
        "y = data['target']\n",
        "kf = KFold(n_splits=5)\n",
        "kf.get_n_splits(X)\n",
        "print(kf)\n",
        "KFold(n_splits=5, random_state=None, shuffle=False)\n",
        "model = LogisticRegression()\n",
        "namex = []\n",
        "op = []\n",
        "op2=[]\n",
        "op3 = []\n",
        "names = []\n",
        "for name, model in models: \n",
        "  for train_index, test_index in kf.split(X):\n",
        "    \n",
        "    #print(\"TRAIN:\", train_index, \"TEST:\", test_index)\n",
        "    X_train, X_test = X[train_index], X[test_index]\n",
        "    y_train, y_test = y[train_index], y[test_index]\n",
        "    clf = OneVsRestClassifier(model).fit(X_train, y_train)\n",
        "    y_pred = clf.score(X_test,y_test)\n",
        "    op.append(y_pred)\n",
        "  op2.append(mean(op))\n",
        "  op3.append(statistics.stdev(op))\n",
        "  namex.append(name)\n",
        "#print(\"mean of model:\",mean(op),\"st of model:\"statistics.stdev(op))\n",
        "#print(op2)\n",
        "#print(op3)\n",
        "# Create DataFrame\n",
        "\n",
        "df = pd.DataFrame([op2,op3], index =['mean','SD'])\n",
        " \n",
        "\n",
        "df.columns =[namex]\n",
        "\n",
        "print(df)"
      ]
    },
    {
      "cell_type": "code",
      "execution_count": 190,
      "metadata": {
        "colab": {
          "base_uri": "https://localhost:8080/"
        },
        "id": "g3zpjkc8kq_A",
        "outputId": "d2cb6362-0c91-4df8-9e7c-c4b87b1e5ad3"
      },
      "outputs": [
        {
          "output_type": "stream",
          "name": "stdout",
          "text": [
            "Mean for SVC in LOO: 0.6853932584269663 SD for SVC in LOO: 0.46566896459508955\n"
          ]
        }
      ],
      "source": [
        "loo = LeaveOneOut()\n",
        "loo.get_n_splits(X)\n",
        "model = SVC()\n",
        "op = []\n",
        "LeaveOneOut()\n",
        "for train_index, test_index in loo.split(X):\n",
        "    #print(\"TRAIN:\", train_index, \"TEST:\", test_index)\n",
        "     X_train, X_test = X[train_index], X[test_index]\n",
        "     y_train, y_test = y[train_index], y[test_index]\n",
        "     clf = OneVsRestClassifier(model).fit(X_train, y_train)\n",
        "     y_pred = clf.score(X_test,y_test)\n",
        "     op.append(y_pred)\n",
        "#print(len(op))\n",
        "print(\"Mean for SVC in LOO:\",mean(op),\"SD for SVC in LOO:\", statistics.stdev(op))\n"
      ]
    },
    {
      "cell_type": "code",
      "execution_count": 191,
      "metadata": {
        "colab": {
          "base_uri": "https://localhost:8080/"
        },
        "id": "prvArPYmk_gA",
        "outputId": "bfb2dcc4-1a55-4925-f466-1455232601a3"
      },
      "outputs": [
        {
          "output_type": "stream",
          "name": "stdout",
          "text": [
            "GSP\n",
            "              precision    recall  f1-score   support\n",
            "\n",
            "           0       1.00      0.33      0.50         6\n",
            "           1       0.75      0.43      0.55         7\n",
            "           2       0.33      0.80      0.47         5\n",
            "\n",
            "    accuracy                           0.50        18\n",
            "   macro avg       0.69      0.52      0.51        18\n",
            "weighted avg       0.72      0.50      0.51        18\n",
            "\n",
            "Confusion matrix:\n",
            "[[2 0 4]\n",
            " [0 3 4]\n",
            " [0 1 4]]\n",
            "KNN\n",
            "              precision    recall  f1-score   support\n",
            "\n",
            "           0       1.00      0.67      0.80         6\n",
            "           1       0.50      0.57      0.53         7\n",
            "           2       0.17      0.20      0.18         5\n",
            "\n",
            "    accuracy                           0.50        18\n",
            "   macro avg       0.56      0.48      0.51        18\n",
            "weighted avg       0.57      0.50      0.52        18\n",
            "\n",
            "Confusion matrix:\n",
            "[[4 0 2]\n",
            " [0 4 3]\n",
            " [0 4 1]]\n",
            "SVC\n",
            "              precision    recall  f1-score   support\n",
            "\n",
            "           0       0.75      1.00      0.86         6\n",
            "           1       0.70      1.00      0.82         7\n",
            "           2       0.00      0.00      0.00         5\n",
            "\n",
            "    accuracy                           0.72        18\n",
            "   macro avg       0.48      0.67      0.56        18\n",
            "weighted avg       0.52      0.72      0.61        18\n",
            "\n",
            "Confusion matrix:\n",
            "[[6 0 0]\n",
            " [0 7 0]\n",
            " [2 3 0]]\n",
            "GNB\n",
            "              precision    recall  f1-score   support\n",
            "\n",
            "           0       1.00      0.83      0.91         6\n",
            "           1       0.88      1.00      0.93         7\n",
            "           2       1.00      1.00      1.00         5\n",
            "\n",
            "    accuracy                           0.94        18\n",
            "   macro avg       0.96      0.94      0.95        18\n",
            "weighted avg       0.95      0.94      0.94        18\n",
            "\n",
            "Confusion matrix:\n",
            "[[5 1 0]\n",
            " [0 7 0]\n",
            " [0 0 5]]\n"
          ]
        },
        {
          "output_type": "stream",
          "name": "stderr",
          "text": [
            "/usr/local/lib/python3.7/dist-packages/sklearn/metrics/_classification.py:1318: UndefinedMetricWarning: Precision and F-score are ill-defined and being set to 0.0 in labels with no predicted samples. Use `zero_division` parameter to control this behavior.\n",
            "  _warn_prf(average, modifier, msg_start, len(result))\n",
            "/usr/local/lib/python3.7/dist-packages/sklearn/metrics/_classification.py:1318: UndefinedMetricWarning: Precision and F-score are ill-defined and being set to 0.0 in labels with no predicted samples. Use `zero_division` parameter to control this behavior.\n",
            "  _warn_prf(average, modifier, msg_start, len(result))\n",
            "/usr/local/lib/python3.7/dist-packages/sklearn/metrics/_classification.py:1318: UndefinedMetricWarning: Precision and F-score are ill-defined and being set to 0.0 in labels with no predicted samples. Use `zero_division` parameter to control this behavior.\n",
            "  _warn_prf(average, modifier, msg_start, len(result))\n"
          ]
        },
        {
          "output_type": "stream",
          "name": "stdout",
          "text": [
            "MLP\n",
            "              precision    recall  f1-score   support\n",
            "\n",
            "           0       0.83      0.83      0.83         6\n",
            "           1       0.58      1.00      0.74         7\n",
            "           2       0.00      0.00      0.00         5\n",
            "\n",
            "    accuracy                           0.67        18\n",
            "   macro avg       0.47      0.61      0.52        18\n",
            "weighted avg       0.50      0.67      0.56        18\n",
            "\n",
            "Confusion matrix:\n",
            "[[5 1 0]\n",
            " [0 7 0]\n",
            " [1 4 0]]\n",
            "SGD\n",
            "              precision    recall  f1-score   support\n",
            "\n",
            "           0       0.71      0.83      0.77         6\n",
            "           1       0.55      0.86      0.67         7\n",
            "           2       0.00      0.00      0.00         5\n",
            "\n",
            "    accuracy                           0.61        18\n",
            "   macro avg       0.42      0.56      0.48        18\n",
            "weighted avg       0.45      0.61      0.52        18\n",
            "\n",
            "Confusion matrix:\n",
            "[[5 1 0]\n",
            " [1 6 0]\n",
            " [1 4 0]]\n"
          ]
        },
        {
          "output_type": "stream",
          "name": "stderr",
          "text": [
            "/usr/local/lib/python3.7/dist-packages/sklearn/neural_network/_multilayer_perceptron.py:696: ConvergenceWarning: Stochastic Optimizer: Maximum iterations (200) reached and the optimization hasn't converged yet.\n",
            "  ConvergenceWarning,\n",
            "/usr/local/lib/python3.7/dist-packages/sklearn/metrics/_classification.py:1318: UndefinedMetricWarning: Precision and F-score are ill-defined and being set to 0.0 in labels with no predicted samples. Use `zero_division` parameter to control this behavior.\n",
            "  _warn_prf(average, modifier, msg_start, len(result))\n",
            "/usr/local/lib/python3.7/dist-packages/sklearn/metrics/_classification.py:1318: UndefinedMetricWarning: Precision and F-score are ill-defined and being set to 0.0 in labels with no predicted samples. Use `zero_division` parameter to control this behavior.\n",
            "  _warn_prf(average, modifier, msg_start, len(result))\n",
            "/usr/local/lib/python3.7/dist-packages/sklearn/metrics/_classification.py:1318: UndefinedMetricWarning: Precision and F-score are ill-defined and being set to 0.0 in labels with no predicted samples. Use `zero_division` parameter to control this behavior.\n",
            "  _warn_prf(average, modifier, msg_start, len(result))\n",
            "/usr/local/lib/python3.7/dist-packages/sklearn/metrics/_classification.py:1318: UndefinedMetricWarning: Precision and F-score are ill-defined and being set to 0.0 in labels with no predicted samples. Use `zero_division` parameter to control this behavior.\n",
            "  _warn_prf(average, modifier, msg_start, len(result))\n",
            "/usr/local/lib/python3.7/dist-packages/sklearn/metrics/_classification.py:1318: UndefinedMetricWarning: Precision and F-score are ill-defined and being set to 0.0 in labels with no predicted samples. Use `zero_division` parameter to control this behavior.\n",
            "  _warn_prf(average, modifier, msg_start, len(result))\n",
            "/usr/local/lib/python3.7/dist-packages/sklearn/metrics/_classification.py:1318: UndefinedMetricWarning: Precision and F-score are ill-defined and being set to 0.0 in labels with no predicted samples. Use `zero_division` parameter to control this behavior.\n",
            "  _warn_prf(average, modifier, msg_start, len(result))\n"
          ]
        }
      ],
      "source": [
        "models = [\n",
        "          ('GSP', GaussianProcessClassifier()),\n",
        "          ('KNN', KNeighborsClassifier()),\n",
        "          ('SVC', SVC()), \n",
        "          ('GNB', GaussianNB()),\n",
        "          ('MLP', MLPClassifier()),\n",
        "           ('SGD',SGDClassifier())]\n",
        "X_train, X_test, y_train, y_test = train_test_split(data['data'], data['target'], test_size=0.1, stratify = data['target'])\n",
        "for name, model in models:\n",
        "\n",
        "  clf = OneVsRestClassifier(model).fit(X_train, y_train)\n",
        "\n",
        "  y_pred = clf.predict(X_test)\n",
        "  print(name)\n",
        "  print(classification_report(y_test, y_pred))\n",
        "  print(\"Confusion matrix:\")\n",
        "  print(confusion_matrix(y_test, y_pred))\n",
        "  #print(accuracy_score(y_test, y_pred))\n",
        "  #print(\"Score of model\",name,\": \", clf.score(X_test, y_test))\n",
        "\n"
      ]
    },
    {
      "cell_type": "code",
      "execution_count": 192,
      "metadata": {
        "id": "3M2kBFx5nXEy"
      },
      "outputs": [],
      "source": [
        "from sklearn.preprocessing import label_binarize"
      ]
    },
    {
      "cell_type": "code",
      "execution_count": 193,
      "metadata": {
        "colab": {
          "base_uri": "https://localhost:8080/",
          "height": 1000
        },
        "id": "Xo5IAtE4Strf",
        "outputId": "c19c2726-1f66-47a2-ac2a-a5f2dddd9fbd"
      },
      "outputs": [
        {
          "output_type": "display_data",
          "data": {
            "text/plain": [
              "<Figure size 720x720 with 1 Axes>"
            ],
            "image/png": "[encoded data removed]"
          },
          "metadata": {
            "needs_background": "light"
          }
        },
        {
          "output_type": "display_data",
          "data": {
            "text/plain": [
              "<Figure size 720x720 with 1 Axes>"
            ],
            "image/png": "[encoded data removed]"
          },
          "metadata": {
            "needs_background": "light"
          }
        },
        {
          "output_type": "display_data",
          "data": {
            "text/plain": [
              "<Figure size 720x720 with 1 Axes>"
            ],
            "image/png": "[encoded data removed]"
          },
          "metadata": {
            "needs_background": "light"
          }
        },
        {
          "output_type": "stream",
          "name": "stderr",
          "text": [
            "/usr/local/lib/python3.7/dist-packages/sklearn/neural_network/_multilayer_perceptron.py:696: ConvergenceWarning: Stochastic Optimizer: Maximum iterations (200) reached and the optimization hasn't converged yet.\n",
            "  ConvergenceWarning,\n"
          ]
        },
        {
          "output_type": "display_data",
          "data": {
            "text/plain": [
              "<Figure size 720x720 with 1 Axes>"
            ],
            "image/png": "[encoded data removed]"
          },
          "metadata": {
            "needs_background": "light"
          }
        },
        {
          "output_type": "display_data",
          "data": {
            "text/plain": [
              "<Figure size 720x720 with 1 Axes>"
            ],
            "image/png": "[encoded data removed]"
          },
          "metadata": {
            "needs_background": "light"
          }
        }
      ],
      "source": [
        "\n",
        "X_train, X_val, y_train, y_val = train_test_split(data['data'], data['target'], train_size=0.9, test_size=0.1, stratify =data['target'])\n",
        "a1 = []\n",
        "models = [\n",
        "          ('KNN', KNeighborsClassifier()),\n",
        "          ('SVC', SVC(probability=True)), \n",
        "          ('GNB', GaussianNB()),\n",
        "          ('MLP', MLPClassifier()),\n",
        "           ('SGD',SGDClassifier(loss='modified_huber',class_weight='balanced'))]\n",
        "\n",
        "roc_aucs = []\n",
        "fpr = {}\n",
        "tpr = {}\n",
        "thresh = {}\n",
        "\n",
        "\n",
        "\n",
        "X_train, X_val, y_train, y_val = train_test_split(data['data'], data['target'], train_size=0.9, test_size=0.1, stratify =data['target'])\n",
        "\n",
        "model = OneVsRestClassifier(KNeighborsClassifier())\n",
        "model.fit(X_train, y_train)\n",
        "pred = model.predict_proba(data['data'])\n",
        "roc_aucs = []\n",
        "fpr = {}\n",
        "tpr = {}\n",
        "thresh = {}\n",
        "for i in range(0,5):\n",
        "  figure(figsize=(10,10))\n",
        "  model1 = OneVsRestClassifier(models[i][1])\n",
        "  model1.fit(X_train, y_train)\n",
        "  pred = model1.predict_proba(data['data'])\n",
        "  #a1.append(models[i][0])\n",
        "  a1 = models[i][0]\n",
        "  for i in range(3):   \n",
        "      \n",
        "      fpr[i], tpr[i], thresh[i] = roc_curve(label_binarize(data['target'], classes=[0,1,2])[:,i], pred[:,i])\n",
        "      roc_aucs.append(roc_auc_score(label_binarize(data['target'], classes=[0,1,2])[:,i], pred[:,i]))\n",
        "      plot([0,1],[0,1],color='black',lw=2,linestyle='--')\n",
        "      plot(fpr[i], tpr[i],label=f\"{i} vs rest: AUC: {round(roc_aucs[i], 3)}\")\n",
        "  xlabel('1 - specificity')\n",
        "  ylabel('sensitivity')\n",
        "  title(a1+f' ROC')\n",
        "  legend(loc='lower right')\n",
        "\n",
        "  show()"
      ]
    },
    {
      "cell_type": "markdown",
      "source": [
        "Przy każdym z klasyfikatorów widzimiy konsekwentną skutecznośc seperacji klasy \"0\", następnie klasy \"1\" i najsłabiej zachowuje się klasa \"2\"."
      ],
      "metadata": {
        "id": "Amk5FdvhSF6k"
      }
    },
    {
      "cell_type": "markdown",
      "metadata": {
        "id": "GCpAekshhd7S"
      },
      "source": [
        "# Zadanie 2. -- Optymalizacja hiperparametru\n",
        "\n",
        "Użyj podwójnej walidacji krzyżowej żeby znaleźć średnią skuteczność klasyfikatora SVC (na danych `load_breast_cancer`) dla optymalnego parametru `C`.\n",
        "\n",
        "Należy użyć podwójnej metody K-Fold: najpierw dzielimy zbiór na train/test, a potem w każdej iteracji zbiór train dodatowko dzielimy na train/dev kolejną pętlą walidacji krzyżowej. Za pomocą podziału train/dev szukamy jaki parametr `C` daje najlepszy wynik (załóżmy że przetestujemy ~10 różnych wartości równomiernie rozłożonych od 0.2 do 2 ), a potem użyjemy tą optymalną wartość żeby dokonać eksperymentu na zbiorze test."
      ]
    },
    {
      "cell_type": "code",
      "source": [
        "from sklearn.datasets import load_breast_cancer\n",
        "from sklearn.model_selection import StratifiedKFold"
      ],
      "metadata": {
        "id": "ttubP70cTx8x"
      },
      "execution_count": 194,
      "outputs": []
    },
    {
      "cell_type": "code",
      "source": [
        "data = load_breast_cancer()\n",
        "skf = StratifiedKFold()\n",
        "skf.get_n_splits(data['data'], data['target'])\n",
        "exps = [[] for _ in range(len(models))]\n",
        "Cs = [i/10 for i in list(range(2,22,2))]\n",
        "results = {}\n",
        "\n",
        "for exp_id, (train_dev_idxs, test_idxs) in enumerate(skf.split(data['data'], data['target'])):\n",
        "    X_test, y_test = data['data'][test_idxs], data['target'][test_idxs]\n",
        "    skf_1 = StratifiedKFold(n_splits=len(Cs))\n",
        "    skf_1.get_n_splits(data['data'][train_dev_idxs], data['target'][train_dev_idxs])\n",
        "    for exp_id_1, (train_idxs, dev_idxs) in enumerate(skf_1.split(data['data'][train_dev_idxs], data['target'][train_dev_idxs])):\n",
        "            X_train, y_train = data['data'][train_idxs], data['target'][train_idxs]\n",
        "            X_dev, y_dev = data['data'][dev_idxs], data['target'][dev_idxs]\n",
        "            model = SVC(C=Cs[exp_1])\n",
        "            model.fit(X_train, y_train)\n",
        "            results[Cs[exp_id_1]] = model.score(X_dev, y_dev)\n",
        "    C_value = {v:k for k,v in results.items()}[max(results.values())]\n",
        "    model = SVC(C=C_value)\n",
        "    X_train, y_train = data['data'][train_dev_idxs], data['target'][train_dev_idxs]\n",
        "    model.fit(X_train, y_train)\n",
        "    print(f\"Experiment: {exp_id}. Model score: {model.score(X_test, y_test)} C value: {C_value}\")"
      ],
      "metadata": {
        "id": "tiWdRV4jvn0l",
        "colab": {
          "base_uri": "https://localhost:8080/"
        },
        "outputId": "97f44381-732c-4ee2-877b-8951fb8e552a"
      },
      "execution_count": 195,
      "outputs": [
        {
          "output_type": "stream",
          "name": "stdout",
          "text": [
            "Experiment: 0. Model score: 0.8508771929824561 C value: 1.0\n",
            "Experiment: 1. Model score: 0.8947368421052632 C value: 1.0\n",
            "Experiment: 2. Model score: 0.9298245614035088 C value: 2.0\n",
            "Experiment: 3. Model score: 0.9385964912280702 C value: 2.0\n",
            "Experiment: 4. Model score: 0.9380530973451328 C value: 1.0\n"
          ]
        }
      ]
    },
    {
      "cell_type": "markdown",
      "source": [
        "Najwyższe wyniki skuteczności uzyskaliśmy w eksperymentach nr 2 i 3 dla C równego 2."
      ],
      "metadata": {
        "id": "8ZGWt67-WmFD"
      }
    }
  ],
  "metadata": {
    "colab": {
      "collapsed_sections": [],
      "name": "Jan_Solarz_Zadanie_4.ipynb",
      "provenance": []
    },
    "kernelspec": {
      "display_name": "Python 3",
      "name": "python3"
    },
    "accelerator": "GPU"
  },
  "nbformat": 4,
  "nbformat_minor": 0
}