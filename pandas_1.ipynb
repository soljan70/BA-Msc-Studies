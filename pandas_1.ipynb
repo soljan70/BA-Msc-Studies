{
 "cells": [
  {
   "cell_type": "markdown",
   "id": "bc582b67",
   "metadata": {},
   "source": [
    "# PAD - Praca domowa 2\n",
    "## Jan Solarz s26342"
   ]
  },
  {
   "cell_type": "markdown",
   "id": "497dcc5a",
   "metadata": {},
   "source": [
    "### Zadanie 1"
   ]
  },
  {
   "cell_type": "markdown",
   "id": "212c9888",
   "metadata": {},
   "source": [
    "Zaczynamy od wgrania ramki danych"
   ]
  },
  {
   "cell_type": "code",
   "execution_count": 35,
   "id": "a6e7b2d5",
   "metadata": {},
   "outputs": [],
   "source": [
    "import pandas as pd\n",
    "PATH = \"Downloads\\PAD_02_PD.csv\""
   ]
  },
  {
   "cell_type": "code",
   "execution_count": 36,
   "id": "667aa26b",
   "metadata": {},
   "outputs": [
    {
     "data": {
      "text/plain": [
       "(800, 8)"
      ]
     },
     "execution_count": 36,
     "metadata": {},
     "output_type": "execute_result"
    }
   ],
   "source": [
    "df = pd.read_csv(PATH, sep=\";\")\n",
    "df.shape"
   ]
  },
  {
   "cell_type": "code",
   "execution_count": 37,
   "id": "a4e25c3b",
   "metadata": {},
   "outputs": [
    {
     "name": "stdout",
     "output_type": "stream",
     "text": [
      "<class 'pandas.core.frame.DataFrame'>\n",
      "RangeIndex: 800 entries, 0 to 799\n",
      "Data columns (total 8 columns):\n",
      " #   Column      Non-Null Count  Dtype  \n",
      "---  ------      --------------  -----  \n",
      " 0   ID          800 non-null    int64  \n",
      " 1   Country     793 non-null    object \n",
      " 2   owns_car    798 non-null    float64\n",
      " 3   owns_TV     798 non-null    float64\n",
      " 4   owns_house  794 non-null    float64\n",
      " 5   owns_Phone  800 non-null    int64  \n",
      " 6   gender      795 non-null    object \n",
      " 7   Age         800 non-null    int64  \n",
      "dtypes: float64(3), int64(3), object(2)\n",
      "memory usage: 50.1+ KB\n"
     ]
    }
   ],
   "source": [
    "df.info()"
   ]
  },
  {
   "cell_type": "markdown",
   "id": "36a09d76",
   "metadata": {},
   "source": [
    "Widoczne są braki danych w zmiennych"
   ]
  },
  {
   "cell_type": "code",
   "execution_count": 38,
   "id": "d4545a4d",
   "metadata": {
    "scrolled": true
   },
   "outputs": [
    {
     "data": {
      "text/plain": [
       "A      328\n",
       "B      201\n",
       "C      186\n",
       "D       78\n",
       "NaN      7\n",
       "Name: Country, dtype: int64"
      ]
     },
     "execution_count": 38,
     "metadata": {},
     "output_type": "execute_result"
    }
   ],
   "source": [
    "df['Country'].value_counts(dropna=False)\n",
    "#co z wartosciami NA"
   ]
  },
  {
   "cell_type": "markdown",
   "id": "9d97a828",
   "metadata": {},
   "source": [
    "Powyżej wskazano na liczebność każdej z wartości w zmiennej COUNTRY. 7 wartości jest NaN."
   ]
  },
  {
   "cell_type": "code",
   "execution_count": 39,
   "id": "71e84062",
   "metadata": {},
   "outputs": [],
   "source": [
    "df=df.dropna()"
   ]
  },
  {
   "cell_type": "code",
   "execution_count": 40,
   "id": "2d86d1b9",
   "metadata": {
    "scrolled": false
   },
   "outputs": [
    {
     "name": "stdout",
     "output_type": "stream",
     "text": [
      "<class 'pandas.core.frame.DataFrame'>\n",
      "Int64Index: 778 entries, 0 to 799\n",
      "Data columns (total 8 columns):\n",
      " #   Column      Non-Null Count  Dtype  \n",
      "---  ------      --------------  -----  \n",
      " 0   ID          778 non-null    int64  \n",
      " 1   Country     778 non-null    object \n",
      " 2   owns_car    778 non-null    float64\n",
      " 3   owns_TV     778 non-null    float64\n",
      " 4   owns_house  778 non-null    float64\n",
      " 5   owns_Phone  778 non-null    int64  \n",
      " 6   gender      778 non-null    object \n",
      " 7   Age         778 non-null    int64  \n",
      "dtypes: float64(3), int64(3), object(2)\n",
      "memory usage: 54.7+ KB\n"
     ]
    }
   ],
   "source": [
    "df.info()"
   ]
  },
  {
   "cell_type": "markdown",
   "id": "4bbf4345",
   "metadata": {},
   "source": [
    "Ramka danych df została wyczyszczona z wartości NA, w wyniku czego pozostało 778 kompletnych obserwacji."
   ]
  },
  {
   "cell_type": "markdown",
   "id": "89c7f7f6",
   "metadata": {},
   "source": [
    "### Zadanie 2"
   ]
  },
  {
   "cell_type": "markdown",
   "id": "2998f5a8",
   "metadata": {},
   "source": [
    "Tworzymy zmienną \"Number_of_goods\" jako suma wszystkich dóbr dla poszczególnej osoby."
   ]
  },
  {
   "cell_type": "code",
   "execution_count": 41,
   "id": "a6ff010a",
   "metadata": {},
   "outputs": [],
   "source": [
    "df[\"Number_of_goods\"] = df[\"owns_car\"]+df[\"owns_TV\"]+df[\"owns_house\"]+df[\"owns_Phone\"]"
   ]
  },
  {
   "cell_type": "code",
   "execution_count": 42,
   "id": "f274ce65",
   "metadata": {},
   "outputs": [
    {
     "data": {
      "text/html": [
       "<div>\n",
       "<style scoped>\n",
       "    .dataframe tbody tr th:only-of-type {\n",
       "        vertical-align: middle;\n",
       "    }\n",
       "\n",
       "    .dataframe tbody tr th {\n",
       "        vertical-align: top;\n",
       "    }\n",
       "\n",
       "    .dataframe thead th {\n",
       "        text-align: right;\n",
       "    }\n",
       "</style>\n",
       "<table border=\"1\" class=\"dataframe\">\n",
       "  <thead>\n",
       "    <tr style=\"text-align: right;\">\n",
       "      <th></th>\n",
       "      <th>ID</th>\n",
       "      <th>Country</th>\n",
       "      <th>owns_car</th>\n",
       "      <th>owns_TV</th>\n",
       "      <th>owns_house</th>\n",
       "      <th>owns_Phone</th>\n",
       "      <th>gender</th>\n",
       "      <th>Age</th>\n",
       "      <th>Number_of_goods</th>\n",
       "    </tr>\n",
       "  </thead>\n",
       "  <tbody>\n",
       "    <tr>\n",
       "      <th>5</th>\n",
       "      <td>6</td>\n",
       "      <td>A</td>\n",
       "      <td>0.0</td>\n",
       "      <td>0.0</td>\n",
       "      <td>0.0</td>\n",
       "      <td>1</td>\n",
       "      <td>M</td>\n",
       "      <td>48</td>\n",
       "      <td>1.0</td>\n",
       "    </tr>\n",
       "    <tr>\n",
       "      <th>6</th>\n",
       "      <td>7</td>\n",
       "      <td>D</td>\n",
       "      <td>1.0</td>\n",
       "      <td>1.0</td>\n",
       "      <td>1.0</td>\n",
       "      <td>1</td>\n",
       "      <td>K</td>\n",
       "      <td>58</td>\n",
       "      <td>4.0</td>\n",
       "    </tr>\n",
       "    <tr>\n",
       "      <th>7</th>\n",
       "      <td>8</td>\n",
       "      <td>C</td>\n",
       "      <td>0.0</td>\n",
       "      <td>1.0</td>\n",
       "      <td>0.0</td>\n",
       "      <td>1</td>\n",
       "      <td>K</td>\n",
       "      <td>59</td>\n",
       "      <td>2.0</td>\n",
       "    </tr>\n",
       "    <tr>\n",
       "      <th>8</th>\n",
       "      <td>9</td>\n",
       "      <td>A</td>\n",
       "      <td>0.0</td>\n",
       "      <td>0.0</td>\n",
       "      <td>0.0</td>\n",
       "      <td>1</td>\n",
       "      <td>M</td>\n",
       "      <td>61</td>\n",
       "      <td>1.0</td>\n",
       "    </tr>\n",
       "    <tr>\n",
       "      <th>9</th>\n",
       "      <td>10</td>\n",
       "      <td>A</td>\n",
       "      <td>0.0</td>\n",
       "      <td>0.0</td>\n",
       "      <td>0.0</td>\n",
       "      <td>1</td>\n",
       "      <td>M</td>\n",
       "      <td>48</td>\n",
       "      <td>1.0</td>\n",
       "    </tr>\n",
       "    <tr>\n",
       "      <th>10</th>\n",
       "      <td>11</td>\n",
       "      <td>D</td>\n",
       "      <td>1.0</td>\n",
       "      <td>1.0</td>\n",
       "      <td>1.0</td>\n",
       "      <td>1</td>\n",
       "      <td>K</td>\n",
       "      <td>34</td>\n",
       "      <td>4.0</td>\n",
       "    </tr>\n",
       "    <tr>\n",
       "      <th>11</th>\n",
       "      <td>12</td>\n",
       "      <td>B</td>\n",
       "      <td>0.0</td>\n",
       "      <td>1.0</td>\n",
       "      <td>0.0</td>\n",
       "      <td>1</td>\n",
       "      <td>K</td>\n",
       "      <td>42</td>\n",
       "      <td>2.0</td>\n",
       "    </tr>\n",
       "    <tr>\n",
       "      <th>12</th>\n",
       "      <td>13</td>\n",
       "      <td>B</td>\n",
       "      <td>0.0</td>\n",
       "      <td>1.0</td>\n",
       "      <td>0.0</td>\n",
       "      <td>1</td>\n",
       "      <td>K</td>\n",
       "      <td>37</td>\n",
       "      <td>2.0</td>\n",
       "    </tr>\n",
       "    <tr>\n",
       "      <th>13</th>\n",
       "      <td>14</td>\n",
       "      <td>A</td>\n",
       "      <td>0.0</td>\n",
       "      <td>0.0</td>\n",
       "      <td>0.0</td>\n",
       "      <td>1</td>\n",
       "      <td>M</td>\n",
       "      <td>51</td>\n",
       "      <td>1.0</td>\n",
       "    </tr>\n",
       "    <tr>\n",
       "      <th>14</th>\n",
       "      <td>15</td>\n",
       "      <td>D</td>\n",
       "      <td>1.0</td>\n",
       "      <td>1.0</td>\n",
       "      <td>1.0</td>\n",
       "      <td>1</td>\n",
       "      <td>K</td>\n",
       "      <td>42</td>\n",
       "      <td>4.0</td>\n",
       "    </tr>\n",
       "    <tr>\n",
       "      <th>15</th>\n",
       "      <td>16</td>\n",
       "      <td>D</td>\n",
       "      <td>1.0</td>\n",
       "      <td>1.0</td>\n",
       "      <td>1.0</td>\n",
       "      <td>1</td>\n",
       "      <td>K</td>\n",
       "      <td>29</td>\n",
       "      <td>4.0</td>\n",
       "    </tr>\n",
       "    <tr>\n",
       "      <th>16</th>\n",
       "      <td>17</td>\n",
       "      <td>A</td>\n",
       "      <td>0.0</td>\n",
       "      <td>0.0</td>\n",
       "      <td>0.0</td>\n",
       "      <td>0</td>\n",
       "      <td>M</td>\n",
       "      <td>19</td>\n",
       "      <td>0.0</td>\n",
       "    </tr>\n",
       "    <tr>\n",
       "      <th>17</th>\n",
       "      <td>18</td>\n",
       "      <td>A</td>\n",
       "      <td>0.0</td>\n",
       "      <td>0.0</td>\n",
       "      <td>0.0</td>\n",
       "      <td>1</td>\n",
       "      <td>M</td>\n",
       "      <td>30</td>\n",
       "      <td>1.0</td>\n",
       "    </tr>\n",
       "    <tr>\n",
       "      <th>18</th>\n",
       "      <td>19</td>\n",
       "      <td>A</td>\n",
       "      <td>0.0</td>\n",
       "      <td>0.0</td>\n",
       "      <td>0.0</td>\n",
       "      <td>0</td>\n",
       "      <td>M</td>\n",
       "      <td>38</td>\n",
       "      <td>0.0</td>\n",
       "    </tr>\n",
       "    <tr>\n",
       "      <th>19</th>\n",
       "      <td>20</td>\n",
       "      <td>D</td>\n",
       "      <td>1.0</td>\n",
       "      <td>1.0</td>\n",
       "      <td>1.0</td>\n",
       "      <td>1</td>\n",
       "      <td>K</td>\n",
       "      <td>47</td>\n",
       "      <td>4.0</td>\n",
       "    </tr>\n",
       "  </tbody>\n",
       "</table>\n",
       "</div>"
      ],
      "text/plain": [
       "    ID Country  owns_car  owns_TV  owns_house  owns_Phone gender  Age  \\\n",
       "5    6       A       0.0      0.0         0.0           1      M   48   \n",
       "6    7       D       1.0      1.0         1.0           1      K   58   \n",
       "7    8       C       0.0      1.0         0.0           1      K   59   \n",
       "8    9       A       0.0      0.0         0.0           1      M   61   \n",
       "9   10       A       0.0      0.0         0.0           1      M   48   \n",
       "10  11       D       1.0      1.0         1.0           1      K   34   \n",
       "11  12       B       0.0      1.0         0.0           1      K   42   \n",
       "12  13       B       0.0      1.0         0.0           1      K   37   \n",
       "13  14       A       0.0      0.0         0.0           1      M   51   \n",
       "14  15       D       1.0      1.0         1.0           1      K   42   \n",
       "15  16       D       1.0      1.0         1.0           1      K   29   \n",
       "16  17       A       0.0      0.0         0.0           0      M   19   \n",
       "17  18       A       0.0      0.0         0.0           1      M   30   \n",
       "18  19       A       0.0      0.0         0.0           0      M   38   \n",
       "19  20       D       1.0      1.0         1.0           1      K   47   \n",
       "\n",
       "    Number_of_goods  \n",
       "5               1.0  \n",
       "6               4.0  \n",
       "7               2.0  \n",
       "8               1.0  \n",
       "9               1.0  \n",
       "10              4.0  \n",
       "11              2.0  \n",
       "12              2.0  \n",
       "13              1.0  \n",
       "14              4.0  \n",
       "15              4.0  \n",
       "16              0.0  \n",
       "17              1.0  \n",
       "18              0.0  \n",
       "19              4.0  "
      ]
     },
     "execution_count": 42,
     "metadata": {},
     "output_type": "execute_result"
    }
   ],
   "source": [
    "df[5:20]"
   ]
  },
  {
   "cell_type": "markdown",
   "id": "e0e4e5d9",
   "metadata": {},
   "source": [
    "### Zadanie 3"
   ]
  },
  {
   "cell_type": "code",
   "execution_count": 43,
   "id": "5e4beb06",
   "metadata": {},
   "outputs": [
    {
     "data": {
      "text/plain": [
       "gender\n",
       "K    2.799\n",
       "M    0.886\n",
       "Name: Number_of_goods, dtype: float64"
      ]
     },
     "execution_count": 43,
     "metadata": {},
     "output_type": "execute_result"
    }
   ],
   "source": [
    "o=round(df.groupby('gender')['Number_of_goods'].mean(),3)\n",
    "o"
   ]
  },
  {
   "cell_type": "code",
   "execution_count": 44,
   "id": "7eb222d0",
   "metadata": {},
   "outputs": [
    {
     "name": "stdout",
     "output_type": "stream",
     "text": [
      "Średnia posiadanych dóbr u kobiet wynosi: 2.799 , u mężczyzn: 0.886\n"
     ]
    }
   ],
   "source": [
    "print(\"Średnia posiadanych dóbr u kobiet wynosi:\",o[0], \", u mężczyzn:\",o[1])"
   ]
  },
  {
   "cell_type": "markdown",
   "id": "de08a939",
   "metadata": {},
   "source": [
    "### Zadanie 4"
   ]
  },
  {
   "cell_type": "markdown",
   "id": "2f6efe08",
   "metadata": {},
   "source": [
    "Tworzymy podsumowującą ramkę danych pogrupowaną po unikalnych krajach."
   ]
  },
  {
   "cell_type": "code",
   "execution_count": 59,
   "id": "a76d6786",
   "metadata": {},
   "outputs": [],
   "source": [
    "a = df[\"Country\"].unique()\n",
    "b=df.groupby('Country')['Age'].min()\n",
    "c=round((df.groupby('Country')['Number_of_goods'].mean()),2)\n"
   ]
  },
  {
   "cell_type": "code",
   "execution_count": 60,
   "id": "1df0558c",
   "metadata": {},
   "outputs": [],
   "source": [
    "d=[]\n",
    "for i in a:\n",
    "    d1 = round(len(df[(df['Country'] == i )& (df['gender'] == \"K\")])/len(df[df['Country'] ==i])*100,2)\n",
    "    d.append(d1)\n",
    "d=list(map(\"{}%\".format, d))\n",
    "  \n",
    "    "
   ]
  },
  {
   "cell_type": "code",
   "execution_count": 62,
   "id": "e9c57800",
   "metadata": {},
   "outputs": [
    {
     "data": {
      "text/html": [
       "<div>\n",
       "<style scoped>\n",
       "    .dataframe tbody tr th:only-of-type {\n",
       "        vertical-align: middle;\n",
       "    }\n",
       "\n",
       "    .dataframe tbody tr th {\n",
       "        vertical-align: top;\n",
       "    }\n",
       "\n",
       "    .dataframe thead th {\n",
       "        text-align: right;\n",
       "    }\n",
       "</style>\n",
       "<table border=\"1\" class=\"dataframe\">\n",
       "  <thead>\n",
       "    <tr style=\"text-align: right;\">\n",
       "      <th></th>\n",
       "      <th>Unique Country</th>\n",
       "      <th>Avg Goods</th>\n",
       "      <th>Min Age</th>\n",
       "      <th>Percentage of wmns</th>\n",
       "    </tr>\n",
       "  </thead>\n",
       "  <tbody>\n",
       "    <tr>\n",
       "      <th>0</th>\n",
       "      <td>A</td>\n",
       "      <td>0.86</td>\n",
       "      <td>18</td>\n",
       "      <td>0.0%</td>\n",
       "    </tr>\n",
       "    <tr>\n",
       "      <th>1</th>\n",
       "      <td>B</td>\n",
       "      <td>1.46</td>\n",
       "      <td>18</td>\n",
       "      <td>63.78%</td>\n",
       "    </tr>\n",
       "    <tr>\n",
       "      <th>2</th>\n",
       "      <td>C</td>\n",
       "      <td>3.03</td>\n",
       "      <td>18</td>\n",
       "      <td>100.0%</td>\n",
       "    </tr>\n",
       "    <tr>\n",
       "      <th>3</th>\n",
       "      <td>D</td>\n",
       "      <td>4.00</td>\n",
       "      <td>18</td>\n",
       "      <td>100.0%</td>\n",
       "    </tr>\n",
       "  </tbody>\n",
       "</table>\n",
       "</div>"
      ],
      "text/plain": [
       "  Unique Country  Avg Goods  Min Age Percentage of wmns\n",
       "0              A       0.86       18               0.0%\n",
       "1              B       1.46       18             63.78%\n",
       "2              C       3.03       18             100.0%\n",
       "3              D       4.00       18             100.0%"
      ]
     },
     "execution_count": 62,
     "metadata": {},
     "output_type": "execute_result"
    }
   ],
   "source": [
    "pd.DataFrame({'Unique Country':list(a),\"Avg Goods\":list(c),'Min Age':list(b),'Percentage of wmns':list(d)})"
   ]
  },
  {
   "cell_type": "markdown",
   "id": "10f39ab3",
   "metadata": {},
   "source": [
    "Największa ilość posiadanych dóbr występuje w kraju D na poziomie 4.0. We wszystkich krajach minimalny wiek wynosi 18 lat. W kraju A nie występują kobiety, natomiast w krajach C i D brak jest mężczyzn w danych. "
   ]
  }
 ],
 "metadata": {
  "kernelspec": {
   "display_name": "Python 3",
   "language": "python",
   "name": "python3"
  },
  "language_info": {
   "codemirror_mode": {
    "name": "ipython",
    "version": 3
   },
   "file_extension": ".py",
   "mimetype": "text/x-python",
   "name": "python",
   "nbconvert_exporter": "python",
   "pygments_lexer": "ipython3",
   "version": "3.8.8"
  }
 },
 "nbformat": 4,
 "nbformat_minor": 5
}
