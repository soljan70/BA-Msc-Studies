{
 "cells": [
  {
   "cell_type": "markdown",
   "id": "63b3f7b8",
   "metadata": {},
   "source": [
    "# Project PAD Jan Solarz"
   ]
  },
  {
   "cell_type": "markdown",
   "id": "e1647e56",
   "metadata": {},
   "source": [
    "## Data import"
   ]
  },
  {
   "cell_type": "markdown",
   "id": "8fd97904",
   "metadata": {},
   "source": [
    "The data represents the content of movie reviews. The review could be either positive or negative (the evaluation is included in the sentiment column).\n"
   ]
  },
  {
   "cell_type": "code",
   "execution_count": 188,
   "id": "f596cb1b",
   "metadata": {},
   "outputs": [],
   "source": [
    "#Reprezentacja z użyciem funkcji ważącej TFIDF\n",
    "from sklearn.feature_extraction.text import TfidfVectorizer\n",
    "tfidf = TfidfVectorizer()\n",
    "#Task\n",
    "#Wykorzystamy teraz macierz wag TFidf aby stworzyć klasyfikator, przewidujący sentyment recenzji filmu, wziętej z portalu IMDB\n",
    "#Nasz zbiór danych liczy 25 tysięcy obserwacji, zbió jest zbilansowany ze względu na klasę.\n",
    "#Wykorzystamy regresję logistyczną\n",
    "from sklearn.linear_model import LogisticRegression\n",
    "from sklearn.model_selection import train_test_split\n",
    "from sklearn.metrics import *\n",
    "import numpy as np"
   ]
  },
  {
   "cell_type": "code",
   "execution_count": 189,
   "id": "100b8347",
   "metadata": {},
   "outputs": [
    {
     "data": {
      "text/html": [
       "<div>\n",
       "<style scoped>\n",
       "    .dataframe tbody tr th:only-of-type {\n",
       "        vertical-align: middle;\n",
       "    }\n",
       "\n",
       "    .dataframe tbody tr th {\n",
       "        vertical-align: top;\n",
       "    }\n",
       "\n",
       "    .dataframe thead th {\n",
       "        text-align: right;\n",
       "    }\n",
       "</style>\n",
       "<table border=\"1\" class=\"dataframe\">\n",
       "  <thead>\n",
       "    <tr style=\"text-align: right;\">\n",
       "      <th></th>\n",
       "      <th>SentimentText</th>\n",
       "      <th>Sentiment</th>\n",
       "    </tr>\n",
       "  </thead>\n",
       "  <tbody>\n",
       "    <tr>\n",
       "      <th>0</th>\n",
       "      <td>first think another disney movie might good ki...</td>\n",
       "      <td>1</td>\n",
       "    </tr>\n",
       "    <tr>\n",
       "      <th>1</th>\n",
       "      <td>put aside dr house repeat missed desperate hou...</td>\n",
       "      <td>0</td>\n",
       "    </tr>\n",
       "    <tr>\n",
       "      <th>2</th>\n",
       "      <td>big fan stephen work film made even greater fa...</td>\n",
       "      <td>1</td>\n",
       "    </tr>\n",
       "    <tr>\n",
       "      <th>3</th>\n",
       "      <td>watched horrid thing tv needless say one movie...</td>\n",
       "      <td>0</td>\n",
       "    </tr>\n",
       "    <tr>\n",
       "      <th>4</th>\n",
       "      <td>truly enjoyed film acting terrific plot jeff c...</td>\n",
       "      <td>1</td>\n",
       "    </tr>\n",
       "    <tr>\n",
       "      <th>...</th>\n",
       "      <td>...</td>\n",
       "      <td>...</td>\n",
       "    </tr>\n",
       "    <tr>\n",
       "      <th>24995</th>\n",
       "      <td>kid anything connected disney definition great...</td>\n",
       "      <td>0</td>\n",
       "    </tr>\n",
       "    <tr>\n",
       "      <th>24996</th>\n",
       "      <td>course reading review seen film already one fa...</td>\n",
       "      <td>1</td>\n",
       "    </tr>\n",
       "    <tr>\n",
       "      <th>24997</th>\n",
       "      <td>read girl came peter low period watching movie...</td>\n",
       "      <td>0</td>\n",
       "    </tr>\n",
       "    <tr>\n",
       "      <th>24998</th>\n",
       "      <td>film quite boring snippets naked flesh tossed ...</td>\n",
       "      <td>0</td>\n",
       "    </tr>\n",
       "    <tr>\n",
       "      <th>24999</th>\n",
       "      <td>although film somewhat filled eighties cheese ...</td>\n",
       "      <td>1</td>\n",
       "    </tr>\n",
       "  </tbody>\n",
       "</table>\n",
       "<p>25000 rows × 2 columns</p>\n",
       "</div>"
      ],
      "text/plain": [
       "                                           SentimentText  Sentiment\n",
       "0      first think another disney movie might good ki...          1\n",
       "1      put aside dr house repeat missed desperate hou...          0\n",
       "2      big fan stephen work film made even greater fa...          1\n",
       "3      watched horrid thing tv needless say one movie...          0\n",
       "4      truly enjoyed film acting terrific plot jeff c...          1\n",
       "...                                                  ...        ...\n",
       "24995  kid anything connected disney definition great...          0\n",
       "24996  course reading review seen film already one fa...          1\n",
       "24997  read girl came peter low period watching movie...          0\n",
       "24998  film quite boring snippets naked flesh tossed ...          0\n",
       "24999  although film somewhat filled eighties cheese ...          1\n",
       "\n",
       "[25000 rows x 2 columns]"
      ]
     },
     "execution_count": 189,
     "metadata": {},
     "output_type": "execute_result"
    }
   ],
   "source": [
    "import pandas as pd\n",
    "import re\n",
    "PATH = r'C:/Users/Jan Solarz/Downloads/sentiment_movies.csv'\n",
    "\n",
    "\n",
    "df = pd.read_csv(PATH, encoding='latin-1')\n",
    "\n",
    "\n",
    "\n",
    "\n",
    "\n",
    "\n",
    "\n",
    "def clean_text(x):\n",
    "    x = x.lower()\n",
    "    x = x.replace('.','')\n",
    "    x = x.replace(',','')\n",
    "    x = x.replace(':','')\n",
    "    x = x.replace(';','')\n",
    "    x = x.replace('!','')\n",
    "    x = x.replace('?','')\n",
    "    x = x.replace('<br>','')\n",
    "    x = x.replace('<br />','')\n",
    "    x = ' '.join([word for word in x.split() if word.isalpha()])\n",
    "    return x\n",
    "\n",
    "df['SentimentText'] = df['SentimentText'].apply(clean_text)\n",
    "\n",
    "df"
   ]
  },
  {
   "cell_type": "markdown",
   "id": "a992dad2",
   "metadata": {},
   "source": [
    "We cleaned the Text from all special characteres."
   ]
  },
  {
   "cell_type": "markdown",
   "id": "0a03ce5b",
   "metadata": {},
   "source": [
    "## Preprocessing"
   ]
  },
  {
   "cell_type": "markdown",
   "id": "cbcb7558",
   "metadata": {},
   "source": [
    "To reduce the size of the matrix, we only include words that appear in at least 10 documents. We are calculating the TFIDF weights for all words in the dataset."
   ]
  },
  {
   "cell_type": "code",
   "execution_count": 190,
   "id": "5e8153fa",
   "metadata": {},
   "outputs": [],
   "source": [
    "tfidf = TfidfVectorizer(min_df=10) #by zredukować rozmiar macierzy uwzględniamy tylko słowa, ktore pojawiły się w conajmniej 10 dokumentach\n",
    "\n",
    "inputs= tfidf.fit_transform(df['SentimentText'])\n",
    "target = df['Sentiment']\n"
   ]
  },
  {
   "cell_type": "code",
   "execution_count": 191,
   "id": "25e047d0",
   "metadata": {},
   "outputs": [
    {
     "data": {
      "text/html": [
       "<div>\n",
       "<style scoped>\n",
       "    .dataframe tbody tr th:only-of-type {\n",
       "        vertical-align: middle;\n",
       "    }\n",
       "\n",
       "    .dataframe tbody tr th {\n",
       "        vertical-align: top;\n",
       "    }\n",
       "\n",
       "    .dataframe thead th {\n",
       "        text-align: right;\n",
       "    }\n",
       "</style>\n",
       "<table border=\"1\" class=\"dataframe\">\n",
       "  <thead>\n",
       "    <tr style=\"text-align: right;\">\n",
       "      <th></th>\n",
       "      <th>aag</th>\n",
       "      <th>aames</th>\n",
       "      <th>aaron</th>\n",
       "      <th>ab</th>\n",
       "      <th>abandon</th>\n",
       "      <th>abandoned</th>\n",
       "      <th>abandoning</th>\n",
       "      <th>abandonment</th>\n",
       "      <th>abandons</th>\n",
       "      <th>abbot</th>\n",
       "      <th>...</th>\n",
       "      <th>zombies</th>\n",
       "      <th>zone</th>\n",
       "      <th>zoo</th>\n",
       "      <th>zoom</th>\n",
       "      <th>zooms</th>\n",
       "      <th>zorro</th>\n",
       "      <th>zu</th>\n",
       "      <th>zucker</th>\n",
       "      <th>zulu</th>\n",
       "      <th>zuniga</th>\n",
       "    </tr>\n",
       "  </thead>\n",
       "  <tbody>\n",
       "    <tr>\n",
       "      <th>0</th>\n",
       "      <td>0.0</td>\n",
       "      <td>0.0</td>\n",
       "      <td>0.0</td>\n",
       "      <td>0.0</td>\n",
       "      <td>0.0</td>\n",
       "      <td>0.0</td>\n",
       "      <td>0.0</td>\n",
       "      <td>0.0</td>\n",
       "      <td>0.0</td>\n",
       "      <td>0.0</td>\n",
       "      <td>...</td>\n",
       "      <td>0.0</td>\n",
       "      <td>0.0</td>\n",
       "      <td>0.0</td>\n",
       "      <td>0.0</td>\n",
       "      <td>0.0</td>\n",
       "      <td>0.0</td>\n",
       "      <td>0.0</td>\n",
       "      <td>0.0</td>\n",
       "      <td>0.0</td>\n",
       "      <td>0.0</td>\n",
       "    </tr>\n",
       "    <tr>\n",
       "      <th>1</th>\n",
       "      <td>0.0</td>\n",
       "      <td>0.0</td>\n",
       "      <td>0.0</td>\n",
       "      <td>0.0</td>\n",
       "      <td>0.0</td>\n",
       "      <td>0.0</td>\n",
       "      <td>0.0</td>\n",
       "      <td>0.0</td>\n",
       "      <td>0.0</td>\n",
       "      <td>0.0</td>\n",
       "      <td>...</td>\n",
       "      <td>0.0</td>\n",
       "      <td>0.0</td>\n",
       "      <td>0.0</td>\n",
       "      <td>0.0</td>\n",
       "      <td>0.0</td>\n",
       "      <td>0.0</td>\n",
       "      <td>0.0</td>\n",
       "      <td>0.0</td>\n",
       "      <td>0.0</td>\n",
       "      <td>0.0</td>\n",
       "    </tr>\n",
       "    <tr>\n",
       "      <th>2</th>\n",
       "      <td>0.0</td>\n",
       "      <td>0.0</td>\n",
       "      <td>0.0</td>\n",
       "      <td>0.0</td>\n",
       "      <td>0.0</td>\n",
       "      <td>0.0</td>\n",
       "      <td>0.0</td>\n",
       "      <td>0.0</td>\n",
       "      <td>0.0</td>\n",
       "      <td>0.0</td>\n",
       "      <td>...</td>\n",
       "      <td>0.0</td>\n",
       "      <td>0.0</td>\n",
       "      <td>0.0</td>\n",
       "      <td>0.0</td>\n",
       "      <td>0.0</td>\n",
       "      <td>0.0</td>\n",
       "      <td>0.0</td>\n",
       "      <td>0.0</td>\n",
       "      <td>0.0</td>\n",
       "      <td>0.0</td>\n",
       "    </tr>\n",
       "    <tr>\n",
       "      <th>3</th>\n",
       "      <td>0.0</td>\n",
       "      <td>0.0</td>\n",
       "      <td>0.0</td>\n",
       "      <td>0.0</td>\n",
       "      <td>0.0</td>\n",
       "      <td>0.0</td>\n",
       "      <td>0.0</td>\n",
       "      <td>0.0</td>\n",
       "      <td>0.0</td>\n",
       "      <td>0.0</td>\n",
       "      <td>...</td>\n",
       "      <td>0.0</td>\n",
       "      <td>0.0</td>\n",
       "      <td>0.0</td>\n",
       "      <td>0.0</td>\n",
       "      <td>0.0</td>\n",
       "      <td>0.0</td>\n",
       "      <td>0.0</td>\n",
       "      <td>0.0</td>\n",
       "      <td>0.0</td>\n",
       "      <td>0.0</td>\n",
       "    </tr>\n",
       "    <tr>\n",
       "      <th>4</th>\n",
       "      <td>0.0</td>\n",
       "      <td>0.0</td>\n",
       "      <td>0.0</td>\n",
       "      <td>0.0</td>\n",
       "      <td>0.0</td>\n",
       "      <td>0.0</td>\n",
       "      <td>0.0</td>\n",
       "      <td>0.0</td>\n",
       "      <td>0.0</td>\n",
       "      <td>0.0</td>\n",
       "      <td>...</td>\n",
       "      <td>0.0</td>\n",
       "      <td>0.0</td>\n",
       "      <td>0.0</td>\n",
       "      <td>0.0</td>\n",
       "      <td>0.0</td>\n",
       "      <td>0.0</td>\n",
       "      <td>0.0</td>\n",
       "      <td>0.0</td>\n",
       "      <td>0.0</td>\n",
       "      <td>0.0</td>\n",
       "    </tr>\n",
       "    <tr>\n",
       "      <th>...</th>\n",
       "      <td>...</td>\n",
       "      <td>...</td>\n",
       "      <td>...</td>\n",
       "      <td>...</td>\n",
       "      <td>...</td>\n",
       "      <td>...</td>\n",
       "      <td>...</td>\n",
       "      <td>...</td>\n",
       "      <td>...</td>\n",
       "      <td>...</td>\n",
       "      <td>...</td>\n",
       "      <td>...</td>\n",
       "      <td>...</td>\n",
       "      <td>...</td>\n",
       "      <td>...</td>\n",
       "      <td>...</td>\n",
       "      <td>...</td>\n",
       "      <td>...</td>\n",
       "      <td>...</td>\n",
       "      <td>...</td>\n",
       "      <td>...</td>\n",
       "    </tr>\n",
       "    <tr>\n",
       "      <th>24995</th>\n",
       "      <td>0.0</td>\n",
       "      <td>0.0</td>\n",
       "      <td>0.0</td>\n",
       "      <td>0.0</td>\n",
       "      <td>0.0</td>\n",
       "      <td>0.0</td>\n",
       "      <td>0.0</td>\n",
       "      <td>0.0</td>\n",
       "      <td>0.0</td>\n",
       "      <td>0.0</td>\n",
       "      <td>...</td>\n",
       "      <td>0.0</td>\n",
       "      <td>0.0</td>\n",
       "      <td>0.0</td>\n",
       "      <td>0.0</td>\n",
       "      <td>0.0</td>\n",
       "      <td>0.0</td>\n",
       "      <td>0.0</td>\n",
       "      <td>0.0</td>\n",
       "      <td>0.0</td>\n",
       "      <td>0.0</td>\n",
       "    </tr>\n",
       "    <tr>\n",
       "      <th>24996</th>\n",
       "      <td>0.0</td>\n",
       "      <td>0.0</td>\n",
       "      <td>0.0</td>\n",
       "      <td>0.0</td>\n",
       "      <td>0.0</td>\n",
       "      <td>0.0</td>\n",
       "      <td>0.0</td>\n",
       "      <td>0.0</td>\n",
       "      <td>0.0</td>\n",
       "      <td>0.0</td>\n",
       "      <td>...</td>\n",
       "      <td>0.0</td>\n",
       "      <td>0.0</td>\n",
       "      <td>0.0</td>\n",
       "      <td>0.0</td>\n",
       "      <td>0.0</td>\n",
       "      <td>0.0</td>\n",
       "      <td>0.0</td>\n",
       "      <td>0.0</td>\n",
       "      <td>0.0</td>\n",
       "      <td>0.0</td>\n",
       "    </tr>\n",
       "    <tr>\n",
       "      <th>24997</th>\n",
       "      <td>0.0</td>\n",
       "      <td>0.0</td>\n",
       "      <td>0.0</td>\n",
       "      <td>0.0</td>\n",
       "      <td>0.0</td>\n",
       "      <td>0.0</td>\n",
       "      <td>0.0</td>\n",
       "      <td>0.0</td>\n",
       "      <td>0.0</td>\n",
       "      <td>0.0</td>\n",
       "      <td>...</td>\n",
       "      <td>0.0</td>\n",
       "      <td>0.0</td>\n",
       "      <td>0.0</td>\n",
       "      <td>0.0</td>\n",
       "      <td>0.0</td>\n",
       "      <td>0.0</td>\n",
       "      <td>0.0</td>\n",
       "      <td>0.0</td>\n",
       "      <td>0.0</td>\n",
       "      <td>0.0</td>\n",
       "    </tr>\n",
       "    <tr>\n",
       "      <th>24998</th>\n",
       "      <td>0.0</td>\n",
       "      <td>0.0</td>\n",
       "      <td>0.0</td>\n",
       "      <td>0.0</td>\n",
       "      <td>0.0</td>\n",
       "      <td>0.0</td>\n",
       "      <td>0.0</td>\n",
       "      <td>0.0</td>\n",
       "      <td>0.0</td>\n",
       "      <td>0.0</td>\n",
       "      <td>...</td>\n",
       "      <td>0.0</td>\n",
       "      <td>0.0</td>\n",
       "      <td>0.0</td>\n",
       "      <td>0.0</td>\n",
       "      <td>0.0</td>\n",
       "      <td>0.0</td>\n",
       "      <td>0.0</td>\n",
       "      <td>0.0</td>\n",
       "      <td>0.0</td>\n",
       "      <td>0.0</td>\n",
       "    </tr>\n",
       "    <tr>\n",
       "      <th>24999</th>\n",
       "      <td>0.0</td>\n",
       "      <td>0.0</td>\n",
       "      <td>0.0</td>\n",
       "      <td>0.0</td>\n",
       "      <td>0.0</td>\n",
       "      <td>0.0</td>\n",
       "      <td>0.0</td>\n",
       "      <td>0.0</td>\n",
       "      <td>0.0</td>\n",
       "      <td>0.0</td>\n",
       "      <td>...</td>\n",
       "      <td>0.0</td>\n",
       "      <td>0.0</td>\n",
       "      <td>0.0</td>\n",
       "      <td>0.0</td>\n",
       "      <td>0.0</td>\n",
       "      <td>0.0</td>\n",
       "      <td>0.0</td>\n",
       "      <td>0.0</td>\n",
       "      <td>0.0</td>\n",
       "      <td>0.0</td>\n",
       "    </tr>\n",
       "  </tbody>\n",
       "</table>\n",
       "<p>25000 rows × 17237 columns</p>\n",
       "</div>"
      ],
      "text/plain": [
       "       aag  aames  aaron   ab  abandon  abandoned  abandoning  abandonment  \\\n",
       "0      0.0    0.0    0.0  0.0      0.0        0.0         0.0          0.0   \n",
       "1      0.0    0.0    0.0  0.0      0.0        0.0         0.0          0.0   \n",
       "2      0.0    0.0    0.0  0.0      0.0        0.0         0.0          0.0   \n",
       "3      0.0    0.0    0.0  0.0      0.0        0.0         0.0          0.0   \n",
       "4      0.0    0.0    0.0  0.0      0.0        0.0         0.0          0.0   \n",
       "...    ...    ...    ...  ...      ...        ...         ...          ...   \n",
       "24995  0.0    0.0    0.0  0.0      0.0        0.0         0.0          0.0   \n",
       "24996  0.0    0.0    0.0  0.0      0.0        0.0         0.0          0.0   \n",
       "24997  0.0    0.0    0.0  0.0      0.0        0.0         0.0          0.0   \n",
       "24998  0.0    0.0    0.0  0.0      0.0        0.0         0.0          0.0   \n",
       "24999  0.0    0.0    0.0  0.0      0.0        0.0         0.0          0.0   \n",
       "\n",
       "       abandons  abbot  ...  zombies  zone  zoo  zoom  zooms  zorro   zu  \\\n",
       "0           0.0    0.0  ...      0.0   0.0  0.0   0.0    0.0    0.0  0.0   \n",
       "1           0.0    0.0  ...      0.0   0.0  0.0   0.0    0.0    0.0  0.0   \n",
       "2           0.0    0.0  ...      0.0   0.0  0.0   0.0    0.0    0.0  0.0   \n",
       "3           0.0    0.0  ...      0.0   0.0  0.0   0.0    0.0    0.0  0.0   \n",
       "4           0.0    0.0  ...      0.0   0.0  0.0   0.0    0.0    0.0  0.0   \n",
       "...         ...    ...  ...      ...   ...  ...   ...    ...    ...  ...   \n",
       "24995       0.0    0.0  ...      0.0   0.0  0.0   0.0    0.0    0.0  0.0   \n",
       "24996       0.0    0.0  ...      0.0   0.0  0.0   0.0    0.0    0.0  0.0   \n",
       "24997       0.0    0.0  ...      0.0   0.0  0.0   0.0    0.0    0.0  0.0   \n",
       "24998       0.0    0.0  ...      0.0   0.0  0.0   0.0    0.0    0.0  0.0   \n",
       "24999       0.0    0.0  ...      0.0   0.0  0.0   0.0    0.0    0.0  0.0   \n",
       "\n",
       "       zucker  zulu  zuniga  \n",
       "0         0.0   0.0     0.0  \n",
       "1         0.0   0.0     0.0  \n",
       "2         0.0   0.0     0.0  \n",
       "3         0.0   0.0     0.0  \n",
       "4         0.0   0.0     0.0  \n",
       "...       ...   ...     ...  \n",
       "24995     0.0   0.0     0.0  \n",
       "24996     0.0   0.0     0.0  \n",
       "24997     0.0   0.0     0.0  \n",
       "24998     0.0   0.0     0.0  \n",
       "24999     0.0   0.0     0.0  \n",
       "\n",
       "[25000 rows x 17237 columns]"
      ]
     },
     "execution_count": 191,
     "metadata": {},
     "output_type": "execute_result"
    }
   ],
   "source": [
    "a = pd.DataFrame(inputs.todense(), columns = tfidf.get_feature_names()) #reprezentacja w formie ramki danych\n",
    "a"
   ]
  },
  {
   "cell_type": "markdown",
   "id": "798e7427",
   "metadata": {},
   "source": [
    " 1000 words with the highest AVERAGE TFIDF."
   ]
  },
  {
   "cell_type": "code",
   "execution_count": 192,
   "id": "0cfed04a",
   "metadata": {
    "scrolled": true
   },
   "outputs": [],
   "source": [
    "o = []\n",
    "for i in a.columns:\n",
    "    u = a[i].mean()\n",
    "    o.append(u)\n",
    "z = pd.DataFrame(o,a.columns.to_numpy())\n",
    "z.columns = ['weight']\n"
   ]
  },
  {
   "cell_type": "code",
   "execution_count": 193,
   "id": "9fc6f9c7",
   "metadata": {},
   "outputs": [
    {
     "data": {
      "text/html": [
       "<div>\n",
       "<style scoped>\n",
       "    .dataframe tbody tr th:only-of-type {\n",
       "        vertical-align: middle;\n",
       "    }\n",
       "\n",
       "    .dataframe tbody tr th {\n",
       "        vertical-align: top;\n",
       "    }\n",
       "\n",
       "    .dataframe thead th {\n",
       "        text-align: right;\n",
       "    }\n",
       "</style>\n",
       "<table border=\"1\" class=\"dataframe\">\n",
       "  <thead>\n",
       "    <tr style=\"text-align: right;\">\n",
       "      <th></th>\n",
       "      <th>weight</th>\n",
       "    </tr>\n",
       "  </thead>\n",
       "  <tbody>\n",
       "    <tr>\n",
       "      <th>movie</th>\n",
       "      <td>0.049906</td>\n",
       "    </tr>\n",
       "    <tr>\n",
       "      <th>film</th>\n",
       "      <td>0.041229</td>\n",
       "    </tr>\n",
       "    <tr>\n",
       "      <th>one</th>\n",
       "      <td>0.027543</td>\n",
       "    </tr>\n",
       "    <tr>\n",
       "      <th>like</th>\n",
       "      <td>0.024120</td>\n",
       "    </tr>\n",
       "    <tr>\n",
       "      <th>good</th>\n",
       "      <td>0.021290</td>\n",
       "    </tr>\n",
       "    <tr>\n",
       "      <th>...</th>\n",
       "      <td>...</td>\n",
       "    </tr>\n",
       "    <tr>\n",
       "      <th>twists</th>\n",
       "      <td>0.001562</td>\n",
       "    </tr>\n",
       "    <tr>\n",
       "      <th>bizarre</th>\n",
       "      <td>0.001561</td>\n",
       "    </tr>\n",
       "    <tr>\n",
       "      <th>charming</th>\n",
       "      <td>0.001561</td>\n",
       "    </tr>\n",
       "    <tr>\n",
       "      <th>singing</th>\n",
       "      <td>0.001561</td>\n",
       "    </tr>\n",
       "    <tr>\n",
       "      <th>band</th>\n",
       "      <td>0.001560</td>\n",
       "    </tr>\n",
       "  </tbody>\n",
       "</table>\n",
       "<p>1000 rows × 1 columns</p>\n",
       "</div>"
      ],
      "text/plain": [
       "            weight\n",
       "movie     0.049906\n",
       "film      0.041229\n",
       "one       0.027543\n",
       "like      0.024120\n",
       "good      0.021290\n",
       "...            ...\n",
       "twists    0.001562\n",
       "bizarre   0.001561\n",
       "charming  0.001561\n",
       "singing   0.001561\n",
       "band      0.001560\n",
       "\n",
       "[1000 rows x 1 columns]"
      ]
     },
     "execution_count": 193,
     "metadata": {},
     "output_type": "execute_result"
    }
   ],
   "source": [
    "pop = z.sort_values('weight',ascending=False).head(1000)\n",
    "best = pop.index[0:10]\n",
    "pop"
   ]
  },
  {
   "cell_type": "code",
   "execution_count": 194,
   "id": "027bca22",
   "metadata": {
    "scrolled": true
   },
   "outputs": [
    {
     "data": {
      "text/html": [
       "<div>\n",
       "<style scoped>\n",
       "    .dataframe tbody tr th:only-of-type {\n",
       "        vertical-align: middle;\n",
       "    }\n",
       "\n",
       "    .dataframe tbody tr th {\n",
       "        vertical-align: top;\n",
       "    }\n",
       "\n",
       "    .dataframe thead th {\n",
       "        text-align: right;\n",
       "    }\n",
       "</style>\n",
       "<table border=\"1\" class=\"dataframe\">\n",
       "  <thead>\n",
       "    <tr style=\"text-align: right;\">\n",
       "      <th></th>\n",
       "      <th>movie</th>\n",
       "      <th>film</th>\n",
       "      <th>one</th>\n",
       "      <th>like</th>\n",
       "      <th>good</th>\n",
       "      <th>really</th>\n",
       "      <th>would</th>\n",
       "      <th>story</th>\n",
       "      <th>even</th>\n",
       "      <th>see</th>\n",
       "    </tr>\n",
       "  </thead>\n",
       "  <tbody>\n",
       "    <tr>\n",
       "      <th>0</th>\n",
       "      <td>0.250684</td>\n",
       "      <td>0.000000</td>\n",
       "      <td>0.000000</td>\n",
       "      <td>0.000000</td>\n",
       "      <td>0.066037</td>\n",
       "      <td>0.0</td>\n",
       "      <td>0.000000</td>\n",
       "      <td>0.000000</td>\n",
       "      <td>0.000000</td>\n",
       "      <td>0.00000</td>\n",
       "    </tr>\n",
       "    <tr>\n",
       "      <th>1</th>\n",
       "      <td>0.043171</td>\n",
       "      <td>0.000000</td>\n",
       "      <td>0.045863</td>\n",
       "      <td>0.051123</td>\n",
       "      <td>0.056861</td>\n",
       "      <td>0.0</td>\n",
       "      <td>0.000000</td>\n",
       "      <td>0.000000</td>\n",
       "      <td>0.060366</td>\n",
       "      <td>0.00000</td>\n",
       "    </tr>\n",
       "    <tr>\n",
       "      <th>2</th>\n",
       "      <td>0.086116</td>\n",
       "      <td>0.091873</td>\n",
       "      <td>0.073189</td>\n",
       "      <td>0.000000</td>\n",
       "      <td>0.045370</td>\n",
       "      <td>0.0</td>\n",
       "      <td>0.024317</td>\n",
       "      <td>0.025347</td>\n",
       "      <td>0.024083</td>\n",
       "      <td>0.00000</td>\n",
       "    </tr>\n",
       "    <tr>\n",
       "      <th>3</th>\n",
       "      <td>0.050657</td>\n",
       "      <td>0.000000</td>\n",
       "      <td>0.107634</td>\n",
       "      <td>0.000000</td>\n",
       "      <td>0.066722</td>\n",
       "      <td>0.0</td>\n",
       "      <td>0.000000</td>\n",
       "      <td>0.000000</td>\n",
       "      <td>0.070835</td>\n",
       "      <td>0.07222</td>\n",
       "    </tr>\n",
       "    <tr>\n",
       "      <th>4</th>\n",
       "      <td>0.000000</td>\n",
       "      <td>0.078212</td>\n",
       "      <td>0.000000</td>\n",
       "      <td>0.000000</td>\n",
       "      <td>0.000000</td>\n",
       "      <td>0.0</td>\n",
       "      <td>0.051753</td>\n",
       "      <td>0.000000</td>\n",
       "      <td>0.000000</td>\n",
       "      <td>0.00000</td>\n",
       "    </tr>\n",
       "    <tr>\n",
       "      <th>...</th>\n",
       "      <td>...</td>\n",
       "      <td>...</td>\n",
       "      <td>...</td>\n",
       "      <td>...</td>\n",
       "      <td>...</td>\n",
       "      <td>...</td>\n",
       "      <td>...</td>\n",
       "      <td>...</td>\n",
       "      <td>...</td>\n",
       "      <td>...</td>\n",
       "    </tr>\n",
       "    <tr>\n",
       "      <th>24995</th>\n",
       "      <td>0.081948</td>\n",
       "      <td>0.000000</td>\n",
       "      <td>0.000000</td>\n",
       "      <td>0.000000</td>\n",
       "      <td>0.053968</td>\n",
       "      <td>0.0</td>\n",
       "      <td>0.000000</td>\n",
       "      <td>0.000000</td>\n",
       "      <td>0.114590</td>\n",
       "      <td>0.00000</td>\n",
       "    </tr>\n",
       "    <tr>\n",
       "      <th>24996</th>\n",
       "      <td>0.000000</td>\n",
       "      <td>0.126068</td>\n",
       "      <td>0.031384</td>\n",
       "      <td>0.034984</td>\n",
       "      <td>0.000000</td>\n",
       "      <td>0.0</td>\n",
       "      <td>0.000000</td>\n",
       "      <td>0.043476</td>\n",
       "      <td>0.000000</td>\n",
       "      <td>0.00000</td>\n",
       "    </tr>\n",
       "    <tr>\n",
       "      <th>24997</th>\n",
       "      <td>0.200668</td>\n",
       "      <td>0.000000</td>\n",
       "      <td>0.042637</td>\n",
       "      <td>0.047527</td>\n",
       "      <td>0.000000</td>\n",
       "      <td>0.0</td>\n",
       "      <td>0.000000</td>\n",
       "      <td>0.000000</td>\n",
       "      <td>0.000000</td>\n",
       "      <td>0.00000</td>\n",
       "    </tr>\n",
       "    <tr>\n",
       "      <th>24998</th>\n",
       "      <td>0.045147</td>\n",
       "      <td>0.096331</td>\n",
       "      <td>0.000000</td>\n",
       "      <td>0.000000</td>\n",
       "      <td>0.000000</td>\n",
       "      <td>0.0</td>\n",
       "      <td>0.000000</td>\n",
       "      <td>0.000000</td>\n",
       "      <td>0.000000</td>\n",
       "      <td>0.00000</td>\n",
       "    </tr>\n",
       "    <tr>\n",
       "      <th>24999</th>\n",
       "      <td>0.000000</td>\n",
       "      <td>0.088593</td>\n",
       "      <td>0.000000</td>\n",
       "      <td>0.098338</td>\n",
       "      <td>0.000000</td>\n",
       "      <td>0.0</td>\n",
       "      <td>0.058622</td>\n",
       "      <td>0.122208</td>\n",
       "      <td>0.000000</td>\n",
       "      <td>0.00000</td>\n",
       "    </tr>\n",
       "  </tbody>\n",
       "</table>\n",
       "<p>25000 rows × 10 columns</p>\n",
       "</div>"
      ],
      "text/plain": [
       "          movie      film       one      like      good  really     would  \\\n",
       "0      0.250684  0.000000  0.000000  0.000000  0.066037     0.0  0.000000   \n",
       "1      0.043171  0.000000  0.045863  0.051123  0.056861     0.0  0.000000   \n",
       "2      0.086116  0.091873  0.073189  0.000000  0.045370     0.0  0.024317   \n",
       "3      0.050657  0.000000  0.107634  0.000000  0.066722     0.0  0.000000   \n",
       "4      0.000000  0.078212  0.000000  0.000000  0.000000     0.0  0.051753   \n",
       "...         ...       ...       ...       ...       ...     ...       ...   \n",
       "24995  0.081948  0.000000  0.000000  0.000000  0.053968     0.0  0.000000   \n",
       "24996  0.000000  0.126068  0.031384  0.034984  0.000000     0.0  0.000000   \n",
       "24997  0.200668  0.000000  0.042637  0.047527  0.000000     0.0  0.000000   \n",
       "24998  0.045147  0.096331  0.000000  0.000000  0.000000     0.0  0.000000   \n",
       "24999  0.000000  0.088593  0.000000  0.098338  0.000000     0.0  0.058622   \n",
       "\n",
       "          story      even      see  \n",
       "0      0.000000  0.000000  0.00000  \n",
       "1      0.000000  0.060366  0.00000  \n",
       "2      0.025347  0.024083  0.00000  \n",
       "3      0.000000  0.070835  0.07222  \n",
       "4      0.000000  0.000000  0.00000  \n",
       "...         ...       ...      ...  \n",
       "24995  0.000000  0.114590  0.00000  \n",
       "24996  0.043476  0.000000  0.00000  \n",
       "24997  0.000000  0.000000  0.00000  \n",
       "24998  0.000000  0.000000  0.00000  \n",
       "24999  0.122208  0.000000  0.00000  \n",
       "\n",
       "[25000 rows x 10 columns]"
      ]
     },
     "execution_count": 194,
     "metadata": {},
     "output_type": "execute_result"
    }
   ],
   "source": [
    "df_result = pd.DataFrame(a, columns=best)\n",
    "df_result\n"
   ]
  },
  {
   "cell_type": "markdown",
   "id": "9ac8dfc2",
   "metadata": {},
   "source": [
    "# Data analysis"
   ]
  },
  {
   "cell_type": "code",
   "execution_count": 195,
   "id": "099a1a91",
   "metadata": {},
   "outputs": [
    {
     "data": {
      "image/png": "[encoded data removed]",
      "text/plain": [
       "<Figure size 1440x720 with 2 Axes>"
      ]
     },
     "metadata": {
      "needs_background": "light"
     },
     "output_type": "display_data"
    },
    {
     "data": {
      "text/html": [
       "<div>\n",
       "<style scoped>\n",
       "    .dataframe tbody tr th:only-of-type {\n",
       "        vertical-align: middle;\n",
       "    }\n",
       "\n",
       "    .dataframe tbody tr th {\n",
       "        vertical-align: top;\n",
       "    }\n",
       "\n",
       "    .dataframe thead th {\n",
       "        text-align: right;\n",
       "    }\n",
       "</style>\n",
       "<table border=\"1\" class=\"dataframe\">\n",
       "  <thead>\n",
       "    <tr style=\"text-align: right;\">\n",
       "      <th></th>\n",
       "      <th>movie</th>\n",
       "      <th>film</th>\n",
       "      <th>one</th>\n",
       "      <th>like</th>\n",
       "      <th>good</th>\n",
       "      <th>really</th>\n",
       "      <th>would</th>\n",
       "      <th>story</th>\n",
       "      <th>even</th>\n",
       "      <th>see</th>\n",
       "    </tr>\n",
       "  </thead>\n",
       "  <tbody>\n",
       "    <tr>\n",
       "      <th>movie</th>\n",
       "      <td>1.000000</td>\n",
       "      <td>-0.243228</td>\n",
       "      <td>0.018457</td>\n",
       "      <td>0.106572</td>\n",
       "      <td>0.127164</td>\n",
       "      <td>0.104257</td>\n",
       "      <td>0.085465</td>\n",
       "      <td>0.021221</td>\n",
       "      <td>0.068834</td>\n",
       "      <td>0.111951</td>\n",
       "    </tr>\n",
       "    <tr>\n",
       "      <th>film</th>\n",
       "      <td>-0.243228</td>\n",
       "      <td>1.000000</td>\n",
       "      <td>0.008735</td>\n",
       "      <td>-0.000549</td>\n",
       "      <td>0.019362</td>\n",
       "      <td>0.020842</td>\n",
       "      <td>0.023836</td>\n",
       "      <td>0.030531</td>\n",
       "      <td>0.005415</td>\n",
       "      <td>0.043410</td>\n",
       "    </tr>\n",
       "    <tr>\n",
       "      <th>one</th>\n",
       "      <td>0.018457</td>\n",
       "      <td>0.008735</td>\n",
       "      <td>1.000000</td>\n",
       "      <td>0.045393</td>\n",
       "      <td>0.026392</td>\n",
       "      <td>0.034180</td>\n",
       "      <td>0.018962</td>\n",
       "      <td>0.002204</td>\n",
       "      <td>0.048135</td>\n",
       "      <td>0.027522</td>\n",
       "    </tr>\n",
       "    <tr>\n",
       "      <th>like</th>\n",
       "      <td>0.106572</td>\n",
       "      <td>-0.000549</td>\n",
       "      <td>0.045393</td>\n",
       "      <td>1.000000</td>\n",
       "      <td>0.062003</td>\n",
       "      <td>0.104901</td>\n",
       "      <td>0.076021</td>\n",
       "      <td>0.000534</td>\n",
       "      <td>0.070967</td>\n",
       "      <td>0.055898</td>\n",
       "    </tr>\n",
       "    <tr>\n",
       "      <th>good</th>\n",
       "      <td>0.127164</td>\n",
       "      <td>0.019362</td>\n",
       "      <td>0.026392</td>\n",
       "      <td>0.062003</td>\n",
       "      <td>1.000000</td>\n",
       "      <td>0.102561</td>\n",
       "      <td>0.025724</td>\n",
       "      <td>0.075412</td>\n",
       "      <td>0.015435</td>\n",
       "      <td>0.038834</td>\n",
       "    </tr>\n",
       "    <tr>\n",
       "      <th>really</th>\n",
       "      <td>0.104257</td>\n",
       "      <td>0.020842</td>\n",
       "      <td>0.034180</td>\n",
       "      <td>0.104901</td>\n",
       "      <td>0.102561</td>\n",
       "      <td>1.000000</td>\n",
       "      <td>0.045728</td>\n",
       "      <td>0.023413</td>\n",
       "      <td>0.034874</td>\n",
       "      <td>0.063479</td>\n",
       "    </tr>\n",
       "    <tr>\n",
       "      <th>would</th>\n",
       "      <td>0.085465</td>\n",
       "      <td>0.023836</td>\n",
       "      <td>0.018962</td>\n",
       "      <td>0.076021</td>\n",
       "      <td>0.025724</td>\n",
       "      <td>0.045728</td>\n",
       "      <td>1.000000</td>\n",
       "      <td>0.007326</td>\n",
       "      <td>0.051266</td>\n",
       "      <td>0.064596</td>\n",
       "    </tr>\n",
       "    <tr>\n",
       "      <th>story</th>\n",
       "      <td>0.021221</td>\n",
       "      <td>0.030531</td>\n",
       "      <td>0.002204</td>\n",
       "      <td>0.000534</td>\n",
       "      <td>0.075412</td>\n",
       "      <td>0.023413</td>\n",
       "      <td>0.007326</td>\n",
       "      <td>1.000000</td>\n",
       "      <td>0.004463</td>\n",
       "      <td>0.004016</td>\n",
       "    </tr>\n",
       "    <tr>\n",
       "      <th>even</th>\n",
       "      <td>0.068834</td>\n",
       "      <td>0.005415</td>\n",
       "      <td>0.048135</td>\n",
       "      <td>0.070967</td>\n",
       "      <td>0.015435</td>\n",
       "      <td>0.034874</td>\n",
       "      <td>0.051266</td>\n",
       "      <td>0.004463</td>\n",
       "      <td>1.000000</td>\n",
       "      <td>0.012398</td>\n",
       "    </tr>\n",
       "    <tr>\n",
       "      <th>see</th>\n",
       "      <td>0.111951</td>\n",
       "      <td>0.043410</td>\n",
       "      <td>0.027522</td>\n",
       "      <td>0.055898</td>\n",
       "      <td>0.038834</td>\n",
       "      <td>0.063479</td>\n",
       "      <td>0.064596</td>\n",
       "      <td>0.004016</td>\n",
       "      <td>0.012398</td>\n",
       "      <td>1.000000</td>\n",
       "    </tr>\n",
       "  </tbody>\n",
       "</table>\n",
       "</div>"
      ],
      "text/plain": [
       "           movie      film       one      like      good    really     would  \\\n",
       "movie   1.000000 -0.243228  0.018457  0.106572  0.127164  0.104257  0.085465   \n",
       "film   -0.243228  1.000000  0.008735 -0.000549  0.019362  0.020842  0.023836   \n",
       "one     0.018457  0.008735  1.000000  0.045393  0.026392  0.034180  0.018962   \n",
       "like    0.106572 -0.000549  0.045393  1.000000  0.062003  0.104901  0.076021   \n",
       "good    0.127164  0.019362  0.026392  0.062003  1.000000  0.102561  0.025724   \n",
       "really  0.104257  0.020842  0.034180  0.104901  0.102561  1.000000  0.045728   \n",
       "would   0.085465  0.023836  0.018962  0.076021  0.025724  0.045728  1.000000   \n",
       "story   0.021221  0.030531  0.002204  0.000534  0.075412  0.023413  0.007326   \n",
       "even    0.068834  0.005415  0.048135  0.070967  0.015435  0.034874  0.051266   \n",
       "see     0.111951  0.043410  0.027522  0.055898  0.038834  0.063479  0.064596   \n",
       "\n",
       "           story      even       see  \n",
       "movie   0.021221  0.068834  0.111951  \n",
       "film    0.030531  0.005415  0.043410  \n",
       "one     0.002204  0.048135  0.027522  \n",
       "like    0.000534  0.070967  0.055898  \n",
       "good    0.075412  0.015435  0.038834  \n",
       "really  0.023413  0.034874  0.063479  \n",
       "would   0.007326  0.051266  0.064596  \n",
       "story   1.000000  0.004463  0.004016  \n",
       "even    0.004463  1.000000  0.012398  \n",
       "see     0.004016  0.012398  1.000000  "
      ]
     },
     "execution_count": 195,
     "metadata": {},
     "output_type": "execute_result"
    }
   ],
   "source": [
    "import matplotlib.pyplot as plt\n",
    "import seaborn as sns\n",
    "\n",
    "correlation_full_health = df_result.corr()\n",
    "ax = sns.heatmap(correlation_full_health, annot = True)\n",
    "plt.show()\n",
    "correlation_full_health"
   ]
  },
  {
   "cell_type": "markdown",
   "id": "8bb051fd",
   "metadata": {},
   "source": [
    "Above we can see the matrix correlation of 10 key words with the highest TFIDF average. \n",
    "Highest correlations have pairs of:\n",
    "- movie and film\n",
    "- good and movie\n",
    "- see and movie\n",
    "- movie and really \n",
    "- like and movie"
   ]
  },
  {
   "cell_type": "markdown",
   "id": "1df3a568",
   "metadata": {},
   "source": [
    "Adding columns containing information about:\n",
    "- Review length in words.\n",
    "- Average word length."
   ]
  },
  {
   "cell_type": "code",
   "execution_count": 198,
   "id": "f031bb57",
   "metadata": {},
   "outputs": [
    {
     "data": {
      "text/html": [
       "<div>\n",
       "<style scoped>\n",
       "    .dataframe tbody tr th:only-of-type {\n",
       "        vertical-align: middle;\n",
       "    }\n",
       "\n",
       "    .dataframe tbody tr th {\n",
       "        vertical-align: top;\n",
       "    }\n",
       "\n",
       "    .dataframe thead th {\n",
       "        text-align: right;\n",
       "    }\n",
       "</style>\n",
       "<table border=\"1\" class=\"dataframe\">\n",
       "  <thead>\n",
       "    <tr style=\"text-align: right;\">\n",
       "      <th></th>\n",
       "      <th>SentimentText</th>\n",
       "      <th>Sentiment</th>\n",
       "      <th>len11</th>\n",
       "      <th>mean11</th>\n",
       "    </tr>\n",
       "  </thead>\n",
       "  <tbody>\n",
       "    <tr>\n",
       "      <th>0</th>\n",
       "      <td>first think another disney movie might good ki...</td>\n",
       "      <td>1</td>\n",
       "      <td>46</td>\n",
       "      <td>4.96</td>\n",
       "    </tr>\n",
       "    <tr>\n",
       "      <th>1</th>\n",
       "      <td>put aside dr house repeat missed desperate hou...</td>\n",
       "      <td>0</td>\n",
       "      <td>59</td>\n",
       "      <td>5.75</td>\n",
       "    </tr>\n",
       "    <tr>\n",
       "      <th>2</th>\n",
       "      <td>big fan stephen work film made even greater fa...</td>\n",
       "      <td>1</td>\n",
       "      <td>175</td>\n",
       "      <td>5.35</td>\n",
       "    </tr>\n",
       "    <tr>\n",
       "      <th>3</th>\n",
       "      <td>watched horrid thing tv needless say one movie...</td>\n",
       "      <td>0</td>\n",
       "      <td>51</td>\n",
       "      <td>5.18</td>\n",
       "    </tr>\n",
       "    <tr>\n",
       "      <th>4</th>\n",
       "      <td>truly enjoyed film acting terrific plot jeff c...</td>\n",
       "      <td>1</td>\n",
       "      <td>56</td>\n",
       "      <td>6.27</td>\n",
       "    </tr>\n",
       "    <tr>\n",
       "      <th>...</th>\n",
       "      <td>...</td>\n",
       "      <td>...</td>\n",
       "      <td>...</td>\n",
       "      <td>...</td>\n",
       "    </tr>\n",
       "    <tr>\n",
       "      <th>24995</th>\n",
       "      <td>kid anything connected disney definition great...</td>\n",
       "      <td>0</td>\n",
       "      <td>49</td>\n",
       "      <td>5.86</td>\n",
       "    </tr>\n",
       "    <tr>\n",
       "      <th>24996</th>\n",
       "      <td>course reading review seen film already one fa...</td>\n",
       "      <td>1</td>\n",
       "      <td>90</td>\n",
       "      <td>5.76</td>\n",
       "    </tr>\n",
       "    <tr>\n",
       "      <th>24997</th>\n",
       "      <td>read girl came peter low period watching movie...</td>\n",
       "      <td>0</td>\n",
       "      <td>58</td>\n",
       "      <td>5.74</td>\n",
       "    </tr>\n",
       "    <tr>\n",
       "      <th>24998</th>\n",
       "      <td>film quite boring snippets naked flesh tossed ...</td>\n",
       "      <td>0</td>\n",
       "      <td>44</td>\n",
       "      <td>6.70</td>\n",
       "    </tr>\n",
       "    <tr>\n",
       "      <th>24999</th>\n",
       "      <td>although film somewhat filled eighties cheese ...</td>\n",
       "      <td>1</td>\n",
       "      <td>55</td>\n",
       "      <td>5.33</td>\n",
       "    </tr>\n",
       "  </tbody>\n",
       "</table>\n",
       "<p>25000 rows × 4 columns</p>\n",
       "</div>"
      ],
      "text/plain": [
       "                                           SentimentText  Sentiment  len11  \\\n",
       "0      first think another disney movie might good ki...          1     46   \n",
       "1      put aside dr house repeat missed desperate hou...          0     59   \n",
       "2      big fan stephen work film made even greater fa...          1    175   \n",
       "3      watched horrid thing tv needless say one movie...          0     51   \n",
       "4      truly enjoyed film acting terrific plot jeff c...          1     56   \n",
       "...                                                  ...        ...    ...   \n",
       "24995  kid anything connected disney definition great...          0     49   \n",
       "24996  course reading review seen film already one fa...          1     90   \n",
       "24997  read girl came peter low period watching movie...          0     58   \n",
       "24998  film quite boring snippets naked flesh tossed ...          0     44   \n",
       "24999  although film somewhat filled eighties cheese ...          1     55   \n",
       "\n",
       "       mean11  \n",
       "0        4.96  \n",
       "1        5.75  \n",
       "2        5.35  \n",
       "3        5.18  \n",
       "4        6.27  \n",
       "...       ...  \n",
       "24995    5.86  \n",
       "24996    5.76  \n",
       "24997    5.74  \n",
       "24998    6.70  \n",
       "24999    5.33  \n",
       "\n",
       "[25000 rows x 4 columns]"
      ]
     },
     "execution_count": 198,
     "metadata": {},
     "output_type": "execute_result"
    }
   ],
   "source": [
    "\n",
    "\n",
    "l = []\n",
    "k = []\n",
    "for i in range(0,len(df['SentimentText'])):\n",
    "    d = len(df['SentimentText'][i].split())\n",
    "    d1 = len(\"\".join(re.findall(r'[A-Za-z]', df['SentimentText'][i])))\n",
    "    if d == 0:\n",
    "        l.append(d)\n",
    "        k.append(round(d1/1,2))\n",
    "    else:\n",
    "        l.append(d)\n",
    "        k.append(round(d1/d,2))\n",
    "\n",
    "df['len11']=l\n",
    "df['mean11']=k\n",
    "df "
   ]
  },
  {
   "cell_type": "markdown",
   "id": "e91360d9",
   "metadata": {},
   "source": [
    "## t-Student Test"
   ]
  },
  {
   "cell_type": "code",
   "execution_count": 199,
   "id": "04026921",
   "metadata": {},
   "outputs": [
    {
     "name": "stdout",
     "output_type": "stream",
     "text": [
      "t=15.45487650809669, p=1.2389163195676297e-53\n"
     ]
    },
    {
     "name": "stderr",
     "output_type": "stream",
     "text": [
      "C:\\Users\\JANSOL~1\\AppData\\Local\\Temp/ipykernel_17412/2745650885.py:3: UserWarning:\n",
      "\n",
      "Pandas doesn't allow columns to be created via a new attribute name - see https://pandas.pydata.org/pandas-docs/stable/indexing.html#attribute-access\n",
      "\n",
      "C:\\Users\\JANSOL~1\\AppData\\Local\\Temp/ipykernel_17412/2745650885.py:4: UserWarning:\n",
      "\n",
      "Pandas doesn't allow columns to be created via a new attribute name - see https://pandas.pydata.org/pandas-docs/stable/indexing.html#attribute-access\n",
      "\n"
     ]
    },
    {
     "data": {
      "text/plain": [
       "6.194581597838149e-54"
      ]
     },
     "execution_count": 199,
     "metadata": {},
     "output_type": "execute_result"
    }
   ],
   "source": [
    "from scipy.stats import ttest_ind\n",
    "from scipy.stats import t\n",
    "df.pos = df[df['Sentiment'] == 1]\n",
    "df.neg = df[df['Sentiment'] == 0]\n",
    "t_stat, p = ttest_ind(df.pos['mean11'], df.neg['mean11'])\n",
    "print(f't={t_stat}, p={p}')\n",
    "t.sf(t_stat, 25000-2)"
   ]
  },
  {
   "cell_type": "markdown",
   "id": "2214233f",
   "metadata": {},
   "source": [
    "### Histograms (plots) of means in both groups"
   ]
  },
  {
   "cell_type": "code",
   "execution_count": 202,
   "id": "c6e4f494",
   "metadata": {
    "scrolled": true
   },
   "outputs": [
    {
     "data": {
      "text/plain": [
       "5.916939200000006"
      ]
     },
     "execution_count": 202,
     "metadata": {},
     "output_type": "execute_result"
    },
    {
     "data": {
      "image/png": "[encoded data removed]",
      "text/plain": [
       "<Figure size 720x360 with 1 Axes>"
      ]
     },
     "metadata": {
      "needs_background": "light"
     },
     "output_type": "display_data"
    }
   ],
   "source": [
    "plt.rcParams[\"figure.figsize\"] = (10,5)\n",
    "plt.hist(df.pos['mean11'],20)\n",
    "np.mean(df.pos['mean11'])\n"
   ]
  },
  {
   "cell_type": "code",
   "execution_count": 203,
   "id": "2bff8798",
   "metadata": {
    "scrolled": false
   },
   "outputs": [
    {
     "data": {
      "text/plain": [
       "5.831172000000021"
      ]
     },
     "execution_count": 203,
     "metadata": {},
     "output_type": "execute_result"
    },
    {
     "data": {
      "image/png": "[encoded data removed]",
      "text/plain": [
       "<Figure size 720x360 with 1 Axes>"
      ]
     },
     "metadata": {
      "needs_background": "light"
     },
     "output_type": "display_data"
    }
   ],
   "source": [
    "plt.hist(df.neg['mean11'],20)\n",
    "np.mean(df.neg['mean11'])"
   ]
  },
  {
   "cell_type": "markdown",
   "id": "d4b199f0",
   "metadata": {},
   "source": [
    "- We got mean value 5.92 in positive sentiments records, and in negative 5.83\n",
    "- The p-value of the test means that we have to reject the null hypothesis that mean values in both groups of sentrimets are equal. "
   ]
  },
  {
   "cell_type": "markdown",
   "id": "75b2ab06",
   "metadata": {},
   "source": [
    "### Splitting the dataset into train and test samples"
   ]
  },
  {
   "cell_type": "code",
   "execution_count": 204,
   "id": "efcc10dc",
   "metadata": {},
   "outputs": [],
   "source": [
    "\n",
    "train_input,test_input,train_target,test_target = train_test_split(inputs,target, test_size=0.25)\n"
   ]
  },
  {
   "cell_type": "markdown",
   "id": "6e8dcf18",
   "metadata": {},
   "source": [
    "## Classifications"
   ]
  },
  {
   "cell_type": "markdown",
   "id": "759693f9",
   "metadata": {},
   "source": [
    "#### LOGIT"
   ]
  },
  {
   "cell_type": "code",
   "execution_count": 222,
   "id": "be8b2ace",
   "metadata": {},
   "outputs": [],
   "source": [
    "#Logistic regression\n",
    "model_log = LogisticRegression()\n",
    "model_log.fit(train_input,train_target)\n",
    "\n",
    "preds_log = model_log.predict(test_input)"
   ]
  },
  {
   "cell_type": "code",
   "execution_count": 223,
   "id": "76ea3947",
   "metadata": {},
   "outputs": [
    {
     "name": "stdout",
     "output_type": "stream",
     "text": [
      "Positive sentiment precision: 0.8724409448818897\n",
      "Positive sentiment recall: 0.8895311496467566\n",
      "Negative sentiment precision: 0.8881300813008131\n",
      "Negative sentiment recall: 0.8708545918367347\n",
      "Classification accuracy: 0.88016\n"
     ]
    }
   ],
   "source": [
    "\n",
    "prec_log = precision_score(test_target,preds_log)\n",
    "recall_log = recall_score(test_target,preds_log)\n",
    "accuracy_log = accuracy_score(test_target,preds_log)\n",
    "roc_log = roc_auc_score(test_target,preds_log)\n",
    "\n",
    "print(\"Positive sentiment precision:\",prec_log)\n",
    "print(\"Positive sentiment recall:\",recall_log)\n",
    "print(\"Negative sentiment precision:\",precision_score(test_target,preds_log,pos_label = 0))\n",
    "print(\"Negative sentiment recall:\",recall_score(test_target,preds_log,pos_label = 0))\n",
    "print(\"Classification accuracy:\",accuracy_log)"
   ]
  },
  {
   "cell_type": "markdown",
   "id": "29e41e21",
   "metadata": {},
   "source": [
    "#### NB"
   ]
  },
  {
   "cell_type": "code",
   "execution_count": 224,
   "id": "ed7aeb00",
   "metadata": {},
   "outputs": [],
   "source": [
    "#NB classifier\n",
    "from sklearn.naive_bayes import GaussianNB\n",
    "model_nb = GaussianNB()\n",
    "test_input = test_input.toarray()\n",
    "train_input = train_input.toarray()\n",
    "model_nb.fit(train_input,train_target)\n",
    "preds_NB = model_nb.predict(test_input)\n",
    "\n"
   ]
  },
  {
   "cell_type": "code",
   "execution_count": 225,
   "id": "f4fc5596",
   "metadata": {},
   "outputs": [
    {
     "name": "stdout",
     "output_type": "stream",
     "text": [
      "Positive sentiment precision: 0.7613875262789068\n",
      "Positive sentiment recall: 0.6978163134232498\n",
      "Negative sentiment precision: 0.7229093050647821\n",
      "Negative sentiment recall: 0.782844387755102\n",
      "Classification accuracy: 0.74048\n"
     ]
    }
   ],
   "source": [
    "prec_NB = precision_score(test_target,preds_NB)\n",
    "recall_NB = recall_score(test_target,preds_NB)\n",
    "accuracy_NB = accuracy_score(test_target,preds_NB)\n",
    "roc_NB = roc_auc_score(test_target,preds_NB)\n",
    "print(\"Positive sentiment precision:\",prec_NB)\n",
    "print(\"Positive sentiment recall:\",recall_NB)\n",
    "print(\"Negative sentiment precision:\",precision_score(test_target,preds_NB,pos_label = 0))\n",
    "print(\"Negative sentiment recall:\",recall_score(test_target,preds_NB,pos_label = 0))\n",
    "print(\"Classification accuracy:\",accuracy_NB)"
   ]
  },
  {
   "cell_type": "markdown",
   "id": "0799ca14",
   "metadata": {},
   "source": [
    "#### KNN"
   ]
  },
  {
   "cell_type": "code",
   "execution_count": 226,
   "id": "750edfb9",
   "metadata": {},
   "outputs": [],
   "source": [
    "#KNN classifier\n",
    "from sklearn.neighbors import KNeighborsClassifier\n",
    "model_knn = KNeighborsClassifier(n_neighbors=5)\n",
    "model_knn.fit(train_input,train_target)\n",
    "preds_knn = model_knn.predict(test_input)\n",
    "\n"
   ]
  },
  {
   "cell_type": "code",
   "execution_count": 227,
   "id": "3ef63733",
   "metadata": {},
   "outputs": [
    {
     "name": "stdout",
     "output_type": "stream",
     "text": [
      "Positive sentiment precision: 0.7819205065072107\n",
      "Positive sentiment recall: 0.7138728323699421\n",
      "Negative sentiment precision: 0.7384796008218374\n",
      "Negative sentiment recall: 0.8022959183673469\n",
      "Classification accuracy: 0.75824\n"
     ]
    }
   ],
   "source": [
    "prec_knn = precision_score(test_target,preds_knn)\n",
    "recall_knn = recall_score(test_target,preds_knn)\n",
    "accuracy_knn = accuracy_score(test_target,preds_knn)\n",
    "roc_knn = roc_auc_score(test_target,preds_knn)\n",
    "\n",
    "print(\"Positive sentiment precision:\",prec_knn)\n",
    "print(\"Positive sentiment recall:\",recall_knn)\n",
    "print(\"Negative sentiment precision:\",precision_score(test_target,preds_knn,pos_label = 0))\n",
    "print(\"Negative sentiment recall:\",recall_score(test_target,preds_knn,pos_label = 0))\n",
    "print(\"Classification accuracy:\",accuracy_knn)"
   ]
  },
  {
   "cell_type": "markdown",
   "id": "05f12e33",
   "metadata": {},
   "source": [
    "#### NN"
   ]
  },
  {
   "cell_type": "code",
   "execution_count": 228,
   "id": "e73c2a3f",
   "metadata": {},
   "outputs": [],
   "source": [
    "# modules\n",
    "import pandas as pd\n",
    "import numpy as np\n",
    "import matplotlib.pyplot as plt\n",
    "from sklearn.preprocessing import LabelEncoder\n",
    "from keras.wrappers.scikit_learn import KerasClassifier\n",
    "from keras.utils import np_utils\n",
    "\n",
    "# for modeling\n",
    "from keras.models import Sequential\n",
    "from keras.layers import Dense, Dropout\n",
    "from keras.callbacks import EarlyStopping"
   ]
  },
  {
   "cell_type": "code",
   "execution_count": 229,
   "id": "f12c31ca",
   "metadata": {},
   "outputs": [],
   "source": [
    "X, Y = train_input,train_target"
   ]
  },
  {
   "cell_type": "code",
   "execution_count": 230,
   "id": "fbf874e0",
   "metadata": {},
   "outputs": [],
   "source": [
    "X = np.array(X)\n",
    "Y = np.array(Y)\n",
    "\n",
    "#.toarray()\n",
    "#train_target = np"
   ]
  },
  {
   "cell_type": "code",
   "execution_count": 231,
   "id": "1d561943",
   "metadata": {},
   "outputs": [],
   "source": [
    "from tensorflow import keras\n",
    "from tensorflow.keras import layers\n",
    "import tensorflow as tf"
   ]
  },
  {
   "cell_type": "code",
   "execution_count": 232,
   "id": "267b1415",
   "metadata": {},
   "outputs": [
    {
     "name": "stdout",
     "output_type": "stream",
     "text": [
      "Model: \"sequential_1\"\n",
      "_________________________________________________________________\n",
      " Layer (type)                Output Shape              Param #   \n",
      "=================================================================\n",
      " dense_4 (Dense)             (None, 100)               1723800   \n",
      "                                                                 \n",
      " dense_5 (Dense)             (None, 10)                1010      \n",
      "                                                                 \n",
      " dense_6 (Dense)             (None, 6)                 66        \n",
      "                                                                 \n",
      " dense_7 (Dense)             (None, 1)                 7         \n",
      "                                                                 \n",
      "=================================================================\n",
      "Total params: 1,724,883\n",
      "Trainable params: 1,724,883\n",
      "Non-trainable params: 0\n",
      "_________________________________________________________________\n",
      "Epoch 1/20\n",
      "1407/1407 [==============================] - 69s 44ms/step - loss: 0.6907 - accuracy: 0.6520 - val_loss: 0.6865 - val_accuracy: 0.7707 45s - loss: 0 - ETA: 42s - loss: 0.6927 - accuracy: 0.5 - ETA: 42s - loss: 0.6927 - accuracy - - ETA: 35s - loss: 0.6926 - accuracy: - ETA: 35s - loss: 0.6926 - accura - ETA: 3 - ETA: 22s - loss: 0.6922 - - ETA: 21s - loss: 0.6921 - accuracy: - ETA: 18s - loss: 0.6920 - accuracy  - ETA: 11s - loss: 0.6916 - accuracy: - ETA: 11s - loss: 0.6915 - accuracy: 0. - ETA: 10s - loss: 0.6915 - accuracy: 0.624 - ETA: 10s - loss: - ETA: 6s - loss: 0.6912 - accuracy: 0. - ETA: 1s - loss: 0.690 - ETA: 1s\n",
      "Epoch 2/20\n",
      "1407/1407 [==============================] - 53s 37ms/step - loss: 0.6773 - accuracy: 0.8182 - val_loss: 0.6663 - val_accuracy: 0.8232\n",
      "Epoch 3/20\n",
      "1407/1407 [==============================] - 54s 38ms/step - loss: 0.6480 - accuracy: 0.8461 - val_loss: 0.6353 - val_accuracy: 0.8251.660  - ETA: 37s - loss: 0.6587 - accuracy: 0.83 - ETA: 37s - loss: 0.6587 - accuracy: - ETA: 36s - loss: 0.6585 - - ETA: 30s - loss: 0.6572 -  - ETA: 29s - loss: 0.657 - ETA: 23s - l - ETA: 22s - loss: 0.6544 - accuracy: 0. - ETA: 22s - loss: 0.6543 - ETA: 20s - - ETA: 13s - loss: 0.6522 - accuracy:  - ETA: 13s -  - ETA: 1s - loss: 0.6485 - ac - ETA: 0s - loss: 0.6483 - accu - ETA: 0s - loss: 0.6482 - \n",
      "Epoch 4/20\n",
      "1407/1407 [==============================] - 49s 35ms/step - loss: 0.6110 - accuracy: 0.8628 - val_loss: 0.5997 - val_accuracy: 0.8428: 18s - loss: 0.6192 - - ETA: 17s - loss: 0.6187 - accuracy - ETA:  - ETA: 14s - loss: - ETA: 0s - loss: 0.6111 - accu\n",
      "Epoch 5/20\n",
      "1407/1407 [==============================] - 46s 32ms/step - loss: 0.5692 - accuracy: 0.8780 - val_loss: 0.5605 - val_accuracy: 0.8567: 0.883 - ETA: 41s - loss: 0.582 - ETA: 20s - loss: - ETA: 18s - loss: 0.5772 - accur - ETA: 17s - loss: 0.5766 - accur - ETA: 16s - loss: - ETA: 14s - loss: 0.5760 - accuracy - ETA: 14s - loss: 0.5756 - accura - ETA: 13s - loss: 0.5753 - ET - ETA: 8s - loss: 0.5730 - accura - ETA - ETA: 5s - loss: 0.5718 - accura - ETA: 5s - loss: 0.5716 - accura - ETA: 5s - loss: 0.5713 - accuracy:  - - ETA: 3s - l - ETA: 2s - loss: 0.5706 -  - ETA: 2s - loss: 0.5703 - accura - ETA: 1s - loss: 0.5701 - accuracy: 0.87 - ETA: 1s - loss: 0.5701 -  - ETA: 1s - loss: 0.5699 - accuracy: 0. - ETA: 1s - loss: 0.5697 - accuracy - ETA: 0s - loss: 0.569 - ETA: 0s - loss: 0.5693 - accuracy\n",
      "Epoch 6/20\n",
      "1407/1407 [==============================] - 44s 31ms/step - loss: 0.5237 - accuracy: 0.8886 - val_loss: 0.5191 - val_accuracy: 0.8699.5387 - - ETA: 29s - loss: 0 - ETA: 27s - loss: 0.5370 - accurac - ETA: 26s - lo - ETA: 25s - loss: 0.5361 - accuracy: - ETA: 24s - loss - ETA: 23s - loss: 0.5351 - accurac - ETA: 22s - loss: 0.5349 - accuracy:  - ETA: 19s - loss: 0.5328 - accura - ETA: 15s - loss: 0.5318 - accuracy: 0.8 - ET - ETA: 12s - loss: 0.5311 - accuracy: 0.885 -  - E - ETA - ETA: 0s -\n",
      "Epoch 7/20\n",
      "1407/1407 [==============================] - 51s 36ms/step - loss: 0.4769 - accuracy: 0.8993 - val_loss: 0.4778 - val_accuracy: 0.87650 \n",
      "Epoch 8/20\n",
      "1407/1407 [==============================] - 43s 31ms/step - loss: 0.4309 - accuracy: 0.9085 - val_loss: 0.4386 - val_accuracy: 0.8846\n",
      "Epoch 9/20\n",
      "1407/1407 [==============================] - 50s 35ms/step - loss: 0.3878 - accuracy: 0.9162 - val_loss: 0.4032 - val_accuracy: 0.8869- accur - ETA: 39s - loss: 0. - ETA: 21s - loss: 0.3989 - accuracy: 0.91 - ETA: 21s - loss: 0.3989  - ETA: 20s - loss: 0.3971 - accuracy: 0.91 - ETA: 20s - loss: 0.397 - ETA: 19s -  -  - ETA: 1 - ETA: 10s - loss: 0.3928 - accur - ETA: 9s - loss: 0.3923 -  - ETA: 8s - los - ETA: 6s\n",
      "Epoch 10/20\n",
      "1407/1407 [==============================] - 43s 31ms/step - loss: 0.3486 - accuracy: 0.9223 - val_loss: 0.3729 - val_accuracy: 0.8863s: 0.348\n",
      "Epoch 11/20\n",
      "1407/1407 [==============================] - 43s 31ms/step - loss: 0.3134 - accuracy: 0.9282 - val_loss: 0.3449 - val_accuracy: 0.8933\n",
      "Epoch 12/20\n",
      "1407/1407 [==============================] - 43s 31ms/step - loss: 0.2826 - accuracy: 0.9329 - val_loss: 0.3229 - val_accuracy: 0.8951A: 30s - loss: 0.2889 - accuracy: 0 - ETA: 30s - loss: 0.2886 - accu - ETA: 27s - loss: 0.2865 - accuracy - ETA: 6s - loss: 0.2853 - accuracy:  -\n",
      "Epoch 13/20\n",
      "1407/1407 [==============================] - 42s 30ms/step - loss: 0.2559 - accuracy: 0.9384 - val_loss: 0.3048 - val_accuracy: 0.8953oss:  - ETA: 32s - loss: 0.2592 - accuracy: 0.94 - ETA: 31s - loss: 0.2591 - a - ETA: 28s - loss: 0.25 - ETA: 24s - loss: 0.2616 - accurac -  - ETA: 18s - loss: 0.2 - ETA: 0s -\n",
      "Epoch 14/20\n",
      "1407/1407 [==============================] - 44s 31ms/step - loss: 0.2327 - accuracy: 0.9427 - val_loss: 0.2892 - val_accuracy: 0.8987TA: 27s - loss: 0.2398 - accurac - ETA: 26s - loss: 0.2375 - accurac - ETA: 26s - loss: 0.23 - ETA: 24s - loss: 0.2373  - ETA: 23s - loss: 0.2371 - accuracy: 0.94 - ETA: 20s - loss - ETA: 0s - loss: 0 - ETA: 0s - loss: 0.2329 - accura\n",
      "Epoch 15/20\n",
      "1407/1407 [==============================] - 48s 34ms/step - loss: 0.2124 - accuracy: 0.9466 - val_loss: 0.2770 - val_accuracy: 0.9015ss: 0.2068 - accurac - ETA: 3 - ETA: 33s - loss: 0.2132 - accuracy: 0.947 - ETA: 33s - loss: 0.2143 - accuracy: 0.9 - ETA: 33s - loss: 0.2124 - accurac  - ETA: 26s - loss: 0.2172 - accuracy: 0.9 - ETA - ETA: 25s - loss: 0.2177 - accuracy: 0. - ETA: 25s - loss: 0.2179 - accuracy: 0.9 - ETA: 25s -  - ETA: 24s - - ETA: 2 - ETA: 22s - loss - ETA: 21s - loss: 0.2141 - accuracy: 0.948 - ETA: 21s - los - ETA: 1\n",
      "Epoch 16/20\n",
      "1407/1407 [==============================] - 42s 30ms/step - loss: 0.1946 - accuracy: 0.9510 - val_loss: 0.2669 - val_accuracy: 0.9023A: 36s - loss: 0.2161 - ac - ETA: 35s - loss: 0.2133 - accur - ETA: 34s - loss: 0.2097 - accuracy: 0.94 - ETA: 31s - loss: 0.2058 - accuracy: 0.947 - ETA: 31s - loss: 0.2055 - accur - ETA: 31s - loss: 0.2038 - accur - - ETA: 27s - loss: 0 - ETA: - E - ETA: 16s - loss: 0 -  - ETA: 8s - los - ETA: 7s - loss: 0.1938 - ac - ETA: 1s - loss: 0.1951 -  - ETA: 0s - l\n",
      "Epoch 17/20\n",
      "1407/1407 [==============================] - 44s 31ms/step - loss: 0.1790 - accuracy: 0.9551 - val_loss: 0.2603 - val_accuracy: 0.9023: 22s - loss: - ETA: 21s - loss: 0.1798 - accur - ETA: 2s - loss: 0.1800 - accuracy: 0.95 - ETA: 2s -\n",
      "Epoch 18/20\n",
      "1407/1407 [==============================] - 42s 30ms/step - loss: 0.1651 - accuracy: 0.9574 - val_loss: 0.2538 - val_accuracy: 0.9036A: 32s - loss: 0.1636 - accuracy - ETA: 32s - loss: 0.1644 - accuracy: - ETA: 28s - loss:  -  - ETA: 0s - loss: 0.1653 - ac\n",
      "Epoch 19/20\n",
      "1407/1407 [==============================] - 41s 29ms/step - loss: 0.1526 - accuracy: 0.9609 - val_loss: 0.2491 - val_accuracy: 0.9042TA: 37s - loss: 0.1471 - a - ETA: 35s - loss: 0.1462 - ETA: 31s - loss: 0.1506 - accuracy: 0.96 - ET - ETA: 25s - loss: 0.1507 - accura - ETA: 25s - loss: 0.1520 - accuracy: 0.9 - ETA: 25s - loss: 0.1512 - accuracy: - ETA:  - ETA: 22s - loss: 0.1532 - ac - ETA: 21s - loss: 0.1521 - accuracy: 0. - ETA: 21s - ETA: 18s - loss: 0.1518 - ETA: 14s - loss: 0.1509 -  - ETA: 13s - loss: 0.15 - ETA: 5s - loss: 0.1 - ETA: 0s - loss: 0.152\n",
      "Epoch 20/20\n",
      "1407/1407 [==============================] - 42s 30ms/step - loss: 0.1413 - accuracy: 0.9637 - val_loss: 0.2468 - val_accuracy: 0.9019s: 0.1393 - accura - ETA: 31s - loss:  - ETA: 17s - loss: 0.1457 - accuracy: 0.9 - ETA: 17s - loss: 0.1454 - accuracy: 0.96 -  - ETA: 14s - loss: 0. - ETA: 1s - loss: 0.1410  - ETA: 0s - loss:\n"
     ]
    }
   ],
   "source": [
    "# build a model\n",
    "model = Sequential()\n",
    "model.add(Dense(100, input_shape=(X.shape[1],), activation='relu')) # Add an input shape! (features,)\n",
    "model.add(Dense(10, activation='relu'))\n",
    "model.add(Dense(6, activation='relu'))\n",
    "model.add(Dense(1, activation='sigmoid'))\n",
    "model.summary() \n",
    "\n",
    "\n",
    "\n",
    "opt = tf.keras.optimizers.Adam(learning_rate=0.00001)\n",
    "# compile the model\n",
    "model.compile(optimizer=opt, \n",
    "              loss='binary_crossentropy',\n",
    "              metrics=['accuracy'])\n",
    "\n",
    "\n",
    "es = EarlyStopping(monitor='val_accuracy', \n",
    "                                   mode='max', \n",
    "                                   patience=10,\n",
    "                                   restore_best_weights=True)\n",
    "\n",
    "\n",
    "history = model.fit(X,\n",
    "                    Y,\n",
    "                    callbacks=[es],\n",
    "                    epochs=20, \n",
    "                    batch_size=10,\n",
    "                    validation_split=0.25,\n",
    "                    shuffle=True,\n",
    "                    verbose=1)"
   ]
  },
  {
   "cell_type": "code",
   "execution_count": 233,
   "id": "b171f52a",
   "metadata": {},
   "outputs": [
    {
     "data": {
      "image/png": "[encoded data removed]",
      "text/plain": [
       "<Figure size 1440x720 with 1 Axes>"
      ]
     },
     "metadata": {
      "needs_background": "light"
     },
     "output_type": "display_data"
    }
   ],
   "source": [
    "history_dict = history.history\n",
    "plt.rcParams[\"figure.figsize\"] = (20,10)\n",
    "loss_values = history_dict['loss']\n",
    "val_loss_values = history_dict['val_loss'] \n",
    "\n",
    "\n",
    "epochs = range(1, len(loss_values) + 1) \n",
    "\n",
    "plt.plot(epochs, loss_values, label='Training loss')\n",
    "plt.plot(epochs, val_loss_values, 'orange', label='Validation loss')\n",
    "plt.title('Training and validation loss')\n",
    "plt.xlabel('Epochs')\n",
    "plt.ylabel('Loss')\n",
    "plt.legend()\n",
    "plt.show()"
   ]
  },
  {
   "cell_type": "code",
   "execution_count": 234,
   "id": "039beacb",
   "metadata": {},
   "outputs": [
    {
     "data": {
      "image/png": "[encoded data removed]",
      "text/plain": [
       "<Figure size 1440x720 with 1 Axes>"
      ]
     },
     "metadata": {
      "needs_background": "light"
     },
     "output_type": "display_data"
    },
    {
     "data": {
      "text/plain": [
       "0.9042235612869263"
      ]
     },
     "execution_count": 234,
     "metadata": {},
     "output_type": "execute_result"
    }
   ],
   "source": [
    "\n",
    "acc = history.history['accuracy']\n",
    "val_acc = history.history['val_accuracy']\n",
    "\n",
    "\n",
    "epochs = range(1, len(acc) + 1)\n",
    "\n",
    "\n",
    "plt.plot(epochs, acc, label='Training accuracy')\n",
    "\n",
    "plt.plot(epochs, val_acc, 'orange', label='Validation accuracy')\n",
    "plt.title('Training and validation accuracy')\n",
    "plt.xlabel('Epochs')\n",
    "plt.ylabel('Accuracy')\n",
    "plt.legend()\n",
    "plt.show()\n",
    "\n",
    "\n",
    "np.max(val_acc)"
   ]
  },
  {
   "cell_type": "code",
   "execution_count": 235,
   "id": "55269acd",
   "metadata": {},
   "outputs": [],
   "source": [
    "X = X.astype('float16')\n",
    "Y = Y.astype('float16')"
   ]
  },
  {
   "cell_type": "code",
   "execution_count": 236,
   "id": "c55cc06e",
   "metadata": {},
   "outputs": [
    {
     "name": "stdout",
     "output_type": "stream",
     "text": [
      "[[8828  536]\n",
      " [ 371 9015]]\n",
      "Positive sentiment precision: 0.9438802219662863\n",
      "Positive sentiment recall: 0.9604730449605796\n",
      "Negative sentiment precision: 0.9596695292966627\n",
      "Negative sentiment recall: 0.9427595044852627\n",
      "Classification accuracy: 0.9516266666666666\n"
     ]
    },
    {
     "data": {
      "text/plain": [
       "0.9516162747229212"
      ]
     },
     "execution_count": 236,
     "metadata": {},
     "output_type": "execute_result"
    }
   ],
   "source": [
    "from sklearn.metrics import confusion_matrix, classification_report, roc_auc_score\n",
    "\n",
    "\n",
    "model.predict(X) \n",
    "np.round(model.predict(X),0) \n",
    "\n",
    "\n",
    "preds = np.round(model.predict(X),0)\n",
    "\n",
    "# confusion matrix\n",
    "print(confusion_matrix(Y, preds)) \n",
    "\n",
    "prec_NN = precision_score(Y,preds)\n",
    "recall_NN = recall_score(Y,preds)\n",
    "accuracy_NN = accuracy_score(Y,preds)\n",
    "roc_NN = roc_auc_score(Y,preds)\n",
    "\n",
    "\n",
    "\n",
    "print(\"Positive sentiment precision:\",prec_NN)\n",
    "print(\"Positive sentiment recall:\",recall_NN)\n",
    "print(\"Negative sentiment precision:\",precision_score(Y,preds,pos_label = 0))\n",
    "print(\"Negative sentiment recall:\",recall_score(Y,preds,pos_label = 0))\n",
    "print(\"Classification accuracy:\",accuracy_NN)\n",
    "roc_auc_score(Y,preds)"
   ]
  },
  {
   "cell_type": "markdown",
   "id": "9b80758f",
   "metadata": {},
   "source": [
    "### Comparison of model's metrics"
   ]
  },
  {
   "cell_type": "code",
   "execution_count": 237,
   "id": "89f83b0d",
   "metadata": {},
   "outputs": [
    {
     "data": {
      "text/html": [
       "<div>\n",
       "<style scoped>\n",
       "    .dataframe tbody tr th:only-of-type {\n",
       "        vertical-align: middle;\n",
       "    }\n",
       "\n",
       "    .dataframe tbody tr th {\n",
       "        vertical-align: top;\n",
       "    }\n",
       "\n",
       "    .dataframe thead th {\n",
       "        text-align: right;\n",
       "    }\n",
       "</style>\n",
       "<table border=\"1\" class=\"dataframe\">\n",
       "  <thead>\n",
       "    <tr style=\"text-align: right;\">\n",
       "      <th></th>\n",
       "      <th>Precision</th>\n",
       "      <th>Recall</th>\n",
       "      <th>Accuracy</th>\n",
       "      <th>ROC AUC value</th>\n",
       "    </tr>\n",
       "  </thead>\n",
       "  <tbody>\n",
       "    <tr>\n",
       "      <th>Logistic regression</th>\n",
       "      <td>0.872441</td>\n",
       "      <td>0.889531</td>\n",
       "      <td>0.880160</td>\n",
       "      <td>0.880193</td>\n",
       "    </tr>\n",
       "    <tr>\n",
       "      <th>Naive Bayes</th>\n",
       "      <td>0.761388</td>\n",
       "      <td>0.697816</td>\n",
       "      <td>0.740480</td>\n",
       "      <td>0.740330</td>\n",
       "    </tr>\n",
       "    <tr>\n",
       "      <th>KNN</th>\n",
       "      <td>0.781921</td>\n",
       "      <td>0.713873</td>\n",
       "      <td>0.758240</td>\n",
       "      <td>0.758084</td>\n",
       "    </tr>\n",
       "    <tr>\n",
       "      <th>Neural Network</th>\n",
       "      <td>0.943880</td>\n",
       "      <td>0.960473</td>\n",
       "      <td>0.951627</td>\n",
       "      <td>0.951616</td>\n",
       "    </tr>\n",
       "  </tbody>\n",
       "</table>\n",
       "</div>"
      ],
      "text/plain": [
       "                     Precision    Recall  Accuracy  ROC AUC value\n",
       "Logistic regression   0.872441  0.889531  0.880160       0.880193\n",
       "Naive Bayes           0.761388  0.697816  0.740480       0.740330\n",
       "KNN                   0.781921  0.713873  0.758240       0.758084\n",
       "Neural Network        0.943880  0.960473  0.951627       0.951616"
      ]
     },
     "execution_count": 237,
     "metadata": {},
     "output_type": "execute_result"
    }
   ],
   "source": [
    "frame= pd.DataFrame([[prec_log,recall_log,accuracy_log,roc_log],[prec_NB,recall_NB,accuracy_NB,roc_NB],\n",
    "                  [prec_knn,recall_knn,accuracy_knn,roc_knn],[prec_NN,recall_NN,accuracy_NN,roc_NN]])\n",
    "frame.index = [\"Logistic regression\",\"Naive Bayes\",\"KNN\",\"Neural Network\"]\n",
    "frame.columns = [ \"Precision\", \"Recall\", \"Accuracy\", \"ROC AUC value\"]\n",
    "frame"
   ]
  },
  {
   "cell_type": "markdown",
   "id": "a8b57cca",
   "metadata": {},
   "source": [
    "- As it is shown above the best efficient are NN, which are dependent on many factors.\n",
    "- Logistic Regression is near 90% of accuracy.\n",
    "- In that exapmle NB had the weakest predicitive abilites."
   ]
  },
  {
   "cell_type": "markdown",
   "id": "cfb9e27f",
   "metadata": {},
   "source": [
    "## Visualisation"
   ]
  },
  {
   "cell_type": "code",
   "execution_count": 238,
   "id": "e2b0faab",
   "metadata": {},
   "outputs": [],
   "source": [
    "from sklearn.metrics import confusion_matrix, classification_report, roc_auc_score\n",
    "from sklearn import metrics"
   ]
  },
  {
   "cell_type": "code",
   "execution_count": 239,
   "id": "706ab5bb",
   "metadata": {},
   "outputs": [
    {
     "data": {
      "text/plain": [
       "Text(0.5, 1.0, 'NN')"
      ]
     },
     "execution_count": 239,
     "metadata": {},
     "output_type": "execute_result"
    },
    {
     "data": {
      "image/png": "[encoded data removed]",
      "text/plain": [
       "<Figure size 1440x720 with 4 Axes>"
      ]
     },
     "metadata": {
      "needs_background": "light"
     },
     "output_type": "display_data"
    }
   ],
   "source": [
    "import matplotlib.pyplot as plt\n",
    "plt.rcParams[\"figure.figsize\"] = (20,10)\n",
    "fig, ((ax1, ax2), (ax3, ax4)) = plt.subplots(2, 2)\n",
    "fig.suptitle('ROC')\n",
    "\n",
    "\n",
    "roc_log = metrics.roc_curve(test_target,preds_log, pos_label=1)\n",
    "fpr = roc_log[0]\n",
    "tpr = roc_log[1]\n",
    "ax2.plot(fpr,tpr)\n",
    "ax2.plot([0,1],[0,1], linestyle='--')\n",
    "ax2.set_title(\"LOGIT\")\n",
    "\n",
    "roc_NB = metrics.roc_curve(test_target,preds_NB, pos_label=1)\n",
    "fpr = roc_NB[0]\n",
    "tpr = roc_NB[1]\n",
    "ax3.plot(fpr,tpr)\n",
    "ax3.plot([0,1],[0,1], linestyle='--')\n",
    "ax3.set_title(\"NB\")\n",
    "\n",
    "roc_knn = metrics.roc_curve(test_target,preds_knn, pos_label=1)\n",
    "fpr = roc_knn[0]\n",
    "tpr = roc_knn[1]\n",
    "ax4.plot(fpr,tpr)\n",
    "ax4.plot([0,1],[0,1], linestyle='--')\n",
    "ax4.set_title(\"KNN\")\n",
    "\n",
    "\n",
    "roc_NN = metrics.roc_curve(Y,preds, pos_label=1)\n",
    "fpr = roc_NN[0]\n",
    "tpr = roc_NN[1]\n",
    "ax1.plot(fpr,tpr)\n",
    "ax1.plot([0,1],[0,1], linestyle='--')\n",
    "ax1.set_title(\"NN\")"
   ]
  },
  {
   "cell_type": "markdown",
   "id": "96850057",
   "metadata": {},
   "source": [
    "# DASH Dashboard"
   ]
  },
  {
   "cell_type": "code",
   "execution_count": 240,
   "id": "935e54c2",
   "metadata": {},
   "outputs": [],
   "source": [
    "from jupyter_dash import JupyterDash\n",
    "import dash\n",
    "import dash_core_components as dcc\n"
   ]
  },
  {
   "cell_type": "code",
   "execution_count": 241,
   "id": "ca4543e0",
   "metadata": {},
   "outputs": [],
   "source": [
    "import dash_html_components as html"
   ]
  },
  {
   "cell_type": "code",
   "execution_count": 242,
   "id": "58e9ac6b",
   "metadata": {},
   "outputs": [],
   "source": [
    "external_stylesheets = ['https://codepen.io/chriddyp/pen/bWLwgP.css']"
   ]
  },
  {
   "cell_type": "code",
   "execution_count": 243,
   "id": "e9731866",
   "metadata": {},
   "outputs": [],
   "source": [
    "import plotly.graph_objs as go"
   ]
  },
  {
   "cell_type": "code",
   "execution_count": 244,
   "id": "a5dc9c34",
   "metadata": {},
   "outputs": [],
   "source": [
    "import dash\n",
    "import dash_table\n",
    "import pandas as pd\n"
   ]
  },
  {
   "cell_type": "code",
   "execution_count": 245,
   "id": "375b82fb",
   "metadata": {},
   "outputs": [],
   "source": [
    "import dash\n",
    "import dash_core_components as dcc\n",
    "import dash_html_components as html\n",
    "\n"
   ]
  },
  {
   "cell_type": "code",
   "execution_count": 246,
   "id": "179a8a3b",
   "metadata": {},
   "outputs": [],
   "source": [
    "import plotly.express as px\n",
    "metrics_plot = px.bar(frame, barmode='group',width=700, height=500)\n"
   ]
  },
  {
   "cell_type": "code",
   "execution_count": 247,
   "id": "210cd887",
   "metadata": {},
   "outputs": [],
   "source": [
    "roc_regr_plot = px.area(x=roc_log[0], y=roc_log[1],\n",
    "    labels=dict(x='False Positive Rate', y='True Positive Rate'),\n",
    "    width=700, height=500\n",
    ")\n",
    "roc_bayes_plot = px.area(x=roc_NB[0], y=roc_NB[1],\n",
    "    labels=dict(x='False Positive Rate', y='True Positive Rate'),\n",
    "    width=700, height=500\n",
    ")\n",
    "roc_knn_plot = px.area(x=roc_knn[0], y=roc_knn[1],\n",
    "    labels=dict(x='False Positive Rate', y='True Positive Rate'),\n",
    "    width=700, height=500\n",
    ")\n",
    "roc_nn_plot = px.area(x=roc_NN[0], y=roc_NN[1],\n",
    "    labels=dict(x='False Positive Rate', y='True Positive Rate'),\n",
    "    width=700, height=500\n",
    ")"
   ]
  },
  {
   "cell_type": "code",
   "execution_count": 248,
   "id": "a8726ac2",
   "metadata": {},
   "outputs": [],
   "source": [
    "from dash.dependencies import Output,Input,State"
   ]
  },
  {
   "cell_type": "code",
   "execution_count": 249,
   "id": "4d23719b",
   "metadata": {},
   "outputs": [],
   "source": [
    "import tensorflow as tf\n",
    "from keras.models import Sequential\n",
    "from keras.layers import Dense\n",
    "import plotly.express as px\n",
    "import dash\n",
    "from jupyter_dash import JupyterDash\n",
    "import dash_core_components as dcc\n",
    "import plotly.graph_objs as go\n",
    "import dash_html_components as html"
   ]
  },
  {
   "cell_type": "code",
   "execution_count": 250,
   "id": "017ff889",
   "metadata": {
    "scrolled": true
   },
   "outputs": [],
   "source": [
    "import pandas as pd\n",
    "app = JupyterDash(__name__,external_stylesheets = external_stylesheets)\n",
    "\n",
    "app.layout = html.Div([\n",
    "html.Div([\n",
    "    html.H1(\"Dasboard of models comparison\"),\n",
    "    dcc.Dropdown(\n",
    "        id = \"dropdown1\",\n",
    "        options=[{'label': 'Metrics', 'value': 'met'},{'label': 'Logistic Regression Roc', 'value': 'LOGIT'},\n",
    "            {'label': 'Naive Bayes Roc', 'value': 'NB'},\n",
    "            {'label': 'Knn Roc', 'value': 'KNN'},\n",
    "            {'label': 'Neural Network Roc', 'value': 'NN'}],\n",
    "                      value='LOGIT',\n",
    "                      ),\n",
    "],\n",
    "style={'width': '90%', 'display': 'inline-block'}\n",
    "),\n",
    "    \n",
    "html.Div(\n",
    "    dcc.Graph(\n",
    "        id='graph1',\n",
    "        className='dropgraph',\n",
    "        style={'width':'600px','height':'450px'}\n",
    "   ),\n",
    "    style={'display':'inline-block'}\n",
    ")\n",
    "\n",
    "],\n",
    "style={'width': '41%', 'display': 'inline-block'}\n",
    "    \n",
    "    \n",
    ")\n",
    "\n",
    "\n",
    "@app.callback(\n",
    "Output('graph1', 'figure'), \n",
    "[Input('dropdown1', 'value')]\n",
    ")\n",
    "\n",
    "\n",
    "def update_graph(value):\n",
    "    plts = {'met': metrics_plot, \n",
    "    'NB': roc_bayes_plot, \n",
    "    'LOGIT': roc_regr_plot, \n",
    "    'KNN': roc_knn_plot, \n",
    "    'NN':roc_nn_plot}\n",
    "    return plts[value]\n",
    "\n"
   ]
  },
  {
   "cell_type": "code",
   "execution_count": 251,
   "id": "620e0537",
   "metadata": {},
   "outputs": [
    {
     "name": "stderr",
     "output_type": "stream",
     "text": [
      "C:\\Users\\Jan Solarz\\anaconda3\\lib\\site-packages\\jupyter_dash\\jupyter_app.py:139: UserWarning:\n",
      "\n",
      "The 'environ['werkzeug.server.shutdown']' function is deprecated and will be removed in Werkzeug 2.1.\n",
      "\n"
     ]
    },
    {
     "name": "stdout",
     "output_type": "stream",
     "text": [
      "Dash app running on http://127.0.0.1:8052/\n"
     ]
    }
   ],
   "source": [
    "if __name__ == '__main__':\n",
    "    app.run_server(debug=True, port=8052)"
   ]
  },
  {
   "cell_type": "code",
   "execution_count": null,
   "id": "e49fa90e",
   "metadata": {},
   "outputs": [],
   "source": []
  }
 ],
 "metadata": {
  "kernelspec": {
   "display_name": "Python 3 (ipykernel)",
   "language": "python",
   "name": "python3"
  },
  "language_info": {
   "codemirror_mode": {
    "name": "ipython",
    "version": 3
   },
   "file_extension": ".py",
   "mimetype": "text/x-python",
   "name": "python",
   "nbconvert_exporter": "python",
   "pygments_lexer": "ipython3",
   "version": "3.9.7"
  }
 },
 "nbformat": 4,
 "nbformat_minor": 5
}
